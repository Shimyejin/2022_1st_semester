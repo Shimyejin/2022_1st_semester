{
 "cells": [
  {
   "cell_type": "markdown",
   "metadata": {},
   "source": [
    "# 실습"
   ]
  },
  {
   "cell_type": "markdown",
   "metadata": {},
   "source": [
    "## 12.01"
   ]
  },
  {
   "cell_type": "code",
   "execution_count": 1,
   "metadata": {},
   "outputs": [],
   "source": [
    "class Point(object):\n",
    "    def __init__(self,x,y):\n",
    "        self.x = x\n",
    "        self.y = y\n",
    "        \n",
    "    def __str__(self) :\n",
    "        return \"(%d, %d)\" % (self.x, self.y)\n",
    "\n",
    "class Point3D(Point):\n",
    "    def __init__(self,x,y,z):\n",
    "        super().__init__(x, y)\n",
    "        self.z = z\n",
    "        \n",
    "    def __str__(self) :\n",
    "        return \"(%d, %d, %d)\" % (self.x, self.y, self.z)"
   ]
  },
  {
   "cell_type": "code",
   "execution_count": 2,
   "metadata": {},
   "outputs": [
    {
     "name": "stdout",
     "output_type": "stream",
     "text": [
      "(1, 2, 3)\n"
     ]
    }
   ],
   "source": [
    "my_point = Point3D(1,2,3)\n",
    "print(my_point)"
   ]
  },
  {
   "cell_type": "markdown",
   "metadata": {},
   "source": [
    "## 12.03"
   ]
  },
  {
   "cell_type": "code",
   "execution_count": 3,
   "metadata": {},
   "outputs": [],
   "source": [
    "import cmath # complex math 모듈 \n",
    "class Function:\n",
    "    def __init__(self):\n",
    "        pass\n",
    "    \n",
    "    def value(self, x):\n",
    "        pass\n",
    "\n",
    "class Quadratic(Function):\n",
    "    def __init__(self, a, b, c):\n",
    "        self.a=a\n",
    "        self.b=b\n",
    "        self.c=c\n",
    "\n",
    "    def value(self, x):\n",
    "        return (self.a)*x**2+(self.b)*x+(self.c)\n",
    "        \n",
    "    def get_roots(self):\n",
    "        d = (self.b**2) - (4*self.a*self.c)\n",
    "\n",
    "        sol1 = (-self.b-cmath.sqrt(d))/(2*self.a)\n",
    "        sol2 = (-self.b+cmath.sqrt(d))/(2*self.a)\n",
    "\n",
    "        print(f'solution: {sol1}, {sol2}')"
   ]
  },
  {
   "cell_type": "code",
   "execution_count": 4,
   "metadata": {},
   "outputs": [
    {
     "name": "stdout",
     "output_type": "stream",
     "text": [
      "solution: (-3+0j), (-2+0j)\n"
     ]
    }
   ],
   "source": [
    "e = Quadratic(1, 5, 6)\n",
    "e.get_roots()"
   ]
  },
  {
   "cell_type": "markdown",
   "metadata": {},
   "source": [
    "## 13장 내용(벽돌깨기 게임)"
   ]
  },
  {
   "cell_type": "markdown",
   "metadata": {},
   "source": [
    "### Sprite 클래스 정의"
   ]
  },
  {
   "cell_type": "code",
   "execution_count": 5,
   "metadata": {},
   "outputs": [],
   "source": [
    "from tkinter import * \n",
    "\n",
    "class Sprite():\n",
    "    def __init__(self, canvas, item):\n",
    "        self.canvas = canvas # 캔버스 객체\n",
    "        self.item = item # 캔버스 안에 있는 도형의 식별 번호\n",
    "        self.speedx, self.speedy = 3, 3 # 방향 속도\n",
    "        self.x, self.y = 0, 0 # 현재 좌표\n",
    "        \n",
    "    # 도형의 위치와 크기를 반환한다. \n",
    "    def get_coords(self):\n",
    "        return self.canvas.coords(self.item)\n",
    "        \n",
    "    # 도형의 위치를 반환한다.\n",
    "    def get_position(self):\n",
    "        pos = self.canvas.coords(self.item)\n",
    "        x = pos[0]\n",
    "        y = pos[1]\n",
    "        return x, y\n",
    "        \n",
    "    # 객체의 상태를 변경한다. \n",
    "    def update(self):\n",
    "        self.x += self.speedx\n",
    "        self.y += self.speedy\n",
    "\n",
    "    # 객체를 움직인다. \n",
    "    def move(self):\n",
    "        self.canvas.move(self.item, self.speedx, self.speedy)\n",
    "\n",
    "    # 객체를 캔버스에서 삭제한다. \n",
    "    def delete(self):\n",
    "        self.canvas.delete(self.item)"
   ]
  },
  {
   "cell_type": "markdown",
   "metadata": {},
   "source": [
    "### Ball 클래스를 정의/충돌을 처리"
   ]
  },
  {
   "cell_type": "code",
   "execution_count": 6,
   "metadata": {},
   "outputs": [],
   "source": [
    "class Ball(Sprite):\n",
    "    def __init__(self, canvas, x, y, radius):\n",
    "        self.radius = radius\n",
    "        item = canvas.create_oval(x-self.radius, y-self.radius,\n",
    "                                  x+self.radius, y+self.radius,fill='red')\n",
    "        self.x = x\n",
    "        self.y = y\n",
    "        super().__init__(canvas, item)\n",
    "\n",
    "    def update(self):\n",
    "        x, y = self.get_position()\n",
    "        width = self.canvas.winfo_width()\n",
    "\n",
    "        # 벽에 부딪히면 방향을 변경한다. \n",
    "        if x <= 0 or x >= width:\n",
    "            self.speedx *= -1 # x 방향 변경\n",
    "        if y <= 0:\n",
    "            self.speedy *= -1 # y 방향 변경\n",
    "    \n",
    "    # 충돌을 처리하는 메소드\n",
    "    # Ball과 충돌이 일어난 객체들의 리스트가 매개변수로 전달된다. \n",
    "    def collide(self, obj_list):\n",
    "        x, y = self.get_position()\n",
    "        \n",
    "        # 공이 패들이나 벽돌에 맞으면 y방향을 반대로 한다. \n",
    "        if len(obj_list):\n",
    "            self.speedy *= -1\n",
    "        for obj in obj_list:\n",
    "            if isinstance(obj, Brick):\n",
    "                obj.handle_collision()"
   ]
  },
  {
   "cell_type": "markdown",
   "metadata": {},
   "source": [
    "### 패들을 화면에 그려보자."
   ]
  },
  {
   "cell_type": "code",
   "execution_count": 7,
   "metadata": {},
   "outputs": [],
   "source": [
    "class Paddle(Sprite):\n",
    "    def __init__(self, canvas, x, y):\n",
    "        self.width = 100 \n",
    "        self.height = 20\n",
    "        item = canvas.create_rectangle(x - self.width / 2, y - self.height / 2,\n",
    "                                       x + self.width / 2, y + self.height / 2,\n",
    "                                       fill='white')\n",
    "        super().__init__(canvas, item) # 부모 클래스 생성자 호출\n",
    "        self.x = x # 현재 위치 저장\n",
    "        self.y = y\n",
    "\n",
    "    # 패들을 dx, dy만큼 이동한다. 키보드 이벤트에서 호출된다. \n",
    "    def move(self, dx, dy):\n",
    "        self.x = self.x + dx\n",
    "        self.y = self.y + dy\n",
    "        self.canvas.move(self.item, dx, dy)"
   ]
  },
  {
   "cell_type": "markdown",
   "metadata": {},
   "source": [
    "### 벽돌을 화면에 그려보자."
   ]
  },
  {
   "cell_type": "code",
   "execution_count": 8,
   "metadata": {},
   "outputs": [],
   "source": [
    "class Brick(Sprite):\n",
    "    def __init__(self, canvas, x, y):\n",
    "        self.width = 52\n",
    "        self.height = 25\n",
    "        item = canvas.create_rectangle(x - self.width / 2, y - self.height / 2,\n",
    "                                       x + self.width / 2, y + self.height / 2,\n",
    "                                       fill='yellow', tags='brick')\n",
    "        super().__init__(canvas, item)\n",
    "\n",
    "    # 벽돌과 공이 충돌하면 벽돌을 삭제한다. \n",
    "    def handle_collision(self):\n",
    "        self.delete()"
   ]
  },
  {
   "cell_type": "markdown",
   "metadata": {},
   "source": [
    "### 화면을 작성해보자 / 여러 개의 벽돌을 생성하자. / 패들을 움직이자. / 충돌을 처리하자."
   ]
  },
  {
   "cell_type": "code",
   "execution_count": 9,
   "metadata": {},
   "outputs": [],
   "source": [
    "class BrickBreaker(Frame): # help(Frame)\n",
    "    def __init__(self, root):\n",
    "        super().__init__(root)\n",
    "        self.width = 640\n",
    "        self.height = 480\n",
    "        self.canvas = Canvas(self, bg='blue',\n",
    "                             width=self.width,\n",
    "                             height=self.height)\n",
    "        self.canvas.pack()\n",
    "        self.pack()\n",
    "        \n",
    "        # shapes에는 화면에 있는 모든 객체가 저장된다. \n",
    "        # 키는 도형 식별 번호이고 값은 객체이다. \n",
    "        self.shapes = {}\n",
    "\n",
    "        # 패들 객체를 생성하고 shapes에 저장한다. \n",
    "        self.paddle = Paddle(self.canvas, self.width/2, 450)\n",
    "        self.shapes[self.paddle.item] = self.paddle\n",
    "\n",
    "        # Ball 객체를 생성한다. \n",
    "        self.ball = Ball(self.canvas, 310, 200, 10) # x, y, radius\n",
    "\n",
    "        # Brick 객체를 2차원 모양으로 생성한다. \n",
    "        for r in range(1, 4):\n",
    "            for c in range(1, 10):\n",
    "                brick = Brick(self.canvas, c*60, r*30)\n",
    "                # Brick 객체를 shapes에 저장한다. \n",
    "                self.shapes[brick.item] = brick\n",
    "        \n",
    "        # 캔버스가 키보드 이벤트를 받을 수 있도록 설정한다. \n",
    "        self.canvas.focus_set()\n",
    "\n",
    "        # 화살표키와 스페이스키에 이벤트를 붙인다.\n",
    "        self.canvas.bind('<Left>',\n",
    "            lambda _: self.paddle.move(-10, 0))\n",
    "        self.canvas.bind('<Right>',\n",
    "            lambda _: self.paddle.move(10, 0))\n",
    "        self.canvas.bind('<space>', lambda _: self.start())\n",
    "\n",
    "    def start(self):\n",
    "        self.game_loop()\n",
    "    \n",
    "    # 게임 루프를 작성한다. \n",
    "    def game_loop(self):\n",
    "        coords = self.ball.get_coords() # Ball 객체의 위치를 구한다. \n",
    "        # 겹치는 모든 도형을 찾는다. 식별 번호가 저장된다. \n",
    "        items = self.canvas.find_overlapping(*coords)\n",
    "        \n",
    "        # 겹치는 도형의 식별 번호로 객체를 찾아서 리스트에 저장한다. \n",
    "        objects = [self.shapes[x] for x in items if x in self.shapes]\n",
    "\n",
    "        # 충돌 처리 메소드를 호출한다. \n",
    "        self.ball.collide(objects)\n",
    "\n",
    "        self.ball.update()\n",
    "        self.ball.move()\n",
    "        # game_loop()를 50밀리초 후에 호출한다. \n",
    "        self.after(50, self.game_loop)"
   ]
  },
  {
   "cell_type": "code",
   "execution_count": 10,
   "metadata": {},
   "outputs": [],
   "source": [
    "window = Tk()\n",
    "game = BrickBreaker(window)\n",
    "window.mainloop()"
   ]
  },
  {
   "cell_type": "markdown",
   "metadata": {},
   "source": [
    "![게임](벽돌깨기.png)"
   ]
  },
  {
   "cell_type": "markdown",
   "metadata": {},
   "source": [
    "# 제 14장 넘파이"
   ]
  },
  {
   "cell_type": "markdown",
   "metadata": {},
   "source": [
    "## 직선 그래프"
   ]
  },
  {
   "cell_type": "code",
   "execution_count": 11,
   "metadata": {},
   "outputs": [
    {
     "data": {
      "image/png": "[encoded data removed]",
      "text/plain": [
       "<Figure size 432x288 with 1 Axes>"
      ]
     },
     "metadata": {
      "needs_background": "light"
     },
     "output_type": "display_data"
    }
   ],
   "source": [
    "import matplotlib.pyplot as plt\n",
    "X = [1, 2, 3, 4, 5, 6, 7]\n",
    "Y = [15.6, 14.2, 16.3, 18.2, 17.1, 15.0, 19.2]\n",
    "plt.plot(X, Y)\n",
    "plt.show()"
   ]
  },
  {
   "cell_type": "code",
   "execution_count": 12,
   "metadata": {},
   "outputs": [
    {
     "data": {
      "image/png": "[encoded data removed]",
      "text/plain": [
       "<Figure size 432x288 with 1 Axes>"
      ]
     },
     "metadata": {
      "needs_background": "light"
     },
     "output_type": "display_data"
    }
   ],
   "source": [
    "X = [\"Mon\", \"Tue\", \"Wed\", \"Thu\", \"Fri\", \"Sat\", \"Sun\"] \n",
    "Y1 = [15.6, 14.2, 16.3, 18.2, 17.1, 15.0, 19.2]\n",
    "Y2 = [20.1, 23.1, 23.8, 24.9, 23.4, 25.1, 22.3]\n",
    "plt.plot(X, Y1, X, Y2) # plot()에 2개의 쌍을 보낸다. \n",
    "plt.xlabel(\"day\")\n",
    "plt.ylabel(\"temperature\")\n",
    "plt.show()"
   ]
  },
  {
   "cell_type": "code",
   "execution_count": 13,
   "metadata": {},
   "outputs": [
    {
     "data": {
      "image/png": "[encoded data removed]",
      "text/plain": [
       "<Figure size 432x288 with 1 Axes>"
      ]
     },
     "metadata": {
      "needs_background": "light"
     },
     "output_type": "display_data"
    }
   ],
   "source": [
    "X = [\"Mon\", \"Tue\", \"Wed\", \"Thur\", \"Fri\", \"Sat\", \"Sun\"] \n",
    "Y1 = [15.6, 14.2, 16.3, 18.2, 17.1, 20.2, 22.4]\n",
    "Y2 = [20.1, 23.1, 23.8, 25.9, 23.4, 25.1, 26.3]\n",
    "plt.plot(X, Y1, label=\"Seoul\") # 분리시켜서 그려도 됨\n",
    "plt.plot(X, Y2, label=\"Busan\") # 분리시켜서 그려도 됨\n",
    "plt.xlabel(\"day\")\n",
    "plt.ylabel(\"temperature\")\n",
    "plt.legend(loc=\"upper left\")\n",
    "plt.title(\"Temperatures of Cities\")\n",
    "plt.show()"
   ]
  },
  {
   "cell_type": "markdown",
   "metadata": {},
   "source": [
    "## 점 그래프"
   ]
  },
  {
   "cell_type": "code",
   "execution_count": 14,
   "metadata": {},
   "outputs": [
    {
     "data": {
      "image/png": "[encoded data removed]",
      "text/plain": [
       "<Figure size 432x288 with 1 Axes>"
      ]
     },
     "metadata": {
      "needs_background": "light"
     },
     "output_type": "display_data"
    }
   ],
   "source": [
    "Y = [15.6, 14.2, 16.3, 18.2, 17.1, 15.0, 19.2]\n",
    "plt.plot(Y, \"sm\")\n",
    "plt.show()"
   ]
  },
  {
   "cell_type": "markdown",
   "metadata": {},
   "source": [
    "## 막대 그래프"
   ]
  },
  {
   "cell_type": "code",
   "execution_count": 15,
   "metadata": {},
   "outputs": [
    {
     "data": {
      "image/png": "[encoded data removed]",
      "text/plain": [
       "<Figure size 432x288 with 1 Axes>"
      ]
     },
     "metadata": {
      "needs_background": "light"
     },
     "output_type": "display_data"
    }
   ],
   "source": [
    "X = [\"Mon\", \"Tue\", \"Wed\", \"Thur\", \"Fri\", \"Sat\", \"Sun\"] \n",
    "Y = [15.6, 14.2, 16.3, 18.2, 17.1, 20.2, 22.4]\n",
    "plt.bar(X, Y)\n",
    "plt.show()"
   ]
  },
  {
   "cell_type": "markdown",
   "metadata": {},
   "source": [
    "## 넘파이 배열"
   ]
  },
  {
   "cell_type": "code",
   "execution_count": 16,
   "metadata": {},
   "outputs": [
    {
     "name": "stdout",
     "output_type": "stream",
     "text": [
      "[63 73 80 86 84 78 66 54 45 63]\n"
     ]
    },
    {
     "data": {
      "text/plain": [
       "array([17.22222222, 22.77777778, 26.66666667, 30.        , 28.88888889,\n",
       "       25.55555556, 18.88888889, 12.22222222,  7.22222222, 17.22222222])"
      ]
     },
     "execution_count": 16,
     "metadata": {},
     "output_type": "execute_result"
    }
   ],
   "source": [
    "import numpy as np\n",
    "\n",
    "# 우리가 화씨 온도로 저장된 뉴욕의 기온 데이터를 얻었다고 하자. \n",
    "ftemp = [63, 73, 80, 86, 84, 78, 66, 54, 45, 63]\n",
    "\n",
    "#이것을 넘파이로 배열로 변환하려면 다음과 같이 넘파이 모듈의 array() \n",
    "#함수를 호출한다. \n",
    "F = np.array(ftemp)\n",
    "print(F)\n",
    "\n",
    "(F-32)*5/9 # 배열의 모든 요소에 이 연산이 적용된다."
   ]
  },
  {
   "cell_type": "markdown",
   "metadata": {},
   "source": [
    "### 배열 간 연산"
   ]
  },
  {
   "cell_type": "code",
   "execution_count": 17,
   "metadata": {},
   "outputs": [
    {
     "data": {
      "text/plain": [
       "array([ 6,  8, 10, 12])"
      ]
     },
     "execution_count": 17,
     "metadata": {},
     "output_type": "execute_result"
    }
   ],
   "source": [
    "A = np.array([1, 2, 3, 4])\n",
    "B = np.array([5, 6, 7, 8])\n",
    "result = A + B # 넘파이 배열에 + 연산이 적용된다. \n",
    "result"
   ]
  },
  {
   "cell_type": "code",
   "execution_count": 18,
   "metadata": {},
   "outputs": [
    {
     "data": {
      "text/plain": [
       "array([ True,  True, False,  True])"
      ]
     },
     "execution_count": 18,
     "metadata": {},
     "output_type": "execute_result"
    }
   ],
   "source": [
    "a = np.array([0, 9, 21, 3])\n",
    "a < 10 # 브로드캐스팅"
   ]
  },
  {
   "cell_type": "code",
   "execution_count": 19,
   "metadata": {},
   "outputs": [
    {
     "name": "stdout",
     "output_type": "stream",
     "text": [
      "[[1 2 3]\n",
      " [4 5 6]\n",
      " [7 8 9]]\n"
     ]
    },
    {
     "data": {
      "text/plain": [
       "3"
      ]
     },
     "execution_count": 19,
     "metadata": {},
     "output_type": "execute_result"
    }
   ],
   "source": [
    "b = np.array([[1, 2, 3], [4, 5, 6], [7, 8, 9]])\n",
    "print(b)\n",
    "b[0][2]"
   ]
  },
  {
   "cell_type": "markdown",
   "metadata": {},
   "source": [
    "## Lab: BMI 계산하기"
   ]
  },
  {
   "cell_type": "markdown",
   "metadata": {},
   "source": [
    "![BMI 계산하기](BMI.png)"
   ]
  },
  {
   "cell_type": "code",
   "execution_count": 20,
   "metadata": {},
   "outputs": [
    {
     "name": "stdout",
     "output_type": "stream",
     "text": [
      "[25.68007405 23.88946281 20.65754    27.45982194 25.53544639 22.72043837]\n"
     ]
    }
   ],
   "source": [
    "heights = [1.83, 1.76, 1.69, 1.86, 1.77, 1.73]\n",
    "weights = [86, 74, 59, 95, 80, 68]\n",
    "\n",
    "np_heights = np.array(heights)\n",
    "np_weights = np.array(weights)\n",
    "\n",
    "bmi = np_weights/(np_heights**2)\n",
    "print(bmi)"
   ]
  },
  {
   "cell_type": "markdown",
   "metadata": {},
   "source": [
    "## arange()"
   ]
  },
  {
   "cell_type": "code",
   "execution_count": 21,
   "metadata": {},
   "outputs": [
    {
     "data": {
      "text/plain": [
       "array([1, 3, 5, 7, 9])"
      ]
     },
     "execution_count": 21,
     "metadata": {},
     "output_type": "execute_result"
    }
   ],
   "source": [
    "A = np.arange(1, 10, 2)\n",
    "A"
   ]
  },
  {
   "cell_type": "code",
   "execution_count": 22,
   "metadata": {},
   "outputs": [
    {
     "data": {
      "image/png": "[encoded data removed]",
      "text/plain": [
       "<Figure size 432x288 with 1 Axes>"
      ]
     },
     "metadata": {
      "needs_background": "light"
     },
     "output_type": "display_data"
    }
   ],
   "source": [
    "plt.plot(A)\n",
    "plt.show()"
   ]
  },
  {
   "cell_type": "markdown",
   "metadata": {},
   "source": [
    "## 그래프 꾸미기  \n",
    "1. color  \n",
    ": b blue  g green  r red  c cyan  m magenta  y yellow  k black  w white  \n",
    "2. line  \n",
    ": - solid line  -- dashed line  : dotted line  -. dash-dot line  \n",
    "3. point  \n",
    ": ., o 〮, ●  \n",
    ": ^, v, <, > ▲, ▼, ◀, ▶  \n",
    ": s square ■  \n",
    ": p 오각형(pentagon)   \n",
    ": h, H 육각형(hexagon)1, 육각형2   \n",
    ": * ★  \n",
    ": + ＋  \n",
    ": x, X ×, 채워진 ×  \n",
    ": D, d Diamond(◆), 얇은 다이아몬드  "
   ]
  },
  {
   "cell_type": "markdown",
   "metadata": {},
   "source": [
    "fmt = '[color][line_style][marker]'  \n",
    "plt.plot([x,] y [,fmt])"
   ]
  },
  {
   "cell_type": "code",
   "execution_count": 23,
   "metadata": {},
   "outputs": [
    {
     "data": {
      "image/png": "[encoded data removed]",
      "text/plain": [
       "<Figure size 432x288 with 1 Axes>"
      ]
     },
     "metadata": {
      "needs_background": "light"
     },
     "output_type": "display_data"
    }
   ],
   "source": [
    "x = np.arange(0, 5, 1)\n",
    "y1 = x\n",
    "y2 = x + 1\n",
    "y3 = x + 2\n",
    "y4 = x + 3\n",
    "\n",
    "plt.plot(x, y1, \n",
    "         x, y2, 'k-',\n",
    "         x, y3, 'ro:', \n",
    "         x, y4, '.b')\n",
    "plt.show()"
   ]
  },
  {
   "cell_type": "markdown",
   "metadata": {},
   "source": [
    "## linspace()"
   ]
  },
  {
   "cell_type": "code",
   "execution_count": 24,
   "metadata": {},
   "outputs": [
    {
     "data": {
      "text/plain": [
       "array([ 0.        ,  0.1010101 ,  0.2020202 ,  0.3030303 ,  0.4040404 ,\n",
       "        0.50505051,  0.60606061,  0.70707071,  0.80808081,  0.90909091,\n",
       "        1.01010101,  1.11111111,  1.21212121,  1.31313131,  1.41414141,\n",
       "        1.51515152,  1.61616162,  1.71717172,  1.81818182,  1.91919192,\n",
       "        2.02020202,  2.12121212,  2.22222222,  2.32323232,  2.42424242,\n",
       "        2.52525253,  2.62626263,  2.72727273,  2.82828283,  2.92929293,\n",
       "        3.03030303,  3.13131313,  3.23232323,  3.33333333,  3.43434343,\n",
       "        3.53535354,  3.63636364,  3.73737374,  3.83838384,  3.93939394,\n",
       "        4.04040404,  4.14141414,  4.24242424,  4.34343434,  4.44444444,\n",
       "        4.54545455,  4.64646465,  4.74747475,  4.84848485,  4.94949495,\n",
       "        5.05050505,  5.15151515,  5.25252525,  5.35353535,  5.45454545,\n",
       "        5.55555556,  5.65656566,  5.75757576,  5.85858586,  5.95959596,\n",
       "        6.06060606,  6.16161616,  6.26262626,  6.36363636,  6.46464646,\n",
       "        6.56565657,  6.66666667,  6.76767677,  6.86868687,  6.96969697,\n",
       "        7.07070707,  7.17171717,  7.27272727,  7.37373737,  7.47474747,\n",
       "        7.57575758,  7.67676768,  7.77777778,  7.87878788,  7.97979798,\n",
       "        8.08080808,  8.18181818,  8.28282828,  8.38383838,  8.48484848,\n",
       "        8.58585859,  8.68686869,  8.78787879,  8.88888889,  8.98989899,\n",
       "        9.09090909,  9.19191919,  9.29292929,  9.39393939,  9.49494949,\n",
       "        9.5959596 ,  9.6969697 ,  9.7979798 ,  9.8989899 , 10.        ])"
      ]
     },
     "execution_count": 24,
     "metadata": {},
     "output_type": "execute_result"
    }
   ],
   "source": [
    "A = np.linspace(0, 10, 100)\n",
    "A"
   ]
  },
  {
   "cell_type": "code",
   "execution_count": 25,
   "metadata": {},
   "outputs": [
    {
     "data": {
      "image/png": "[encoded data removed]",
      "text/plain": [
       "<Figure size 432x288 with 1 Axes>"
      ]
     },
     "metadata": {
      "needs_background": "light"
     },
     "output_type": "display_data"
    }
   ],
   "source": [
    "plt.plot(A)\n",
    "plt.show()"
   ]
  },
  {
   "cell_type": "markdown",
   "metadata": {},
   "source": [
    "## 3차원 그래프"
   ]
  },
  {
   "cell_type": "code",
   "execution_count": 26,
   "metadata": {},
   "outputs": [
    {
     "data": {
      "image/png": "[encoded data removed]",
      "text/plain": [
       "<Figure size 432x288 with 1 Axes>"
      ]
     },
     "metadata": {
      "needs_background": "light"
     },
     "output_type": "display_data"
    }
   ],
   "source": [
    "import numpy as np\n",
    "import matplotlib.pyplot as plt\n",
    "from mpl_toolkits.mplot3d import Axes3D\n",
    "\n",
    "# 3차원 축(axis)을 얻는다. \n",
    "axis = plt.axes(projection='3d')\n",
    "\n",
    "# 3차원 데이터를 넘파이 배열로 생성한다. \n",
    "Z = np.linspace(0, 1, 100)\n",
    "X = Z * np.sin(30 * Z)\n",
    "Y = Z * np.cos(30 * Z)\n",
    "\n",
    "# 3차원 그래프를 그린다. \n",
    "axis.plot3D(X, Y, Z)\n",
    "plt.show()"
   ]
  },
  {
   "cell_type": "markdown",
   "metadata": {},
   "source": [
    "## 균일 분포 난수 생"
   ]
  },
  {
   "cell_type": "code",
   "execution_count": 27,
   "metadata": {},
   "outputs": [
    {
     "data": {
      "text/plain": [
       "array([0.54340494, 0.27836939, 0.42451759, 0.84477613, 0.00471886])"
      ]
     },
     "execution_count": 27,
     "metadata": {},
     "output_type": "execute_result"
    }
   ],
   "source": [
    "np.random.seed(100)\n",
    "\n",
    "# 시드가 설정되면 다음 문장을 수행하여 [0, 1)인 5개의 난수를 얻는다. \n",
    "\n",
    "np.random.rand(5)"
   ]
  },
  {
   "cell_type": "code",
   "execution_count": 28,
   "metadata": {},
   "outputs": [
    {
     "data": {
      "text/plain": [
       "array([[0.12156912, 0.67074908, 0.82585276],\n",
       "       [0.13670659, 0.57509333, 0.89132195],\n",
       "       [0.20920212, 0.18532822, 0.10837689],\n",
       "       [0.21969749, 0.97862378, 0.81168315],\n",
       "       [0.17194101, 0.81622475, 0.27407375]])"
      ]
     },
     "execution_count": 28,
     "metadata": {},
     "output_type": "execute_result"
    }
   ],
   "source": [
    "np.random.rand(5, 3)"
   ]
  },
  {
   "cell_type": "markdown",
   "metadata": {},
   "source": [
    "### 정규 분포 난수 생성"
   ]
  },
  {
   "cell_type": "code",
   "execution_count": 29,
   "metadata": {},
   "outputs": [
    {
     "data": {
      "text/plain": [
       "array([ 0.67272081, -0.10441114, -0.53128038,  1.02973269, -0.43813562])"
      ]
     },
     "execution_count": 29,
     "metadata": {},
     "output_type": "execute_result"
    }
   ],
   "source": [
    "np.random.randn(5)"
   ]
  },
  {
   "cell_type": "code",
   "execution_count": 30,
   "metadata": {},
   "outputs": [
    {
     "data": {
      "text/plain": [
       "array([[-1.11831825,  1.61898166,  1.54160517, -0.25187914],\n",
       "       [-0.84243574,  0.18451869,  0.9370822 ,  0.73100034],\n",
       "       [ 1.36155613, -0.32623806,  0.05567601,  0.22239961],\n",
       "       [-1.443217  , -0.75635231,  0.81645401,  0.75044476],\n",
       "       [-0.45594693,  1.18962227, -1.69061683, -1.35639905]])"
      ]
     },
     "execution_count": 30,
     "metadata": {},
     "output_type": "execute_result"
    }
   ],
   "source": [
    "# 난수로 채워진 5×4 크기의 2차원 배열을 생성하려면 다음과 같이 적어준다\n",
    "np.random.randn(5, 4)"
   ]
  },
  {
   "cell_type": "code",
   "execution_count": 31,
   "metadata": {},
   "outputs": [
    {
     "data": {
      "text/plain": [
       "array([ 7.53513097,  8.91112168,  8.66365653, 10.01462913,  8.77412253])"
      ]
     },
     "execution_count": 31,
     "metadata": {},
     "output_type": "execute_result"
    }
   ],
   "source": [
    "# 위의 정규 분포는 평균값이 0이고 표준편차가 1.0이다. \n",
    "# 만약 평균값과 표준편차를 다르게 하려면 다음과 같이 하면 된다. \n",
    "m, sigma = 10, 2\n",
    "m + sigma*np.random.randn(5)"
   ]
  },
  {
   "cell_type": "code",
   "execution_count": 32,
   "metadata": {},
   "outputs": [
    {
     "data": {
      "text/plain": [
       "array([ 0.12997481, -0.17330956, -0.09833101,  0.03575078, -0.16135785])"
      ]
     },
     "execution_count": 32,
     "metadata": {},
     "output_type": "execute_result"
    }
   ],
   "source": [
    "mu, sigma = 0, 0.1 # 평균과 표준 편차\n",
    "np.random.normal(mu, sigma, 5)"
   ]
  },
  {
   "cell_type": "markdown",
   "metadata": {},
   "source": [
    "## Lab: 잡음이 들어간 직선 그리기"
   ]
  },
  {
   "cell_type": "code",
   "execution_count": 33,
   "metadata": {},
   "outputs": [
    {
     "data": {
      "image/png": "[encoded data removed]",
      "text/plain": [
       "<Figure size 432x288 with 1 Axes>"
      ]
     },
     "metadata": {
      "needs_background": "light"
     },
     "output_type": "display_data"
    }
   ],
   "source": [
    "import numpy as np\n",
    "import matplotlib.pyplot as plt\n",
    "\n",
    "pure = np.linspace(1, 10, 100) # 1부터 10까지 100개의 데이터 생성\n",
    "noise = np.random.normal(0, 1, 100) # 평균이 0이고 표준편차가 1인 100개의 난수 생성\n",
    "\n",
    "# 넘파이 배열 간 덧셈 연산, 요소별로 덧셈이 수행된다. \n",
    "signal = pure + noise\n",
    "\n",
    "# 선 그래프를 그린다. \n",
    "plt.plot(signal)\n",
    "plt.show()"
   ]
  },
  {
   "cell_type": "markdown",
   "metadata": {},
   "source": [
    "## 넘파이 내장 함수"
   ]
  },
  {
   "cell_type": "code",
   "execution_count": 34,
   "metadata": {},
   "outputs": [
    {
     "data": {
      "text/plain": [
       "array([0.        , 8.41470985, 9.09297427, 1.41120008])"
      ]
     },
     "execution_count": 34,
     "metadata": {},
     "output_type": "execute_result"
    }
   ],
   "source": [
    "A = np.array([0, 1, 2, 3])\n",
    "10 * np.sin(A)"
   ]
  },
  {
   "cell_type": "markdown",
   "metadata": {},
   "source": [
    "### 예제"
   ]
  },
  {
   "cell_type": "code",
   "execution_count": 35,
   "metadata": {},
   "outputs": [
    {
     "data": {
      "text/plain": [
       "1005"
      ]
     },
     "execution_count": 35,
     "metadata": {},
     "output_type": "execute_result"
    }
   ],
   "source": [
    "import numpy as np\n",
    "scores = np.array([[99, 93, 60], [98, 82, 93], [93, 65, 81], [78, 82, 81]])\n",
    "scores.sum()"
   ]
  },
  {
   "cell_type": "code",
   "execution_count": 36,
   "metadata": {},
   "outputs": [
    {
     "data": {
      "text/plain": [
       "60"
      ]
     },
     "execution_count": 36,
     "metadata": {},
     "output_type": "execute_result"
    }
   ],
   "source": [
    "scores.min()"
   ]
  },
  {
   "cell_type": "code",
   "execution_count": 37,
   "metadata": {},
   "outputs": [
    {
     "data": {
      "text/plain": [
       "99"
      ]
     },
     "execution_count": 37,
     "metadata": {},
     "output_type": "execute_result"
    }
   ],
   "source": [
    "scores.max()"
   ]
  },
  {
   "cell_type": "code",
   "execution_count": 38,
   "metadata": {},
   "outputs": [
    {
     "data": {
      "text/plain": [
       "83.75"
      ]
     },
     "execution_count": 38,
     "metadata": {},
     "output_type": "execute_result"
    }
   ],
   "source": [
    "scores.mean()"
   ]
  },
  {
   "cell_type": "code",
   "execution_count": 39,
   "metadata": {},
   "outputs": [
    {
     "data": {
      "text/plain": [
       "11.769487386175038"
      ]
     },
     "execution_count": 39,
     "metadata": {},
     "output_type": "execute_result"
    }
   ],
   "source": [
    "scores.std()"
   ]
  },
  {
   "cell_type": "code",
   "execution_count": 40,
   "metadata": {},
   "outputs": [
    {
     "data": {
      "text/plain": [
       "138.52083333333334"
      ]
     },
     "execution_count": 40,
     "metadata": {},
     "output_type": "execute_result"
    }
   ],
   "source": [
    "scores.var()"
   ]
  },
  {
   "cell_type": "code",
   "execution_count": 41,
   "metadata": {},
   "outputs": [
    {
     "data": {
      "text/plain": [
       "array([92.  , 80.5 , 78.75])"
      ]
     },
     "execution_count": 41,
     "metadata": {},
     "output_type": "execute_result"
    }
   ],
   "source": [
    "# 행이나 열 단위로 계산 가능 (axis = 0:행, axis=1:열)\n",
    "scores.mean(axis=0)"
   ]
  },
  {
   "cell_type": "markdown",
   "metadata": {},
   "source": [
    "## 히스토그램"
   ]
  },
  {
   "cell_type": "code",
   "execution_count": 42,
   "metadata": {},
   "outputs": [
    {
     "data": {
      "image/png": "[encoded data removed]",
      "text/plain": [
       "<Figure size 432x288 with 1 Axes>"
      ]
     },
     "metadata": {
      "needs_background": "light"
     },
     "output_type": "display_data"
    }
   ],
   "source": [
    "import matplotlib.pyplot as plt\n",
    "import numpy as np\n",
    "\n",
    "numbers = np.random.normal(size=10000)\n",
    "\n",
    "plt.hist(numbers)\n",
    "plt.xlabel(\"value\")\n",
    "plt.ylabel(\"freq\")\n",
    "plt.show()"
   ]
  },
  {
   "cell_type": "markdown",
   "metadata": {},
   "source": [
    "## Lab: 정규 분포 그래프 그리기"
   ]
  },
  {
   "cell_type": "code",
   "execution_count": 43,
   "metadata": {},
   "outputs": [
    {
     "data": {
      "image/png": "[encoded data removed]",
      "text/plain": [
       "<Figure size 720x432 with 1 Axes>"
      ]
     },
     "metadata": {
      "needs_background": "light"
     },
     "output_type": "display_data"
    }
   ],
   "source": [
    "m, sigma = 10, 2\n",
    "Y1 = np.random.randn(10000)\n",
    "Y2 = m+sigma*np.random.randn(10000)\n",
    "\n",
    "plt.figure(figsize=(10,6)) # 그래프의 크기 설정\n",
    "plt.hist(Y1, bins=20)\n",
    "plt.hist(Y2, bins=20)\n",
    "plt.show()"
   ]
  },
  {
   "cell_type": "markdown",
   "metadata": {},
   "source": [
    "## Lab: 싸인 함수 그리기"
   ]
  },
  {
   "cell_type": "code",
   "execution_count": 44,
   "metadata": {},
   "outputs": [
    {
     "data": {
      "image/png": "[encoded data removed]",
      "text/plain": [
       "<Figure size 432x288 with 1 Axes>"
      ]
     },
     "metadata": {
      "needs_background": "light"
     },
     "output_type": "display_data"
    }
   ],
   "source": [
    "import matplotlib.pyplot as plt\n",
    "import numpy as np\n",
    "\n",
    "# -2π에서 +2π까지 100개의 데이터를 균일하게 생성한다. \n",
    "X = np.linspace(-2 * np.pi, 2 * np.pi, 100)\n",
    "\n",
    "# 넘파이 배열에 sin() 함수를 적용한다. \n",
    "Y1 = np.sin(X)\n",
    "Y2 = 3 * np.sin(X)\n",
    "\n",
    "plt.plot(X, Y1, X, Y2)\n",
    "plt.show()"
   ]
  },
  {
   "cell_type": "markdown",
   "metadata": {},
   "source": [
    "## Lab: MSE 계산하기"
   ]
  },
  {
   "cell_type": "code",
   "execution_count": 45,
   "metadata": {},
   "outputs": [
    {
     "name": "stdout",
     "output_type": "stream",
     "text": [
      "0.4\n"
     ]
    }
   ],
   "source": [
    "import numpy as np\n",
    "\n",
    "ypred = np.array([1, 0, 0, 0, 0])\n",
    "y = np.array([0, 1, 0, 0, 0])\n",
    "n = 5\n",
    "MSE = (1/n) * np.sum(np.square(ypred-y))\n",
    "print(MSE)"
   ]
  },
  {
   "cell_type": "markdown",
   "metadata": {},
   "source": [
    "## 인덱싱과 슬라이싱"
   ]
  },
  {
   "cell_type": "code",
   "execution_count": 46,
   "metadata": {},
   "outputs": [
    {
     "data": {
      "text/plain": [
       "array([72, 93])"
      ]
     },
     "execution_count": 46,
     "metadata": {},
     "output_type": "execute_result"
    }
   ],
   "source": [
    "grades = np.array([ 88, 72, 93, 94])\n",
    "\n",
    "# 예를 들어서 1에서 2까지의 슬라이스는 다음과 같이 얻을 수 있다. \n",
    "grades[1:3]"
   ]
  },
  {
   "cell_type": "code",
   "execution_count": 47,
   "metadata": {},
   "outputs": [
    {
     "data": {
      "text/plain": [
       "array([0, 1])"
      ]
     },
     "execution_count": 47,
     "metadata": {},
     "output_type": "execute_result"
    }
   ],
   "source": [
    "# 다음과 같이 시작 인덱스나 종료 인덱스는 생략이 가능하다. \n",
    "y[:2]"
   ]
  },
  {
   "cell_type": "markdown",
   "metadata": {},
   "source": [
    "### 논리적인 인덱싱"
   ]
  },
  {
   "cell_type": "code",
   "execution_count": 48,
   "metadata": {},
   "outputs": [
    {
     "data": {
      "text/plain": [
       "array([False, False,  True,  True,  True])"
      ]
     },
     "execution_count": 48,
     "metadata": {},
     "output_type": "execute_result"
    }
   ],
   "source": [
    "ages = np.array([18, 19, 25, 30, 28])\n",
    "\n",
    "# ages에서 20살 이상인 사람만 고르려고 하면 다음과 같은 조건식을 써준다. \n",
    "y = ages > 20\n",
    "y"
   ]
  },
  {
   "cell_type": "code",
   "execution_count": 49,
   "metadata": {},
   "outputs": [
    {
     "data": {
      "text/plain": [
       "array([25, 30, 28])"
      ]
     },
     "execution_count": 49,
     "metadata": {},
     "output_type": "execute_result"
    }
   ],
   "source": [
    "# 논리적인 인덱싱\n",
    "ages[ages > 20]"
   ]
  },
  {
   "cell_type": "markdown",
   "metadata": {},
   "source": [
    "### 2차원 배열의 슬라이싱"
   ]
  },
  {
   "cell_type": "code",
   "execution_count": 50,
   "metadata": {},
   "outputs": [
    {
     "data": {
      "text/plain": [
       "array([[2, 3],\n",
       "       [5, 6]])"
      ]
     },
     "execution_count": 50,
     "metadata": {},
     "output_type": "execute_result"
    }
   ],
   "source": [
    "a = np.array([[1, 2, 3], [4, 5, 6], [7, 8, 9]])\n",
    "a[0:2, 1:3]"
   ]
  },
  {
   "cell_type": "code",
   "execution_count": 51,
   "metadata": {},
   "outputs": [
    {
     "data": {
      "text/plain": [
       "array([[1, 2, 3],\n",
       "       [4, 5, 6]])"
      ]
     },
     "execution_count": 51,
     "metadata": {},
     "output_type": "execute_result"
    }
   ],
   "source": [
    "a[0:2]"
   ]
  },
  {
   "cell_type": "code",
   "execution_count": 52,
   "metadata": {},
   "outputs": [
    {
     "data": {
      "text/plain": [
       "array([[1, 2, 3]])"
      ]
     },
     "execution_count": 52,
     "metadata": {},
     "output_type": "execute_result"
    }
   ],
   "source": [
    "a[0:2][0:1]"
   ]
  },
  {
   "cell_type": "code",
   "execution_count": 53,
   "metadata": {},
   "outputs": [
    {
     "data": {
      "text/plain": [
       "array([[1],\n",
       "       [4]])"
      ]
     },
     "execution_count": 53,
     "metadata": {},
     "output_type": "execute_result"
    }
   ],
   "source": [
    "a[0:2, 0:1]"
   ]
  },
  {
   "cell_type": "markdown",
   "metadata": {},
   "source": [
    "### 2차원 배열의 논리적인 인덱싱"
   ]
  },
  {
   "cell_type": "code",
   "execution_count": 54,
   "metadata": {},
   "outputs": [
    {
     "data": {
      "text/plain": [
       "array([[False, False, False],\n",
       "       [False, False,  True],\n",
       "       [ True,  True,  True]])"
      ]
     },
     "execution_count": 54,
     "metadata": {},
     "output_type": "execute_result"
    }
   ],
   "source": [
    "a = np.array([[1, 2, 3], [4, 5, 6], [7, 8, 9]])\n",
    "a > 5"
   ]
  },
  {
   "cell_type": "code",
   "execution_count": 55,
   "metadata": {},
   "outputs": [
    {
     "data": {
      "text/plain": [
       "array([6, 7, 8, 9])"
      ]
     },
     "execution_count": 55,
     "metadata": {},
     "output_type": "execute_result"
    }
   ],
   "source": [
    "a[a > 5]"
   ]
  },
  {
   "cell_type": "markdown",
   "metadata": {},
   "source": [
    "## Lab: 직원들의 월급 인상하기"
   ]
  },
  {
   "cell_type": "code",
   "execution_count": 56,
   "metadata": {},
   "outputs": [
    {
     "data": {
      "text/plain": [
       "array([320, 350, 330])"
      ]
     },
     "execution_count": 56,
     "metadata": {},
     "output_type": "execute_result"
    }
   ],
   "source": [
    "import numpy as np\n",
    "salary = np.array([220, 250, 230])\n",
    "salary = salary + 100\n",
    "salary"
   ]
  },
  {
   "cell_type": "code",
   "execution_count": 57,
   "metadata": {},
   "outputs": [
    {
     "name": "stdout",
     "output_type": "stream",
     "text": [
      "[440 500 460]\n"
     ]
    },
    {
     "data": {
      "text/plain": [
       "array([False,  True,  True])"
      ]
     },
     "execution_count": 57,
     "metadata": {},
     "output_type": "execute_result"
    }
   ],
   "source": [
    "salary = np.array([220, 250, 230])\n",
    "salary = salary * 2\n",
    "print(salary)\n",
    "salary > 450"
   ]
  },
  {
   "cell_type": "markdown",
   "metadata": {},
   "source": [
    "## Lab: 함수의 그래프 그리기"
   ]
  },
  {
   "cell_type": "code",
   "execution_count": 58,
   "metadata": {},
   "outputs": [
    {
     "data": {
      "image/png": "[encoded data removed]",
      "text/plain": [
       "<Figure size 432x288 with 1 Axes>"
      ]
     },
     "metadata": {
      "needs_background": "light"
     },
     "output_type": "display_data"
    }
   ],
   "source": [
    "import matplotlib.pyplot as plt\n",
    "import numpy as np\n",
    "\n",
    "X = np.arange(0, 10)\n",
    "\n",
    "Y1 = np.ones(10) # ones()는 0으로 이루어진 넘파이 배열 생성\n",
    "Y2 = X \n",
    "Y3 = X**2 \n",
    "\n",
    "# 3개의 그래프를 하나의 축에 그린다. \n",
    "plt.plot(X, Y1, X, Y2, X, Y3)\n",
    "plt.show()"
   ]
  },
  {
   "cell_type": "markdown",
   "metadata": {},
   "source": [
    "## 전치 행렬 계산하기"
   ]
  },
  {
   "cell_type": "code",
   "execution_count": 59,
   "metadata": {},
   "outputs": [
    {
     "data": {
      "text/plain": [
       "array([[1, 4, 7],\n",
       "       [2, 5, 8],\n",
       "       [3, 6, 9]])"
      ]
     },
     "execution_count": 59,
     "metadata": {},
     "output_type": "execute_result"
    }
   ],
   "source": [
    "x = np.array([[1, 2, 3], [4, 5, 6], [7, 8, 9]])\n",
    "\n",
    "x.transpose()"
   ]
  },
  {
   "cell_type": "code",
   "execution_count": 60,
   "metadata": {},
   "outputs": [
    {
     "data": {
      "text/plain": [
       "array([[1, 4, 7],\n",
       "       [2, 5, 8],\n",
       "       [3, 6, 9]])"
      ]
     },
     "execution_count": 60,
     "metadata": {},
     "output_type": "execute_result"
    }
   ],
   "source": [
    "x.T"
   ]
  },
  {
   "cell_type": "markdown",
   "metadata": {},
   "source": [
    "## 역행렬 계산하기"
   ]
  },
  {
   "cell_type": "code",
   "execution_count": 61,
   "metadata": {},
   "outputs": [
    {
     "data": {
      "text/plain": [
       "array([[-2. ,  1. ],\n",
       "       [ 1.5, -0.5]])"
      ]
     },
     "execution_count": 61,
     "metadata": {},
     "output_type": "execute_result"
    }
   ],
   "source": [
    "x = np.array([[1,2],[3,4]]) \n",
    "y = np.linalg.inv(x) \n",
    "y "
   ]
  },
  {
   "cell_type": "code",
   "execution_count": 62,
   "metadata": {},
   "outputs": [
    {
     "data": {
      "text/plain": [
       "array([[1.00000000e+00, 1.11022302e-16],\n",
       "       [0.00000000e+00, 1.00000000e+00]])"
      ]
     },
     "execution_count": 62,
     "metadata": {},
     "output_type": "execute_result"
    }
   ],
   "source": [
    "# 행렬의 내적 계산\n",
    "np.dot(x, y)"
   ]
  },
  {
   "cell_type": "markdown",
   "metadata": {},
   "source": [
    "## 선형방정식 풀기"
   ]
  },
  {
   "cell_type": "code",
   "execution_count": 63,
   "metadata": {},
   "outputs": [
    {
     "data": {
      "text/plain": [
       "array([2., 3.])"
      ]
     },
     "execution_count": 63,
     "metadata": {},
     "output_type": "execute_result"
    }
   ],
   "source": [
    "a = np.array([[3, 1], [1, 2]])\n",
    "b = np.array([9, 8])\n",
    "x = np.linalg.solve(a, b)\n",
    "x"
   ]
  }
 ],
 "metadata": {
  "hide_input": false,
  "kernelspec": {
   "display_name": "Python 3",
   "language": "python",
   "name": "python3"
  },
  "language_info": {
   "codemirror_mode": {
    "name": "ipython",
    "version": 3
   },
   "file_extension": ".py",
   "mimetype": "text/x-python",
   "name": "python",
   "nbconvert_exporter": "python",
   "pygments_lexer": "ipython3",
   "version": "3.8.5"
  },
  "toc": {
   "base_numbering": 1,
   "nav_menu": {},
   "number_sections": true,
   "sideBar": true,
   "skip_h1_title": false,
   "title_cell": "Table of Contents",
   "title_sidebar": "Contents",
   "toc_cell": false,
   "toc_position": {},
   "toc_section_display": true,
   "toc_window_display": false
  },
  "varInspector": {
   "cols": {
    "lenName": 16,
    "lenType": 16,
    "lenVar": 40
   },
   "kernels_config": {
    "python": {
     "delete_cmd_postfix": "",
     "delete_cmd_prefix": "del ",
     "library": "var_list.py",
     "varRefreshCmd": "print(var_dic_list())"
    },
    "r": {
     "delete_cmd_postfix": ") ",
     "delete_cmd_prefix": "rm(",
     "library": "var_list.r",
     "varRefreshCmd": "cat(var_dic_list()) "
    }
   },
   "types_to_exclude": [
    "module",
    "function",
    "builtin_function_or_method",
    "instance",
    "_Feature"
   ],
   "window_display": false
  }
 },
 "nbformat": 4,
 "nbformat_minor": 4
}
