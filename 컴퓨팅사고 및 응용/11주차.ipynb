{
 "cells": [
  {
   "cell_type": "markdown",
   "metadata": {},
   "source": [
    "# 11주차 과제 실습"
   ]
  },
  {
   "cell_type": "markdown",
   "metadata": {},
   "source": [
    "## 11.01"
   ]
  },
  {
   "cell_type": "code",
   "execution_count": 1,
   "metadata": {},
   "outputs": [
    {
     "name": "stdout",
     "output_type": "stream",
     "text": [
      "3의 배수의 개수 =  33\n"
     ]
    }
   ],
   "source": [
    "count = sum([1 for k in range(1, 101) if k%3 == 0])\n",
    "print('3의 배수의 개수 = ',count)"
   ]
  },
  {
   "cell_type": "markdown",
   "metadata": {},
   "source": [
    "## 11.05"
   ]
  },
  {
   "cell_type": "code",
   "execution_count": 2,
   "metadata": {},
   "outputs": [
    {
     "name": "stdout",
     "output_type": "stream",
     "text": [
      "원래 리스트:\n",
      "[1, 2, 3, 4, 5, 6, 7]\n",
      "세제곱된 값:\n",
      "[1, 8, 27, 64, 125, 216, 343]\n"
     ]
    }
   ],
   "source": [
    "nums = [1, 2, 3, 4, 5, 6, 7]\n",
    "print(\"원래 리스트:\")\n",
    "print(nums)\n",
    "\n",
    "print(\"세제곱된 값:\")\n",
    "cube_nums = list(map(lambda x: x ** 3, nums))\n",
    "print(cube_nums)"
   ]
  },
  {
   "cell_type": "markdown",
   "metadata": {},
   "source": [
    "## 11.07"
   ]
  },
  {
   "cell_type": "code",
   "execution_count": 3,
   "metadata": {},
   "outputs": [
    {
     "name": "stdout",
     "output_type": "stream",
     "text": [
      "0 : a\n",
      "1 : b\n",
      "2 : c\n"
     ]
    }
   ],
   "source": [
    "class MyEnumerate():\n",
    "    def __init__(self, data):\n",
    "        self.data = data\n",
    "        self.index = 0\n",
    "\n",
    "    def __iter__(self):\n",
    "        return self\n",
    "\n",
    "    def __next__(self):\n",
    "        if self.index >= len(self.data):\n",
    "            raise StopIteration\n",
    "        value = (self.index, self.data[self.index])\n",
    "        self.index += 1\n",
    "        return value\n",
    "\n",
    "for index, letter in MyEnumerate('abc'):\n",
    "    print(f\"{index} : {letter}\")"
   ]
  },
  {
   "cell_type": "markdown",
   "metadata": {},
   "source": [
    "## 11.09"
   ]
  },
  {
   "cell_type": "code",
   "execution_count": 4,
   "metadata": {},
   "outputs": [
    {
     "name": "stdout",
     "output_type": "stream",
     "text": [
      "[1, 4, 9, 16, 25, 36, 49]\n"
     ]
    }
   ],
   "source": [
    "list1 = [1,2,3,4,5,6,7]\n",
    "sNumbers = map(lambda x: x**2, list1)\n",
    "print(list(sNumbers))"
   ]
  },
  {
   "cell_type": "markdown",
   "metadata": {},
   "source": [
    "## 11.11"
   ]
  },
  {
   "cell_type": "code",
   "execution_count": 5,
   "metadata": {},
   "outputs": [
    {
     "name": "stdout",
     "output_type": "stream",
     "text": [
      "4\n",
      "5\n",
      "9\n",
      "True\n",
      "True\n",
      "원의 반지름: 9\n"
     ]
    }
   ],
   "source": [
    "import math\n",
    " \n",
    "class Circle:\n",
    "    def __init__(self, radius):\n",
    "        self.__radius = radius\n",
    "\n",
    "    def setRadius(self, radius):\n",
    "        self.__radius = radius\n",
    " \n",
    "    def getRadius(self):\n",
    "        return self.__radius\n",
    " \n",
    "    def area(self):\n",
    "        return math.pi * self.__radius ** 2\n",
    " \n",
    "    def __add__(self, another_circle):\n",
    "        return Circle( self.__radius + another_circle.__radius )\n",
    " \n",
    "    def __gt__(self, another_circle):\n",
    "        return self.__radius > another_circle.__radius\n",
    " \n",
    "    def __lt__(self, another_circle):\n",
    "        return self.__radius < another_circle.__radius\n",
    " \n",
    "    def __str__(self):\n",
    "        return \"원의 반지름: \" + str(self.__radius)\n",
    "\n",
    "c1 = Circle(4)\n",
    "print(c1.getRadius())\n",
    " \n",
    "c2 = Circle(5)\n",
    "print(c2.getRadius())\n",
    " \n",
    "c3 = c1 + c2\n",
    "print(c3.getRadius())\n",
    " \n",
    "print(c3 > c2) \n",
    "print(c1 < c2) \n",
    " \n",
    "print(c3) "
   ]
  },
  {
   "cell_type": "markdown",
   "metadata": {},
   "source": [
    "## 11.13"
   ]
  },
  {
   "cell_type": "code",
   "execution_count": 6,
   "metadata": {},
   "outputs": [
    {
     "name": "stdout",
     "output_type": "stream",
     "text": [
      "i\n",
      "g\n",
      "l\n",
      "e\n",
      "y\n",
      "y\n",
      "j\n",
      "b\n",
      "m\n",
      "g\n"
     ]
    }
   ],
   "source": [
    "import random\n",
    "\n",
    "values = \"abcdefghijklmnopqrstuvwxyz\"\n",
    "for i in range(0, 10):\n",
    "    letter = random.choice(values)\n",
    "    print(letter)"
   ]
  },
  {
   "cell_type": "markdown",
   "metadata": {},
   "source": [
    "# 제 12장 상속"
   ]
  },
  {
   "cell_type": "code",
   "execution_count": 7,
   "metadata": {},
   "outputs": [],
   "source": [
    "class Car:\n",
    "    def __init__(self, make, model, color, price):\n",
    "        self.make = make # 메이커\n",
    "        self.model = model # 모델\n",
    "        self.color = color # 자동차의 색상\n",
    "        self.price = price # 자동차의 가격\n",
    "        \n",
    "    def setMake(self, make): # 설정자 메소드\n",
    "        self.make = make\n",
    "        \n",
    "    def getMake(self): # 접근자 메소드\n",
    "        return self.make\n",
    "    \n",
    "    # 차량에 대한 정보를 문자열로 요약하여서 반환한다.\n",
    "    def getDesc(self):\n",
    "        return \"차량 = (\"+str(self.make)+\",\"+\\\n",
    "            str(self.model)+\",\"+\\\n",
    "            str(self.color)+\",\"+\\\n",
    "            str(self.price)+\")\""
   ]
  },
  {
   "cell_type": "code",
   "execution_count": 8,
   "metadata": {},
   "outputs": [
    {
     "name": "stdout",
     "output_type": "stream",
     "text": [
      "차량 = (Tesla,Model S,white,10000)\n"
     ]
    }
   ],
   "source": [
    "class ElectricCar(Car) : # ①\n",
    "    def __init__(self, make, model, color, price, batterySize):\n",
    "        super().__init__(make, model, color, price) # ②\n",
    "        self.batterySize = batterySize # ③\n",
    "        \n",
    "    def setBatterySize(self, batterySize): # 설정자 메소드\n",
    "        self.batterySize = batterySize\n",
    "        \n",
    "    def getBtterySize(self): # 접근자 메소드\n",
    "        return self.batterySize\n",
    "    \n",
    "myCar = ElectricCar(\"Tisla\", \"Model S\", \"white\", 10000, 0) #\n",
    "myCar.setMake(\"Tesla\") # 설정자 메소드 호출\n",
    "myCar.setBatterySize(60) # 설정자 메소드 호출\n",
    "print(myCar.getDesc()) # 전기차 객체를 문자열로 출력"
   ]
  },
  {
   "cell_type": "code",
   "execution_count": 9,
   "metadata": {},
   "outputs": [
    {
     "name": "stdout",
     "output_type": "stream",
     "text": [
      "<class '__main__.Animal'> <class '__main__.Dog'>\n",
      "True True\n"
     ]
    }
   ],
   "source": [
    "class Animal:\n",
    "    def __init__(self, age=0):\n",
    "        self.age = age\n",
    "        \n",
    "    def eat(self):\n",
    "        print(\"동물이 먹고 있습니다. \")\n",
    "\n",
    "# 부모 클래스의 생성자를 호출하지 않았다!\n",
    "class Dog(Animal):\n",
    "    def __init__(self, age = 0, name = \"\"):\n",
    "        self.name = name\n",
    "        \n",
    "x = Animal();\n",
    "y = Dog();\n",
    "print(type(x), type(y))\n",
    "print(isinstance(x, Animal), isinstance(y, Animal))"
   ]
  },
  {
   "cell_type": "code",
   "execution_count": 10,
   "metadata": {},
   "outputs": [
    {
     "name": "stdout",
     "output_type": "stream",
     "text": [
      "10\n"
     ]
    }
   ],
   "source": [
    "class Parent(object):\n",
    "    def __init__(self):\n",
    "        self.__money__ = 10 # __로 시작, __로 끝남\n",
    "        self.__money = 100 # private: __로 시작, __로 끝나지 않음\n",
    "                           # 얘를 출력하면 오류 뜸\n",
    "\n",
    "class Child(Parent):\n",
    "    def __init__(self):\n",
    "        super().__init__()\n",
    "\n",
    "obj = Child()\n",
    "print(obj.__money__)"
   ]
  },
  {
   "cell_type": "markdown",
   "metadata": {},
   "source": [
    "## 다중 상속의 예"
   ]
  },
  {
   "cell_type": "code",
   "execution_count": 11,
   "metadata": {},
   "outputs": [
    {
     "name": "stdout",
     "output_type": "stream",
     "text": [
      "Kim 22\n",
      "100036\n"
     ]
    }
   ],
   "source": [
    "class Person:\n",
    "    def __init__(self, name, age):\n",
    "        self.name = name\n",
    "        self.age = age\n",
    "    def show(self):\n",
    "        print(self.name, self.age)\n",
    "\n",
    "class Student:\n",
    "    def __init__(self, id):\n",
    "        self.id = id\n",
    "    def getId(self):\n",
    "        return self.id\n",
    "\n",
    "class CollegeStudent(Person, Student):\n",
    "    def __init__(self, name, age, id):\n",
    "        Person.__init__(self, name, age)\n",
    "        Student.__init__(self, id)\n",
    "\n",
    "obj = CollegeStudent('Kim', 22, '100036')\n",
    "obj.show()\n",
    "print(obj.getId()) "
   ]
  },
  {
   "cell_type": "markdown",
   "metadata": {},
   "source": [
    "## 메소드 오버라이딩"
   ]
  },
  {
   "cell_type": "code",
   "execution_count": 12,
   "metadata": {},
   "outputs": [
    {
     "name": "stdout",
     "output_type": "stream",
     "text": [
      "원을 그립니다.\n",
      "원의 면적: 314.1592653589793\n"
     ]
    }
   ],
   "source": [
    "import math\n",
    "\n",
    "class Shape:\n",
    "    def __init__(self):\n",
    "        pass\n",
    "    def draw(self):\n",
    "        print(\"draw()가 호출됨\")\n",
    "    def get_area(self):\n",
    "        print(\"get_area()가 호출됨\")\n",
    "\n",
    "class Circle(Shape):\n",
    "    def __init__(self, radius=0):\n",
    "        super().__init__()\n",
    "        self.radius = radius\n",
    "    def draw(self):\n",
    "        print(\"원을 그립니다.\")\n",
    "    def get_area(self):\n",
    "        return math.pi * self.radius ** 2\n",
    "\n",
    "c = Circle(10)\n",
    "c.draw()\n",
    "print(\"원의 면적:\", c.get_area())"
   ]
  },
  {
   "cell_type": "code",
   "execution_count": 13,
   "metadata": {},
   "outputs": [
    {
     "name": "stdout",
     "output_type": "stream",
     "text": [
      "draw()가 호출됨\n",
      "원을 그립니다.\n"
     ]
    }
   ],
   "source": [
    "import math\n",
    "\n",
    "class Shape:\n",
    "    def __init__(self):\n",
    "        pass\n",
    "    def draw(self):\n",
    "        print(\"draw()가 호출됨\")\n",
    "    def get_area(self):\n",
    "        print(\"get_area()가 호출됨\")\n",
    "\n",
    "class Circle(Shape):\n",
    "    def __init__(self, radius=0):\n",
    "        super().__init__()\n",
    "        self.radius = radius\n",
    "    def draw(self):\n",
    "        super().draw() # 부모 클래스의 메서드 호출\n",
    "        print(\"원을 그립니다.\")\n",
    "    def get_area(self):\n",
    "        return math.pi * self.radius ** 2\n",
    "\n",
    "c = Circle(10)\n",
    "c.draw()"
   ]
  },
  {
   "cell_type": "markdown",
   "metadata": {},
   "source": [
    "## Lab: 직원과 매니저"
   ]
  },
  {
   "cell_type": "code",
   "execution_count": 14,
   "metadata": {},
   "outputs": [
    {
     "name": "stdout",
     "output_type": "stream",
     "text": [
      "이름: 김철수, 월급: 3000000\n"
     ]
    }
   ],
   "source": [
    "class Employee:\n",
    "    def __init__(self, name, salary):\n",
    "        self.name = name\n",
    "        self.salary = salary\n",
    "    \n",
    "    def getSalary(self):\n",
    "        return self.salary\n",
    "\n",
    "    def __str__(self):\n",
    "        return f\"이름: {self.name}, 월급: {self.getSalary()}\"\n",
    "\n",
    "class Manager(Employee):\n",
    "    def __init__(self, name, salary, bonus):\n",
    "        super().__init__(name, salary)\n",
    "        self.bonus = bonus\n",
    "    def getSalary(self):\n",
    "        return super().getSalary() + self.bonus\n",
    "\n",
    "kim = Manager(\"김철수\", 2000000, 1000000)\n",
    "print(kim)"
   ]
  },
  {
   "cell_type": "markdown",
   "metadata": {},
   "source": [
    "## Lab: 은행 계좌"
   ]
  },
  {
   "cell_type": "markdown",
   "metadata": {},
   "source": [
    "BankAccount 클래스는 다음 인스턴스 변수와 메소드를 가진다.  \n",
    " balance – 잔액(정수형)  \n",
    " name – 소유자의 이름(문자열)   \n",
    " number – 통장 번호(정수형)  \n",
    " withdraw() – 출금 메소드  \n",
    " deposit() – 입금 메소드  \n",
    " SavingsAccount 클래스 (저축예금)는 BankAccount 클래스를 상속 받\n",
    "으며, 추가로 다음 인스턴스 변수와 메소드를 가진다.  \n",
    " interest_rate – 이자율(실수형)  \n",
    " add_interest() - 호출될 때마다 예금에 이자를 더하는 메소드  \n",
    " CheckingAccount 클래스 (당좌예금)는 BankAccount 클래스를 상속 받\n",
    "으며, 추가로 다음 인스턴스 변수와 메소드를 가진다.  \n",
    " withdraw_charge – 수표를 1회 발행할 때 수수료(정수형)  \n",
    " withdraw() - 찾을 금액에 수수료를 더해서 출금한다.  "
   ]
  },
  {
   "cell_type": "code",
   "execution_count": 15,
   "metadata": {},
   "outputs": [],
   "source": [
    "class BankAccount:\n",
    "    def __init__(self, name, number, balance):\n",
    "        self.balance = balance\n",
    "        self.name = name\n",
    "        self.number = number\n",
    "    def withdraw(self, amount):\n",
    "        self.balance -= amount\n",
    "        return self.balance\n",
    "    def deposit(self, amount):\n",
    "        self.balance += amount\n",
    "        return self.balance\n",
    "\n",
    "class CheckingAccount(BankAccount) :\n",
    "    def __init__(self, name, number, balance):\n",
    "        super().__init__( name, number, balance)\n",
    "        self.withdraw_charge = 10000 # 수표 발행 수수료\n",
    "    def withdraw(self, amount):\n",
    "        return BankAccount.withdraw(self, amount + self.withdraw_charge)"
   ]
  },
  {
   "cell_type": "code",
   "execution_count": 16,
   "metadata": {},
   "outputs": [
    {
     "name": "stdout",
     "output_type": "stream",
     "text": [
      "저축예금의 잔액= 10500.0\n",
      "당좌예금의 잔액= 1890000\n"
     ]
    }
   ],
   "source": [
    "class SavingsAccount(BankAccount) :\n",
    "    def __init__(self, name, number, balance, interest_rate):\n",
    "        super().__init__( name, number, balance)\n",
    "        self.interest_rate =interest_rate\n",
    "    def set_interest_rate(self, interest_rate):\n",
    "        self.interest_rate = interest_rate\n",
    "    def get_interest_rate(self):\n",
    "        return self.interest_rate\n",
    "    def add_interest(self): # 예금에 이자를 더한다.\n",
    "        self.balance += self.balance*self.interest_rate\n",
    "\n",
    "a1 = SavingsAccount(\"홍길동\", 123456, 10000, 0.05)\n",
    "a1.add_interest()\n",
    "print(\"저축예금의 잔액=\", a1.balance)\n",
    "\n",
    "a2 = CheckingAccount(\"김철수\", 123457, 2000000)\n",
    "a2.withdraw(100000)\n",
    "print(\"당좌예금의 잔액=\", a2.balance)"
   ]
  },
  {
   "cell_type": "markdown",
   "metadata": {},
   "source": [
    "## 다형성"
   ]
  },
  {
   "cell_type": "markdown",
   "metadata": {},
   "source": [
    "### 상속과 다형성"
   ]
  },
  {
   "cell_type": "code",
   "execution_count": 17,
   "metadata": {},
   "outputs": [
    {
     "name": "stdout",
     "output_type": "stream",
     "text": [
      "314.1592\n",
      "100\n"
     ]
    }
   ],
   "source": [
    "class Shape:\n",
    "    def __init__(self, name):\n",
    "        self.name = name\n",
    "    def getArea(self):\n",
    "        raise NotImplementedError(\"이것은 추상메소드입니다. \")\n",
    "\n",
    "class Circle(Shape):\n",
    "    def __init__(self, name, radius):\n",
    "        super().__init__(name)\n",
    "        self.radius = radius\n",
    "    def getArea(self):\n",
    "        return 3.141592*self.radius**2\n",
    "\n",
    "class Rectangle(Shape):\n",
    "    def __init__(self, name, width, height):\n",
    "        super().__init__(name)\n",
    "        self.width = width\n",
    "        self.height = height\n",
    "    def getArea(self):\n",
    "        return self.width*self.height\n",
    "\n",
    "for s in [ Circle(\"c1\", 10), Rectangle(\"r1\", 10, 10) ]:\n",
    "    print(s.getArea())"
   ]
  },
  {
   "cell_type": "markdown",
   "metadata": {},
   "source": [
    "### 내장 함수와 다형성"
   ]
  },
  {
   "cell_type": "code",
   "execution_count": 18,
   "metadata": {},
   "outputs": [
    {
     "name": "stdout",
     "output_type": "stream",
     "text": [
      "리스트의 길이= 3\n",
      "문자열의 길이= 18\n",
      "딕셔너리의 길이= 2\n"
     ]
    }
   ],
   "source": [
    "mylist = [1, 2, 3] # 리스트\n",
    "print(\"리스트의 길이=\", len(mylist))\n",
    "\n",
    "s = \"This is a sentense\" # 문자열\n",
    "print(\"문자열의 길이=\", len(s))\n",
    "\n",
    "d = {'aaa': 1, 'bbb': 2} # 딕셔너리\n",
    "print(\"딕셔너리의 길이=\", len(d))"
   ]
  },
  {
   "cell_type": "markdown",
   "metadata": {},
   "source": [
    "## object 클래스"
   ]
  },
  {
   "cell_type": "code",
   "execution_count": 19,
   "metadata": {},
   "outputs": [
    {
     "name": "stdout",
     "output_type": "stream",
     "text": [
      "ISBN: 0123456; TITLE: The Python Tutorial\n"
     ]
    }
   ],
   "source": [
    "class Book(object):\n",
    "    def __init__(self, title, isbn):\n",
    "        self.__title = title\n",
    "        self.__isbn = isbn\n",
    "    def __repr__(self):\n",
    "        return \"ISBN: \"+ self.__isbn+ \"; TITLE: \"+ self.__title\n",
    "\n",
    "book = Book(\"The Python Tutorial\", \"0123456\")\n",
    "print(book)"
   ]
  },
  {
   "cell_type": "code",
   "execution_count": 20,
   "metadata": {},
   "outputs": [
    {
     "name": "stdout",
     "output_type": "stream",
     "text": [
      "10:05:00\n"
     ]
    }
   ],
   "source": [
    "class MyTime:\n",
    "    def __init__(self, hour, minute, second=0):\n",
    "        self.hour = hour\n",
    "        self.minute = minute\n",
    "        self.second = second\n",
    "    def __str__(self):\n",
    "        return '%02d:%02d:%02d' % (self.hour, self.minute, self.second)\n",
    "\n",
    "time = MyTime(10, 5)\n",
    "print(time)"
   ]
  },
  {
   "cell_type": "markdown",
   "metadata": {},
   "source": [
    "## 상속과 구성"
   ]
  },
  {
   "cell_type": "code",
   "execution_count": 21,
   "metadata": {},
   "outputs": [],
   "source": [
    "class Animal:\n",
    "    pass\n",
    "\n",
    "class Dog(Animal):\n",
    "    def __init__(self, name):\n",
    "        self.name = name\n",
    "\n",
    "class Person:\n",
    "    def __init__(self, name):\n",
    "        self.name = name\n",
    "        self.pet = None\n",
    "\n",
    "dog1 = Dog(\"dog1\")\n",
    "person1 = Person(\"홍길동\")\n",
    "person1.pet = dog1"
   ]
  },
  {
   "cell_type": "markdown",
   "metadata": {},
   "source": [
    "## Lab: Card와 Deck"
   ]
  },
  {
   "cell_type": "code",
   "execution_count": 22,
   "metadata": {},
   "outputs": [
    {
     "name": "stdout",
     "output_type": "stream",
     "text": [
      "['♣A', '♣2', '♣3', '♣4', '♣5', '♣6', '♣7', '♣8', '♣9', '♣10', '♣J', '♣Q', '♣K', '♦A', '♦2', '♦3', '♦4', '♦5', '♦6', '♦7', '♦8', '♦9', '♦10', '♦J', '♦Q', '♦K', '♥A', '♥2', '♥3', '♥4', '♥5', '♥6', '♥7', '♥8', '♥9', '♥10', '♥J', '♥Q', '♥K', '♠A', '♠2', '♠3', '♠4', '♠5', '♠6', '♠7', '♠8', '♠9', '♠10', '♠J', '♠Q', '♠K']\n"
     ]
    }
   ],
   "source": [
    "class Card:\n",
    "    suitNames = ['♣', '♦', '♥', '♠']\n",
    "    rankNames = [None, 'A', '2', '3', '4', '5', '6', '7', '8', '9', '10', 'J', 'Q', 'K']\n",
    "    \n",
    "    def __init__(self, suit, rank):\n",
    "        self.suit = suit\n",
    "        self.rank = rank\n",
    "    def __str__(self):\n",
    "        return Card.suitNames[self.suit]+ Card.rankNames[self.rank]\n",
    "\n",
    "class Deck:\n",
    "    def __init__(self):\n",
    "        self.cards = [Card(suit, rank) for suit in range(4) for rank in range(1, 14)]\n",
    "    def __str__(self):\n",
    "        lst = [str(card) for card in self.cards]\n",
    "        return str(lst)\n",
    "\n",
    "deck = Deck()\n",
    "print(deck)"
   ]
  },
  {
   "cell_type": "markdown",
   "metadata": {},
   "source": [
    "## Lab: 학생과 강사"
   ]
  },
  {
   "cell_type": "code",
   "execution_count": 23,
   "metadata": {},
   "outputs": [
    {
     "name": "stdout",
     "output_type": "stream",
     "text": [
      "\n",
      "이름=홍길동\n",
      "주민번호=12345678\n",
      "수강과목=['자료구조']\n",
      "평점=0\n"
     ]
    }
   ],
   "source": [
    "class Person:\n",
    "    def __init__(self, name, number):\n",
    "        self.name = name\n",
    "        self.number = number\n",
    "    def __str__(self):\n",
    "        return \"\\n이름=\"+self.name + \"\\n주민번호=\"+self.number\n",
    "\n",
    "class Student(Person):\n",
    "    UNDERGRADUATE=0\n",
    "    POSTGRADUATE = 1\n",
    "    def __init__(self, name, number, studentType ):\n",
    "        super().__init__(name, number)\n",
    "        self.studentType = studentType\n",
    "        self.gpa=0\n",
    "        self.classes = []\n",
    "    def enrollCourse(self, course):\n",
    "        self.classes.append(course)\n",
    "    def __str__(self):\n",
    "        return f\"{super().__str__()}\\n수강과목={self.classes}\\n평점={self.gpa}\"\n",
    "\n",
    "hong = Student(\"홍길동\", \"12345678\", Student.UNDERGRADUATE )\n",
    "hong.enrollCourse(\"자료구조\")\n",
    "print(hong)"
   ]
  },
  {
   "cell_type": "code",
   "execution_count": 24,
   "metadata": {},
   "outputs": [
    {
     "name": "stdout",
     "output_type": "stream",
     "text": [
      "\n",
      "이름=김철수\n",
      "주민번호=123456790\n",
      "강의과목=['Python']\n",
      "월급=3000000\n"
     ]
    }
   ],
   "source": [
    "class Teacher(Person):\n",
    "    def __init__(self, name, number):\n",
    "        super().__init__(name, number)\n",
    "        self.courses = []\n",
    "        self.salary=3000000\n",
    "    def assignTeaching(self, course):\n",
    "        self.courses.append(course)\n",
    "    def __str__(self):\n",
    "        return f\"{super().__str__()}\\n강의과목={self.courses}\\n월급={self.salary}\"\n",
    "\n",
    "kim = Teacher(\"김철수\", \"123456790\")\n",
    "kim.assignTeaching(\"Python\")\n",
    "print(kim)"
   ]
  },
  {
   "cell_type": "markdown",
   "metadata": {},
   "source": [
    "# 제 13장 파이썬을 이용한 게임 작성"
   ]
  },
  {
   "cell_type": "markdown",
   "metadata": {},
   "source": [
    "## Sprite 클래스를 정의"
   ]
  },
  {
   "cell_type": "code",
   "execution_count": 25,
   "metadata": {},
   "outputs": [],
   "source": [
    "from tkinter import * \n",
    "\n",
    "class Sprite():\n",
    "    def __init__(self, canvas, item):\n",
    "        self.canvas = canvas # 캔버스 객체\n",
    "        self.item = item # 캔버스 안에 있는 도형의 식별 번호\n",
    "        self.speedx, self.speedy = 3, 3 # 방향 속도\n",
    "        self.x, self.y = 0, 0 # 현재 좌표\n",
    "        \n",
    "    # 도형의 위치와 크기를 반환한다. \n",
    "    def get_coords(self):\n",
    "        return self.canvas.coords(self.item)\n",
    "        \n",
    "    # 도형의 위치를 반환한다.\n",
    "    def get_position(self):\n",
    "        pos = self.canvas.coords(self.item)\n",
    "        x = pos[0]\n",
    "        y = pos[1]\n",
    "        return x, y\n",
    "        \n",
    "    # 객체의 상태를 변경한다. \n",
    "    def update(self):\n",
    "        self.x += self.speedx\n",
    "        self.y += self.speedy\n",
    "\n",
    "    # 객체를 움직인다. \n",
    "    def move(self):\n",
    "        self.canvas.move(self.item, self.speedx, self.speedy)\n",
    "\n",
    "    # 객체를 캔버스에서 삭제한다. \n",
    "    def delete(self):\n",
    "        self.canvas.delete(self.item)"
   ]
  },
  {
   "cell_type": "markdown",
   "metadata": {},
   "source": [
    "## Ball 클래스를 정의/충돌을 처리"
   ]
  },
  {
   "cell_type": "code",
   "execution_count": 26,
   "metadata": {},
   "outputs": [],
   "source": [
    "class Ball(Sprite):\n",
    "    def __init__(self, canvas, x, y, radius):\n",
    "        self.radius = radius\n",
    "        item = canvas.create_oval(x-self.radius, y-self.radius,\n",
    "                                  x+self.radius, y+self.radius,fill='red')\n",
    "        self.x = x\n",
    "        self.y = y\n",
    "        super().__init__(canvas, item)\n",
    "\n",
    "    def update(self):\n",
    "        x, y = self.get_position()\n",
    "        width = self.canvas.winfo_width()\n",
    "\n",
    "        # 벽에 부딪히면 방향을 변경한다. \n",
    "        if x <= 0 or x >= width:\n",
    "            self.speedx *= -1 # x 방향 변경\n",
    "        if y <= 0:\n",
    "            self.speedy *= -1 # y 방향 변경\n",
    "    \n",
    "    # 충돌을 처리하는 메소드\n",
    "    # Ball과 충돌이 일어난 객체들의 리스트가 매개변수로 전달된다. \n",
    "    def collide(self, obj_list):\n",
    "        x, y = self.get_position()\n",
    "        \n",
    "        # 공이 패들이나 벽돌에 맞으면 y방향을 반대로 한다. \n",
    "        if len(obj_list):\n",
    "            self.speedy *= -1\n",
    "        for obj in obj_list:\n",
    "            if isinstance(obj, Brick):\n",
    "                obj.handle_collision()"
   ]
  },
  {
   "cell_type": "markdown",
   "metadata": {},
   "source": [
    "## 패들을 화면에 그려보자."
   ]
  },
  {
   "cell_type": "code",
   "execution_count": 27,
   "metadata": {},
   "outputs": [],
   "source": [
    "class Paddle(Sprite):\n",
    "    def __init__(self, canvas, x, y):\n",
    "        self.width = 100 \n",
    "        self.height = 20\n",
    "        item = canvas.create_rectangle(x - self.width / 2, y - self.height / 2,\n",
    "                                       x + self.width / 2, y + self.height / 2,\n",
    "                                       fill='white')\n",
    "        super().__init__(canvas, item) # 부모 클래스 생성자 호출\n",
    "        self.x = x # 현재 위치 저장\n",
    "        self.y = y\n",
    "\n",
    "    # 패들을 dx, dy만큼 이동한다. 키보드 이벤트에서 호출된다. \n",
    "    def move(self, dx, dy):\n",
    "        self.x = self.x + dx\n",
    "        self.y = self.y + dy\n",
    "        self.canvas.move(self.item, dx, dy)"
   ]
  },
  {
   "cell_type": "markdown",
   "metadata": {},
   "source": [
    "## 벽돌을 화면에 그려보자."
   ]
  },
  {
   "cell_type": "code",
   "execution_count": 28,
   "metadata": {},
   "outputs": [],
   "source": [
    "class Brick(Sprite):\n",
    "    def __init__(self, canvas, x, y):\n",
    "        self.width = 52\n",
    "        self.height = 25\n",
    "        item = canvas.create_rectangle(x - self.width / 2, y - self.height / 2,\n",
    "                                       x + self.width / 2, y + self.height / 2,\n",
    "                                       fill='yellow', tags='brick')\n",
    "        super().__init__(canvas, item)\n",
    "\n",
    "    # 벽돌과 공이 충돌하면 벽돌을 삭제한다. \n",
    "    def handle_collision(self):\n",
    "        self.delete()"
   ]
  },
  {
   "cell_type": "markdown",
   "metadata": {},
   "source": [
    "## 화면을 작성해보자 / 여러 개의 벽돌을 생성하자. / 패들을 움직이자. /  충돌을 처리하자. "
   ]
  },
  {
   "cell_type": "code",
   "execution_count": 29,
   "metadata": {},
   "outputs": [],
   "source": [
    "class BrickBreaker(Frame): # help(Frame)\n",
    "    def __init__(self, root):\n",
    "        super().__init__(root)\n",
    "        self.width = 640\n",
    "        self.height = 480\n",
    "        self.canvas = Canvas(self, bg='blue',\n",
    "                             width=self.width,\n",
    "                             height=self.height)\n",
    "        self.canvas.pack()\n",
    "        self.pack()\n",
    "        \n",
    "        # shapes에는 화면에 있는 모든 객체가 저장된다. \n",
    "        # 키는 도형 식별 번호이고 값은 객체이다. \n",
    "        self.shapes = {}\n",
    "\n",
    "        # 패들 객체를 생성하고 shapes에 저장한다. \n",
    "        self.paddle = Paddle(self.canvas, self.width/2, 450)\n",
    "        self.shapes[self.paddle.item] = self.paddle\n",
    "\n",
    "        # Ball 객체를 생성한다. \n",
    "        self.ball = Ball(self.canvas, 310, 200, 10) # x, y, radius\n",
    "\n",
    "        # Brick 객체를 2차원 모양으로 생성한다. \n",
    "        for r in range(1, 4):\n",
    "            for c in range(1, 10):\n",
    "                brick = Brick(self.canvas, c*60, r*30)\n",
    "                # Brick 객체를 shapes에 저장한다. \n",
    "                self.shapes[brick.item] = brick\n",
    "        \n",
    "        # 캔버스가 키보드 이벤트를 받을 수 있도록 설정한다. \n",
    "        self.canvas.focus_set()\n",
    "\n",
    "        # 화살표키와 스페이스키에 이벤트를 붙인다.\n",
    "        self.canvas.bind('<Left>',\n",
    "            lambda _: self.paddle.move(-10, 0))\n",
    "        self.canvas.bind('<Right>',\n",
    "            lambda _: self.paddle.move(10, 0))\n",
    "        self.canvas.bind('<space>', lambda _: self.start())\n",
    "\n",
    "    def start(self):\n",
    "        self.game_loop()\n",
    "    \n",
    "    # 게임 루프를 작성한다. \n",
    "    def game_loop(self):\n",
    "        coords = self.ball.get_coords() # Ball 객체의 위치를 구한다. \n",
    "        # 겹치는 모든 도형을 찾는다. 식별 번호가 저장된다. \n",
    "        items = self.canvas.find_overlapping(*coords)\n",
    "        \n",
    "        # 겹치는 도형의 식별 번호로 객체를 찾아서 리스트에 저장한다. \n",
    "        objects = [self.shapes[x] for x in items if x in self.shapes]\n",
    "\n",
    "        # 충돌 처리 메소드를 호출한다. \n",
    "        self.ball.collide(objects)\n",
    "\n",
    "        self.ball.update()\n",
    "        self.ball.move()\n",
    "        # game_loop()를 50밀리초 후에 호출한다. \n",
    "        self.after(50, self.game_loop)"
   ]
  },
  {
   "cell_type": "code",
   "execution_count": 30,
   "metadata": {},
   "outputs": [],
   "source": [
    "window = Tk()\n",
    "game = BrickBreaker(window)\n",
    "window.mainloop()"
   ]
  },
  {
   "cell_type": "markdown",
   "metadata": {},
   "source": [
    "![게임](게임.png)"
   ]
  }
 ],
 "metadata": {
  "hide_input": false,
  "kernelspec": {
   "display_name": "Python 3",
   "language": "python",
   "name": "python3"
  },
  "language_info": {
   "codemirror_mode": {
    "name": "ipython",
    "version": 3
   },
   "file_extension": ".py",
   "mimetype": "text/x-python",
   "name": "python",
   "nbconvert_exporter": "python",
   "pygments_lexer": "ipython3",
   "version": "3.8.5"
  },
  "toc": {
   "base_numbering": 1,
   "nav_menu": {},
   "number_sections": true,
   "sideBar": true,
   "skip_h1_title": false,
   "title_cell": "Table of Contents",
   "title_sidebar": "Contents",
   "toc_cell": false,
   "toc_position": {},
   "toc_section_display": true,
   "toc_window_display": false
  },
  "varInspector": {
   "cols": {
    "lenName": 16,
    "lenType": 16,
    "lenVar": 40
   },
   "kernels_config": {
    "python": {
     "delete_cmd_postfix": "",
     "delete_cmd_prefix": "del ",
     "library": "var_list.py",
     "varRefreshCmd": "print(var_dic_list())"
    },
    "r": {
     "delete_cmd_postfix": ") ",
     "delete_cmd_prefix": "rm(",
     "library": "var_list.r",
     "varRefreshCmd": "cat(var_dic_list()) "
    }
   },
   "types_to_exclude": [
    "module",
    "function",
    "builtin_function_or_method",
    "instance",
    "_Feature"
   ],
   "window_display": false
  }
 },
 "nbformat": 4,
 "nbformat_minor": 4
}
