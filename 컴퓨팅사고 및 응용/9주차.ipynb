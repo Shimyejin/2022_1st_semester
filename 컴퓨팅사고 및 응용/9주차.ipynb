{
 "cells": [
  {
   "cell_type": "markdown",
   "metadata": {},
   "source": [
    "# 실습"
   ]
  },
  {
   "cell_type": "markdown",
   "metadata": {},
   "source": [
    "## 9.05"
   ]
  },
  {
   "cell_type": "code",
   "execution_count": 1,
   "metadata": {},
   "outputs": [],
   "source": [
    "import tkinter as tk\n",
    "\n",
    "def increase():\n",
    "    value = int(lbl_value[\"text\"])\n",
    "    lbl_value[\"text\"] = f\"{value + 1}\"\n",
    "\n",
    "\n",
    "def decrease():\n",
    "    value = int(lbl_value[\"text\"])\n",
    "    lbl_value[\"text\"] = f\"{value - 1}\"\n",
    "\n",
    "window = tk.Tk()\n",
    "#window.geometry('300x40')\n",
    "\n",
    "btn_decrease = tk.Button(master=window, width=10, text=\"감소\", command=decrease)\n",
    "btn_decrease.grid(row=0, column=0, sticky=\"nsew\")\n",
    "\n",
    "lbl_value = tk.Label(master=window, width=10, text=\"0\")\n",
    "lbl_value.grid(row=0, column=1)\n",
    "\n",
    "btn_increase = tk.Button(master=window, width=10, text=\"증가\", command=increase)\n",
    "btn_increase.grid(row=0, column=2, sticky=\"nsew\")\n",
    "\n",
    "window.mainloop()"
   ]
  },
  {
   "cell_type": "markdown",
   "metadata": {},
   "source": [
    "![정규식](9.05.png)"
   ]
  },
  {
   "cell_type": "markdown",
   "metadata": {},
   "source": [
    "## 9.08"
   ]
  },
  {
   "cell_type": "code",
   "execution_count": 1,
   "metadata": {},
   "outputs": [
    {
     "name": "stdout",
     "output_type": "stream",
     "text": [
      "아이디: ss 패스워드: as\n"
     ]
    }
   ],
   "source": [
    "from tkinter import *\n",
    "\n",
    "def print_fields():\n",
    "   print(\"아이디:\", e1.get(), \"패스워드:\", e2.get())\n",
    "\n",
    "window = Tk()\n",
    "Label(window, text=\"아이디\").grid(row=0)\n",
    "Label(window, text=\"패스워드\").grid(row=1)\n",
    "\n",
    "e1 = Entry(window)\n",
    "e2 = Entry(window)\n",
    "\n",
    "e1.grid(row=0, column=1)\n",
    "e2.grid(row=1, column=1)\n",
    "\n",
    "Button(window, text='로그인', command=print_fields).grid(row=2, column=0, sticky=W, pady=4)\n",
    "Button(window, text='취소 ', command=window.quit).grid(row=2, column=1, sticky=W, pady=4)\n",
    "\n",
    "window.mainloop()"
   ]
  },
  {
   "cell_type": "code",
   "execution_count": 8,
   "metadata": {},
   "outputs": [
    {
     "name": "stdout",
     "output_type": "stream",
     "text": [
      "취소되었습니다\n"
     ]
    }
   ],
   "source": [
    "from tkinter import *\n",
    "\n",
    "def process():\n",
    "    print('로그인 되었습니다')\n",
    "    \n",
    "def cancel():\n",
    "    print('취소되었습니다')\n",
    "\n",
    "window  = Tk()\n",
    "Label(window , text=\" 아이디\").grid(row=0, column=0)\n",
    "Label(window, text=\"패스워드\").grid(row=1, column=0)\n",
    "\n",
    "e1 = Entry(window)\n",
    "e2 = Entry(window)\n",
    "e1.grid(row=0, column=1)\n",
    "e2.grid(row=1, column=1)\n",
    "\n",
    "Button(window, text=\"로그인\", command=process).grid(row=2, column=0)\n",
    "Button(window, text=\"취소\", command=cancel).grid(row=2, column=1)\n",
    "window.mainloop()"
   ]
  },
  {
   "cell_type": "markdown",
   "metadata": {},
   "source": [
    "![정규식](9.08.png)"
   ]
  },
  {
   "cell_type": "markdown",
   "metadata": {},
   "source": [
    "## 9.10"
   ]
  },
  {
   "cell_type": "code",
   "execution_count": null,
   "metadata": {},
   "outputs": [],
   "source": [
    "from tkinter import * \n",
    "\n",
    "size = 100\n",
    "def incRect(event):\n",
    "    global size\n",
    "    canvas.delete(ALL)\n",
    "    size = size + 10\n",
    "    canvas.create_rectangle(100, 100, 100+size, 100+size)\n",
    "\n",
    "def decRect(event):\n",
    "    global size\n",
    "    canvas.delete(ALL)\n",
    "    size = size - 10\n",
    "    canvas.create_rectangle(100, 100, 100+size, 100+size)\n",
    "\n",
    "window = Tk() \n",
    "canvas = Canvas(window, bg = \"white\", width = 400, height = 300)\n",
    "canvas.pack()\n",
    "canvas.create_rectangle(100, 100, 100+size, 100+size)\n",
    "\n",
    "canvas.bind(\"<Button-1>\", incRect)\n",
    "canvas.bind(\"<Button-3>\", decRect)\n",
    "\n",
    "window.mainloop() "
   ]
  },
  {
   "cell_type": "code",
   "execution_count": 9,
   "metadata": {},
   "outputs": [],
   "source": [
    "from tkinter import *\n",
    "window = Tk()\n",
    "\n",
    "w = Canvas(window, width=300, height=200)\n",
    "w.pack()\n",
    "a = 100\n",
    "b = 200\n",
    "i= w.create_rectangle(50, 25, a, b, fill=\"blue\")\n",
    "\n",
    "def leftmouse(event):\n",
    "    global a\n",
    "    global b\n",
    "    global w\n",
    "    a += 50\n",
    "    b += 50\n",
    "    w.delete(ALL)\n",
    "    w.create_rectangle(50,25,a,b,fill='blue')\n",
    "    \n",
    "def rightmouse(event):\n",
    "    global a\n",
    "    global b\n",
    "    global w\n",
    "    a -= 50\n",
    "    b -= 50\n",
    "    w.delete(ALL)\n",
    "    w.create_rectangle(50, 25, a, b,fill='blue')\n",
    "\n",
    "w.bind(\"<Button-1>\", leftmouse)\n",
    "w.bind(\"<Button-3>\", rightmouse)\n",
    "\n",
    "window.mainloop()"
   ]
  },
  {
   "cell_type": "markdown",
   "metadata": {},
   "source": [
    "![정규식](9.10.png)"
   ]
  },
  {
   "cell_type": "markdown",
   "metadata": {},
   "source": [
    "## 9.13"
   ]
  },
  {
   "cell_type": "code",
   "execution_count": 10,
   "metadata": {},
   "outputs": [],
   "source": [
    "from tkinter import * \n",
    "\n",
    "def left(event):\n",
    "    canvas.move(id, -5, 0)\n",
    "\n",
    "def right(event):\n",
    "    canvas.move(id, 5, 0)\n",
    "\n",
    "def down(event):\n",
    "    canvas.move(id, 0, 5)\n",
    "\n",
    "def up(event):\n",
    "    canvas.move(id, 0, -5)\n",
    "\n",
    "window = Tk() \n",
    "frame = Frame(window, width=500, height=300)\n",
    "frame.bind('<Left>', left)\n",
    "frame.bind('<Right>', right)\n",
    "frame.bind('<Up>', up)\n",
    "frame.bind('<Down>', down)\n",
    "frame.focus_set()\n",
    "frame.pack()\n",
    "\n",
    "canvas = Canvas(frame, bg = \"white\", width = 500, height = 300)\n",
    "canvas.grid(row=0, column=0, columnspan=4)\n",
    "id = canvas.create_rectangle(100, 100, 200, 200, fill = \"blue\")\n",
    "\n",
    "window.mainloop()"
   ]
  },
  {
   "cell_type": "markdown",
   "metadata": {},
   "source": [
    "![정규식](9.13.png)"
   ]
  },
  {
   "cell_type": "markdown",
   "metadata": {},
   "source": [
    "## 9.14"
   ]
  },
  {
   "cell_type": "code",
   "execution_count": null,
   "metadata": {},
   "outputs": [],
   "source": [
    "import random\n",
    "from tkinter import *\n",
    "\n",
    "window = Tk()\n",
    "canvas = Canvas(window, width=500, height=400)\n",
    "canvas.pack()\n",
    "color = [\"red\", \"orange\", \"yellow\", \"green\", \"blue\", \"violet\"]\n",
    "\n",
    "def draw_rect():\n",
    "    x = random.randint(0, 499)   # 0~499\n",
    "    y = random.randint(0, 399)\n",
    "    w = random.randrange(100)    # 0~99\n",
    "    h = random.randrange(100)   \n",
    "    canvas.create_rectangle(x, y, x+w, y+h, fill = random.choice(color))\n",
    "\n",
    "for i in range(10):\n",
    "    draw_rect()\n",
    "    \n",
    "window.mainloop()"
   ]
  },
  {
   "cell_type": "code",
   "execution_count": 31,
   "metadata": {},
   "outputs": [],
   "source": [
    "from tkinter import *\n",
    "import random\n",
    "\n",
    "window = Tk()\n",
    "\n",
    "w = Canvas(window, width=300, height=300)\n",
    "colors = [\"red\", \"orange\", \"yellow\", \"green\", \"blue\", \"indigo\", \"violet\"]\n",
    "\n",
    "for i in range(10):\n",
    "    a = random.randint(100,300)\n",
    "    b = random.randint(100,300)\n",
    "    c = random.randint(100,300)\n",
    "    d = random.randint(100,300)\n",
    "    w.create_rectangle(a, b, c, d, fill = random.choice(colors))\n",
    "\n",
    "w.pack()\n",
    "w.update()\n",
    "\n",
    "window.mainloop()"
   ]
  },
  {
   "cell_type": "markdown",
   "metadata": {},
   "source": [
    "![정규식](9.14.png)"
   ]
  },
  {
   "cell_type": "markdown",
   "metadata": {},
   "source": [
    "# 제 10장 파일과 예외처리"
   ]
  },
  {
   "cell_type": "markdown",
   "metadata": {},
   "source": [
    "\"r\" : 읽기 모드  \n",
    "\"w\" : 쓰기 모드  \n",
    "\"a\" : 추가 모드  \n",
    "\"r+\" : 읽기와 쓰기 모드"
   ]
  },
  {
   "cell_type": "code",
   "execution_count": 1,
   "metadata": {},
   "outputs": [
    {
     "name": "stdout",
     "output_type": "stream",
     "text": [
      "홍길동\n",
      "\n",
      "김철수\n"
     ]
    }
   ],
   "source": [
    "infile = open(\"C:\\\\Users\\\\User\\\\Desktop\\\\컴퓨팅사고와 응용\\\\9주차 과제\\\\input.txt\", \"r\")\n",
    "line = infile.readline()\n",
    "while line != \"\" :\n",
    "    print(line)\n",
    "    line = infile.readline()\n",
    "    \n",
    "#infile.close()"
   ]
  },
  {
   "cell_type": "code",
   "execution_count": 2,
   "metadata": {},
   "outputs": [
    {
     "name": "stdout",
     "output_type": "stream",
     "text": [
      "홍길동\n",
      "김철수\n"
     ]
    }
   ],
   "source": [
    "infile = open(\"C:\\\\Users\\\\User\\\\Desktop\\\\컴퓨팅사고와 응용\\\\9주차 과제\\\\input.txt\", \"r\")\n",
    "line = infile.readline().rstrip()\n",
    "while line != \"\" :\n",
    "    print(line)\n",
    "    line = infile.readline().rstrip()"
   ]
  },
  {
   "cell_type": "code",
   "execution_count": 3,
   "metadata": {},
   "outputs": [
    {
     "data": {
      "text/plain": [
       "4"
      ]
     },
     "execution_count": 3,
     "metadata": {},
     "output_type": "execute_result"
    }
   ],
   "source": [
    "outfile = open(\"C:\\\\Users\\\\User\\\\Desktop\\\\컴퓨팅사고와 응용\\\\9주차 과제\\\\output.txt\", \"w\")\n",
    "outfile.write(\"김영희\\n\")"
   ]
  },
  {
   "cell_type": "markdown",
   "metadata": {},
   "source": [
    "## 파일 닫기"
   ]
  },
  {
   "cell_type": "code",
   "execution_count": 4,
   "metadata": {},
   "outputs": [],
   "source": [
    "f = open(\"test.txt\", \"w\") # 파일을 연다.\n",
    "# 여기서 여러 가지 작업을 한다.\n",
    "f.close() # 파일을 닫는다.\n",
    "\n",
    "try: # 예외가 발생할 가능성이 있는 작업들을 여기에 둔다.\n",
    "    f = open(\"test.txt\", \"w\")\n",
    "    # 여기서 여러 가지 작업을 한다.\n",
    "finally: # 예외가 발생하더라도 반드시 실행된다.\n",
    "    f.close()\n",
    "\n",
    "with open(\"test.txt\", \"w\") as f:\n",
    "    f.write(\"김영희\\n\")\n",
    "    f.write(\"최자영\\n\")\n",
    "# 블록을 빠져나오면 자동으로 파일이 닫쳐진다."
   ]
  },
  {
   "cell_type": "markdown",
   "metadata": {},
   "source": [
    "## Lab: 매출 파일 처리"
   ]
  },
  {
   "cell_type": "code",
   "execution_count": 5,
   "metadata": {},
   "outputs": [
    {
     "name": "stdout",
     "output_type": "stream",
     "text": [
      "입력 파일 이름: sales.txt\n",
      "출력 파일 이름: summary.txt\n"
     ]
    }
   ],
   "source": [
    "infilename = input(\"입력 파일 이름: \")\n",
    "outfilename = input(\"출력 파일 이름: \")\n",
    "\n",
    "infile = open(infilename, \"r\")\n",
    "outfile = open(outfilename, \"w\")\n",
    "\n",
    "sum = 0\n",
    "count = 0\n",
    "\n",
    "line = infile.readline()\n",
    "while line != \"\" :\n",
    "    s = int(line)\n",
    "    sum += s\n",
    "    count += 1\n",
    "    line = infile.readline()\n",
    "    \n",
    "outfile.write(\"총매출 = \"+ str(sum)+\"\\n\")\n",
    "outfile.write(\"평균 일매출 = \"+ str(sum/count))\n",
    "\n",
    "infile.close()\n",
    "outfile.close() "
   ]
  },
  {
   "cell_type": "markdown",
   "metadata": {},
   "source": [
    "## 다양한 텍스트 입출력 방법"
   ]
  },
  {
   "cell_type": "code",
   "execution_count": 6,
   "metadata": {},
   "outputs": [
    {
     "name": "stdout",
     "output_type": "stream",
     "text": [
      "Hello, World!\n",
      "this is example\n",
      "this is example#####\n",
      "########this is example\n"
     ]
    }
   ],
   "source": [
    "s = \" Hello, World!\\n\"\n",
    "print(s.strip())\n",
    "\n",
    "s = \"########this is example#####\"\n",
    "print(s.strip('#'))\n",
    "\n",
    "s = \"########this is example#####\"\n",
    "print(s.lstrip('#'))\n",
    "\n",
    "print(s.rstrip('#'))"
   ]
  },
  {
   "cell_type": "markdown",
   "metadata": {},
   "source": [
    "## 단어로 분리하기"
   ]
  },
  {
   "cell_type": "code",
   "execution_count": 7,
   "metadata": {},
   "outputs": [
    {
     "name": "stdout",
     "output_type": "stream",
     "text": [
      "alsdfije\n",
      "askdjfiejslajlidjflkejialdf\n"
     ]
    }
   ],
   "source": [
    "infile = open(\"proverbs.txt\", \"r\")\n",
    "for line in infile:\n",
    "    line = line.rstrip() # 오른쪽 공백 문자를 없앤다.\n",
    "    word_list = line.split() # 단어들로 분리한다.\n",
    "    for word in word_list: # 리스트에 들어 있는 단어들을 출력한다.\n",
    "        print(word);\n",
    "\n",
    "infile.close() "
   ]
  },
  {
   "cell_type": "markdown",
   "metadata": {},
   "source": [
    "## 파일 전체 읽기"
   ]
  },
  {
   "cell_type": "code",
   "execution_count": 8,
   "metadata": {},
   "outputs": [
    {
     "name": "stdout",
     "output_type": "stream",
     "text": [
      "홍길동\n",
      "김철수\n"
     ]
    }
   ],
   "source": [
    "infile = open(\"input.txt\", \"r\")\n",
    "s = infile.read()\n",
    "print(s)\n",
    "infile.close()"
   ]
  },
  {
   "cell_type": "code",
   "execution_count": 9,
   "metadata": {},
   "outputs": [
    {
     "name": "stdout",
     "output_type": "stream",
     "text": [
      "홍길동\n",
      "\n",
      "김철수\n"
     ]
    }
   ],
   "source": [
    "infile = open(\"input.txt\", \"r\")\n",
    "lines = infile.readlines()\n",
    "for line in lines :\n",
    "    print(line)\n",
    "infile.close()"
   ]
  },
  {
   "cell_type": "code",
   "execution_count": 10,
   "metadata": {},
   "outputs": [
    {
     "name": "stdout",
     "output_type": "stream",
     "text": [
      "홍길동\n",
      "\n",
      "김철수\n"
     ]
    }
   ],
   "source": [
    "infile = open(\"input.txt\", \"r\")\n",
    "for line in infile:\n",
    "    print(line)\n",
    "infile.close()"
   ]
  },
  {
   "cell_type": "markdown",
   "metadata": {},
   "source": [
    "##  문자 단위로 읽기"
   ]
  },
  {
   "cell_type": "code",
   "execution_count": 11,
   "metadata": {},
   "outputs": [
    {
     "name": "stdout",
     "output_type": "stream",
     "text": [
      "홍\n",
      "길\n",
      "동\n",
      "\n",
      "\n",
      "김\n",
      "철\n",
      "수\n"
     ]
    }
   ],
   "source": [
    "infile = open(\"input.txt\", \"r\")\n",
    "ch = infile.read(1)\n",
    "while ch != \"\" :\n",
    "    print(ch)\n",
    "    ch = infile.read(1)\n",
    "infile.close()"
   ]
  },
  {
   "cell_type": "markdown",
   "metadata": {},
   "source": [
    "## 문자 출현 횟수 계산"
   ]
  },
  {
   "cell_type": "code",
   "execution_count": 12,
   "metadata": {},
   "outputs": [
    {
     "name": "stdout",
     "output_type": "stream",
     "text": [
      "[40032, 8485, 11806, 19279, 59646, 10687, 10708, 31750, 34034, 596, 4195, 21690, 12336, 33754, 35898, 8962, 915, 26653, 32531, 44879, 13730, 4512, 11322, 665, 8810, 270]\n"
     ]
    }
   ],
   "source": [
    "counter = [0] *26\n",
    "infile = open(\"mobydick.txt\", \"r\")\n",
    "ch = infile.read(1)\n",
    "while ch != \"\" :\n",
    "    ch = ch.upper() # 대문자->소문자\n",
    "    if ch >= \"A\" and ch <= \"Z\" :\n",
    "        i = ord(ch) - ord(\"A\")\n",
    "        counter[i] += 1\n",
    "    ch = infile.read(1)\n",
    "print(counter)"
   ]
  },
  {
   "cell_type": "markdown",
   "metadata": {},
   "source": [
    "문자 인코딩  \n",
    "infile = open(\"input.txt\", \"r\", encoding=\"utf-8\")"
   ]
  },
  {
   "cell_type": "markdown",
   "metadata": {},
   "source": [
    "## Lab: 행맨"
   ]
  },
  {
   "cell_type": "code",
   "execution_count": 13,
   "metadata": {
    "scrolled": true
   },
   "outputs": [
    {
     "name": "stdout",
     "output_type": "stream",
     "text": [
      "_____\n",
      "단어를 추측하시오: h\n",
      "h____\n",
      "단어를 추측하시오: e\n",
      "he___\n",
      "단어를 추측하시오: l\n",
      "hell_\n",
      "단어를 추측하시오: l\n",
      "hell_\n",
      "단어를 추측하시오: o\n",
      "hello사용자 승리\n"
     ]
    }
   ],
   "source": [
    "import random\n",
    "\n",
    "guesses = \"\"\n",
    "turns = 10\n",
    "\n",
    "infile = open(\"words.txt\", \"r\")\n",
    "lines = infile.readlines()\n",
    "#word = random.choice(lines)\n",
    "word = \"hello\" # test용\n",
    "while turns > 0:\n",
    "    failed = 0\n",
    "    for char in word:\n",
    "        if char in guesses:\n",
    "            print(char, end=\"\")\n",
    "        else:\n",
    "            print(\"_\", end=\"\")\n",
    "            failed += 1\n",
    "    if failed == 0:\n",
    "        print(\"사용자 승리\")\n",
    "        break \n",
    "    \n",
    "    print(\"\")\n",
    "    guess = input(\"단어를 추측하시오: \")\n",
    "    guesses += guess\n",
    "    if guess not in word:\n",
    "        turns -= 1\n",
    "        print (\"틀렸음!\")\n",
    "        print (str(turns)+ \"기회가 남았음!\")\n",
    "        if turns == 0:\n",
    "            print(\"사용자 패배 정답은 \"+word)\n",
    "            \n",
    "infile.close()"
   ]
  },
  {
   "cell_type": "markdown",
   "metadata": {},
   "source": [
    "## Lab: 각 문자 횟수 세기"
   ]
  },
  {
   "cell_type": "code",
   "execution_count": 14,
   "metadata": {},
   "outputs": [
    {
     "name": "stdout",
     "output_type": "stream",
     "text": [
      "파일명을 입력하세요: sales.txt\n",
      "{'1': 4, '0': 28, '5': 2}\n"
     ]
    }
   ],
   "source": [
    "filename = input(\"파일명을 입력하세요: \").strip()\n",
    "infile = open(filename, \"r\") # 파일을 연다.\n",
    "\n",
    "freqs = {} #dictionary 초기화\n",
    "# 파일의 각 줄에 대하여 문자를 추출한다. 각 문자를 사전에 추가한다.\n",
    "for line in infile:\n",
    "    for char in line.strip(): # 양쪽 끝의 공백 문자를 제거한다.\n",
    "        if char in freqs: # 문자열 안의 각 문자에 대하여\n",
    "            freqs[char] += 1 # 딕셔너리의 횟수를 증가한다.\n",
    "        else: # 처음 나온 문자이면\n",
    "            freqs[char] = 1 # 딕셔너리의 횟수를 1로 초기화한다.\n",
    "\n",
    "print(freqs)\n",
    "infile.close()"
   ]
  },
  {
   "cell_type": "markdown",
   "metadata": {},
   "source": [
    "## Lab: CSV 파일 처리"
   ]
  },
  {
   "cell_type": "code",
   "execution_count": 15,
   "metadata": {},
   "outputs": [
    {
     "name": "stdout",
     "output_type": "stream",
     "text": [
      "가장 추웠던 날은 -19.2 입니다\n"
     ]
    }
   ],
   "source": [
    "import csv\n",
    "\n",
    "f = open('weather.csv') # CSV 파일을 열어서 f에 저장한다.\n",
    "data = csv.reader(f)\n",
    "header = next(data)\n",
    "temp = 1000\n",
    "for row in data:\n",
    "    if temp > float(row[3]):\n",
    "        temp = float(row[3])\n",
    "print('가장 추웠던 날은', temp, '입니다')\n",
    "f.close()"
   ]
  },
  {
   "cell_type": "markdown",
   "metadata": {},
   "source": [
    "## Lab: 파일 암호화"
   ]
  },
  {
   "cell_type": "code",
   "execution_count": 16,
   "metadata": {},
   "outputs": [
    {
     "name": "stdout",
     "output_type": "stream",
     "text": [
      "평문:  The language of truth is simple.\n",
      "암호문:  wkh odqjxdjh ri wuxwk lv vlpsoh.\n",
      "복호문:  the language of truth is simple.\n"
     ]
    }
   ],
   "source": [
    "key = 'abcdefghijklmnopqrstuvwxyz'\n",
    "\n",
    "# 평문을 받아서 암호화하고 암호문을 반환한다.\n",
    "def encrypt(n, plaintext):\n",
    "    result = ''\n",
    "    \n",
    "    for l in plaintext.lower():\n",
    "        try:\n",
    "            i = (key.index(l) + n) % 26\n",
    "            result += key[i]\n",
    "        except ValueError:\n",
    "            result += l\n",
    "    \n",
    "    return result.lower()\n",
    "\n",
    "# 암호문을 받아서 복호화하고 평문을 반환한다.\n",
    "def decrypt(n, ciphertext):\n",
    "    result = ''\n",
    "    \n",
    "    for l in ciphertext:\n",
    "        try:\n",
    "            i = (key.index(l) - n) % 26\n",
    "            result += key[i]\n",
    "        except ValueError:\n",
    "            result += l\n",
    "    return result\n",
    "\n",
    "n = 3\n",
    "text = 'The language of truth is simple.'\n",
    "encrypted = encrypt(n, text)\n",
    "decrypted = decrypt(n, encrypted)\n",
    "print ('평문: ' , text)\n",
    "print ('암호문: ', encrypted)\n",
    "print ('복호문: ' , decrypted)"
   ]
  },
  {
   "cell_type": "markdown",
   "metadata": {},
   "source": [
    "## 확장자가 “.jpg\"인 파일 이름을 출력하는 프로그램"
   ]
  },
  {
   "cell_type": "markdown",
   "metadata": {},
   "source": [
    "os.getcwd(): 작업 디렉토리를 얻는다  \n",
    "os.chdir(subdir): 작업 디렉토리를 변경할 수 있다.  \n",
    "os.listdir(): 파일등의 리스트를 얻는다  \n",
    "os.path.isfile(name): 파일인지 확인  "
   ]
  },
  {
   "cell_type": "code",
   "execution_count": 17,
   "metadata": {},
   "outputs": [
    {
     "name": "stdout",
     "output_type": "stream",
     "text": [
      "news-full-108029.jpg\n"
     ]
    }
   ],
   "source": [
    "import os\n",
    "\n",
    "cwd = os.getcwd()\n",
    "files = os.listdir()\n",
    "for name in files :\n",
    "    if os.path.isfile(name) :\n",
    "        if name.endswith(\".jpg\") :\n",
    "            print(name)"
   ]
  },
  {
   "cell_type": "markdown",
   "metadata": {},
   "source": [
    "## 이진 파일에서 읽기/쓰기"
   ]
  },
  {
   "cell_type": "code",
   "execution_count": 18,
   "metadata": {},
   "outputs": [
    {
     "name": "stdout",
     "output_type": "stream",
     "text": [
      "<class 'str'>\n",
      "<class 'bytes'>\n"
     ]
    }
   ],
   "source": [
    "infile = open(\"input.txt\", \"r\")\n",
    "x = infile.read(4)\n",
    "print(type(x)) # <class 'str'>\n",
    "infile.close()\n",
    "\n",
    "infile = open(\"input.txt\", \"rb\")\n",
    "x = infile.read(4)\n",
    "print(type(x)) # <class 'bytes'>\n",
    "infile.close()\n",
    "\n",
    "# 이진 파일에 바이트들을 저장하려면 다음과 같이 한다.\n",
    "outfile = open(filename, \"wb\")\n",
    "bytesArray = bytes([255, 128, 0, 1])\n",
    "outfile.write(bytesArray)\n",
    "outfile.close()"
   ]
  },
  {
   "cell_type": "markdown",
   "metadata": {},
   "source": [
    "## 임의접근의 원리 seek()"
   ]
  },
  {
   "cell_type": "code",
   "execution_count": 19,
   "metadata": {},
   "outputs": [
    {
     "name": "stdout",
     "output_type": "stream",
     "text": [
      "읽은 문자열 :  김영희\n",
      "최자영\n",
      "\n",
      "현재 위치:  16\n",
      "읽은 문자열 :  영희\n",
      "최자영\n",
      "\n"
     ]
    }
   ],
   "source": [
    "infile = open(\"test.txt\", \"r+\")\n",
    "str = infile.read(10);\n",
    "print(\"읽은 문자열 : \", str)\n",
    "position = infile.tell();\n",
    "print(\"현재 위치: \", position)\n",
    "\n",
    "position = infile.seek(2, 0);\n",
    "str = infile.read(10);\n",
    "print(\"읽은 문자열 : \", str)\n",
    "infile.close()"
   ]
  },
  {
   "cell_type": "markdown",
   "metadata": {},
   "source": [
    "## Lab: 이미지 파일 복사하기"
   ]
  },
  {
   "cell_type": "code",
   "execution_count": 20,
   "metadata": {},
   "outputs": [],
   "source": [
    "infile = open(\"123.png\", \"rb\")\n",
    "outfile = open(\"kkk.png\", \"wb\")\n",
    "# 입력 파일에서 1024 바이트씩 읽어서 출력 파일에 쓴다.\n",
    "while True:\n",
    "    copy_buffer = infile.read(1024)\n",
    "    if not copy_buffer:\n",
    "        break\n",
    "    outfile.write(copy_buffer)\n",
    "    \n",
    "infile.close()\n",
    "outfile.close()\n",
    "#print(filename1+\"를 \" +filename2+\"로 복사하였습니다. \")"
   ]
  },
  {
   "cell_type": "markdown",
   "metadata": {},
   "source": [
    "## 객체 입출력 pickle()"
   ]
  },
  {
   "cell_type": "code",
   "execution_count": 14,
   "metadata": {},
   "outputs": [],
   "source": [
    "import pickle\n",
    "gameOption = {\n",
    "    \"Sound\": 8,\n",
    "    \"VideoQuality\": \"HIGH\",\n",
    "    \"Money\": 100000,\n",
    "    \"WeaponList\": [\"gun\", \"missile\", \"knife\" ]\n",
    "}\n",
    "\n",
    "file = open(\"d:\\\\save.p\", \"wb\") # 이진 파일 오픈\n",
    "pickle.dump( gameOption, file ) # 딕셔너리를 피클 파일에 저장\n",
    "file.close()"
   ]
  },
  {
   "cell_type": "code",
   "execution_count": 15,
   "metadata": {},
   "outputs": [
    {
     "name": "stdout",
     "output_type": "stream",
     "text": [
      "{'Sound': 8, 'VideoQuality': 'HIGH', 'Money': 100000, 'WeaponList': ['gun', 'missile', 'knife']}\n"
     ]
    }
   ],
   "source": [
    "import pickle\n",
    "file = open(\"save.p\", \"rb\") # 이진 파일 오픈\n",
    "obj = pickle.load(open( \"save.p\", \"rb\" )) # 피클 파일에 딕션너리를 로딩\n",
    "print(obj)\n",
    "file.close()"
   ]
  },
  {
   "cell_type": "markdown",
   "metadata": {},
   "source": [
    "## 정규식"
   ]
  },
  {
   "cell_type": "markdown",
   "metadata": {},
   "source": [
    "![정규식](정규식.png)"
   ]
  },
  {
   "cell_type": "code",
   "execution_count": 19,
   "metadata": {
    "scrolled": true
   },
   "outputs": [
    {
     "name": "stdout",
     "output_type": "stream",
     "text": [
      "We the People of the United States, in Order to form a more perfect Union, establish Justice, insure domestic Tranquility, provide for the common defence, promote the general Welfare, and secure the Blessings of Liberty to ourselves and our Posterity, do ordain and establish this Constitution for the United States of America.\n",
      "Article I\n",
      "Section 1: Congress\n",
      "All legislative Powers herein granted shall be vested in a Congress of the United States, which shall consist of a Senate and House of Representatives.\n",
      "Section 2: The House of Representatives\n",
      "The House of Representatives shall be composed of Members chosen every second Year by the People of the several States, and the Electors in each State shall have the Qualifications requisite for Electors of the most numerous Branch of the State Legislature.\n",
      "No Person shall be a Representative who shall not have attained to the Age of twenty five Years, and been seven Years a Citizen of the United States, and who shall not, when elected, be an Inhabitant of that State in which he shall be chosen.\n",
      "Representatives and direct Taxes shall be apportioned among the several States which may be included within this Union, according to their respective Numbers, which shall be determined by adding to the whole Number of free Persons, including those bound to Service for a Term of Years, and excluding Indians not taxed, three fifths of all other Persons. The actual Enumeration shall be made within three Years after the first Meeting of the Congress of the United States, and within every subsequent Term of ten Years, in such Manner as they shall by Law direct.The number of Representatives shall not exceed one for every thirty Thousand, but each State shall have at Least one Representative; and until such enumeration shall be made, the State of New Hampshire shall be entitled to chuse three, Massachusetts eight, Rhode-Island and Providence Plantations one, Connecticut five, New-York six, New Jersey four, Pennsylvania eight, Delaware one, Maryland six, Virginia ten, North Carolina five, South Carolina five, and Georgia three.\n",
      "When vacancies happen in the Representation from any State, the Executive Authority thereof shall issue Writs of Election to fill such Vacancies.\n",
      "The House of Representatives shall chuse their Speaker and other Officers;and shall have the sole Power of Impeachment.\n",
      "Section 3: The Senate\n",
      "The Senate of the United States shall be composed of two Senators from each State, chosen by the Legislature thereof, for six Years; and each Senator shall have one Vote.\n",
      "Immediately after they shall be assembled in Consequence of the first Election, they shall be divided as equally as may be into three Classes. The Seats of the Senators of the first Class shall be vacated at the Expiration of the second Year, of the second Class at the Expiration of the fourth Year, and of the third Class at the Expiration of the sixth Year, so that one third may be chosen every second Year; and if Vacancies happen by Resignation, or otherwise, during the Recess of the Legislature of any State, the Executive thereof may make temporary Appointments until the next Meeting of the Legislature, which shall then fill such Vacancies.\n",
      "No Person shall be a Senator who shall not have attained to the Age of thirty Years, and been nine Years a Citizen of the United States, and who shall not, when elected, be an Inhabitant of that State for which he shall be chosen.\n",
      "The Vice President of the United States shall be President of the Senate, but shall have no Vote, unless they be equally divided.\n",
      "The Senate shall chuse their other Officers, and also a President pro tempore, in the Absence of the Vice President, or when he shall exercise the Office of President of the United States.\n",
      "The Senate shall have the sole Power to try all Impeachments. When sitting for that Purpose, they shall be on Oath or Affirmation. When the President of the United States is tried, the Chief Justice shall preside: And no Person shall be convicted without the Concurrence of two thirds of the Members present.\n",
      "Judgment in Cases of Impeachment shall not extend further than to removal from Office, and disqualification to hold and enjoy any Office of honor, Trust or Profit under the United States: but the Party convicted shall nevertheless be liable and subject to Indictment, Trial, Judgment and Punishment, according to Law.\n",
      "Section 4: Elections\n",
      "The Times, Places and Manner of holding Elections for Senators and Representatives, shall be prescribed in each State by the Legislature thereof; but the Congress may at any time by Law make or alter such Regulations, except as to the Places of chusing Senators.\n",
      "The Congress shall assemble at least once in every Year, and such Meeting shall be on the first Monday in December, unless they shall by Law appoint a different Day.\n",
      "Section 5: Powers and Duties of Congress\n",
      "Each House shall be the Judge of the Elections, Returns and Qualifications of its own Members,and a Majority of each shall constitute a Quorum to do Business; but a smaller Number may adjourn from day to day, and may be authorized to compel the Attendance of absent Members, in such Manner, and under such Penalties as each House may provide.\n",
      "Each House may determine the Rules of its Proceedings, punish its Members for disorderly Behaviour, and, with the Concurrence of two thirds, expel a Member.\n",
      "Each House shall keep a Journal of its Proceedings, and from time to time publish the same, excepting such Parts as may in their Judgment require Secrecy; and the Yeas and Nays of the Members of either House on any question shall, at the Desire of one fifth of those Present, be entered on the Journal.\n",
      "Neither House, during the Session of Congress, shall, without the Consent of the other, adjourn for more than three days, nor to any other Place than that in which the two Houses shall be sitting.\n",
      "Section 6: Rights and Disabilities of Members\n",
      "The Senators and Representatives shall receive a Compensation for their Services, to be ascertained by Law, and paid out of the Treasury of the United States.They shall in all Cases, except Treason, Felony and Breach of the Peace, be privileged from Arrest during their Attendance at the Session of their respective Houses, and in going to and returning from the same; and for any Speech or Debate in either House, they shall not be questioned in any other Place.\n",
      "No Senator or Representative shall, during the Time for which he was elected, be appointed to any civil Office under the Authority of the United States, which shall have been created, or the Emoluments whereof shall have been encreased during such time; and no Person holding any Office under the United States, shall be a Member of either House during his Continuance in Office.\n",
      "Section 7: Legislative Process\n",
      "All Bills for raising Revenue shall originate in the House of Representatives; but the Senate may propose or concur with Amendments as on other Bills.\n",
      "Every Bill which shall have passed the House of Representatives and the Senate, shall, before it become a Law, be presented to the President of the United States; If he approve he shall sign it, but if not he shall return it, with his Objections to that House in which it shall have originated, who shall enter the Objections at large on their Journal, and proceed to reconsider it. If after such Reconsideration two thirds of that House shall agree to pass the Bill, it shall be sent, together with the Objections, to the other House, by which it shall likewise be reconsidered, and if approved by two thirds of that House, it shall become a Law. But in all such Cases the Votes of both Houses shall be determined by Yeas and Nays, and the Names of the Persons voting for and against the Bill shall be entered on the Journal of each House respectively. If any Bill shall not be returned by the President within ten Days (Sundays excepted) after it shall have been presented to him, the Same shall be a Law, in like Manner as if he had signed it, unless the Congress by their Adjournment prevent its Return, in which Case it shall not be a Law.\n",
      "Every Order, Resolution, or Vote to which the Concurrence of the Senate and House of Representatives may be necessary (except on a question of Adjournment) shall be presented to the President of the United States; and before the Same shall take Effect, shall be approved by him, or being disapproved by him, shall be repassed by two thirds of the Senate and House of Representatives, according to the Rules and Limitations prescribed in the Case of a Bill.\n",
      "Section 8: Powers of Congress\n",
      "The Congress shall have Power To lay and collect Taxes, Duties, Imposts and Excises, to pay the Debts and provide for the common Defence and general Welfare of the United States; but all Duties, Imposts and Excises shall be uniform throughout the United States;\n",
      "To borrow Money on the credit of the United States;\n",
      "To regulate Commerce with foreign Nations, and among the several States, and with the Indian Tribes;\n",
      "To establish a uniform Rule of Naturalization, and uniform Laws on the subject of Bankruptcies throughout the United States;\n",
      "To coin Money, regulate the Value thereof, and of foreign Coin, and fix the Standard of Weights and Measures;\n",
      "To provide for the Punishment of counterfeiting the Securities and current Coin of the United States;\n",
      "To establish Post Offices and post Roads;\n",
      "To promote the Progress of Science and useful Arts, by securing for limited Times to Authors and Inventors the exclusive Right to their respective Writings and Discoveries;\n",
      "To constitute Tribunals inferior to the supreme Court;\n",
      "To define and punish Piracies and Felonies committed on the high Seas, and Offenses against the Law of Nations;\n",
      "To declare War, grant Letters of Marque and Reprisal, and make Rules concerning Captures on Land and Water;\n",
      "To raise and support Armies, but no Appropriation of Money to that Use shall be for a longer Term than two Years;\n",
      "To provide and maintain a Navy;\n",
      "To make Rules for the Government and Regulation of the land and naval Forces;\n",
      "To provide for calling forth the Militia to execute the Laws of the Union, suppress Insurrections and repel Invasions;\n",
      "To provide for organizing, arming, and disciplining, the Militia, and for governing such Part of them as may be employed in the Service of the United States, reserving to the States respectively, the Appointment of the Officers, and the Authority of training the Militia according to the discipline prescribed by Congress;\n",
      "To exercise exclusive Legislation in all Cases whatsoever, over such District (not exceeding ten Miles square) as may, by Cession of particular States, and the Acceptance of Congress, become the Seat of the Government of the United States, and to exercise like Authority over all Places purchased by the Consent of the Legislature of the State in which the Same shall be, for the Erection of Forts, Magazines, Arsenals, dock-Yards and other needful Buildings;-And\n",
      "To make all Laws which shall be necessary and proper for carrying into Execution the foregoing Powers, and all other Powers vested by this Constitution in the Government of the United States, or in any Department or Officer thereof.\n",
      "Section 9: Powers Denied Congress\n",
      "The Migration or Importation of such Persons as any of the States now existing shall think proper to admit, shall not be prohibited by the Congress prior to the Year one thousand eight hundred and eight, but a Tax or duty may be imposed on such Importation, not exceeding ten dollars for each Person.\n",
      "The Privilege of the Writ of Habeas Corpus shall not be suspended, unless when in Cases of Rebellion or Invasion the public Safety may require it.\n",
      "No Bill of Attainder or ex post facto Law shall be passed.\n",
      "No Capitation, or other direct, Tax shall be laid, unless in Proportion to the Census or Enumeration herein before directed to be taken.\n",
      "No Tax or Duty shall be laid on Articles exported from any State.\n",
      "No Preference shall be given by any Regulation of Commerce or Revenue to the Ports of one State over those of another: nor shall Vessels bound to, or from, one State, be obliged to enter, clear, or pay Duties in another.\n",
      "No Money shall be drawn from the Treasury, but in Consequence of Appropriations made by Law; and a regular Statement and Account of the Receipts and Expenditures of all public Money shall be published from time to time.\n",
      "No Title of Nobility shall be granted by the United States: And no Person holding any Office of Profit or Trust under them, shall, without the Consent of the Congress, accept of any present, Emolument, Office, or Title, of any kind whatever, from any King, Prince, or foreign State.\n",
      "Section 10: Powers Denied to the States\n",
      "No State shall enter into any Treaty, Alliance, or Confederation; grant Letters of Marque and Reprisal; coin Money; emit Bills of Credit; make any Thing but gold and silver Coin a Tender in Payment of Debts; pass any Bill of Attainder, ex post facto Law, or Law impairing the Obligation of Contracts, or grant any Title of Nobility.\n",
      "No State shall, without the Consent of the Congress, lay any Imposts or Duties on Imports or Exports, except what may be absolutely necessary for executing it's inspection Laws: and the net Produce of all Duties and Imposts, laid by any State on Imports or Exports, shall be for the Use of the Treasury of the United States; and all such Laws shall be subject to the Revision and Controul of the Congress.\n",
      "No State shall, without the Consent of Congress, lay any Duty of Tonnage, keep Troops, or Ships of War in time of Peace, enter into any Agreement or Compact with another State, or with a foreign Power, or engage in War, unless actually invaded, or in such imminent Danger as will not admit of delay.\n",
      "Article II\n",
      "Section 1\n",
      "The executive Power shall be vested in a President of the United States of America.\n",
      "He shall hold his Office during the Term of four Years, and, together with the Vice President, chosen for the same Term, be elected, as follows:\n",
      "Each State shall appoint, in such Manner as the Legislature thereof may direct, a Number of Electors, equal to the whole Number of Senators and Representatives to which the State may be entitled in the Congress: but no Senator or Representative, or Person holding an Office of Trust or Profit under the United States, shall be appointed an Elector.\n",
      "The Electors shall meet in their respective States, and vote by Ballot for two Persons, of whom one at least shall not be an Inhabitant of the same State with themselves. And they shall make a List of all the Persons voted for, and of the Number of Votes for each; which List they shall sign and certify, and transmit sealed to the Seat of the Government of the United States, directed to the President of the Senate. The President of the Senate shall, in the Presence of the Senate and House of Representatives, open all the Certificates, and the Votes shall then be counted. The Person having the greatest Number of Votes shall be the President, if such Number be a Majority of the whole Number of Electors appointed; and if there be more than one who have such Majority, and have an equal Number of Votes, then the House of Representatives shall immediately chuse by Ballot one of them for President; and if no Person have a Majority, then from the five highest on the List the said House shall in like Manner chuse the President. But in chusing the President, the Votes shall be taken by States, the Representation from each State having one Vote; A quorum for this Purpose shall consist of a Member or Members from two thirds of the States, and a Majority of all the States shall be necessary to a Choice. In every Case, after the Choice of the President, the Person having the greatest Number of Votes of the Electors shall be the Vice President. But if there should remain two or more who have equal Votes, the Senate shall chuse from them by Ballot the Vice President.\n",
      "The Congress may determine the Time of chusing the Electors, and the Day on which they shall give their Votes; which Day shall be the same throughout the United States.\n",
      "No Person except a natural born Citizen, or a Citizen of the United States, at the time of the Adoption of this Constitution, shall be eligible to the Office of President; neither shall any person be eligible to that Office who shall not have attained to the Age of thirty five Years, and been fourteen Years a Resident within the United States.\n",
      "In Case of the Removal of the President from Office, or of his Death, Resignation, or Inability to discharge the Powers and Duties of the said Office, the Same shall devolve on the Vice President, and the Congress may by Law provide for the Case of Removal, Death, Resignation or Inability, both of the President and Vice President, declaring what Officer shall then act as President, and such Officer shall act accordingly, until the Disability be removed, or a President shall be elected.\n",
      "The President shall, at stated Times, receive for his Services, a Compensation, which shall neither be increased nor diminished during the Period for which he shall have been elected, and he shall not receive within that Period any other Emolument from the United States, or any of them.\n",
      "Before he enter on the Execution of his Office, he shall take the following Oath or Affirmation:--\"I do solemnly swear (or affirm) that I will faithfully execute the Office of President of the United States, and will to the best of my Ability, preserve, protect and defend the Constitution of the United States.\"\n",
      "Section 2\n",
      "The President shall be Commander in Chief of the Army and Navy of the United States, and of the Militia of the several States, when called into the actual Service of the United States; he may require the Opinion, in writing, of the principal Officer in each of the executive Departments, upon any Subject relating to the Duties of their respective Offices, and he shall have Power to grant Reprieves and Pardons for Offenses against the United States, except in Cases of Impeachment.\n",
      "He shall have Power, by and with the Advice and Consent of the Senate, to make Treaties, provided two thirds of the Senators present concur; and he shall nominate, and by and with the Advice and Consent of the Senate, shall appoint Ambassadors, other public Ministers and Consuls, Judges of the supreme Court, and all other Officers of the United States, whose Appointments are not herein otherwise provided for, and which shall be established by Law: but the Congress may by Law vest the Appointment of such inferior Officers, as they think proper, in the President alone, in the Courts of Law, or in the Heads of Departments.\n",
      "The President shall have Power to fill up all Vacancies that may happen during the Recess of the Senate, by granting Commissions which shall expire at the End of their next Session.\n",
      "Section 3\n",
      "He shall from time to time give to the Congress Information of the State of the Union, and recommend to their Consideration such Measures as he shall judge necessary and expedient; he may, on extraordinary Occasions, convene both Houses, or either of them, and in Case of Disagreement between them, with Respect to the Time of Adjournment, he may adjourn them to such Time as he shall think proper; he shall receive Ambassadors and other public Ministers; he shall take Care that the Laws be faithfully executed, and shall Commission all the Officers of the United States.\n",
      "Section 4\n",
      "The President, Vice President and all civil Officers of the United States, shall be removed from Office on Impeachment for, and Conviction of, Treason, Bribery, or other high Crimes and Misdemeanors.\n",
      "Article III\n",
      "Section 1\n",
      "The judicial Power of the United States, shall be vested in one supreme Court, and in such inferior Courts as the Congress may from time to time ordain and establish. The Judges, both of the supreme and inferior Courts, shall hold their Offices during good Behaviour, and shall, at stated Times, receive for their Services, a Compensation, which shall not be diminished during their Continuance in Office.\n",
      "Section 2\n",
      "The judicial Power shall extend to all Cases, in Law and Equity, arising under this Constitution, the Laws of the United States, and Treaties made, or which shall be made, under their Authority;--to all Cases affecting Ambassadors, other public Ministers and Consuls;--to all Cases of admiralty and maritime Jurisdiction;--to Controversies to which the United States shall be a Party;--to Controversies between two or more States;--between a State and Citizens of another State;--between Citizens of different States;--between Citizens of the same State claiming Lands under Grants of different States, and between a State, or the Citizens thereof, and foreign States, Citizens or Subjects.\n",
      "In all Cases affecting Ambassadors, other public Ministers and Consuls, and those in which a State shall be Party, the supreme Court shall have original Jurisdiction. In all the other Cases before mentioned, the supreme Court shall have appellate Jurisdiction, both as to Law and Fact, with such Exceptions, and under such Regulations as the Congress shall make.\n",
      "The Trial of all Crimes, except in Cases of Impeachment; shall be by Jury; and such Trial shall be held in the State where the said Crimes shall have been committed; but when not committed within any State, the Trial shall be at such Place or Places as the Congress may by Law have directed.\n",
      "Section 3\n",
      "Treason against the United States, shall consist only in levying War against them, or in adhering to their Enemies, giving them Aid and Comfort. No Person shall be convicted of Treason unless on the Testimony of two Witnesses to the same overt Act, or on Confession in open Court.\n",
      "The Congress shall have Power to declare the Punishment of Treason, but no Attainder of Treason shall work Corruption of Blood, or Forfeiture except during the Life of the Person attainted.\n",
      "Article IV\n",
      "Section 1\n",
      "Full Faith and Credit shall be given in each State to the public Acts, Records, and judicial Proceedings of every other State. And the Congress may by general Laws prescribe the Manner in which such Acts, Records and Proceedings shall be proved, and the Effect thereof.\n",
      "Section 2\n",
      "The Citizens of each State shall be entitled to all Privileges and Immunities of Citizens in the several States.\n",
      "A Person charged in any State with Treason, Felony, or other Crime, who shall flee from Justice, and be found in another State, shall on Demand of the executive Authority of the State from which he fled, be delivered up, to be removed to the State having Jurisdiction of the Crime.\n",
      "No Person held to Service or Labour in one State, under the Laws thereof, escaping into another, shall, in Consequence of any Law or Regulation therein, be discharged from such Service or Labour, but shall be delivered up on Claim of the Party to whom such Service or Labour may be due.\n",
      "Section 3\n",
      "New States may be admitted by the Congress into this Union; but no new State shall be formed or erected within the Jurisdiction of any other State; nor any State be formed by the Junction of two or more States, or Parts of States, without the Consent of the Legislatures of the States concerned as well as of the Congress.\n",
      "The Congress shall have Power to dispose of and make all needful Rules and Regulations respecting the Territory or other Property belonging to the United States; and nothing in this Constitution shall be so construed as to Prejudice any Claims of the United States, or of any particular State.\n",
      "Section 4\n",
      "The United States shall guarantee to every State in this Union a Republican Form of Government, and shall protect each of them against Invasion; and on Application of the Legislature, or of the Executive (when the Legislature cannot be convened) against domestic Violence.\n",
      "Article V\n",
      "The Congress, whenever two thirds of both Houses shall deem it necessary, shall propose Amendments to this Constitution, or, on the Application of the Legislatures of two thirds of the several States, shall call a Convention for proposing Amendments, which, in either Case, shall be valid to all Intents and Purposes, as Part of this Constitution, when ratified by the Legislatures of three fourths of the several States, or by Conventions in three fourths thereof, as the one or the other Mode of Ratification may be proposed by the Congress; Provided that no Amendment which may be made prior to the Year One thousand eight hundred and eight shall in any Manner affect the first and fourth Clauses in the Ninth Section of the first Article; and that no State, without its Consent, shall be deprived of its equal Suffrage in the Senate.\n",
      "Article VI\n",
      "All Debts contracted and Engagements entered into, before the Adoption of this Constitution, shall be as valid against the United States under this Constitution, as under the Confederation.\n",
      "This Constitution, and the Laws of the United States which shall be made in Pursuance thereof; and all Treaties made, or which shall be made, under the Authority of the United States, shall be the supreme Law of the Land; and the Judges in every State shall be bound thereby, any Thing in the Constitution or Laws of any State to the Contrary notwithstanding.\n",
      "The Senators and Representatives before mentioned, and the Members of the several State Legislatures, and all executive and judicial Officers, both of the United States and of the several States, shall be bound by Oath or Affirmation, to support this Constitution; but no religious Test shall ever be required as a Qualification to any Office or public Trust under the United States.\n",
      "Article VII\n",
      "The Ratification of the Conventions of nine States, shall be sufficient for the Establishment of this Constitution between the States so ratifying the Same.\n",
      "First Amendment\n",
      "Congress shall make no law respecting an establishment of religion, or prohibiting the free exercise thereof; or abridging the freedom of speech, or of the press; or the right of the people peaceably to assemble, and to petition the Government for a redress of grievances.\n",
      "Second Amendment\n",
      "A well regulated Militia, being necessary to the security of a free State, the right of the people to keep and bear Arms, shall not be infringed.\n",
      "Third Amendment\n",
      "No Soldier shall, in time of peace be quartered in any house, without the consent of the Owner, nor in time of war, but in a manner to be prescribed by law.\n",
      "Fourth Amendment\n",
      "The right of the people to be secure in their persons, houses, papers, and effects, against unreasonable searches and seizures, shall not be violated, and no Warrants shall issue, but upon probable cause, supported by Oath or affirmation, and particularly describing the place to be searched, and the persons or things to be seized.\n",
      "Fifth Amendment\n",
      "No person shall be held to answer for a capital, or otherwise infamous crime, unless on a presentment or indictment of a Grand Jury, except in cases arising in the land or naval forces, or in the Militia, when in actual service in time of War or public danger; nor shall any person be subject for the same offence to be twice put in jeopardy of life or limb; nor shall be compelled in any criminal case to be a witness against himself, nor be deprived of life, liberty, or property, without due process of law; nor shall private property be taken for public use, without just compensation.\n",
      "Sixth Amendment\n",
      "In all criminal prosecutions, the accused shall enjoy the right to a speedy and public trial, by an impartial jury of the State and district wherein the crime shall have been committed, which district shall have been previously ascertained by law, and to be informed of the nature and cause of the accusation; to be confronted with the witnesses against him; to have compulsory process for obtaining witnesses in his favor, and to have the Assistance of Counsel for his defence.\n",
      "Seventh Amendment\n",
      "In Suits at common law, where the value in controversy shall exceed twenty dollars, the right of trial by jury shall be preserved, and no fact tried by a jury, shall be otherwise reexamined in any Court of the United States, than according to the rules of the common law.\n",
      "Eighth Amendment\n",
      "Excessive bail shall not be required, nor excessive fines imposed, nor cruel and unusual punishments inflicted.\n",
      "Ninth Amendment\n",
      "The enumeration in the Constitution, of certain rights, shall not be construed to deny or disparage others retained by the people.\n",
      "10th Amendment\n",
      "The powers not delegated to the United States by the Constitution, nor prohibited by it to the States, are reserved to the States respectively, or to the people.\n",
      "11th Amendment\n",
      "The Judicial power of the United States shall not be construed to extend to any suit in law or equity, commenced or prosecuted against one of the United States by Citizens of another State, or by Citizens or Subjects of any Foreign State.\n",
      "12th Amendment\n",
      "The Electors shall meet in their respective states and vote by ballot for President and Vice-President, one of whom, at least, shall not be an inhabitant of the same state with themselves; they shall name in their ballots the person voted for as President, and in distinct ballots the person voted for as Vice-President, and they shall make distinct lists of all persons voted for as President, and of all persons voted for as Vice-President, and of the number of votes for each, which lists they shall sign and certify, and transmit sealed to the seat of the government of the United States, directed to the President of the Senate; -- The President of the Senate shall, in the presence of the Senate and House of Representatives, open all the certificates and the votes shall then be counted; -- The person having the greatest number of votes for President, shall be the President, if such number be a majority of the whole number of Electors appointed; and if no person have such majority, then from the persons having the highest numbers not exceeding three on the list of those voted for as President, the House of Representatives shall choose immediately, by ballot, the President. But in choosing the President, the votes shall be taken by states, the representation from each state having one vote; a quorum for this purpose shall consist of a member or members from two-thirds of the states, and a majority of all the states shall be necessary to a choice. And if the House of Representatives shall not choose a President whenever the right of choice shall devolve upon them, before the fourth day of March next following, then the Vice-President shall act as President, as in case of the death or other constitutional disability of the President.-- The person having the greatest number of votes as Vice-President, shall be the Vice-President, if such number be a majority of the whole number of Electors appointed, and if no person have a majority, then from the two highest numbers on the list, the Senate shall choose the Vice-President; a quorum for the purpose shall consist of two-thirds of the whole number of Senators, and a majority of the whole number shall be necessary to a choice. But no person constitutionally ineligible to the office of President shall be eligible to that of Vice-President of the United States.\n",
      "13th Amendment\n",
      "Section 1\n",
      "Neither slavery nor involuntary servitude, except as a punishment for crime whereof the party shall have been duly convicted, shall exist within the United States, or any place subject to their jurisdiction.\n",
      "Section 2\n",
      "Congress shall have power to enforce this article by appropriate legislation.\n",
      "14th Amendment\n",
      "Section 1\n",
      "All persons born or naturalized in the United States, and subject to the jurisdiction thereof, are citizens of the United States and of the State wherein they reside. No State shall make or enforce any law which shall abridge the privileges or immunities of citizens of the United States; nor shall any State deprive any person of life, liberty, or property, without due process of law; nor deny to any person within its jurisdiction the equal protection of the laws.\n",
      "Section 2\n",
      "Representatives shall be apportioned among the several States according to their respective numbers, counting the whole number of persons in each State, excluding Indians not taxed. But when the right to vote at any election for the choice of electors for President and Vice-President of the United States, Representatives in Congress, the Executive and Judicial officers of a State, or the members of the Legislature thereof, is denied to any of the male inhabitants of such State, being twenty-one years of age, and citizens of the United States, or in any way abridged, except for participation in rebellion, or other crime, the basis of representation therein shall be reduced in the proportion which the number of such male citizens shall bear to the whole number of male citizens twenty-one years of age in such State.\n",
      "Section 3\n",
      "No person shall be a Senator or Representative in Congress, or elector of President and Vice-President, or hold any office, civil or military, under the United States, or under any State, who, having previously taken an oath, as a member of Congress, or as an officer of the United States, or as a member of any State legislature, or as an executive or judicial officer of any State, to support the Constitution of the United States, shall have engaged in insurrection or rebellion against the same, or given aid or comfort to the enemies thereof. But Congress may by a vote of two-thirds of each House, remove such disability.\n",
      "Section 4\n",
      "The validity of the public debt of the United States, authorized by law, including debts incurred for payment of pensions and bounties for services in suppressing insurrection or rebellion, shall not be questioned. But neither the United States nor any State shall assume or pay any debt or obligation incurred in aid of insurrection or rebellion against the United States, or any claim for the loss or emancipation of any slave; but all such debts, obligations and claims shall be held illegal and void.\n",
      "Section 5\n",
      "The Congress shall have the power to enforce, by appropriate legislation, the provisions of this article.\n",
      "15th Amendment\n",
      "Section 1\n",
      "The right of citizens of the United States to vote shall not be denied or abridged by the United States or by any State on account of race, color, or previous condition of servitude.\n",
      "Section 2\n",
      "The Congress shall have the power to enforce this article by appropriate legislation.\n",
      "16th Amendment\n",
      "The Congress shall have power to lay and collect taxes on incomes, from whatever source derived, without apportionment among the several States, and without regard to any census or enumeration.\n",
      "17th Amendment\n",
      "The Senate of the United States shall be composed of two Senators from each State, elected by the people thereof, for six years; and each Senator shall have one vote. The electors in each State shall have the qualifications requisite for electors of the most numerous branch of the State legislatures.\n",
      "When vacancies happen in the representation of any State in the Senate, the executive authority of such State shall issue writs of election to fill such vacancies: Provided, That the legislature of any State may empower the executive thereof to make temporary appointments until the people fill the vacancies by election as the legislature may direct.\n",
      "This amendment shall not be so construed as to affect the election or term of any Senator chosen before it becomes valid as part of the Constitution.\n",
      "18th Amendment\n",
      "Section 1\n",
      "After one year from the ratification of this article the manufacture, sale, or transportation of intoxicating liquors within, the importation thereof into, or the exportation thereof from the United States and all territory subject to the jurisdiction thereof for beverage purposes is hereby prohibited.\n",
      "Section 2\n",
      "The Congress and the several States shall have concurrent power to enforce this article by appropriate legislation.\n",
      "Section 3\n",
      "This article shall be inoperative unless it shall have been ratified as an amendment to the Constitution by the legislatures of the several States, as provided in the Constitution, within seven years from the date of the submission hereof to the States by the Congress.\n",
      "19th Amendment\n",
      "The right of citizens of the United States to vote shall not be denied or abridged by the United States or by any State on account of sex.\n",
      "Congress shall have power to enforce this article by appropriate legislation.\n",
      "20th Amendment\n",
      "Section 1\n",
      "The terms of the President and the Vice President shall end at noon on the 20th day of January, and the terms of Senators and Representatives at noon on the 3d day of January, of the years in which such terms would have ended if this article had not been ratified; and the terms of their successors shall then begin.\n",
      "Section 2\n",
      "The Congress shall assemble at least once in every year, and such meeting shall begin at noon on the 3d day of January, unless they shall by law appoint a different day.\n",
      "Section 3\n",
      "If, at the time fixed for the beginning of the term of the President, the President elect shall have died, the Vice President elect shall become President. If a President shall not have been chosen before the time fixed for the beginning of his term, or if the President elect shall have failed to qualify, then the Vice President elect shall act as President until a President shall have qualified; and the Congress may by law provide for the case wherein neither a President elect nor a Vice President shall have qualified, declaring who shall then act as President, or the manner in which one who is to act shall be selected, and such person shall act accordingly until a President or Vice President shall have qualified.\n",
      "Section 4\n",
      "The Congress may by law provide for the case of the death of any of the persons from whom the House of Representatives may choose a President whenever the right of choice shall have devolved upon them, and for the case of the death of any of the persons from whom the Senate may choose a Vice President whenever the right of choice shall have devolved upon them.\n",
      "Section 5\n",
      "Sections 1 and 2 shall take effect on the 15th day of October following the ratification of this article.\n",
      "Section 6\n",
      "This article shall be inoperative unless it shall have been ratified as an amendment to the Constitution by the legislatures of three-fourths of the several States within seven years from the date of its submission.\n",
      "21st Amendment\n",
      "Section 1\n",
      "The eighteenth article of amendment to the Constitution of the United States is hereby repealed.\n",
      "Section 2\n",
      "The transportation or importation into any State, Territory, or Possession of the United States for delivery or use therein of intoxicating liquors, in violation of the laws thereof, is hereby prohibited.\n",
      "Section 3\n",
      "This article shall be inoperative unless it shall have been ratified as an amendment to the Constitution by conventions in the several States, as provided in the Constitution, within seven years from the date of the submission hereof to the States by the Congress.\n",
      "22nd Amendment\n",
      "Section 1\n",
      "No person shall be elected to the office of the President more than twice, and no person who has held the office of President, or acted as President, for more than two years of a term to which some other person was elected President shall be elected to the office of President more than once. But this Article shall not apply to any person holding the office of President when this Article was proposed by Congress, and shall not prevent any person who may be holding the office of President, or acting as President, during the term within which this Article becomes operative from holding the office of President or acting as President during the remainder of such term.\n",
      "Section 2\n",
      "This article shall be inoperative unless it shall have been ratified as an amendment to the Constitution by the legislatures of three-fourths of the several States within seven years from the date of its submission to the States by the Congress.\n",
      "23rd Amendment\n",
      "Section 1\n",
      "The District constituting the seat of Government of the United States shall appoint in such manner as Congress may direct:\n",
      "A number of electors of President and Vice President equal to the whole number of Senators and Representatives in Congress to which the District would be entitled if it were a State, but in no event more than the least populous State; they shall be in addition to those appointed by the States, but they shall be considered, for the purposes of the election of President and Vice President, to be electors appointed by a State; and they shall meet in the District and perform such duties as provided by the twelfth article of amendment.\n",
      "Section 2\n",
      "The Congress shall have power to enforce this article by appropriate legislation.\n",
      "24th Amendment\n",
      "Section 1\n",
      "The right of citizens of the United States to vote in any primary or other election for President or Vice President, for electors for President or Vice President, or for Senator or Representative in Congress, shall not be denied or abridged by the United States or any State by reason of failure to pay poll tax or other tax.\n",
      "Section 2\n",
      "The Congress shall have power to enforce this article by appropriate legislation.\n",
      "25th Amendment\n",
      "Section 1\n",
      "In case of the removal of the President from office or of his death or resignation, the Vice President shall become President.\n",
      "Section 2\n",
      "Whenever there is a vacancy in the office of the Vice President, the President shall nominate a Vice President who shall take office upon confirmation by a majority vote of both Houses of Congress.\n",
      "Section 3\n",
      "Whenever the President transmits to the President pro tempore of the Senate and the Speaker of the House of Representatives his written declaration that he is unable to discharge the powers and duties of his office, and until he transmits to them a written declaration to the contrary, such powers and duties shall be discharged by the Vice President as Acting President.\n",
      "Section 4\n",
      "Whenever the Vice President and a majority of either the principal officers of the executive departments or of such other body as Congress may by law provide, transmit to the President pro tempore of the Senate and the Speaker of the House of Representatives their written declaration that the President is unable to discharge the powers and duties of his office, the Vice President shall immediately assume the powers and duties of the office as Acting President.\n",
      "Thereafter, when the President transmits to the President pro tempore of the Senate and the Speaker of the House of Representatives his written declaration that no inability exists, he shall resume the powers and duties of his office unless the Vice President and a majority of either the principal officers of the executive department or of such other body as Congress may by law provide, transmit within four days to the President pro tempore of the Senate and the Speaker of the House of Representatives their written declaration that the President is unable to discharge the powers and duties of his office. Thereupon Congress shall decide the issue, assembling within forty-eight hours for that purpose if not in session. If the Congress, within twenty-one days after receipt of the latter written declaration, or, if Congress is not in session, within twenty-one days after Congress is required to assemble, determines by two-thirds vote of both Houses that the President is unable to discharge the powers and duties of his office, the Vice President shall continue to discharge the same as Acting President; otherwise, the President shall resume the powers and duties of his office.\n",
      "26th Amendment\n",
      "Section 1\n",
      "The right of citizens of the United States, who are eighteen years of age or older, to vote shall not be denied or abridged by the United States or by any State on account of age.\n",
      "Section 2\n",
      "The Congress shall have power to enforce this article by appropriate legislation.\n",
      "27th Amendment\n",
      "No law, varying the compensation for the services of the Senators and Representatives, shall take effect, until an election of representatives shall have intervened.\n"
     ]
    }
   ],
   "source": [
    "import re\n",
    "f = open('uscons.txt')\n",
    "for line in f:\n",
    "    line = line.rstrip()\n",
    "    if re.search('[a-z]+',line):\n",
    "        print(line)"
   ]
  },
  {
   "cell_type": "markdown",
   "metadata": {},
   "source": [
    "## Lab: 정규식 이용하기"
   ]
  },
  {
   "cell_type": "code",
   "execution_count": 20,
   "metadata": {},
   "outputs": [
    {
     "name": "stdout",
     "output_type": "stream",
     "text": [
      "['101', '102', '103']\n"
     ]
    }
   ],
   "source": [
    "text=\"\"\"101 COM PythonProgramming\n",
    "102 MAT LinearAlgebra\n",
    "103 ENG ComputerEnglish\"\"\"\n",
    "\n",
    "import re\n",
    "s = re.findall(\"\\d+\", text)\n",
    "print(s)"
   ]
  },
  {
   "cell_type": "markdown",
   "metadata": {},
   "source": [
    "## Lab: 패스워드 검증 프로그램"
   ]
  },
  {
   "cell_type": "code",
   "execution_count": 22,
   "metadata": {},
   "outputs": [
    {
     "name": "stdout",
     "output_type": "stream",
     "text": [
      "패스워드를 입력fjdkfIfl!\n",
      "유효한 패스워드가 아닙니다.\n"
     ]
    }
   ],
   "source": [
    "import re\n",
    "\n",
    "password = input(\"패스워드를 입력\");\n",
    "flag = 0\n",
    "while True:\n",
    "    if (len(password)<8):\n",
    "        flag = -1\n",
    "        break\n",
    "    elif not re.search(\"[a-z]\", password):\n",
    "        flag = -1\n",
    "        break\n",
    "    elif not re.search(\"[A-Z]\", password):\n",
    "        flag = -1\n",
    "        break\n",
    "    elif not re.search(\"[0-9]\", password):\n",
    "        flag = -1\n",
    "        break\n",
    "    elif not re.search(\"[_@$]\", password):\n",
    "        flag = -1\n",
    "        break\n",
    "    else:\n",
    "        flag = 0\n",
    "        print(\"유효한 패스워드\")\n",
    "        break\n",
    "\n",
    "if flag ==-1:\n",
    "    print(\"유효한 패스워드가 아닙니다.\")"
   ]
  },
  {
   "cell_type": "markdown",
   "metadata": {},
   "source": [
    "## Try-catch 구조"
   ]
  },
  {
   "cell_type": "code",
   "execution_count": 23,
   "metadata": {},
   "outputs": [
    {
     "name": "stdout",
     "output_type": "stream",
     "text": [
      "0으로 나누는 예외\n"
     ]
    }
   ],
   "source": [
    "(x,y) = (2,0)\n",
    "try:\n",
    "    z = x/y\n",
    "except ZeroDivisionError:\n",
    "    print (\"0으로 나누는 예외\")"
   ]
  },
  {
   "cell_type": "code",
   "execution_count": 24,
   "metadata": {},
   "outputs": [
    {
     "name": "stdout",
     "output_type": "stream",
     "text": [
      "division by zero\n"
     ]
    }
   ],
   "source": [
    "(x,y) = (2,0)\n",
    "try:\n",
    "    z = x/y\n",
    "except ZeroDivisionError as e:\n",
    "    print (e)"
   ]
  },
  {
   "cell_type": "code",
   "execution_count": 25,
   "metadata": {},
   "outputs": [
    {
     "name": "stdout",
     "output_type": "stream",
     "text": [
      "숫자를 입력하시오 : 23.5\n",
      "정수가 아닙니다. 다시 입력하시오. \n",
      "숫자를 입력하시오 : 10\n",
      "정수 입력이 성공하였습니다!\n"
     ]
    }
   ],
   "source": [
    "while True:\n",
    "    try:\n",
    "        n = input(\"숫자를 입력하시오 : \")\n",
    "        n = int(n)\n",
    "        break\n",
    "    except ValueError:\n",
    "        print(\"정수가 아닙니다. 다시 입력하시오. \")\n",
    "    except KeyboardInterrupt:\n",
    "        print(\"Ctrl+C를 입력했습니다. 다시 입력하시오. \")\n",
    "        \n",
    "print(\"정수 입력이 성공하였습니다!\")"
   ]
  },
  {
   "cell_type": "code",
   "execution_count": 26,
   "metadata": {},
   "outputs": [
    {
     "name": "stdout",
     "output_type": "stream",
     "text": [
      "1 2.0\n",
      "2 2.0\n",
      "오류발생\n",
      "4 2.0\n"
     ]
    }
   ],
   "source": [
    "try:\n",
    "    result = 20 /10\n",
    "    print(1, result)\n",
    "except ZeroDivisionError:\n",
    "    print(\"오류발생\")\n",
    "\n",
    "print(2, result)\n",
    "\n",
    "try:\n",
    "    result = 20 / 0\n",
    "    print(3, result)\n",
    "except ZeroDivisionError:\n",
    "    print(\"오류발생\")\n",
    "\n",
    "print(4, result)"
   ]
  },
  {
   "cell_type": "markdown",
   "metadata": {},
   "source": [
    "## 다중 예외 처리 구조  \n",
    "try:  \n",
    "실행할 코드  \n",
    "except:  \n",
    "예외가 발생했을 때 처리하는 코드  \n",
    "else:  \n",
    "예외가 발생하지 않았을 때 실행할 코드  \n",
    "finally:  \n",
    "예외 발생 여부와 상관없이 실행할 코드"
   ]
  },
  {
   "cell_type": "code",
   "execution_count": 27,
   "metadata": {},
   "outputs": [
    {
     "name": "stdout",
     "output_type": "stream",
     "text": [
      "파일에 성공적으로 기록하였습니다. \n"
     ]
    }
   ],
   "source": [
    "try:\n",
    "    fh = open(\"testfile\", \"w\")\n",
    "    fh.write(\"테스트 데이터를 파일에 씁니다!!\")\n",
    "except IOError:\n",
    "    print(\"Error: 파일을 찾을 수 없거나 데이터를 쓸 수 없습니다. \")\n",
    "else:\n",
    "    print(\"파일에 성공적으로 기록하였습니다. \")\n",
    "    fh.close()"
   ]
  },
  {
   "cell_type": "markdown",
   "metadata": {},
   "source": [
    "## raise"
   ]
  },
  {
   "cell_type": "code",
   "execution_count": 28,
   "metadata": {},
   "outputs": [
    {
     "name": "stdout",
     "output_type": "stream",
     "text": [
      "양의 정수: one\n",
      "숫자 아닌 문자\n",
      "양의 정수: 0\n",
      "Zero\n",
      "양의 정수: -1\n",
      "숫자 아닌 문자\n",
      "양의 정수: 23\n",
      "23\n"
     ]
    }
   ],
   "source": [
    "def myint(s):\n",
    "    n = 0\n",
    "    for c in s:\n",
    "        if c >= '0' and c <= '9':\n",
    "            n = 10 * n + ord(c) - ord('0')\n",
    "        else:\n",
    "            raise Exception(\"숫자 아닌 문자\")\n",
    "    if n == 0:\n",
    "        raise Exception(\"Zero\")\n",
    "    return n\n",
    "while True:\n",
    "    try:\n",
    "        n = myint(input(\"양의 정수: \"))\n",
    "        break\n",
    "    except Exception as e:\n",
    "        print(e)\n",
    "    except :\n",
    "        print(\"default 예외\")\n",
    "print(n)"
   ]
  }
 ],
 "metadata": {
  "hide_input": false,
  "kernelspec": {
   "display_name": "Python 3",
   "language": "python",
   "name": "python3"
  },
  "language_info": {
   "codemirror_mode": {
    "name": "ipython",
    "version": 3
   },
   "file_extension": ".py",
   "mimetype": "text/x-python",
   "name": "python",
   "nbconvert_exporter": "python",
   "pygments_lexer": "ipython3",
   "version": "3.8.5"
  },
  "toc": {
   "base_numbering": 1,
   "nav_menu": {},
   "number_sections": true,
   "sideBar": true,
   "skip_h1_title": false,
   "title_cell": "Table of Contents",
   "title_sidebar": "Contents",
   "toc_cell": false,
   "toc_position": {},
   "toc_section_display": true,
   "toc_window_display": false
  },
  "varInspector": {
   "cols": {
    "lenName": 16,
    "lenType": 16,
    "lenVar": 40
   },
   "kernels_config": {
    "python": {
     "delete_cmd_postfix": "",
     "delete_cmd_prefix": "del ",
     "library": "var_list.py",
     "varRefreshCmd": "print(var_dic_list())"
    },
    "r": {
     "delete_cmd_postfix": ") ",
     "delete_cmd_prefix": "rm(",
     "library": "var_list.r",
     "varRefreshCmd": "cat(var_dic_list()) "
    }
   },
   "types_to_exclude": [
    "module",
    "function",
    "builtin_function_or_method",
    "instance",
    "_Feature"
   ],
   "window_display": false
  }
 },
 "nbformat": 4,
 "nbformat_minor": 4
}
