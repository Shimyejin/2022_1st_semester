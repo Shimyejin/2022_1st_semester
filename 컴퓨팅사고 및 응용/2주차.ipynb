{
 "cells": [
  {
   "cell_type": "markdown",
   "metadata": {},
   "source": [
    "<span style='font-weight: bold; font-size: 25px;color: #0D0079;'>0302 2주차 과제</span>"
   ]
  },
  {
   "cell_type": "markdown",
   "metadata": {},
   "source": [
    "# 실습"
   ]
  },
  {
   "cell_type": "markdown",
   "metadata": {},
   "source": [
    "## 1.04"
   ]
  },
  {
   "cell_type": "code",
   "execution_count": 6,
   "metadata": {},
   "outputs": [
    {
     "name": "stdout",
     "output_type": "stream",
     "text": [
      "1+2+3을 계산하면  6 이된다.\n"
     ]
    }
   ],
   "source": [
    "print('1+2+3을 계산하면 ',1+2+3,'이된다.')"
   ]
  },
  {
   "cell_type": "markdown",
   "metadata": {},
   "source": [
    "## 2.02"
   ]
  },
  {
   "cell_type": "code",
   "execution_count": 10,
   "metadata": {},
   "outputs": [
    {
     "name": "stdout",
     "output_type": "stream",
     "text": [
      "닭의 수: 2\n",
      "돼지의 수: 3\n",
      "소의 수: 4\n",
      "전체 다리의 수: 32\n"
     ]
    }
   ],
   "source": [
    "chicken = print('닭의 수: 2')\n",
    "pig = print('돼지의 수: 3')\n",
    "cow = print('소의 수: 4')\n",
    "print('전체 다리의 수:', 2*2+3*4+4*4)"
   ]
  },
  {
   "cell_type": "markdown",
   "metadata": {},
   "source": [
    "## 2.04"
   ]
  },
  {
   "cell_type": "code",
   "execution_count": 12,
   "metadata": {},
   "outputs": [
    {
     "name": "stdout",
     "output_type": "stream",
     "text": [
      "시간을 입력하시오:1\n",
      "분을 입력하시오:3\n",
      "1 시간 3 분은 3780 초입니다.\n"
     ]
    }
   ],
   "source": [
    "hour =int(input('시간을 입력하시오:'))\n",
    "min =int(input('분을 입력하시오:'))\n",
    "sec = hour*3600 + min*60\n",
    "print(hour,'시간',min,'분은',sec,'초입니다.')"
   ]
  },
  {
   "cell_type": "markdown",
   "metadata": {},
   "source": [
    "## 2.07"
   ]
  },
  {
   "cell_type": "code",
   "execution_count": 13,
   "metadata": {},
   "outputs": [
    {
     "name": "stdout",
     "output_type": "stream",
     "text": [
      "x1=0\n",
      "y1=0\n",
      "x2=100\n",
      "y2=100\n",
      "두점 사이의 거리= 141.4213562373095\n"
     ]
    }
   ],
   "source": [
    "from math import sqrt\n",
    "\n",
    "x1 =int(input('x1='))\n",
    "y1 =int(input('y1='))\n",
    "x2 =int(input('x2='))\n",
    "y2 =int(input('y2='))\n",
    "formula = sqrt((x1-x2)**2 + (y1-y2)**2)\n",
    "print('두점 사이의 거리=',formula)"
   ]
  },
  {
   "cell_type": "markdown",
   "metadata": {},
   "source": [
    "## 2.08"
   ]
  },
  {
   "cell_type": "code",
   "execution_count": 19,
   "metadata": {},
   "outputs": [
    {
     "name": "stdout",
     "output_type": "stream",
     "text": [
      "정수=1234\n",
      "10\n"
     ]
    }
   ],
   "source": [
    "n = int(input(\"정수=\"))\n",
    "n1 = int(str(n)[0])\n",
    "n2 = int(str(n)[1])\n",
    "n3 = int(str(n)[2])\n",
    "n4 = int(str(n)[3])\n",
    "print(n1+n2+n3+n4)"
   ]
  },
  {
   "cell_type": "markdown",
   "metadata": {},
   "source": [
    "##  2.12"
   ]
  },
  {
   "cell_type": "code",
   "execution_count": 34,
   "metadata": {},
   "outputs": [
    {
     "name": "stdout",
     "output_type": "stream",
     "text": [
      "숫자를 입력하시오=123456\n",
      "123,456\n"
     ]
    }
   ],
   "source": [
    "n = int(input(\"숫자를 입력하시오=\"))\n",
    "n1 = int(str(n)[:3])\n",
    "n2 = int(str(n)[3:])\n",
    "print(f'{n1},{n2}')"
   ]
  },
  {
   "cell_type": "markdown",
   "metadata": {},
   "source": [
    "# 교재"
   ]
  },
  {
   "cell_type": "markdown",
   "metadata": {},
   "source": [
    "## 3장 조건문"
   ]
  },
  {
   "cell_type": "markdown",
   "metadata": {},
   "source": [
    "### 배송비 계산 프로그램"
   ]
  },
  {
   "cell_type": "code",
   "execution_count": 26,
   "metadata": {},
   "outputs": [
    {
     "name": "stdout",
     "output_type": "stream",
     "text": [
      "상품의 가격: 30000\n",
      "배송비 =  0\n"
     ]
    }
   ],
   "source": [
    "# 사용자로부터 상품의 가격을 입력받는다.\n",
    "price = int(input(\"상품의 가격: \"))\n",
    "\n",
    "# 배송비를 결정한다.\n",
    "if price > 20000 :\n",
    "    shipping_cost = 0\n",
    "else :\n",
    "    shipping_cost = 3000\n",
    "    \n",
    "# 배송비를 출력한다.\n",
    "print(\"배송비 = \", shipping_cost)"
   ]
  },
  {
   "cell_type": "code",
   "execution_count": 30,
   "metadata": {},
   "outputs": [],
   "source": [
    "#else는 없을 수도 있다.\n",
    "shipping_cost = 3000 # 기본적으로 배송비는 3000원이다.\n",
    "if price > 20000 : # 만약 상품의 가격이 2만원 초과이면\n",
    "    shipping_cost = 0 # 배송비가 없다. "
   ]
  },
  {
   "cell_type": "markdown",
   "metadata": {},
   "source": [
    "### 부울 변수"
   ]
  },
  {
   "cell_type": "code",
   "execution_count": 31,
   "metadata": {},
   "outputs": [
    {
     "name": "stdout",
     "output_type": "stream",
     "text": [
      "True\n"
     ]
    }
   ],
   "source": [
    "radius = 100\n",
    "flag = (radius > 32)\n",
    "print(flag)"
   ]
  },
  {
   "cell_type": "code",
   "execution_count": 32,
   "metadata": {},
   "outputs": [],
   "source": [
    "expensive = price > 20000 # expensive가 부울 변수이다.\n",
    "if expensive : # 관계 수식 대신에 부울 변수가 들어가도 된다.\n",
    "    shipping_cost = 0\n",
    "else :\n",
    "    shipping_cost = 3000"
   ]
  },
  {
   "cell_type": "markdown",
   "metadata": {},
   "source": [
    "### 문자열 비교"
   ]
  },
  {
   "cell_type": "code",
   "execution_count": 35,
   "metadata": {},
   "outputs": [
    {
     "name": "stdout",
     "output_type": "stream",
     "text": [
      "True\n"
     ]
    }
   ],
   "source": [
    "s1 = \"Audrey Hepburn\"\n",
    "s2 = \"Audrey Hepburn\"\n",
    "print(s1 == s2)"
   ]
  },
  {
   "cell_type": "code",
   "execution_count": 36,
   "metadata": {},
   "outputs": [
    {
     "name": "stdout",
     "output_type": "stream",
     "text": [
      "True\n"
     ]
    }
   ],
   "source": [
    "s1 = \"Audrey Hepburn\"\n",
    "s2 = \"Grace Kelly\"\n",
    "print(s1 < s2)"
   ]
  },
  {
   "cell_type": "markdown",
   "metadata": {},
   "source": [
    "### 실수 비교"
   ]
  },
  {
   "cell_type": "code",
   "execution_count": 37,
   "metadata": {},
   "outputs": [
    {
     "name": "stdout",
     "output_type": "stream",
     "text": [
      "sqrt(3.0)*sqrt(3.0)은 3.0과 같지 않다. \n"
     ]
    }
   ],
   "source": [
    "from math import sqrt\n",
    "n = sqrt(3.0)\n",
    "if n*n == 3.0 :\n",
    "    print(\"sqrt(3.0)*sqrt(3.0)은 3.0과 같다. \")\n",
    "else :\n",
    "    print(\"sqrt(3.0)*sqrt(3.0)은 3.0과 같지 않다. \")"
   ]
  },
  {
   "cell_type": "code",
   "execution_count": 38,
   "metadata": {},
   "outputs": [
    {
     "name": "stdout",
     "output_type": "stream",
     "text": [
      "sqrt(3.0)*sqrt(3.0)은 3.0과 같다. \n"
     ]
    }
   ],
   "source": [
    "n = sqrt(3.0)\n",
    "if abs(n*n - 3.0) < 0.00001 :\n",
    "    print(\"sqrt(3.0)*sqrt(3.0)은 3.0과 같다. \")"
   ]
  },
  {
   "cell_type": "markdown",
   "metadata": {},
   "source": [
    "### Lab: 산술 퀴즈 프로그램"
   ]
  },
  {
   "cell_type": "code",
   "execution_count": 39,
   "metadata": {},
   "outputs": [
    {
     "name": "stdout",
     "output_type": "stream",
     "text": [
      "61 + 96 = 157\n",
      "True\n"
     ]
    }
   ],
   "source": [
    "import random\n",
    "x = random.randint(1, 100)\n",
    "y = random.randint(1, 100)\n",
    "answer = int(input(f\"{x} + {y} = \"))\n",
    "# 부울 변수에 결과를 저장하고 출력한다.\n",
    "flag = (answer == (x+y))\n",
    "print(flag)"
   ]
  },
  {
   "cell_type": "markdown",
   "metadata": {},
   "source": [
    "### 조건 연산자"
   ]
  },
  {
   "cell_type": "code",
   "execution_count": 40,
   "metadata": {},
   "outputs": [
    {
     "name": "stdout",
     "output_type": "stream",
     "text": [
      "첫 번째 수 =10\n",
      "두 번째 수 =20\n",
      "큰 수= 20 작은 수= 10\n"
     ]
    }
   ],
   "source": [
    "x = int(input(\"첫 번째 수 =\"))\n",
    "y = int(input(\"두 번째 수 =\"))\n",
    "max_value = (x if x > y else y)\n",
    "min_value = (y if x > y else x)\n",
    "print(\"큰 수=\", max_value, \"작은 수=\", min_value)"
   ]
  },
  {
   "cell_type": "markdown",
   "metadata": {},
   "source": [
    "### Lab: 산술 퀴즈 프로그램"
   ]
  },
  {
   "cell_type": "code",
   "execution_count": 41,
   "metadata": {},
   "outputs": [
    {
     "name": "stdout",
     "output_type": "stream",
     "text": [
      "정수를 입력하시오: 10\n",
      "짝수입니다.\n"
     ]
    }
   ],
   "source": [
    "number = int(input(\"정수를 입력하시오: \"))\n",
    "if number % 2 == 0 :\n",
    "    print(\"짝수입니다.\")\n",
    "else:\n",
    "    print(\"홀수입니다.\")"
   ]
  },
  {
   "cell_type": "markdown",
   "metadata": {},
   "source": [
    "### Lab: 세일 가격 계산"
   ]
  },
  {
   "cell_type": "code",
   "execution_count": 42,
   "metadata": {},
   "outputs": [
    {
     "name": "stdout",
     "output_type": "stream",
     "text": [
      "정가를 입력하시오: 200\n",
      "10층에서 사은품을 받아가세요.\n",
      "할인된 상품의 가격= 170.0\n"
     ]
    }
   ],
   "source": [
    "price = int(input(\"정가를 입력하시오: \"))\n",
    "if price >= 100 :\n",
    "    dis_rate = 0.85\n",
    "    print(\"10층에서 사은품을 받아가세요.\")\n",
    "else :\n",
    "    dis_rate = 0.90\n",
    "dis_price = dis_rate * price\n",
    "print(\"할인된 상품의 가격=\", dis_price)"
   ]
  },
  {
   "cell_type": "markdown",
   "metadata": {},
   "source": [
    "### 논리연산자"
   ]
  },
  {
   "cell_type": "code",
   "execution_count": 44,
   "metadata": {},
   "outputs": [
    {
     "name": "stdout",
     "output_type": "stream",
     "text": [
      "가격을 입력하시오: 30000\n",
      "카드 종류를 입력하시오: python\n",
      "배송료가 없습니다.\n"
     ]
    }
   ],
   "source": [
    "price = int(input(\"가격을 입력하시오: \"))\n",
    "card = input(\"카드 종류를 입력하시오: \")\n",
    "if price > 20000 and card == \"python\" :\n",
    "    print(\"배송료가 없습니다.\")\n",
    "else:\n",
    "    print(\"배송료는 3000원입니다.\")"
   ]
  },
  {
   "cell_type": "markdown",
   "metadata": {},
   "source": [
    "### Lab: 동전 던지기 게임"
   ]
  },
  {
   "cell_type": "code",
   "execution_count": 45,
   "metadata": {},
   "outputs": [
    {
     "name": "stdout",
     "output_type": "stream",
     "text": [
      "동전 던지기 게임을 시작합니다.\n",
      "앞면입니다.\n",
      "게임이 종료되었습니다.\n"
     ]
    }
   ],
   "source": [
    "import random\n",
    "print(\"동전 던지기 게임을 시작합니다.\")\n",
    "coin = random.randrange(2)\n",
    "if coin == 0 :\n",
    "    print(\"앞면입니다.\")\n",
    "else :\n",
    "    print(\"뒷면입니다.\")\n",
    "print(\"게임이 종료되었습니다.\")"
   ]
  },
  {
   "cell_type": "markdown",
   "metadata": {},
   "source": [
    "### 배송비 계산 프로그램"
   ]
  },
  {
   "cell_type": "code",
   "execution_count": 46,
   "metadata": {},
   "outputs": [
    {
     "name": "stdout",
     "output_type": "stream",
     "text": [
      "배송지(현재는 korea와 us만 가능): us\n",
      "상품의 가격: 120000\n",
      "배송비 =  0\n"
     ]
    }
   ],
   "source": [
    "# 사용자로부터 상품의 가격을 입력받는다.\n",
    "country = input(\"배송지(현재는 korea와 us만 가능): \")\n",
    "price = int(input(\"상품의 가격: \"))\n",
    "# 배송비를 결정한다.\n",
    "if country == \"korea\" :\n",
    "    if price >= 20000 :\n",
    "        shipping_cost = 0\n",
    "    else :\n",
    "        shipping_cost = 3000\n",
    "else :\n",
    "    if price >= 100000 :\n",
    "        shipping_cost = 0\n",
    "    else :\n",
    "        shipping_cost = 8000\n",
    "# 배송비를 출력한다.\n",
    "print(\"배송비 = \", shipping_cost)"
   ]
  },
  {
   "cell_type": "markdown",
   "metadata": {},
   "source": [
    "### 연속 if문"
   ]
  },
  {
   "cell_type": "code",
   "execution_count": 47,
   "metadata": {},
   "outputs": [
    {
     "name": "stdout",
     "output_type": "stream",
     "text": [
      "정수를 입력하시오: 10\n",
      "양수입니다.\n"
     ]
    }
   ],
   "source": [
    "num = int(input(\"정수를 입력하시오: \"))\n",
    "if num > 0:\n",
    "    print(\"양수입니다.\")\n",
    "elif num == 0:\n",
    "    print(\"0입니다.\")\n",
    "else:\n",
    "    print(\"음수입니다.\")\n"
   ]
  },
  {
   "cell_type": "markdown",
   "metadata": {},
   "source": [
    "### 학점 결정 예제"
   ]
  },
  {
   "cell_type": "code",
   "execution_count": 48,
   "metadata": {},
   "outputs": [
    {
     "name": "stdout",
     "output_type": "stream",
     "text": [
      "성적을 입력하시오: 88\n",
      "학점 B\n"
     ]
    }
   ],
   "source": [
    "score = int(input(\"성적을 입력하시오: \"))\n",
    "if score >= 90 :\n",
    "    print(\"학점 A\")\n",
    "elif score >= 80 :\n",
    "    print(\"학점 B\")\n",
    "elif score >= 70 :\n",
    "    print(\"학점 C\")\n",
    "elif score >= 60 :\n",
    "    print(\"학점 D\")\n",
    "else :\n",
    "    print(\"학점 F\")"
   ]
  },
  {
   "cell_type": "markdown",
   "metadata": {},
   "source": [
    "### Lab: 리히터 규모"
   ]
  },
  {
   "cell_type": "code",
   "execution_count": 49,
   "metadata": {},
   "outputs": [
    {
     "name": "stdout",
     "output_type": "stream",
     "text": [
      "리히터 규모를 입력하시오: 5.2\n",
      "빈약한 건물에 큰 피해가 있습니다. \n"
     ]
    }
   ],
   "source": [
    "scale = float(input(\"리히터 규모를 입력하시오: \"))\n",
    "if scale >= 8.0 :\n",
    "    print(\"대부분의 구조물이 파괴됩니다. \")\n",
    "elif scale >= 7.0 :\n",
    "    print(\"지표면에 균열이 발생합니다.\")\n",
    "elif scale >= 4.0 :\n",
    "    print(\"빈약한 건물에 큰 피해가 있습니다. \")\n",
    "elif scale >= 2.0 :\n",
    "    print(\"물건들이 흔들리거나 떨어집니다.\")\n",
    "else :\n",
    "    print(\"지진계에 의해서만 탐지 가능합니다. \")"
   ]
  },
  {
   "cell_type": "markdown",
   "metadata": {},
   "source": [
    "### Lab: 8 매직볼"
   ]
  },
  {
   "cell_type": "code",
   "execution_count": 54,
   "metadata": {},
   "outputs": [
    {
     "name": "stdout",
     "output_type": "stream",
     "text": [
      "행운의 매직볼로 오늘의 운세를 출력합니다. \n",
      "좋아 보이네요\n"
     ]
    }
   ],
   "source": [
    "import random\n",
    "print(\"행운의 매직볼로 오늘의 운세를 출력합니다. \")\n",
    "answers = random.randint(1, 8)\n",
    "if answers == 1:\n",
    "    print(\"확실히 이루어집니다.\")\n",
    "elif answers == 2:\n",
    "    print(\"좋아 보이네요\")\n",
    "elif answers == 3:\n",
    "    print(\"믿으셔도 됩니다.\")\n",
    "elif answers == 4:\n",
    "    print(\"저의 생각에는 no입니다.\")\n",
    "else:\n",
    "    print(\"다시 질문해주세요.\")"
   ]
  },
  {
   "cell_type": "markdown",
   "metadata": {},
   "source": [
    "### Lab: 사용자 입력 검증하기"
   ]
  },
  {
   "cell_type": "code",
   "execution_count": 55,
   "metadata": {},
   "outputs": [
    {
     "name": "stdout",
     "output_type": "stream",
     "text": [
      "========================\n",
      "메뉴 1번: 치즈 버거\n",
      "메뉴 2번: 치킨 버거\n",
      "메뉴 3번: 불고기 버거\n",
      "========================\n",
      "메뉴를 선택하세요:5\n",
      "잘못 입력하셨습니다.\n"
     ]
    }
   ],
   "source": [
    "print(\"========================\")\n",
    "print(\"메뉴 1번: 치즈 버거\")\n",
    "print(\"메뉴 2번: 치킨 버거\")\n",
    "print(\"메뉴 3번: 불고기 버거\")\n",
    "print(\"========================\")\n",
    "selection = int(input(\"메뉴를 선택하세요:\"))\n",
    "if selection >= 1 and selection <= 3 :\n",
    "    print(\"메뉴 \", selection)\n",
    "else :\n",
    "    print(\"잘못 입력하셨습니다.\")"
   ]
  },
  {
   "cell_type": "markdown",
   "metadata": {},
   "source": [
    "### 올바른 삼각형 구분"
   ]
  },
  {
   "cell_type": "code",
   "execution_count": 56,
   "metadata": {},
   "outputs": [
    {
     "name": "stdout",
     "output_type": "stream",
     "text": [
      "삼각형의 한 변을 입력하시오: 8\n",
      "삼각형의 한 변을 입력하시오: 10\n",
      "삼각형의 한 변을 입력하시오: 3\n",
      "올바른 삼각형\n"
     ]
    }
   ],
   "source": [
    "a = int(input(\"삼각형의 한 변을 입력하시오: \"))\n",
    "b = int(input(\"삼각형의 한 변을 입력하시오: \"))\n",
    "c = int(input(\"삼각형의 한 변을 입력하시오: \"))\n",
    "if (a + b) > c and (b + c) > a and (a + c) > b :\n",
    "    print(\"올바른 삼각형\")\n",
    "else :\n",
    "    print(\"올바르지 않은 삼각형\")"
   ]
  },
  {
   "cell_type": "markdown",
   "metadata": {},
   "source": [
    "## 4장 반복문"
   ]
  },
  {
   "cell_type": "markdown",
   "metadata": {},
   "source": [
    "### 리슽트에 동적으로 항목 추가"
   ]
  },
  {
   "cell_type": "code",
   "execution_count": 57,
   "metadata": {},
   "outputs": [
    {
     "name": "stdout",
     "output_type": "stream",
     "text": [
      "[1, 2, 6, 3]\n"
     ]
    }
   ],
   "source": [
    "list = [] # 공백 리스트를 생성한다.\n",
    "list.append(1) # 리스트에 정수 1을 추가한다.\n",
    "list.append(2) # 리스트에 정수 2을 추가한다.\n",
    "list.append(6) # 리스트에 정수 6을 추가한다.\n",
    "list.append(3) # 리스트에 정수 3을 추가한다.\n",
    "print(list)"
   ]
  },
  {
   "cell_type": "markdown",
   "metadata": {},
   "source": [
    "### 리스트 항목 변경"
   ]
  },
  {
   "cell_type": "code",
   "execution_count": 58,
   "metadata": {},
   "outputs": [
    {
     "name": "stdout",
     "output_type": "stream",
     "text": [
      "['영어', '수학', '사회', '컴퓨터']\n"
     ]
    }
   ],
   "source": [
    "slist = [ \"영어\", \"수학\", \"사회\", \"과학\" ]\n",
    "slist[-1] = \"컴퓨터\"\n",
    "print(slist)"
   ]
  },
  {
   "cell_type": "markdown",
   "metadata": {},
   "source": [
    "### 중간점검"
   ]
  },
  {
   "cell_type": "code",
   "execution_count": 59,
   "metadata": {},
   "outputs": [
    {
     "name": "stdout",
     "output_type": "stream",
     "text": [
      "i= 9\n",
      "i= 8\n",
      "i= 7\n",
      "i= 6\n",
      "i= 5\n"
     ]
    }
   ],
   "source": [
    "for i in [9, 8, 7, 6, 5] :\n",
    "    print(\"i=\", i)"
   ]
  },
  {
   "cell_type": "markdown",
   "metadata": {},
   "source": [
    "### range 함수"
   ]
  },
  {
   "cell_type": "code",
   "execution_count": 60,
   "metadata": {},
   "outputs": [
    {
     "name": "stdout",
     "output_type": "stream",
     "text": [
      "1 2 3 4 5 "
     ]
    }
   ],
   "source": [
    "for i in range(1, 6, 1):\n",
    "    print(i, end=\" \")"
   ]
  },
  {
   "cell_type": "code",
   "execution_count": 61,
   "metadata": {},
   "outputs": [
    {
     "name": "stdout",
     "output_type": "stream",
     "text": [
      "10 9 8 7 6 5 4 3 2 1 "
     ]
    }
   ],
   "source": [
    "for i in range(10, 0, -1):\n",
    "    print(i, end=\" \")"
   ]
  },
  {
   "cell_type": "code",
   "execution_count": 62,
   "metadata": {},
   "outputs": [
    {
     "name": "stdout",
     "output_type": "stream",
     "text": [
      "합= 55\n"
     ]
    }
   ],
   "source": [
    "sum = 0\n",
    "n = 10\n",
    "for i in range(1, n+1) :\n",
    "    sum = sum + i\n",
    "print(\"합=\", sum)"
   ]
  },
  {
   "cell_type": "code",
   "execution_count": 63,
   "metadata": {},
   "outputs": [
    {
     "name": "stdout",
     "output_type": "stream",
     "text": [
      "9 * 1 = 9\n",
      "9 * 2 = 18\n",
      "9 * 3 = 27\n",
      "9 * 4 = 36\n",
      "9 * 5 = 45\n"
     ]
    }
   ],
   "source": [
    "for i in range(1, 6) :\n",
    "    print(\"9 *\", i, \"=\", 9*i)"
   ]
  },
  {
   "cell_type": "markdown",
   "metadata": {},
   "source": [
    "### Lab: 팩토리얼 계산하기"
   ]
  },
  {
   "cell_type": "code",
   "execution_count": 64,
   "metadata": {},
   "outputs": [
    {
     "name": "stdout",
     "output_type": "stream",
     "text": [
      "정수를 입력하시오: 10\n",
      "10 !은 3628800 이다.\n"
     ]
    }
   ],
   "source": [
    "n = int(input(\"정수를 입력하시오: \"))\n",
    "fact = 1\n",
    "for i in range(1, n+1):\n",
    "    fact = fact * i\n",
    "print(n, \"!은\", fact, \"이다.\")"
   ]
  },
  {
   "cell_type": "markdown",
   "metadata": {},
   "source": [
    "### 도전문제"
   ]
  },
  {
   "cell_type": "code",
   "execution_count": 65,
   "metadata": {},
   "outputs": [
    {
     "name": "stdout",
     "output_type": "stream",
     "text": [
      "정수를 입력하시오: 10\n",
      "10 !은 3628800 이다.\n"
     ]
    }
   ],
   "source": [
    "n = int(input(\"정수를 입력하시오: \"))\n",
    "fact = 1\n",
    "for i in range(n,0,-1):\n",
    "    fact = fact * i\n",
    "print(n, \"!은\", fact, \"이다.\")"
   ]
  },
  {
   "cell_type": "markdown",
   "metadata": {},
   "source": [
    "### Lab: 방정식의 해 구하기"
   ]
  },
  {
   "cell_type": "code",
   "execution_count": 66,
   "metadata": {},
   "outputs": [
    {
     "name": "stdout",
     "output_type": "stream",
     "text": [
      "방정식의 해는  1.62\n"
     ]
    }
   ],
   "source": [
    "COUNT = 100\n",
    "START = 1.0\n",
    "END = 2.0\n",
    "for i in range(COUNT):\n",
    "    x = START + i*((END-START)/COUNT)\n",
    "    f = (x**2 -x -1)\n",
    "    if abs(f-0.0) < 0.01 :\n",
    "        print(\"방정식의 해는 \", x)"
   ]
  },
  {
   "cell_type": "markdown",
   "metadata": {},
   "source": [
    "### 조건 제어 반복"
   ]
  },
  {
   "cell_type": "code",
   "execution_count": 67,
   "metadata": {},
   "outputs": [
    {
     "name": "stdout",
     "output_type": "stream",
     "text": [
      "11 년\n"
     ]
    }
   ],
   "source": [
    "TARGET = 2000 # 목표 금액\n",
    "money = 1000 # 초기 자금\n",
    "year = 0 # 연도\n",
    "rate = 0.07 # 이자율\n",
    "# 현재 금액이 목표 금액보다 작으면 반복한다.\n",
    "while money < TARGET :\n",
    "    money = money + money * rate\n",
    "    year = year + 1\n",
    "print(year, \"년\")"
   ]
  },
  {
   "cell_type": "markdown",
   "metadata": {},
   "source": [
    "### 예제: 1과 10까지의 합 계산하기"
   ]
  },
  {
   "cell_type": "code",
   "execution_count": 68,
   "metadata": {},
   "outputs": [
    {
     "name": "stdout",
     "output_type": "stream",
     "text": [
      "합계는 55\n"
     ]
    }
   ],
   "source": [
    "i = 1\n",
    "sum = 0\n",
    "# i 값이 10보다 작으면 반복\n",
    "while i <= 10 :\n",
    "    sum = sum + i\n",
    "    i = i + 1\n",
    "print(\"합계는\", sum)"
   ]
  },
  {
   "cell_type": "markdown",
   "metadata": {},
   "source": [
    "### else가 있는 while 루프"
   ]
  },
  {
   "cell_type": "code",
   "execution_count": 69,
   "metadata": {},
   "outputs": [
    {
     "name": "stdout",
     "output_type": "stream",
     "text": [
      "루프 안쪽\n",
      "루프 안쪽\n",
      "루프 안쪽\n",
      "else 부분\n"
     ]
    }
   ],
   "source": [
    "i = 0\n",
    "while i < 3:\n",
    "    print(\"루프 안쪽\")\n",
    "    i = i + 1\n",
    "else:\n",
    "    print(\"else 부분\")\n"
   ]
  },
  {
   "cell_type": "markdown",
   "metadata": {},
   "source": [
    "### Lab: 구구단 출력"
   ]
  },
  {
   "cell_type": "code",
   "execution_count": 70,
   "metadata": {},
   "outputs": [
    {
     "name": "stdout",
     "output_type": "stream",
     "text": [
      "원하는 단은: 9\n",
      "9*1=9\n",
      "9*2=18\n",
      "9*3=27\n",
      "9*4=36\n",
      "9*5=45\n",
      "9*6=54\n",
      "9*7=63\n",
      "9*8=72\n",
      "9*9=81\n"
     ]
    }
   ],
   "source": [
    "dan = int(input(\"원하는 단은: \"))\n",
    "i = 1\n",
    "while i <= 9:\n",
    "    print(\"%s*%s=%s\" % (dan, i, dan*i))\n",
    "    i = i + 1\n"
   ]
  },
  {
   "cell_type": "markdown",
   "metadata": {},
   "source": [
    "### Lab: 숫자 맞추기 게임"
   ]
  },
  {
   "cell_type": "code",
   "execution_count": 71,
   "metadata": {},
   "outputs": [
    {
     "name": "stdout",
     "output_type": "stream",
     "text": [
      "1부터 100 사이의 숫자를 맞추시오\n",
      "숫자를 입력하시오: 50\n",
      "너무 높음!\n",
      "숫자를 입력하시오: 30\n",
      "너무 높음!\n",
      "숫자를 입력하시오: 14\n",
      "너무 높음!\n",
      "숫자를 입력하시오: 11\n",
      "너무 높음!\n",
      "숫자를 입력하시오: 10\n",
      "너무 높음!\n",
      "숫자를 입력하시오: 4\n",
      "너무 낮음!\n",
      "숫자를 입력하시오: 5\n",
      "너무 낮음!\n",
      "숫자를 입력하시오: 6\n",
      "너무 낮음!\n",
      "숫자를 입력하시오: 7\n",
      "너무 낮음!\n",
      "숫자를 입력하시오: 8\n",
      "축하합니다. 시도횟수= 10\n"
     ]
    }
   ],
   "source": [
    "import random\n",
    "tries = 0 # 시도 횟수\n",
    "guess = 0; # 사용자의 추측값\n",
    "answer = random.randint(1, 100) # 1과 100사이의 난수\n",
    "print(\"1부터 100 사이의 숫자를 맞추시오\")\n",
    "while guess != answer:\n",
    "    guess = int(input(\"숫자를 입력하시오: \"))\n",
    "    tries = tries + 1\n",
    "    if guess < answer:\n",
    "        print(\"너무 낮음!\")\n",
    "    elif guess > answer:\n",
    "        print(\"너무 높음!\")\n",
    "if guess == answer:\n",
    "    print(\"축하합니다. 시도횟수=\", tries)\n",
    "else:\n",
    "    print(\"정답은 \", answer)"
   ]
  },
  {
   "cell_type": "code",
   "execution_count": null,
   "metadata": {},
   "outputs": [],
   "source": []
  }
 ],
 "metadata": {
  "kernelspec": {
   "display_name": "Python 3",
   "language": "python",
   "name": "python3"
  },
  "language_info": {
   "codemirror_mode": {
    "name": "ipython",
    "version": 3
   },
   "file_extension": ".py",
   "mimetype": "text/x-python",
   "name": "python",
   "nbconvert_exporter": "python",
   "pygments_lexer": "ipython3",
   "version": "3.8.5"
  },
  "toc": {
   "base_numbering": 1,
   "nav_menu": {},
   "number_sections": true,
   "sideBar": true,
   "skip_h1_title": false,
   "title_cell": "Table of Contents",
   "title_sidebar": "Contents",
   "toc_cell": false,
   "toc_position": {},
   "toc_section_display": true,
   "toc_window_display": false
  },
  "varInspector": {
   "cols": {
    "lenName": 16,
    "lenType": 16,
    "lenVar": 40
   },
   "kernels_config": {
    "python": {
     "delete_cmd_postfix": "",
     "delete_cmd_prefix": "del ",
     "library": "var_list.py",
     "varRefreshCmd": "print(var_dic_list())"
    },
    "r": {
     "delete_cmd_postfix": ") ",
     "delete_cmd_prefix": "rm(",
     "library": "var_list.r",
     "varRefreshCmd": "cat(var_dic_list()) "
    }
   },
   "types_to_exclude": [
    "module",
    "function",
    "builtin_function_or_method",
    "instance",
    "_Feature"
   ],
   "window_display": false
  }
 },
 "nbformat": 4,
 "nbformat_minor": 4
}
