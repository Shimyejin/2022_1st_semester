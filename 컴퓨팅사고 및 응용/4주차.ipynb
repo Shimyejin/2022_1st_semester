{
 "cells": [
  {
   "cell_type": "markdown",
   "metadata": {},
   "source": [
    "# 실습"
   ]
  },
  {
   "cell_type": "markdown",
   "metadata": {},
   "source": [
    "## 4.10"
   ]
  },
  {
   "cell_type": "code",
   "execution_count": 1,
   "metadata": {},
   "outputs": [
    {
     "name": "stdout",
     "output_type": "stream",
     "text": [
      "n의 값을 입력:10\n",
      "계산값은 385 입니다.\n"
     ]
    }
   ],
   "source": [
    "result = []\n",
    "n = int(input(\"n의 값을 입력:\"))\n",
    "\n",
    "for i in range(1,n+1):\n",
    "    result.append(i**2)\n",
    "    \n",
    "res = sum(result)\n",
    "print(\"계산값은\",res,\"입니다.\")"
   ]
  },
  {
   "cell_type": "markdown",
   "metadata": {},
   "source": [
    "## 4.13"
   ]
  },
  {
   "cell_type": "code",
   "execution_count": 2,
   "metadata": {},
   "outputs": [
    {
     "name": "stdout",
     "output_type": "stream",
     "text": [
      "몇 번째 항까지 구할까요? 9\n",
      "0,1,1,2,3,5,8,13,21,34\n"
     ]
    }
   ],
   "source": [
    "def fib(n):\n",
    "    if n == 0:\n",
    "        return 0\n",
    "    elif n == 1 or n == 2:\n",
    "        return 1\n",
    "    else:\n",
    "        return fib(n - 1) + fib(n - 2)\n",
    "\n",
    "f = []\n",
    "numbers = int(input('몇 번째 항까지 구할까요? '))\n",
    "for i in range(numbers+1):\n",
    "    f.append(fib(i))\n",
    "print(*f,sep=\",\")"
   ]
  },
  {
   "cell_type": "markdown",
   "metadata": {},
   "source": [
    "## 5.01"
   ]
  },
  {
   "cell_type": "code",
   "execution_count": 3,
   "metadata": {},
   "outputs": [
    {
     "name": "stdout",
     "output_type": "stream",
     "text": [
      "get_peri() = 78.5423\n",
      "get_peri(4.0) = 50.267072\n"
     ]
    }
   ],
   "source": [
    "def get_peri(r = 5.0):\n",
    "    if r == 5.0:\n",
    "        print(f\"get_peri() = {3.141692*r**2}\")\n",
    "    else:\n",
    "        print(f\"get_peri({r}) = {3.141692*r**2}\")\n",
    "\n",
    "get_peri()\n",
    "get_peri(4.0)"
   ]
  },
  {
   "cell_type": "markdown",
   "metadata": {},
   "source": [
    "## 5.03"
   ]
  },
  {
   "cell_type": "code",
   "execution_count": 4,
   "metadata": {},
   "outputs": [
    {
     "name": "stdout",
     "output_type": "stream",
     "text": [
      "첫 번째 정수를 입력하시오: 10\n",
      "두 번째 정수를 입력하시오: 20\n",
      "30, -10, 200. 0.5이 반환되었습니다\n"
     ]
    }
   ],
   "source": [
    "def calc(x,y):\n",
    "    print(f'{x+y}, {x-y}, {x*y}. {x/y}이 반환되었습니다')\n",
    "\n",
    "x = int(input('첫 번째 정수를 입력하시오: '))\n",
    "y = int(input('두 번째 정수를 입력하시오: '))\n",
    "calc(x,y)"
   ]
  },
  {
   "cell_type": "markdown",
   "metadata": {},
   "source": [
    "## 5.08"
   ]
  },
  {
   "cell_type": "code",
   "execution_count": 5,
   "metadata": {},
   "outputs": [
    {
     "name": "stdout",
     "output_type": "stream",
     "text": [
      "세 자리 정수를 입력:999\n"
     ]
    },
    {
     "data": {
      "text/plain": [
       "'구백 구십 구 '"
      ]
     },
     "execution_count": 5,
     "metadata": {},
     "output_type": "execute_result"
    }
   ],
   "source": [
    "def change(x):\n",
    "    units = ['']+list('십백천')\n",
    "    nums = list('일이삼사오율칠팔구')\n",
    "    result = []\n",
    "    i = 0\n",
    "    while x > 0:\n",
    "        x,r = divmod(x,10)\n",
    "        if r > 0:\n",
    "            result.append(nums[r-1]+units[i]+' ')\n",
    "        i += 1\n",
    "    return ''.join(result[::-1])\n",
    "\n",
    "x = int(input('세 자리 정수를 입력:'))\n",
    "change(x)"
   ]
  },
  {
   "cell_type": "markdown",
   "metadata": {},
   "source": [
    "## 5.11"
   ]
  },
  {
   "cell_type": "code",
   "execution_count": 6,
   "metadata": {},
   "outputs": [
    {
     "name": "stdout",
     "output_type": "stream",
     "text": [
      "10진수: 32\n",
      "100000\n"
     ]
    }
   ],
   "source": [
    "def deci2bin(n):\n",
    "    binary = \"\"\n",
    "\n",
    "    while n != 0:\n",
    "        value = n % 2\n",
    "        if value == 0 :\n",
    "            binary = \"0\" + binary \n",
    "        else:\n",
    "            binary = \"1\" + binary\n",
    "        n = n // 2\n",
    "        \n",
    "    return binary\n",
    "\n",
    "x = int(input(\"10진수: \"))\n",
    "print(deci2bin(x))"
   ]
  },
  {
   "cell_type": "markdown",
   "metadata": {},
   "source": [
    "# 자료구조(리스트)"
   ]
  },
  {
   "cell_type": "markdown",
   "metadata": {},
   "source": [
    "## 리스트 방문"
   ]
  },
  {
   "cell_type": "code",
   "execution_count": 7,
   "metadata": {},
   "outputs": [
    {
     "name": "stdout",
     "output_type": "stream",
     "text": [
      "28, 31, 33, 35, 27, 26, 25, "
     ]
    }
   ],
   "source": [
    "temps =[28,31,33,35,27,26,25] \n",
    "for i in range(len(temps)):\n",
    "    print(temps[i], end=', ')"
   ]
  },
  {
   "cell_type": "code",
   "execution_count": 8,
   "metadata": {},
   "outputs": [
    {
     "name": "stdout",
     "output_type": "stream",
     "text": [
      "28, 31, 33, 35, 27, 26, 25, "
     ]
    }
   ],
   "source": [
    "temps =[28,31,33,35,27,26,25] \n",
    "for element in temps:\n",
    "    print(element, end=', ')"
   ]
  },
  {
   "cell_type": "markdown",
   "metadata": {},
   "source": [
    "## zip()함수"
   ]
  },
  {
   "cell_type": "code",
   "execution_count": 9,
   "metadata": {},
   "outputs": [
    {
     "name": "stdout",
     "output_type": "stream",
     "text": [
      "What is your name? It is Kim\n",
      "What is your quest? It is 파이썬\n",
      "What is your color? It is blue\n"
     ]
    }
   ],
   "source": [
    "questions =['name','quest','color']\n",
    "answers =['Kim','파이썬','blue']\n",
    "for q, a in zip(questions, answers):\n",
    "    print(f\"What is your {q}? It is {a}\")"
   ]
  },
  {
   "cell_type": "markdown",
   "metadata": {},
   "source": [
    "## append()"
   ]
  },
  {
   "cell_type": "code",
   "execution_count": 10,
   "metadata": {},
   "outputs": [
    {
     "name": "stdout",
     "output_type": "stream",
     "text": [
      "['아이언맨', '토르']\n"
     ]
    }
   ],
   "source": [
    "heroes = [ ] # 공백 리스트를 생성한다. \n",
    "heroes.append(\"아이언맨\") # 리스트에 ”아이언맨“을 추가한다\n",
    "heroes.append(\"토르\") # 리스트에 ”토르“를 추가한다. \n",
    "print(heroes)"
   ]
  },
  {
   "cell_type": "markdown",
   "metadata": {},
   "source": [
    "## insert()"
   ]
  },
  {
   "cell_type": "code",
   "execution_count": 11,
   "metadata": {},
   "outputs": [],
   "source": [
    "heroes=['아이언맨', '토르', '헐크']\n",
    "heroes.insert(1, '스파이더맨')"
   ]
  },
  {
   "cell_type": "markdown",
   "metadata": {},
   "source": [
    "## 탐색할 때 오류를 발생시키지 않으려면"
   ]
  },
  {
   "cell_type": "code",
   "execution_count": 12,
   "metadata": {},
   "outputs": [
    {
     "name": "stdout",
     "output_type": "stream",
     "text": [
      "3\n"
     ]
    }
   ],
   "source": [
    "if \"헐크\" in heroes:\n",
    "    print(heroes.index(\"헐크\"))"
   ]
  },
  {
   "cell_type": "markdown",
   "metadata": {},
   "source": [
    "시작 위치 지정"
   ]
  },
  {
   "cell_type": "code",
   "execution_count": 13,
   "metadata": {},
   "outputs": [],
   "source": [
    "heroes = [ \"아이언맨\", \"토르\", \"헐크\", \"스칼렛 위치\", \"헐크\" ]\n",
    "n = heroes.index(\"헐크\", 3) # n은 4가 된다."
   ]
  },
  {
   "cell_type": "markdown",
   "metadata": {},
   "source": [
    "## remove()"
   ]
  },
  {
   "cell_type": "code",
   "execution_count": 14,
   "metadata": {},
   "outputs": [],
   "source": [
    "heroes = [ \"아이언맨\", \"토르\", \"헐크\" ]\n",
    "heroes.remove(\"토르\")"
   ]
  },
  {
   "cell_type": "code",
   "execution_count": 15,
   "metadata": {},
   "outputs": [],
   "source": [
    "if \"토르\" in heroes:\n",
    "    heroes.remove(\"토르\")"
   ]
  },
  {
   "cell_type": "markdown",
   "metadata": {},
   "source": [
    "## 리스트 항목의 최대값과 최소값"
   ]
  },
  {
   "cell_type": "code",
   "execution_count": 16,
   "metadata": {},
   "outputs": [
    {
     "data": {
      "text/plain": [
       "10"
      ]
     },
     "execution_count": 16,
     "metadata": {},
     "output_type": "execute_result"
    }
   ],
   "source": [
    "values = [ 1, 2, 3, 4, 5, 6, 7, 8, 9, 10 ]\n",
    "min(values) # 1\n",
    "max(values) # 10"
   ]
  },
  {
   "cell_type": "markdown",
   "metadata": {},
   "source": [
    "## 리스트 정렬"
   ]
  },
  {
   "cell_type": "code",
   "execution_count": 17,
   "metadata": {},
   "outputs": [],
   "source": [
    "a = [ 3, 2, 1, 5, 4 ]\n",
    "a.sort()"
   ]
  },
  {
   "cell_type": "code",
   "execution_count": 18,
   "metadata": {},
   "outputs": [],
   "source": [
    "heroes =['아이언맨','헐크','토르']\n",
    "heroes.sort()"
   ]
  },
  {
   "cell_type": "code",
   "execution_count": 19,
   "metadata": {},
   "outputs": [],
   "source": [
    "a =[3,2,1,5,4 ]\n",
    "a.sort(reverse=True)"
   ]
  },
  {
   "cell_type": "code",
   "execution_count": 20,
   "metadata": {},
   "outputs": [
    {
     "name": "stdout",
     "output_type": "stream",
     "text": [
      "[1, 2, 3, 4, 5, 6, 7, 8, 9, 10]\n"
     ]
    }
   ],
   "source": [
    "numbers =[10,3,7,1,9,4,2,8,5,6]\n",
    "ascending_numbers =sorted(numbers)\n",
    "print( ascending_numbers )"
   ]
  },
  {
   "cell_type": "markdown",
   "metadata": {},
   "source": [
    "## 내장함수 예"
   ]
  },
  {
   "cell_type": "code",
   "execution_count": 21,
   "metadata": {},
   "outputs": [
    {
     "name": "stdout",
     "output_type": "stream",
     "text": [
      "합= 150\n",
      "최대값= 50\n",
      "최소값= 10\n"
     ]
    }
   ],
   "source": [
    "numbers =[10,20,30,40,50]\n",
    "print(\"합=\",sum(numbers)) # 항목의 합계를 계산한다.\n",
    "print(\"최대값=\",max(numbers)) # 가장 큰 항목을 반환한다.\n",
    "print(\"최소값=\",min(numbers)) # 가장 작은 항목을 반환한다"
   ]
  },
  {
   "cell_type": "markdown",
   "metadata": {},
   "source": [
    "## 리스트에서 랜덤으로 선택하기"
   ]
  },
  {
   "cell_type": "code",
   "execution_count": 22,
   "metadata": {},
   "outputs": [
    {
     "name": "stdout",
     "output_type": "stream",
     "text": [
      "랜덤하게 선택한 항목= 5\n"
     ]
    }
   ],
   "source": [
    "import random\n",
    "numberList = [1, 2, 3, 4, 5, 6, 7, 8, 9, 10]\n",
    "print(\"랜덤하게 선택한 항목=\", random.choice(numberList))"
   ]
  },
  {
   "cell_type": "code",
   "execution_count": 23,
   "metadata": {},
   "outputs": [
    {
     "name": "stdout",
     "output_type": "stream",
     "text": [
      "랜덤하게 선택한 항목= Citizen Kane\n"
     ]
    }
   ],
   "source": [
    "import random\n",
    "movie_list = [\"Citizen Kane\", \"Singin' in the Rain\", \"Modern Times\",\"Casablanca\", \"City Lights\"]\n",
    "item = random.choice(movie_list)\n",
    "print (\"랜덤하게 선택한 항목=\", item)"
   ]
  },
  {
   "cell_type": "markdown",
   "metadata": {},
   "source": [
    "## Lab: 성적 처리 프로그램"
   ]
  },
  {
   "cell_type": "code",
   "execution_count": 24,
   "metadata": {},
   "outputs": [
    {
     "name": "stdout",
     "output_type": "stream",
     "text": [
      "성적을 입력하시요: 10\n",
      "성적을 입력하시요: 20\n",
      "성적을 입력하시요: 60\n",
      "성적을 입력하시요: 70\n",
      "성적을 입력하시요: 80\n",
      "\n",
      "성적 평균= 48.0\n",
      "최대점수= 80\n",
      "최소점수= 10\n",
      "80점 이상= 1\n"
     ]
    }
   ],
   "source": [
    "STUDENTS = 5 \n",
    "lst = [] \n",
    "count=0\n",
    "for i in range(STUDENTS):\n",
    "    value = int(input(\"성적을 입력하시요: \"))\n",
    "    lst.append(value)\n",
    "    \n",
    "print(\"\\n성적 평균=\", sum(lst) / len(lst))\n",
    "print(\"최대점수=\", max(lst))\n",
    "print(\"최소점수=\", min(lst))\n",
    "for score in lst:\n",
    "    if score >= 80:\n",
    "        count += 1\n",
    "print(\"80점 이상=\", count)\n"
   ]
  },
  {
   "cell_type": "markdown",
   "metadata": {},
   "source": [
    "## Lab: 리스트에서 2번째로 큰 수 찾기"
   ]
  },
  {
   "cell_type": "code",
   "execution_count": 25,
   "metadata": {},
   "outputs": [
    {
     "name": "stdout",
     "output_type": "stream",
     "text": [
      "두 번째로 큰 수= 15\n"
     ]
    }
   ],
   "source": [
    "list1 = [1, 2, 3, 4, 15, 99] \n",
    "# 리스트를 정렬한다. \n",
    "list1.sort() \n",
    "# 뒤에서 두 번째 요소를 출력한다. \n",
    "print(\"두 번째로 큰 수=\", list1[-2])"
   ]
  },
  {
   "cell_type": "code",
   "execution_count": 26,
   "metadata": {},
   "outputs": [
    {
     "name": "stdout",
     "output_type": "stream",
     "text": [
      "두 번째로 큰 수= 15\n"
     ]
    }
   ],
   "source": [
    "list1 = [1, 2, 3, 4, 15, 99] \n",
    "# 제일 큰 수는 삭제한다. \n",
    "list1.remove(max(list1)) \n",
    "# 그 다음으로 큰 수를 출력한다. 리스트는 변경되었다. \n",
    "print(\"두 번째로 큰 수=\", max(list1))"
   ]
  },
  {
   "cell_type": "markdown",
   "metadata": {},
   "source": [
    "## Lab: 콘테스트 평가"
   ]
  },
  {
   "cell_type": "code",
   "execution_count": 27,
   "metadata": {},
   "outputs": [
    {
     "name": "stdout",
     "output_type": "stream",
     "text": [
      "제거전 [10.0, 9.0, 8.3, 7.1, 3.0, 9.0]\n",
      "제거후 [9.0, 8.3, 7.1, 9.0]\n"
     ]
    }
   ],
   "source": [
    "scores = [10.0, 9.0, 8.3, 7.1, 3.0, 9.0]\n",
    "print(\"제거전\", scores)\n",
    "scores.remove(max(scores))\n",
    "scores.remove(min(scores))\n",
    "print(\"제거후\", scores)"
   ]
  },
  {
   "cell_type": "markdown",
   "metadata": {},
   "source": [
    "## Lab: 리스트로 스택 흉내내기"
   ]
  },
  {
   "cell_type": "code",
   "execution_count": 29,
   "metadata": {},
   "outputs": [
    {
     "name": "stdout",
     "output_type": "stream",
     "text": [
      "과일을 입력하시오: apple\n",
      "과일을 입력하시오: orange\n",
      "과일을 입력하시오: grape\n",
      "grape\n",
      "orange\n",
      "apple\n"
     ]
    }
   ],
   "source": [
    "stack = []\n",
    "for i in range(3) :\n",
    "    f = input(\"과일을 입력하시오: \")\n",
    "    stack.append(f)\n",
    "for i in range(3) :\n",
    "    print(stack.pop())"
   ]
  },
  {
   "cell_type": "markdown",
   "metadata": {},
   "source": [
    "## Lab: 친구 관리 프로그램"
   ]
  },
  {
   "cell_type": "code",
   "execution_count": 31,
   "metadata": {},
   "outputs": [
    {
     "name": "stdout",
     "output_type": "stream",
     "text": [
      "--------------------\n",
      "1. 친구 리스트 출력\n",
      "2. 친구추가\n",
      "3. 친구삭제\n",
      "4. 이름변경\n",
      "9. 종료\n",
      "메뉴를 선택하시오: 2\n",
      "이름을 입력하시오: 홍길동\n",
      "--------------------\n",
      "1. 친구 리스트 출력\n",
      "2. 친구추가\n",
      "3. 친구삭제\n",
      "4. 이름변경\n",
      "9. 종료\n",
      "메뉴를 선택하시오: 9\n"
     ]
    }
   ],
   "source": [
    "menu = 0\n",
    "friends = []\n",
    "while menu != 9:\n",
    "    print(\"--------------------\")\n",
    "    print(\"1. 친구 리스트 출력\")\n",
    "    print(\"2. 친구추가\")\n",
    "    print(\"3. 친구삭제\")\n",
    "    print(\"4. 이름변경\")\n",
    "    print(\"9. 종료\")\n",
    "    menu = int(input(\"메뉴를 선택하시오: \"))\n",
    "    if menu == 1:\n",
    "        print(friends)\n",
    "    elif menu== 2:\n",
    "        name = input(\"이름을 입력하시오: \")\n",
    "        friends.append(name)\n",
    "    elif menu == 3:\n",
    "        del_name = input(\"삭제하고 싶은 이름을 입력하시오: \")\n",
    "        if del_name in friends:\n",
    "            friends.remove(del_name) \n",
    "        else:\n",
    "            print(\"이름이 발견되지 않았음\")\n",
    "    elif menu == 4:\n",
    "        old_name = input(\"변경하고 싶은 이름을 입력하시오: \")\n",
    "        if old_name in friends:\n",
    "            index = friend.index(old_name)\n",
    "            new_name = input(\"새로운 이름을 입력하시오: \")\n",
    "            friends[index] = new_name\n",
    "        else:\n",
    "            print(\"이름이 발견되지 않았음\")\n"
   ]
  },
  {
   "cell_type": "markdown",
   "metadata": {},
   "source": [
    "## 리스트 합병과 복제"
   ]
  },
  {
   "cell_type": "code",
   "execution_count": 32,
   "metadata": {},
   "outputs": [],
   "source": [
    "heroes1 = [ \"아이언맨\", \"토르\" ]\n",
    "heroes2 = [ \"헐크\", \"스칼렛 위치\" ]\n",
    "avengers = heroes1 + heroes2"
   ]
  },
  {
   "cell_type": "code",
   "execution_count": 33,
   "metadata": {},
   "outputs": [],
   "source": [
    "numbers = [ 1, 2, 3, 4 ] * 3"
   ]
  },
  {
   "cell_type": "markdown",
   "metadata": {},
   "source": [
    "## 리스트 비교"
   ]
  },
  {
   "cell_type": "code",
   "execution_count": 34,
   "metadata": {},
   "outputs": [
    {
     "name": "stdout",
     "output_type": "stream",
     "text": [
      "True\n"
     ]
    }
   ],
   "source": [
    "list1 = [ 1, 2, 3 ]\n",
    "list2 = [ 1, 2, 3 ]\n",
    "print(list1 == list2)"
   ]
  },
  {
   "cell_type": "code",
   "execution_count": 35,
   "metadata": {},
   "outputs": [
    {
     "name": "stdout",
     "output_type": "stream",
     "text": [
      "True\n"
     ]
    }
   ],
   "source": [
    "list1 = [ 3, 4, 5 ]\n",
    "list2 = [ 1, 2, 3 ]\n",
    "print(list1 > list2)"
   ]
  },
  {
   "cell_type": "markdown",
   "metadata": {},
   "source": [
    "## 리스트 복사하기 (얕은 복사)"
   ]
  },
  {
   "cell_type": "code",
   "execution_count": 36,
   "metadata": {},
   "outputs": [
    {
     "name": "stdout",
     "output_type": "stream",
     "text": [
      "[28, 31, 33, 35, 27, 26, 25]\n",
      "[28, 31, 33, 39, 27, 26, 25]\n"
     ]
    }
   ],
   "source": [
    "temps = [28, 31, 33, 35, 27, 26, 25] \n",
    "values = temps\n",
    "print(temps) # temps 리스트 출력\n",
    "values[3] = 39 # values 리스트 변경\n",
    "print(temps) # temps 리스트가 변경되었다."
   ]
  },
  {
   "cell_type": "markdown",
   "metadata": {},
   "source": [
    "## 리스트 깊은 복사"
   ]
  },
  {
   "cell_type": "code",
   "execution_count": 37,
   "metadata": {},
   "outputs": [],
   "source": [
    "temps = [28, 31, 33, 35, 27, 26, 25] \n",
    "values = list(temps)"
   ]
  },
  {
   "cell_type": "markdown",
   "metadata": {},
   "source": [
    "## 슬라이싱(slicing)"
   ]
  },
  {
   "cell_type": "code",
   "execution_count": 38,
   "metadata": {},
   "outputs": [
    {
     "data": {
      "text/plain": [
       "[10, 20, 30, 40, 50, 60, 70, 80, 90]"
      ]
     },
     "execution_count": 38,
     "metadata": {},
     "output_type": "execute_result"
    }
   ],
   "source": [
    "numbers = [10,20,30,40,50,60,70,80,90]\n",
    "numbers[:3] # [10, 20, 30]\n",
    "numbers[3:] # [40, 50, 60, 70, 80, 90]\n",
    "numbers[:] # [10, 20, 30, 40, 50, 60, 70, 80, 90]"
   ]
  },
  {
   "cell_type": "markdown",
   "metadata": {},
   "source": [
    "## 리스트를 역순으로 만드는 방법"
   ]
  },
  {
   "cell_type": "code",
   "execution_count": 39,
   "metadata": {},
   "outputs": [
    {
     "data": {
      "text/plain": [
       "[90, 80, 70, 60, 50, 40, 30, 20, 10]"
      ]
     },
     "execution_count": 39,
     "metadata": {},
     "output_type": "execute_result"
    }
   ],
   "source": [
    "numbers = [ 10, 20, 30, 40, 50, 60, 70, 80, 90 ]\n",
    "numbers[:: -1]"
   ]
  },
  {
   "cell_type": "markdown",
   "metadata": {},
   "source": [
    "## 리스트 변경"
   ]
  },
  {
   "cell_type": "code",
   "execution_count": 40,
   "metadata": {},
   "outputs": [
    {
     "data": {
      "text/plain": [
       "['white', 'blue', 'red', 4, 5, 6, 7, 8]"
      ]
     },
     "execution_count": 40,
     "metadata": {},
     "output_type": "execute_result"
    }
   ],
   "source": [
    "lst = [1, 2, 3, 4, 5, 6, 7, 8]\n",
    "lst[0:3] = ['white', 'blue', 'red']\n",
    "lst"
   ]
  },
  {
   "cell_type": "code",
   "execution_count": 41,
   "metadata": {},
   "outputs": [
    {
     "data": {
      "text/plain": [
       "[99, 2, 99, 4, 99, 6, 99, 8]"
      ]
     },
     "execution_count": 41,
     "metadata": {},
     "output_type": "execute_result"
    }
   ],
   "source": [
    "lst = [1, 2, 3, 4, 5, 6, 7, 8]\n",
    "lst[::2] = [99, 99, 99, 99]\n",
    "lst"
   ]
  },
  {
   "cell_type": "code",
   "execution_count": 42,
   "metadata": {},
   "outputs": [
    {
     "data": {
      "text/plain": [
       "[]"
      ]
     },
     "execution_count": 42,
     "metadata": {},
     "output_type": "execute_result"
    }
   ],
   "source": [
    "lst = [1, 2, 3, 4, 5, 6, 7, 8]\n",
    "lst[:] = [ ]\n",
    "lst"
   ]
  },
  {
   "cell_type": "code",
   "execution_count": 43,
   "metadata": {},
   "outputs": [
    {
     "name": "stdout",
     "output_type": "stream",
     "text": [
      "[0, 1, 2, 3, 4, 5, 6, 7, 8, 9]\n",
      "[0, 1, 2, 3, 4, 5, 6, 7, 8]\n"
     ]
    }
   ],
   "source": [
    "numbers = list(range(0, 10)) # 0에서 시작하여 9까지를 저장하는 리스트\n",
    "print(numbers)\n",
    "del numbers[-1] # 마지막 항목을 삭제한다. \n",
    "print(numbers)"
   ]
  },
  {
   "cell_type": "markdown",
   "metadata": {},
   "source": [
    "## 문자열과 리스트"
   ]
  },
  {
   "cell_type": "code",
   "execution_count": 44,
   "metadata": {},
   "outputs": [
    {
     "name": "stdout",
     "output_type": "stream",
     "text": [
      "M\n",
      "Pyth\n",
      "Monty\n"
     ]
    }
   ],
   "source": [
    "s = \"Monty Python\"\n",
    "print(s[0]) # M\n",
    "print(s[6:10]) # Pyth\n",
    "print(s[-12:-7]) # Monty"
   ]
  },
  {
   "cell_type": "markdown",
   "metadata": {},
   "source": [
    "## Lab: 리스트 슬라이싱"
   ]
  },
  {
   "cell_type": "code",
   "execution_count": 45,
   "metadata": {},
   "outputs": [
    {
     "name": "stdout",
     "output_type": "stream",
     "text": [
      "[10, 8, 6, 4, 2]\n"
     ]
    }
   ],
   "source": [
    "numbers = [ 1, 2, 3, 4, 5, 6, 7, 8, 9, 10 ]\n",
    "reversed = numbers[::-2]\n",
    "print(reversed)"
   ]
  },
  {
   "cell_type": "code",
   "execution_count": 46,
   "metadata": {},
   "outputs": [
    {
     "name": "stdout",
     "output_type": "stream",
     "text": [
      "[1]\n"
     ]
    }
   ],
   "source": [
    "numbers = [ 1, 2, 3, 4, 5, 6, 7, 8, 9, 10 ]\n",
    "numbers[1:] = [ ]\n",
    "print(numbers)"
   ]
  },
  {
   "cell_type": "markdown",
   "metadata": {},
   "source": [
    "## 불변 객체가 함수로 전달되면"
   ]
  },
  {
   "cell_type": "code",
   "execution_count": 47,
   "metadata": {},
   "outputs": [
    {
     "name": "stdout",
     "output_type": "stream",
     "text": [
      "x= 10  id= 140716209350720\n",
      "x= 42  id= 140716209351744\n",
      "y= 10  id= 140716209350720\n"
     ]
    }
   ],
   "source": [
    "def func1(x):\n",
    "    print( \"x=\",x,\" id=\",id(x))\n",
    "    x = 42\n",
    "    print( \"x=\",x,\" id=\",id(x))\n",
    "y = 10\n",
    "func1(y)\n",
    "print( \"y=\",y,\" id=\",id(y))"
   ]
  },
  {
   "cell_type": "markdown",
   "metadata": {},
   "source": [
    "## 리스트가 함수로 전달되면"
   ]
  },
  {
   "cell_type": "code",
   "execution_count": 48,
   "metadata": {},
   "outputs": [
    {
     "name": "stdout",
     "output_type": "stream",
     "text": [
      "[99, 1, 1, 2, 3, 5, 8]\n"
     ]
    }
   ],
   "source": [
    "def func2(list):\n",
    "    list[0] = 99\n",
    "values = [0, 1, 1, 2, 3, 5, 8]\n",
    "func2(values)\n",
    "print(values)"
   ]
  },
  {
   "cell_type": "markdown",
   "metadata": {},
   "source": [
    "## Lab: 리스트 변경 함수"
   ]
  },
  {
   "cell_type": "code",
   "execution_count": 49,
   "metadata": {},
   "outputs": [
    {
     "name": "stdout",
     "output_type": "stream",
     "text": [
      "인상전 [200, 250, 300, 280, 500]\n",
      "인상후 [260.0, 325.0, 390.0, 364.0, 650.0]\n"
     ]
    }
   ],
   "source": [
    "salaries = [200, 250, 300, 280, 500]\n",
    "def modify(values, factor) :\n",
    "    for i in range(len(values)) :\n",
    "        values[i] = values[i] * factor\n",
    "print(\"인상전\", salaries)\n",
    "modify(salaries, 1.3)\n",
    "print(\"인상후\", salaries)"
   ]
  },
  {
   "cell_type": "markdown",
   "metadata": {},
   "source": [
    "## 리스트 함축"
   ]
  },
  {
   "cell_type": "code",
   "execution_count": 50,
   "metadata": {},
   "outputs": [],
   "source": [
    "squares = []\n",
    "for x in range(10):\n",
    "    squares.append(x*x)"
   ]
  },
  {
   "cell_type": "markdown",
   "metadata": {},
   "source": [
    "## 다양한 리스트 함축"
   ]
  },
  {
   "cell_type": "code",
   "execution_count": 51,
   "metadata": {},
   "outputs": [
    {
     "data": {
      "text/plain": [
       "[135, 0, 922, 356, 0, 217]"
      ]
     },
     "execution_count": 51,
     "metadata": {},
     "output_type": "execute_result"
    }
   ],
   "source": [
    "prices = [135, -545, 922, 356, -992, 217]\n",
    "mprices = [i if i > 0 else 0 for i in prices]\n",
    "mprices"
   ]
  },
  {
   "cell_type": "code",
   "execution_count": 52,
   "metadata": {},
   "outputs": [
    {
     "data": {
      "text/plain": [
       "['A', 'g', 't', 'm', 'c', 't', 'a', 'e']"
      ]
     },
     "execution_count": 52,
     "metadata": {},
     "output_type": "execute_result"
    }
   ],
   "source": [
    "words = [\"All\", \"good\", \"things\", \"must\", \"come\", \"to\", \"an\", \"end.\"]\n",
    "letters = [ w[0] for w in words ]\n",
    "letters"
   ]
  },
  {
   "cell_type": "code",
   "execution_count": 53,
   "metadata": {},
   "outputs": [
    {
     "data": {
      "text/plain": [
       "['ax', 'ay', 'az', 'bx', 'by', 'bz', 'cx', 'cy', 'cz']"
      ]
     },
     "execution_count": 53,
     "metadata": {},
     "output_type": "execute_result"
    }
   ],
   "source": [
    "numbers = [x+y for x in ['a','b','c'] for y in ['x','y','z']]\n",
    "numbers"
   ]
  },
  {
   "cell_type": "markdown",
   "metadata": {},
   "source": [
    "## Lab: 리스트 함축 사용하기"
   ]
  },
  {
   "cell_type": "code",
   "execution_count": 54,
   "metadata": {},
   "outputs": [
    {
     "name": "stdout",
     "output_type": "stream",
     "text": [
      "[0, 6, 12, 18, 24, 30, 36, 42, 48, 54, 60, 66, 72, 78, 84, 90, 96]\n"
     ]
    }
   ],
   "source": [
    "numbers = [x for x in range(100) if x % 2 == 0 and x % 3 == 0]\n",
    "print(numbers)"
   ]
  },
  {
   "cell_type": "markdown",
   "metadata": {},
   "source": [
    "## Lab: 누적값 리스트 만들기"
   ]
  },
  {
   "cell_type": "code",
   "execution_count": 55,
   "metadata": {},
   "outputs": [
    {
     "name": "stdout",
     "output_type": "stream",
     "text": [
      "원래 리스트:  [10, 20, 30, 40, 50]\n",
      "새로운 리스트:  [10, 30, 60, 100, 150]\n"
     ]
    }
   ],
   "source": [
    "list1=[10, 20, 30, 40, 50]\n",
    "list2=[sum(list1[0:x+1]) for x in range(0, len(list1))]\n",
    "print(\"원래 리스트: \",list1)\n",
    "print(\"새로운 리스트: \",list2)"
   ]
  },
  {
   "cell_type": "markdown",
   "metadata": {},
   "source": [
    "## Lab: 피타고라스 삼각형"
   ]
  },
  {
   "cell_type": "code",
   "execution_count": 56,
   "metadata": {},
   "outputs": [
    {
     "data": {
      "text/plain": [
       "[(3, 4, 5),\n",
       " (5, 12, 13),\n",
       " (6, 8, 10),\n",
       " (7, 24, 25),\n",
       " (8, 15, 17),\n",
       " (9, 12, 15),\n",
       " (10, 24, 26),\n",
       " (12, 16, 20),\n",
       " (15, 20, 25),\n",
       " (20, 21, 29)]"
      ]
     },
     "execution_count": 56,
     "metadata": {},
     "output_type": "execute_result"
    }
   ],
   "source": [
    "[(x,y,z) for x in range(1,30) for y in range(x,30) for z in range(y,30) if\n",
    "x**2 + y**2 == z**2]"
   ]
  },
  {
   "cell_type": "code",
   "execution_count": 57,
   "metadata": {},
   "outputs": [
    {
     "name": "stdout",
     "output_type": "stream",
     "text": [
      "[(3, 4, 5), (5, 12, 13), (6, 8, 10), (7, 24, 25), (8, 15, 17), (9, 12, 15), (10, 24, 26), (12, 16, 20), (15, 20, 25), (20, 21, 29)]\n"
     ]
    }
   ],
   "source": [
    "new_list = []\n",
    "for x in range(1, 30):\n",
    "    for y in range(x, 30):\n",
    "        for z in range(y, 30):\n",
    "            if x**2+y**2==z**2:\n",
    "                new_list.append((x, y, z))\n",
    "print(new_list)"
   ]
  },
  {
   "cell_type": "markdown",
   "metadata": {},
   "source": [
    "## 2차원 리스트"
   ]
  },
  {
   "cell_type": "code",
   "execution_count": 58,
   "metadata": {},
   "outputs": [
    {
     "name": "stdout",
     "output_type": "stream",
     "text": [
      "[[1, 2, 3, 4, 5], [6, 7, 8, 9, 10], [11, 12, 13, 14, 15]]\n"
     ]
    }
   ],
   "source": [
    "s = [ \n",
    "[ 1, 2, 3, 4, 5 ] ,\n",
    "[ 6, 7, 8, 9, 10 ], \n",
    "[11, 12, 13, 14, 15 ] \n",
    "]\n",
    "print(s)"
   ]
  },
  {
   "cell_type": "markdown",
   "metadata": {},
   "source": [
    "## 2차원 리스트의 구현"
   ]
  },
  {
   "cell_type": "code",
   "execution_count": 59,
   "metadata": {},
   "outputs": [
    {
     "name": "stdout",
     "output_type": "stream",
     "text": [
      "[6, 7, 8, 9, 10]\n",
      "8\n"
     ]
    }
   ],
   "source": [
    "s = [ [ 1, 2, 3, 4, 5 ] , [ 6, 7, 8, 9, 10 ], [11, 12, 13, 14, 15 ] ]\n",
    "print(s[1])\n",
    "print(s[1][2])"
   ]
  },
  {
   "cell_type": "markdown",
   "metadata": {},
   "source": [
    "## 2차원 리스트의 동적 생성"
   ]
  },
  {
   "cell_type": "code",
   "execution_count": 61,
   "metadata": {},
   "outputs": [
    {
     "name": "stdout",
     "output_type": "stream",
     "text": [
      "[[0, 0, 0, 0, 0], [0, 0, 0, 0, 0], [0, 0, 0, 0, 0]]\n"
     ]
    }
   ],
   "source": [
    "rows = 3\n",
    "cols = 5\n",
    "s = []\n",
    "for row in range(rows): \n",
    "    s += [[0]*cols]\n",
    "print(s)"
   ]
  },
  {
   "cell_type": "code",
   "execution_count": 62,
   "metadata": {},
   "outputs": [
    {
     "name": "stdout",
     "output_type": "stream",
     "text": [
      "[0, 0, 0, 0, 0, 0, 0, 0, 0, 0, 0, 0, 0, 0, 0]\n"
     ]
    }
   ],
   "source": [
    "rows = 3\n",
    "cols = 5\n",
    "s = []\n",
    "for row in range(rows): \n",
    "    s += [0]*cols # 1차원 리스트끼리 합쳐진다. \n",
    "print(s)"
   ]
  },
  {
   "cell_type": "markdown",
   "metadata": {},
   "source": [
    "## 리스트 함축을 이용하는 방법"
   ]
  },
  {
   "cell_type": "code",
   "execution_count": 63,
   "metadata": {},
   "outputs": [
    {
     "name": "stdout",
     "output_type": "stream",
     "text": [
      "[[0, 0, 0, 0, 0], [0, 0, 0, 0, 0], [0, 0, 0, 0, 0]]\n"
     ]
    }
   ],
   "source": [
    "rows = 3\n",
    "cols = 5\n",
    "s = [([0] * cols) for row in range(rows)]\n",
    "print(s)"
   ]
  },
  {
   "cell_type": "markdown",
   "metadata": {},
   "source": [
    "## 2차원 리스트 요소 접근"
   ]
  },
  {
   "cell_type": "code",
   "execution_count": 64,
   "metadata": {},
   "outputs": [
    {
     "name": "stdout",
     "output_type": "stream",
     "text": [
      "1,2,3,4,5,\n",
      "6,7,8,9,10,\n",
      "11,12,13,14,15,\n"
     ]
    }
   ],
   "source": [
    "s = [ [ 1, 2, 3, 4, 5 ] ,\n",
    "[ 6, 7, 8, 9, 10 ], \n",
    "[11, 12, 13, 14, 15 ] ]\n",
    "\n",
    "# 행과 열의 개수를 구한다. \n",
    "rows = len(s)\n",
    "cols = len(s[0])\n",
    "for r in range(rows):\n",
    "    for c in range(cols):\n",
    "        print(s[r][c], end=\",\")\n",
    "    print()\n"
   ]
  },
  {
   "cell_type": "markdown",
   "metadata": {},
   "source": [
    "## 2차원 리스트를 함수로 넘기기"
   ]
  },
  {
   "cell_type": "code",
   "execution_count": 65,
   "metadata": {},
   "outputs": [],
   "source": [
    "def sum(numbers) :\n",
    "    total = 0\n",
    "    for i in range(len(numbers)) :\n",
    "        for j in range(len(numbers[0])) :\n",
    "            total = total + numbers[i][j]\n",
    "        return total\n"
   ]
  },
  {
   "cell_type": "markdown",
   "metadata": {},
   "source": [
    "## 2차원 리스트와 리스트 함축"
   ]
  },
  {
   "cell_type": "code",
   "execution_count": 76,
   "metadata": {},
   "outputs": [
    {
     "name": "stdout",
     "output_type": "stream",
     "text": [
      "[[0, 1, 2, 3, 4], [0, 1, 2, 3, 4], [0, 1, 2, 3, 4], [0, 1, 2, 3, 4], [0, 1, 2, 3, 4], [0, 1, 2, 3, 4]]\n"
     ]
    }
   ],
   "source": [
    "matrix = [[i for i in range(5)] for _ in range(6)]\n",
    "print(matrix)"
   ]
  },
  {
   "cell_type": "code",
   "execution_count": 77,
   "metadata": {},
   "outputs": [
    {
     "name": "stdout",
     "output_type": "stream",
     "text": [
      "[0, 0, 0, 1, 1, 1, 2, 2, 2]\n"
     ]
    }
   ],
   "source": [
    "matrix = [ [0, 0, 0], [1, 1, 1], [2, 2, 2] ]\n",
    "result = [num for row in matrix for num in row]\n",
    "print(result)"
   ]
  },
  {
   "cell_type": "markdown",
   "metadata": {},
   "source": [
    "## Lab: 전치 행렬 계산"
   ]
  },
  {
   "cell_type": "code",
   "execution_count": 78,
   "metadata": {},
   "outputs": [
    {
     "name": "stdout",
     "output_type": "stream",
     "text": [
      "원래 행렬= [[1, 2, 3], [4, 5, 6], [7, 8, 9]]\n",
      "전치 행렬= [[1, 4, 7], [2, 5, 8], [3, 6, 9]]\n"
     ]
    }
   ],
   "source": [
    "transposed = []\n",
    "matrix = [[1, 2, 3], [4, 5, 6], [7, 8, 9]]\n",
    "print(\"원래 행렬=\", matrix)\n",
    "# 열의 개수만큼 반복한다. \n",
    "for i in range(len(matrix[0])):\n",
    "    transposed_row = []\n",
    "    for row in matrix: # 행렬의 각 행에 대하여 반복\n",
    "        transposed_row.append(row[i])# i번째 요소를 row에 추가한다. \n",
    "    transposed.append(transposed_row)\n",
    "print(\"전치 행렬=\", transposed)"
   ]
  }
 ],
 "metadata": {
  "kernelspec": {
   "display_name": "Python 3",
   "language": "python",
   "name": "python3"
  },
  "language_info": {
   "codemirror_mode": {
    "name": "ipython",
    "version": 3
   },
   "file_extension": ".py",
   "mimetype": "text/x-python",
   "name": "python",
   "nbconvert_exporter": "python",
   "pygments_lexer": "ipython3",
   "version": "3.8.5"
  },
  "toc": {
   "base_numbering": 1,
   "nav_menu": {},
   "number_sections": true,
   "sideBar": true,
   "skip_h1_title": false,
   "title_cell": "Table of Contents",
   "title_sidebar": "Contents",
   "toc_cell": false,
   "toc_position": {},
   "toc_section_display": true,
   "toc_window_display": false
  },
  "varInspector": {
   "cols": {
    "lenName": 16,
    "lenType": 16,
    "lenVar": 40
   },
   "kernels_config": {
    "python": {
     "delete_cmd_postfix": "",
     "delete_cmd_prefix": "del ",
     "library": "var_list.py",
     "varRefreshCmd": "print(var_dic_list())"
    },
    "r": {
     "delete_cmd_postfix": ") ",
     "delete_cmd_prefix": "rm(",
     "library": "var_list.r",
     "varRefreshCmd": "cat(var_dic_list()) "
    }
   },
   "types_to_exclude": [
    "module",
    "function",
    "builtin_function_or_method",
    "instance",
    "_Feature"
   ],
   "window_display": false
  }
 },
 "nbformat": 4,
 "nbformat_minor": 4
}
