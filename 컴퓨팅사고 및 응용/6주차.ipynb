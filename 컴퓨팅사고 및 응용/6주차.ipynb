{
 "cells": [
  {
   "cell_type": "markdown",
   "metadata": {},
   "source": [
    "# 객체와 클래스"
   ]
  },
  {
   "cell_type": "code",
   "execution_count": 1,
   "metadata": {},
   "outputs": [
    {
     "data": {
      "text/plain": [
       "'EVERYTHING IN PYTHON IS AN OBJECT'"
      ]
     },
     "execution_count": 1,
     "metadata": {},
     "output_type": "execute_result"
    }
   ],
   "source": [
    "\"Everything in Python is an object\".upper()"
   ]
  },
  {
   "cell_type": "code",
   "execution_count": 2,
   "metadata": {},
   "outputs": [
    {
     "name": "stdout",
     "output_type": "stream",
     "text": [
      "카운터의 값= 1\n"
     ]
    }
   ],
   "source": [
    "class Counter:\n",
    "    def __init__(self):\n",
    "        self.count = 0\n",
    "    def increment(self):\n",
    "        self.count += 1\n",
    "a = Counter()\n",
    "a.increment()\n",
    "print(\"카운터의 값=\", a.count)"
   ]
  },
  {
   "cell_type": "code",
   "execution_count": 3,
   "metadata": {},
   "outputs": [],
   "source": [
    "class Counter:\n",
    "    def __init__(self, initValue=0) :\n",
    "        self.count = initValue\n",
    "    def increment(self):\n",
    "        self.count += 1\n",
    "a = Counter(100) # 카운터의 초기값은 100이 된다. \n",
    "b = Counter() # 카운터의 초기값은 0이 된다. "
   ]
  },
  {
   "cell_type": "markdown",
   "metadata": {},
   "source": [
    "## Lab : TV클래스 정의"
   ]
  },
  {
   "cell_type": "code",
   "execution_count": 4,
   "metadata": {},
   "outputs": [
    {
     "name": "stdout",
     "output_type": "stream",
     "text": [
      "9 10 True\n",
      "11 10 True\n"
     ]
    }
   ],
   "source": [
    "class Television:\n",
    "    def __init__(self, channel, volume, on):\n",
    "        self.channel = channel\n",
    "        self.volume = volume\n",
    "        self.on = on\n",
    "    def show(self):\n",
    "        print(self.channel, self.volume, self.on)\n",
    "    def setChannel(self, channel):\n",
    "        self.channel = channel\n",
    "    def getChannel(self):\n",
    "        return self.channel\n",
    "t = Television(9, 10, True)\n",
    "t.show()\n",
    "t.setChannel(11)\n",
    "t.show()"
   ]
  },
  {
   "cell_type": "markdown",
   "metadata": {},
   "source": [
    "## Lab : 원 클래스 정의"
   ]
  },
  {
   "cell_type": "code",
   "execution_count": 5,
   "metadata": {},
   "outputs": [
    {
     "name": "stdout",
     "output_type": "stream",
     "text": [
      "원의 면적 314.1592653589793\n",
      "원의 둘레 62.83185307179586\n"
     ]
    }
   ],
   "source": [
    "import math\n",
    "# Circle 클래스를 정의한다. \n",
    "class Circle:\n",
    "    def __init__(self, radius = 0):\n",
    "        self.radius = radius\n",
    "    def getArea(self):\n",
    "        return math.pi * self.radius * self.radius\n",
    "    def getPerimeter(self):\n",
    "        return 2 * math.pi * self.radius\n",
    "# Circle 객체를 생성한다. \n",
    "c = Circle(10)\n",
    "print(\"원의 면적\", c.getArea())\n",
    "print(\"원의 둘레\", c.getPerimeter())"
   ]
  },
  {
   "cell_type": "markdown",
   "metadata": {},
   "source": [
    "## Lab : 자동차 클래스 정의"
   ]
  },
  {
   "cell_type": "code",
   "execution_count": 7,
   "metadata": {},
   "outputs": [
    {
     "name": "stdout",
     "output_type": "stream",
     "text": [
      "자동차 객체를 생성하였습니다.\n",
      "자동차의 속도는 0\n",
      "자동차의 색상은 blue\n",
      "자동차의 모델은 E-class\n",
      "자동차의 속도는 60\n"
     ]
    }
   ],
   "source": [
    "class Car:\n",
    "    def __init__(self, speed, color, model):\n",
    "        self.speed = speed\n",
    "        self.color = color\n",
    "        self.model = model\n",
    "    def drive(self):\n",
    "        self.speed = 60\n",
    "\n",
    "myCar = Car(0, \"blue\", \"E-class\")\n",
    "print(\"자동차 객체를 생성하였습니다.\")\n",
    "print(\"자동차의 속도는\", myCar.speed)\n",
    "print(\"자동차의 색상은\", myCar.color)\n",
    "print(\"자동차의 모델은\", myCar.model)\n",
    "myCar.drive()\n",
    "print(\"자동차의 속도는\", myCar.speed)"
   ]
  },
  {
   "cell_type": "markdown",
   "metadata": {},
   "source": [
    "## 정보 은닉 & 접근자와 설정자"
   ]
  },
  {
   "cell_type": "code",
   "execution_count": 8,
   "metadata": {},
   "outputs": [
    {
     "data": {
      "text/plain": [
       "'Hong'"
      ]
     },
     "execution_count": 8,
     "metadata": {},
     "output_type": "execute_result"
    }
   ],
   "source": [
    "class Student:\n",
    "    def __init__(self, name=None, age=0):\n",
    "        self.__name = name\n",
    "        self.__age = age\n",
    "    def getAge(self):\n",
    "        return self.__age\n",
    "    def getName(self):\n",
    "        return self.__name\n",
    "    def setAge(self, age):\n",
    "        self.__age=age\n",
    "    def setName(self, name):\n",
    "        self.__name=name\n",
    "obj=Student(\"Hong\", 20)\n",
    "obj.getName()"
   ]
  },
  {
   "cell_type": "markdown",
   "metadata": {},
   "source": [
    "## Lab : 은행계좌"
   ]
  },
  {
   "cell_type": "code",
   "execution_count": 9,
   "metadata": {},
   "outputs": [
    {
     "name": "stdout",
     "output_type": "stream",
     "text": [
      "통장에  100 가 입금되었음\n",
      "통장에서  10 가 출금되었음\n"
     ]
    },
    {
     "data": {
      "text/plain": [
       "90"
      ]
     },
     "execution_count": 9,
     "metadata": {},
     "output_type": "execute_result"
    }
   ],
   "source": [
    "class BankAccount:\n",
    "    def __init__(self):\n",
    "        self.__balance = 0\n",
    "    def withdraw(self, amount):\n",
    "        self.__balance -= amount\n",
    "        print(\"통장에서 \", amount, \"가 출금되었음\")\n",
    "        return self.__balance\n",
    "    def deposit(self, amount):\n",
    "        self.__balance += amount\n",
    "        print(\"통장에 \", amount, \"가 입금되었음\")\n",
    "        return self.__balance\n",
    "a = BankAccount()\n",
    "a.deposit(100)\n",
    "a.withdraw(10)"
   ]
  },
  {
   "cell_type": "markdown",
   "metadata": {},
   "source": [
    "## 객체 참조"
   ]
  },
  {
   "cell_type": "code",
   "execution_count": 10,
   "metadata": {},
   "outputs": [],
   "source": [
    "class Television:\n",
    "    def __init__(self, channel, volume, on):\n",
    "        self.channel = channel\n",
    "        self.volume = volume\n",
    "        self.on = on\n",
    "    def setChannel(self, channel):\n",
    "        self.channel = channel\n",
    "t = Television(11,10,True)\n",
    "s = t\n",
    "s.channel = 9"
   ]
  },
  {
   "cell_type": "code",
   "execution_count": 11,
   "metadata": {},
   "outputs": [
    {
     "name": "stdout",
     "output_type": "stream",
     "text": [
      "2개의 변수는 동일한 객체를 참조하고 있습니다.\n"
     ]
    }
   ],
   "source": [
    "if s is t :\n",
    "    print(\"2개의 변수는 동일한 객체를 참조하고 있습니다.\")\n",
    "if s is not t :\n",
    "    print(\"2개의 변수는 다른 객체를 참조하고 있습니다.\")"
   ]
  },
  {
   "cell_type": "markdown",
   "metadata": {},
   "source": [
    "## None 참조값"
   ]
  },
  {
   "cell_type": "code",
   "execution_count": 12,
   "metadata": {},
   "outputs": [
    {
     "name": "stdout",
     "output_type": "stream",
     "text": [
      "현재 TV가 없습니다. \n"
     ]
    }
   ],
   "source": [
    "myTV = None \n",
    "\n",
    "if myTV is None :\n",
    "    print(\"현재 TV가 없습니다. \")"
   ]
  },
  {
   "cell_type": "markdown",
   "metadata": {},
   "source": [
    "## 객체를 함수로 전달할 때"
   ]
  },
  {
   "cell_type": "code",
   "execution_count": 13,
   "metadata": {},
   "outputs": [
    {
     "name": "stdout",
     "output_type": "stream",
     "text": [
      "11 2 True\n"
     ]
    }
   ],
   "source": [
    "# 텔레비전을 클래스로 정의한다. \n",
    "class Television:\n",
    "    def __init__(self, channel, volume, on):\n",
    "        self.channel = channel\n",
    "        self.volume = volume\n",
    "        self.on = on\n",
    "    def show(self):\n",
    "        print(self.channel, self.volume, self.on)\n",
    "# 전달받은 텔레비전의 음량을 줄인다. \n",
    "def setSilentMode(t):\n",
    "    t.volume = 2\n",
    "# setSilentMode()을 호출하여서 객체의 내용이 변경되는지를 확인한다. \n",
    "myTV = Television(11, 10, True);\n",
    "setSilentMode(myTV)\n",
    "myTV.show()"
   ]
  },
  {
   "cell_type": "markdown",
   "metadata": {},
   "source": [
    "## 클래스 변수"
   ]
  },
  {
   "cell_type": "code",
   "execution_count": 14,
   "metadata": {},
   "outputs": [
    {
     "name": "stdout",
     "output_type": "stream",
     "text": [
      "11 10 True 1\n"
     ]
    }
   ],
   "source": [
    "# 텔레비전을 클래스로 정의한다. \n",
    "class Television:\n",
    "    serialNumber = 0 # 이것이 클래스 변수이다. \n",
    "    def __init__(self, channel, volume, on):\n",
    "        self.channel = channel\n",
    "        self.volume = volume\n",
    "        self.on = on\n",
    "        Television.serialNumber += 1 # 클래스 변수를 하나 증가한다. \n",
    "        # 클래스 변수의 값을 객체의 시리얼 번호로 한다. \n",
    "        self.number = Television.serialNumber\n",
    "    def show(self):\n",
    "        print(self.channel, self.volume, self.on, self.number)\n",
    "myTV = Television(11, 10, True);\n",
    "myTV.show()"
   ]
  },
  {
   "cell_type": "markdown",
   "metadata": {},
   "source": [
    "## 상수 정의"
   ]
  },
  {
   "cell_type": "code",
   "execution_count": 15,
   "metadata": {},
   "outputs": [],
   "source": [
    "class Monster :\n",
    "    # 상수 값 정의\n",
    "    WEAK = 0\n",
    "    NORMAL = 10\n",
    "    STRONG = 20\n",
    "    VERY_STRONG = 30\n",
    "    def __init__(self) :\n",
    "        self._health = Monster.NORMAL\n",
    "    def eat(self) :\n",
    "        self._health = Monster.STRONG\n",
    "    def attack(self) :\n",
    "        self._health = Monster.WEAK"
   ]
  },
  {
   "cell_type": "markdown",
   "metadata": {},
   "source": [
    "## Lab : 클래스 변수"
   ]
  },
  {
   "cell_type": "code",
   "execution_count": 16,
   "metadata": {},
   "outputs": [],
   "source": [
    "class Dog:\n",
    "    kind = \"Bulldog\" # 클래스 변수\n",
    "    def __init__(self, name, age):\n",
    "        self.name = name # 각 인스턴스에 유일한 인스턴스 변수\n",
    "        self.age = age # 각 인스턴스에 유일한 인스턴스 변수"
   ]
  },
  {
   "cell_type": "markdown",
   "metadata": {},
   "source": [
    "## Lab : 벡터 개체에 특수 메소드 정의"
   ]
  },
  {
   "cell_type": "code",
   "execution_count": 17,
   "metadata": {},
   "outputs": [
    {
     "name": "stdout",
     "output_type": "stream",
     "text": [
      "(1, 1)\n",
      "True\n"
     ]
    }
   ],
   "source": [
    "class Vector2D :\n",
    "    def __init__(self, x, y):\n",
    "        self.x = x\n",
    "        self.y = y\n",
    "    def __add__(self, other):\n",
    "        return Vector2D(self.x + other.x, self.y + other.y)\n",
    "    def __sub__(self, other):\n",
    "        return Vector2D(self.x - other.x, self.y - other.y)\n",
    "    def __eq__(self, other):\n",
    "        return self.x == other.x and self.y == other.y\n",
    "    def __str__(self):\n",
    "        return f'({self.x}, {self.y})'\n",
    "u = Vector2D(0,1)\n",
    "v = Vector2D(1,0)\n",
    "w = Vector2D(1,1)\n",
    "a = u + v # (1, 1)\n",
    "print(a)\n",
    "print(a == w)"
   ]
  },
  {
   "cell_type": "markdown",
   "metadata": {},
   "source": [
    "## Lab : 주사위 클래스"
   ]
  },
  {
   "cell_type": "code",
   "execution_count": 18,
   "metadata": {},
   "outputs": [
    {
     "name": "stdout",
     "output_type": "stream",
     "text": [
      "주사위의 값= 5\n"
     ]
    }
   ],
   "source": [
    "from random import randint\n",
    "class Dice :\n",
    "    def __init__(self, x, y) :\n",
    "        self.__x = x\n",
    "        self.__y = y\n",
    "        self.__size = 30\n",
    "        self.__value = 1\n",
    "    def read_dice(self) :\n",
    "        return self.__value\n",
    "    def print_dice(self) :\n",
    "        print(\"주사위의 값=\", self.__value)\n",
    "    def roll_dice(self) :\n",
    "        self.__value = randint(1, 6)\n",
    "d = Dice(100, 100)\n",
    "d.roll_dice()\n",
    "d.print_dice()"
   ]
  },
  {
   "cell_type": "markdown",
   "metadata": {},
   "source": [
    "# 실습"
   ]
  },
  {
   "cell_type": "markdown",
   "metadata": {},
   "source": [
    "## 7.05"
   ]
  },
  {
   "cell_type": "code",
   "execution_count": 19,
   "metadata": {},
   "outputs": [
    {
     "name": "stdout",
     "output_type": "stream",
     "text": [
      "총합계: 620\n"
     ]
    }
   ],
   "source": [
    "myDict = {\"옷\": 100, \"신발\": 200, \"가방\": 320}\n",
    "print('총합계:',sum(myDict.values()))"
   ]
  },
  {
   "cell_type": "markdown",
   "metadata": {},
   "source": [
    "## 7.09"
   ]
  },
  {
   "cell_type": "code",
   "execution_count": 20,
   "metadata": {},
   "outputs": [
    {
     "name": "stdout",
     "output_type": "stream",
     "text": [
      "첫번째 문자열:Hello World!\n",
      "두번째 문자열:Hi! Welcome!!\n",
      "모두 포함된 글자:e ! l o   W H "
     ]
    }
   ],
   "source": [
    "sentence1 = input('첫번째 문자열:')\n",
    "sentence2 = input('두번째 문자열:')\n",
    "sentence = list(set(sentence1) & set(sentence2))\n",
    "print('모두 포함된 글자:',end='')\n",
    "for i in sentence:\n",
    "    print(i,end=\" \")"
   ]
  },
  {
   "cell_type": "markdown",
   "metadata": {},
   "source": [
    "## 7.12"
   ]
  },
  {
   "cell_type": "code",
   "execution_count": 21,
   "metadata": {},
   "outputs": [
    {
     "name": "stdout",
     "output_type": "stream",
     "text": [
      "금칙어 입력:java red\n",
      "문자열 입력:I read a java book\n",
      "I read a **** book\n"
     ]
    }
   ],
   "source": [
    "nope = input('금칙어 입력:')\n",
    "nope = nope.split(\" \")\n",
    "sentence = input(\"문자열 입력:\")\n",
    "for i in nope:\n",
    "    if i in sentence:\n",
    "        sentence = sentence.replace(i,\"*\"*len(i))\n",
    "print(sentence)"
   ]
  },
  {
   "cell_type": "markdown",
   "metadata": {},
   "source": [
    "## 7.14"
   ]
  },
  {
   "cell_type": "code",
   "execution_count": 22,
   "metadata": {},
   "outputs": [
    {
     "name": "stdout",
     "output_type": "stream",
     "text": [
      "\"03/21/2022\" -> \"20222103\"\n"
     ]
    }
   ],
   "source": [
    "def change(x):\n",
    "    x = x.replace(\"/\",\"\")\n",
    "    x = x[4:]+x[2:4]+x[0:2]\n",
    "    return x\n",
    "s = \"03/21/2022\"\n",
    "b = change(s)\n",
    "print(f'\"{s}\" -> \"{b}\"')"
   ]
  },
  {
   "cell_type": "markdown",
   "metadata": {},
   "source": [
    "## 7.16"
   ]
  },
  {
   "cell_type": "code",
   "execution_count": 24,
   "metadata": {},
   "outputs": [
    {
     "name": "stdout",
     "output_type": "stream",
     "text": [
      "생성된 암호는 GZ<\"@tBR\n"
     ]
    }
   ],
   "source": [
    "import random\n",
    "s = '0123456789abcdefghijklmnopqrstuvwxyzABCDEFGHIJKLMNOPQRSTUVWXYZ`!@#$%^&*()-_=+\\|\":;?/>.<,'\n",
    "passlen = 8 # 패스워드 길이\n",
    "p = \"\".join(random.sample(s, passlen))\n",
    "print('생성된 암호는',p)"
   ]
  }
 ],
 "metadata": {
  "kernelspec": {
   "display_name": "Python 3",
   "language": "python",
   "name": "python3"
  },
  "language_info": {
   "codemirror_mode": {
    "name": "ipython",
    "version": 3
   },
   "file_extension": ".py",
   "mimetype": "text/x-python",
   "name": "python",
   "nbconvert_exporter": "python",
   "pygments_lexer": "ipython3",
   "version": "3.8.5"
  },
  "toc": {
   "base_numbering": 1,
   "nav_menu": {},
   "number_sections": true,
   "sideBar": true,
   "skip_h1_title": false,
   "title_cell": "Table of Contents",
   "title_sidebar": "Contents",
   "toc_cell": false,
   "toc_position": {},
   "toc_section_display": true,
   "toc_window_display": false
  },
  "varInspector": {
   "cols": {
    "lenName": 16,
    "lenType": 16,
    "lenVar": 40
   },
   "kernels_config": {
    "python": {
     "delete_cmd_postfix": "",
     "delete_cmd_prefix": "del ",
     "library": "var_list.py",
     "varRefreshCmd": "print(var_dic_list())"
    },
    "r": {
     "delete_cmd_postfix": ") ",
     "delete_cmd_prefix": "rm(",
     "library": "var_list.r",
     "varRefreshCmd": "cat(var_dic_list()) "
    }
   },
   "types_to_exclude": [
    "module",
    "function",
    "builtin_function_or_method",
    "instance",
    "_Feature"
   ],
   "window_display": false
  }
 },
 "nbformat": 4,
 "nbformat_minor": 4
}
