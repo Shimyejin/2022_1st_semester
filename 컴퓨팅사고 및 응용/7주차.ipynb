{
 "cells": [
  {
   "cell_type": "markdown",
   "metadata": {
    "id": "5IZPH2BAc_6z"
   },
   "source": [
    "# 7주차 과제"
   ]
  },
  {
   "cell_type": "markdown",
   "metadata": {
    "id": "YdvmT2gWdWZQ"
   },
   "source": [
    "## 8.04"
   ]
  },
  {
   "cell_type": "code",
   "execution_count": 1,
   "metadata": {
    "colab": {
     "base_uri": "https://localhost:8080/"
    },
    "id": "lm-ypAExdDeb",
    "outputId": "35f906ce-4d94-4cd1-9740-936da44097f2"
   },
   "outputs": [
    {
     "name": "stdout",
     "output_type": "stream",
     "text": [
      "r1과 r2는 서로 겹칩니다.\n"
     ]
    }
   ],
   "source": [
    "class Rectangle:\n",
    "    def __init__(self, x, y, w, h):\n",
    "        self.x = x\n",
    "        self.y = y\n",
    "        self.w = w\n",
    "        self.h = h\n",
    "\n",
    "    def __str__(self):\n",
    "        return \"(\"+str(self.x)+\",\"+str(self.y)+\",\"+str(self.w)+\",\"+str(self.h)+\")\"\n",
    "    \n",
    "    def setX(self,x):\n",
    "        self.x = x\n",
    "    \n",
    "    def getX(self):\n",
    "        return self.x\n",
    "\n",
    "    def setY(self,y):\n",
    "        self.y = y\n",
    "    \n",
    "    def getY(self):\n",
    "        return self.y\n",
    "        \n",
    "    def setW(self,w):\n",
    "        self.w = w\n",
    "    \n",
    "    def getW(self):\n",
    "        return self.w\n",
    "\n",
    "    def setH(self,h):\n",
    "        self.h = h\n",
    "    \n",
    "    def getH(self):\n",
    "        return self.h\n",
    "\n",
    "    def getArea(self):\n",
    "        return self.w * self.h\n",
    "\n",
    "    def overlap(self,r):\n",
    "        self.result = self.x - r.x\n",
    "        if abs(self.result) < self.w or abs(self.result) < self.h:\n",
    "            print('r1과 r2는 서로 겹칩니다.')\n",
    "        else:\n",
    "            print('r1과 r2는 서로 겹치지않습니다.')\n",
    "\n",
    "r1 = Rectangle(0, 0, 100, 100) \n",
    "r2 = Rectangle(10, 10, 100, 100) \n",
    "r1.overlap(r2)"
   ]
  },
  {
   "cell_type": "markdown",
   "metadata": {
    "id": "AB4GX3hFdbab"
   },
   "source": [
    "## 8.07"
   ]
  },
  {
   "cell_type": "code",
   "execution_count": 2,
   "metadata": {
    "colab": {
     "base_uri": "https://localhost:8080/"
    },
    "id": "mLCN0rIQddW1",
    "outputId": "3addc87a-a31c-40bb-9cd3-cb22bf7e069d"
   },
   "outputs": [
    {
     "name": "stdout",
     "output_type": "stream",
     "text": [
      "Kim\n",
      "office phone:1234567\n",
      "email address:kim@company.com\n",
      "\n",
      "Park\n",
      "office phone:2345678\n",
      "email address:park@company.com\n",
      "\n",
      "\n"
     ]
    }
   ],
   "source": [
    "class Person:\n",
    "    def __init__(self, name,mobile=None, office=None, email=None):\n",
    "        self.name = name\n",
    "        self.mobile = mobile\n",
    "        self.office = office\n",
    "        self.email = email\n",
    "\n",
    "    def setMobile(self, number):\n",
    "        self.mobile = number\n",
    "\n",
    "    def setOffice(self, number):\n",
    "        self.office = number\n",
    "\n",
    "    def setEmail(self, address):\n",
    "        self.email = address\n",
    "\n",
    "    def __str__(self):\n",
    "        s = ''\n",
    "        s += self.name + '\\n'\n",
    "        s += \"office phone:\"+self.office + '\\n'\n",
    "        s += \"email address:\"+self.email + '\\n'\n",
    "        return s\n",
    "\n",
    "class PhoneBook:\n",
    "    def __init__(self):        \n",
    "        self.contacts = {}\n",
    "\n",
    "    def add(self, name, mobile=None, office=None,email=None):\n",
    "        p = Person(name, mobile, office, email)\n",
    "        self.contacts[name] = p\n",
    "        \n",
    "    def __str__(self):\n",
    "        s = ''\n",
    "        for p in sorted(self.contacts):\n",
    "            s += str(self.contacts[p]) + '\\n'\n",
    "        return s\n",
    "\n",
    "obj = PhoneBook()\n",
    "obj.add(\"Kim\", office=\"1234567\", email=\"kim@company.com\")\n",
    "obj.add(\"Park\", office=\"2345678\", email=\"park@company.com\")\n",
    "print(obj)"
   ]
  },
  {
   "cell_type": "markdown",
   "metadata": {
    "id": "7RYZAFPwHuhx"
   },
   "source": [
    "# 제 9장 GUI 프로그래밍"
   ]
  },
  {
   "cell_type": "code",
   "execution_count": 3,
   "metadata": {
    "colab": {
     "base_uri": "https://localhost:8080/",
     "height": 374
    },
    "id": "n0SiTlSDHroB",
    "outputId": "8b0e8ec1-c0ca-4a4f-f0d3-2c50d4254c65"
   },
   "outputs": [],
   "source": [
    "from tkinter import * # tkinter모듈을포함시키는것이다.\n",
    "window = Tk() # 화면에하나의윈도우가생성\n",
    "label = Label(window, text = \"Hello Tkinter\") # 레이블위젯을생성한다\n",
    "label.pack() # pack()은압축배치관리자를이용하여서레이블을컨테이너에위치\n",
    "window.mainloop() #루트윈도우의 mainloop()는 이벤트처리루프로서 사용자로부터오는 마우스나 키보드이벤트를 처리한다"
   ]
  },
  {
   "cell_type": "markdown",
   "metadata": {
    "id": "JoJqCbxfJg0c"
   },
   "source": [
    "## 버튼 위젯"
   ]
  },
  {
   "cell_type": "code",
   "execution_count": 4,
   "metadata": {
    "id": "ginc5abJJgfc"
   },
   "outputs": [],
   "source": [
    "from tkinter import *\n",
    "window = Tk()\n",
    "button = Button(window, text=\"클릭하세요!\", bg=\"yellow\", fg=\"blue\", # 전경색과배경색설정\n",
    "                width=20, height=2) # 크기설정\n",
    "\n",
    "button.pack()\n",
    "window.mainloop()"
   ]
  },
  {
   "cell_type": "markdown",
   "metadata": {
    "id": "Sfg2H7nqJ4eP"
   },
   "source": [
    "## 엔트리 위젯"
   ]
  },
  {
   "cell_type": "code",
   "execution_count": 5,
   "metadata": {
    "id": "SSaQXZy1J4x0"
   },
   "outputs": [],
   "source": [
    "from tkinter import *\n",
    "window = Tk()\n",
    "\n",
    "entry = Entry(window, fg=\"black\", bg=\"yellow\", width=80)\n",
    "\n",
    "entry.pack()\n",
    "window.mainloop()"
   ]
  },
  {
   "cell_type": "markdown",
   "metadata": {
    "id": "SEtiJrvrKEKM"
   },
   "source": [
    "## 압축 배치 관리자  \n",
    "pack()"
   ]
  },
  {
   "cell_type": "code",
   "execution_count": 6,
   "metadata": {
    "id": "5Zd1s1bbKGlo"
   },
   "outputs": [],
   "source": [
    "from tkinter import *\n",
    "window = Tk()\n",
    "\n",
    "label = Label(window, text=\"박스#1\", bg=\"red\", fg=\"white\")\n",
    "label.pack()\n",
    "Label(window, text=\"박스#2\", bg=\"green\", fg=\"black\").pack()\n",
    "Label(window, text=\"박스#3\", bg=\"blue\", fg=\"white\").pack()\n",
    "\n",
    "window.mainloop()"
   ]
  },
  {
   "cell_type": "code",
   "execution_count": 9,
   "metadata": {
    "id": "Y8YsdopdKPkZ"
   },
   "outputs": [],
   "source": [
    "from tkinter import *\n",
    "window = Tk()\n",
    "\n",
    "Button(window, text=\"박스#1\", bg=\"red\",    fg=\"white\").pack(side=LEFT)\n",
    "Button(window, text=\"박스#2\", bg=\"green\",  fg=\"black\").pack(side=LEFT)\n",
    "Button(window, text=\"박스#3\", bg=\"orange\", fg=\"white\").pack(side=LEFT)\n",
    "\n",
    "window.mainloop()"
   ]
  },
  {
   "cell_type": "markdown",
   "metadata": {
    "id": "3znM3WQOKPNM"
   },
   "source": [
    "## 격자 배치 관리자  \n",
    "grid()"
   ]
  },
  {
   "cell_type": "code",
   "execution_count": 10,
   "metadata": {
    "id": "vvZYiIR9KXB7"
   },
   "outputs": [],
   "source": [
    "from tkinter import *\n",
    "window = Tk()\n",
    "\n",
    "b1 = Button(window, text=\"박스#1\", bg=\"red\",    fg=\"white\")\n",
    "b2 = Button(window, text=\"박스#2\", bg=\"green\",  fg=\"white\")\n",
    "b3 = Button(window, text=\"박스#3\", bg=\"orange\", fg=\"white\")\n",
    "b4 = Button(window, text=\"박스#4\", bg=\"pink\",   fg=\"white\")\n",
    "\n",
    "b1.grid(row=0, column=0)# 0행0열\n",
    "b2.grid(row=0, column=1)# 0행1열\n",
    "b3.grid(row=1, column=0)# 1행0열\n",
    "b4.grid(row=1, column=1)# 1행1열\n",
    "\n",
    "window.mainloop()"
   ]
  },
  {
   "cell_type": "markdown",
   "metadata": {
    "id": "dYEtzkBlKnvE"
   },
   "source": [
    "## 절대 위치 배치 관리자  \n",
    "place()  \n",
    "x,y는 픽셀 단위. 왼쪽위의 좌표가 (0,0)"
   ]
  },
  {
   "cell_type": "code",
   "execution_count": 11,
   "metadata": {
    "id": "8_gXV3yFKoBm"
   },
   "outputs": [],
   "source": [
    "from tkinter import *\n",
    "window = Tk()\n",
    "\n",
    "b1 = Button(window, text=\"박스#1\", bg=\"red\", fg=\"white\")\n",
    "b1.place(x=0, y=0)\n",
    "b2 = Button(window, text=\"박스#2\", bg=\"green\", fg=\"black\")\n",
    "b2.place(x=20, y=30)\n",
    "b3 = Button(window, text=\"박스#3\", bg=\"orange\", fg=\"white\")\n",
    "b3.place(x=40, y=60)\n",
    "\n",
    "window.mainloop()"
   ]
  },
  {
   "cell_type": "markdown",
   "metadata": {
    "id": "WLEe4NTKK5i0"
   },
   "source": [
    "## 여러 배치 관리자 혼용하기"
   ]
  },
  {
   "cell_type": "code",
   "execution_count": 12,
   "metadata": {
    "id": "uhJPmm_aK7Ef"
   },
   "outputs": [],
   "source": [
    "from tkinter import *\n",
    "window = Tk()\n",
    "\n",
    "f = Frame(window)\n",
    "\n",
    "b1 = Button(f, text=\"박스#1\", bg=\"red\",    fg=\"white\")\n",
    "b2 = Button(f, text=\"박스#2\", bg=\"green\",  fg=\"black\")\n",
    "b3 = Button(f, text=\"박스#3\", bg=\"orange\", fg=\"white\")\n",
    "b1.pack(side=LEFT)\n",
    "b2.pack(side=LEFT)\n",
    "b3.pack(side=LEFT)\n",
    "\n",
    "l = Label(window, text=\"이레이블은버튼들위에배치된다.\")\n",
    "\n",
    "l.pack()\n",
    "f.pack()\n",
    "\n",
    "window.mainloop()"
   ]
  },
  {
   "cell_type": "markdown",
   "metadata": {
    "id": "e2Eu0_i2LQb2"
   },
   "source": [
    "## 윈도우의 크기와 위젯의 크기 설정하기"
   ]
  },
  {
   "cell_type": "code",
   "execution_count": 13,
   "metadata": {
    "id": "-y05e7k8LUtS"
   },
   "outputs": [],
   "source": [
    "from tkinter import *\n",
    "\n",
    "window = Tk()\n",
    "window.geometry(\"600x100\")\n",
    "\n",
    "Button(window, text=\"박스#1\", width=10, height=1).pack()\n",
    "Button(window, text=\"박스#2\", width=10, height=1).pack()\n",
    "Button(window, text=\"박스#3\", width=10, height=1).pack()\n",
    "\n",
    "window.mainloop()"
   ]
  },
  {
   "cell_type": "markdown",
   "metadata": {
    "id": "OeND096iLjcN"
   },
   "source": [
    "## Lab: 온도 변환기"
   ]
  },
  {
   "cell_type": "code",
   "execution_count": 14,
   "metadata": {
    "id": "LEZlwI5oLl6v"
   },
   "outputs": [],
   "source": [
    "from tkinter import *\n",
    "\n",
    "window = Tk()\n",
    "\n",
    "Label(window , text=\"화씨\").grid(row=0, column=0)\n",
    "Label(window, text=\"섭씨\").grid(row=1, column=0)\n",
    "\n",
    "e1 = Entry(window).grid(row=0, column=1)\n",
    "e2 = Entry(window).grid(row=1, column=1)\n",
    "\n",
    "Button(window, text=\"화씨->섭씨\").grid(row=2, column=1)\n",
    "\n",
    "window.mainloop()"
   ]
  },
  {
   "cell_type": "markdown",
   "metadata": {
    "id": "0Hl8NuNXLxKE"
   },
   "source": [
    "## Lab: 격자 배치 관리자 실습"
   ]
  },
  {
   "cell_type": "code",
   "execution_count": 3,
   "metadata": {
    "id": "3nryZVpNLzaJ"
   },
   "outputs": [],
   "source": [
    "from tkinter import *\n",
    "window  = Tk()\n",
    "Label(window, text=\"너비\").grid(row=0, column=0)\n",
    "Label(window, text=\"높이\").grid(row=1, column=0)\n",
    "\n",
    "e1 = Entry(window)\n",
    "e2 = Entry(window)\n",
    "\n",
    "e1.grid(row=0, column=1)\n",
    "e2.grid(row=1, column=1)\n",
    "\n",
    "photo = PhotoImage(file=\"C:\\\\Users\\\\User\\\\Desktop\\\\컴퓨팅사고와 응용\\\\앙꼬.png\")\n",
    "label = Label(window, image=photo)\n",
    "label.grid(row=0, column=2, columnspan=2, rowspan=2)\n",
    "Button(window, text='이미지저장').grid(row=2, column=0, columnspan=2)\n",
    "\n",
    "# 두번째버튼과세번째버튼은2열과3열에표시한다. \n",
    "Button(window, text='확대').grid(row=2, column=2)\n",
    "Button(window, text='축소').grid(row=2, column=3)\n",
    "\n",
    "window.mainloop( )"
   ]
  },
  {
   "cell_type": "markdown",
   "metadata": {
    "id": "LeLRqnjzMFfw"
   },
   "source": [
    "## 버튼 이벤트 처리"
   ]
  },
  {
   "cell_type": "code",
   "execution_count": 4,
   "metadata": {
    "id": "R5NYpbfTMG5S"
   },
   "outputs": [
    {
     "name": "stdout",
     "output_type": "stream",
     "text": [
      "버튼이클릭되었습니다.\n"
     ]
    }
   ],
   "source": [
    "from tkinter import *\n",
    "\n",
    "def process():\n",
    "    print(\"버튼이클릭되었습니다.\")\n",
    "\n",
    "window = Tk()\n",
    "button = Button(window, text=\"클릭하세요!\", command=process)\n",
    "button.pack()\n",
    "\n",
    "window.mainloop()"
   ]
  },
  {
   "cell_type": "markdown",
   "metadata": {
    "id": "snjgbyFOMPoU"
   },
   "source": [
    "## Lab: 카운터 만들기"
   ]
  },
  {
   "cell_type": "code",
   "execution_count": 5,
   "metadata": {
    "id": "bcec5hTFMRui"
   },
   "outputs": [],
   "source": [
    "from tkinter import *\n",
    "window = Tk()\n",
    "counter = 0\n",
    "\n",
    "def clicked():\n",
    "    global counter\n",
    "    counter += 1\n",
    "    label['text'] = '버튼클릭횟수: ' + str(counter)\n",
    "    \n",
    "label = Label(window, text=\"아직눌려지지않음\")\n",
    "label.pack()\n",
    "button = Button(window, text=\"증가\", command=clicked).pack()\n",
    "\n",
    "window.mainloop()"
   ]
  },
  {
   "cell_type": "markdown",
   "metadata": {
    "id": "C2tV45wvMng8"
   },
   "source": [
    "## 온도 변환기#2"
   ]
  },
  {
   "cell_type": "code",
   "execution_count": 6,
   "metadata": {
    "id": "xxsLK5WPMpdO"
   },
   "outputs": [],
   "source": [
    "from tkinter import *\n",
    "\n",
    "# 이벤트처리함수를정의한다. \n",
    "def process():\n",
    "    tf= float(e1.get()) # e1에서문자열을읽어서부동소수점형으로변경\n",
    "    tc= (tf-32.0)*5.0/9.0 # 화씨온도를섭씨온도로변환한다. \n",
    "    e2.delete(0, END) # 처음부터끝까지지운다.\n",
    "    e2.insert(0, str(tc)) # tc변수의값을문자열로변환하여추가한다.\n",
    "\n",
    "window  = Tk()\n",
    "Label(window , text=\"화씨\").grid(row=0, column=0)\n",
    "Label(window, text=\"섭씨\").grid(row=1, column=0)\n",
    "\n",
    "e1 = Entry(window)\n",
    "e2 = Entry(window)\n",
    "e1.grid(row=0, column=1)\n",
    "e2.grid(row=1, column=1)\n",
    "\n",
    "Button(window, text=\"화씨->섭씨\", command=process).grid(row=2, column=1)\n",
    "window.mainloop()"
   ]
  },
  {
   "cell_type": "markdown",
   "metadata": {
    "id": "LkmfJ5nLNDC8"
   },
   "source": [
    "## 숫자 추측 게임"
   ]
  },
  {
   "cell_type": "code",
   "execution_count": 7,
   "metadata": {
    "id": "xKMRZGKSNEIC"
   },
   "outputs": [],
   "source": [
    "from tkinter import *\n",
    "import random\n",
    "\n",
    "answer = random.randint(1,100) # 정답을1에서100 사이의난수로설정한다.\n",
    "\n",
    "def guessing():\n",
    "    guess = int(guessField.get()) # 텍스트필드에서사용자가입력한값을 가져온다.\n",
    "    if guess > answer:\n",
    "        msg= \"높음!\"\n",
    "    elif guess < answer:\n",
    "        msg= \"낮음!\"\n",
    "    else:\n",
    "        msg= \"정답!\"\n",
    "\n",
    "    resultLabel[\"text\"] = msg # 메시지를출력한다.\n",
    "    guessField.delete(0, 5)\n",
    "\n",
    "def reset(): # 정답을다시설정한다.\n",
    "    global answer\n",
    "    answer = random.randint(1,100)\n",
    "    resultLabel[\"text\"] = \"다시한번하세요!\"\n",
    "\n",
    "window = Tk()\n",
    "window.configure(bg=\"white\")\n",
    "window.title(\"숫자를맞춰보세요!\")\n",
    "\n",
    "window.geometry(\"500x80\")\n",
    "titleLabel = Label(window, text=\"숫자게임에오신것을환영합니다!\", bg=\"white\")\n",
    "titleLabel.pack()\n",
    "\n",
    "guessField = Entry(window)\n",
    "guessField.pack(side=\"left\")\n",
    "tryButton = Button(window, text=\"시도\", fg=\"green\", bg=\"white\", command=guessing)\n",
    "tryButton.pack(side=\"left\")\n",
    "\n",
    "resetButton = Button(window, text=\"초기화\", fg=\"red\", bg=\"white\", command=reset)\n",
    "resetButton.pack(side=\"left\")\n",
    "resultLabel= Label(window, text=\"1부터100사이의숫자를입력하시오.\", bg=\"white\")\n",
    "resultLabel.pack(side=\"left\")\n",
    "\n",
    "window.mainloop()"
   ]
  },
  {
   "cell_type": "markdown",
   "metadata": {
    "id": "FbdgPFq3N__X"
   },
   "source": [
    "## 가위바위보 게임"
   ]
  },
  {
   "cell_type": "code",
   "execution_count": 8,
   "metadata": {
    "id": "ItKEag_COBMp"
   },
   "outputs": [],
   "source": [
    "import random\n",
    "from tkinter import *\n",
    "\n",
    "window = Tk()\n",
    "Label(window, text=\"선택하세요\", font=(\"Helvetica\", \"16\")).pack()\n",
    "frame = Frame(window)\n",
    "\n",
    "# 이미지를d 드라이브로복사하여주세요!\n",
    "rock_image = PhotoImage(file=\"C:\\\\Users\\\\User\\\\Desktop\\\\컴퓨팅사고와 응용\\\\바위.png\")\n",
    "paper_image = PhotoImage(file=\"C:\\\\Users\\\\User\\\\Desktop\\\\컴퓨팅사고와 응용\\\\보.png\")\n",
    "scissors_image = PhotoImage(file=\"C:\\\\Users\\\\User\\\\Desktop\\\\컴퓨팅사고와 응용\\\\가위.png\")\n",
    "\n",
    "# 교재오타!!\n",
    "def pass_s():\n",
    "    decide(\"가위\")\n",
    "\n",
    "def pass_r():\n",
    "    decide(\"바위\")\n",
    "\n",
    "def pass_p():\n",
    "    decide(\"보\")\n",
    "\n",
    "rock = Button(frame, image=rock_image, command=pass_r)\n",
    "rock.pack(side=\"left\")\n",
    "paper = Button(frame, image=paper_image, command=pass_p)\n",
    "paper.pack(side=\"left\")\n",
    "scissors = Button(frame, image=scissors_image, command=pass_s)\n",
    "scissors.pack(side=\"left\")\n",
    "\n",
    "frame.pack()\n",
    "Label(window, text=\"컴퓨터는다음을선택하였습니다.\", font=(\"Helvetica\", \"16\")).pack()\n",
    "\n",
    "computer_image= Label(window, image=rock_image)\n",
    "computer_image.pack()\n",
    "output = Label(window, text=\"\", font=(\"Helvetica\", \"16\"))\n",
    "output.pack()\n",
    "\n",
    "def decide(human):\n",
    "    computer = random.choice([\"가위\", \"바위\", \"보\"])\n",
    "    if   computer == \"바위\":\n",
    "        computer_image[\"image\"] = rock_image\n",
    "    elif computer == \"보\":\n",
    "        computer_image[\"image\"] = paper_image\n",
    "    else:\n",
    "        computer_image[\"image\"] = scissors_image\n",
    "\n",
    "    if   (computer == \"바위\" and human == \"보\") or (computer == \"보\" and human == \"가위\") or (computer == \"가위\" and human == \"바위\"):\n",
    "        result = \"인간승리!\"\n",
    "    elif computer == human:\n",
    "        result = \"비겼습니다.\"\n",
    "    else:\n",
    "        result = \"컴퓨터승리!\"\n",
    "    output.config(text=\"인간: \" + human + \"   컴퓨터:\" + computer + \"    \" + result)\n",
    "    \n",
    "window.mainloop()"
   ]
  },
  {
   "cell_type": "markdown",
   "metadata": {
    "id": "LRAyiolBO9md"
   },
   "source": [
    "## Lab: 계산기 프로그램"
   ]
  },
  {
   "cell_type": "code",
   "execution_count": 9,
   "metadata": {
    "id": "sTonCdcqPA1O"
   },
   "outputs": [],
   "source": [
    "from tkinter import *\n",
    "\n",
    "window = Tk()\n",
    "window.title(\"My Calculator\")\n",
    "display = Entry(window, width=33, bg=\"yellow\")\n",
    "display.grid(row=0, column=0, columnspan=5)\n",
    "\n",
    "button_list= ['7', '8', '9', '/', 'C','4', '5', '6', '*', ' ','1', '2', '3', '-', ' ','0', '.', '=', '+', ' ' ]\n",
    "\n",
    "row_index= 1\n",
    "col_index= 0\n",
    "\n",
    "for button_text in button_list:\n",
    "    Button(window, text=button_text, width=5).grid(row=row_index, column=col_index)\n",
    "    col_index+= 1\n",
    "    if col_index> 4:\n",
    "        row_index+= 1\n",
    "        col_index= 0"
   ]
  },
  {
   "cell_type": "code",
   "execution_count": 10,
   "metadata": {
    "id": "RYFWRLZOPbTM"
   },
   "outputs": [],
   "source": [
    "from tkinter import *\n",
    "\n",
    "window = Tk() \n",
    "window.title(\"My Calculator\") \n",
    "display = Entry(window, width=33, bg=\"yellow\")\n",
    "display.grid(row=0, column=0, columnspan=5)\n",
    "button_list= ['7',  '8',  '9',  '/',  'C', '4',  '5',  '6',  '*',  ' ', '1',  '2',  '3',  '-',  ' ', '0',  '.',  '=',  '+',  ' ' ]\n",
    "\n",
    "def click(key):\n",
    "    if key == \"=\":\n",
    "        result = eval(display.get())\n",
    "        s = str(result)\n",
    "        display.insert(END, \"=\" + s)\n",
    "    else:\n",
    "        display.insert(END, key)\n",
    "\n",
    "row_index = 1\n",
    "col_index= 0\n",
    "for button_text in button_list:\n",
    "    Button(window, text=button_text, width=5, \n",
    "           command=lambda t=button_text: click(t)).grid(row=row_index, column=col_index)\n",
    "    col_index+= 1\n",
    "    if col_index > 4:\n",
    "        row_index+= 1\n",
    "        col_index= 0\n",
    "\n",
    "window.mainloop()"
   ]
  },
  {
   "cell_type": "markdown",
   "metadata": {
    "id": "GvITtXiSP9t_"
   },
   "source": [
    "## 화면에 그림 그리기"
   ]
  },
  {
   "cell_type": "code",
   "execution_count": 11,
   "metadata": {
    "id": "JDhk9SsQP_fz"
   },
   "outputs": [],
   "source": [
    "from tkinter import *\n",
    "\n",
    "window = Tk()\n",
    "w = Canvas(window, width=300, height=200)\n",
    "w.pack()\n",
    "\n",
    "w.create_rectangle(50, 25, 200, 100, fill=\"blue\")\n",
    "window.mainloop()"
   ]
  },
  {
   "cell_type": "markdown",
   "metadata": {
    "id": "n8DJaWWUQGRN"
   },
   "source": [
    "## 도형 관리"
   ]
  },
  {
   "cell_type": "code",
   "execution_count": 12,
   "metadata": {
    "id": "45wsBSdLQHTG"
   },
   "outputs": [],
   "source": [
    "from tkinter import *\n",
    "window = Tk()\n",
    "\n",
    "w = Canvas(window, width=300, height=200)\n",
    "w.pack()\n",
    "i= w.create_rectangle(50, 25, 200, 100, fill=\"red\")\n",
    "# w.create_rectangle(50, 25, 200, 100, fill=\"#FA88AB\")\n",
    "\n",
    "w.coords(i, 0, 0, 100, 100) # 좌표를변경한다.\n",
    "w.itemconfig(i, fill=\"blue\") # 색상을변경한다. \n",
    "#w.delete(i) > 삭제한다. \n",
    "#w.delete(ALL) > 모든항목을삭제한다. \n",
    "\n",
    "window.mainloop()"
   ]
  },
  {
   "cell_type": "markdown",
   "metadata": {
    "id": "_hY5XRG2ZkK-"
   },
   "source": [
    "## 폰트"
   ]
  },
  {
   "cell_type": "code",
   "execution_count": 14,
   "metadata": {
    "id": "IC0rMpxdZlDD"
   },
   "outputs": [],
   "source": [
    "from tkinter import *\n",
    "\n",
    "window = Tk()\n",
    "canvas = Canvas(window, width=600, height=200, bg = '#afeeee')\n",
    "canvas.create_text(200, 100, fill=\"darkblue\", font=\"Times 30 italic bold\",\n",
    "                   text=\"This is a text example.\")\n",
    "canvas.pack()\n",
    "window.mainloop()"
   ]
  },
  {
   "cell_type": "markdown",
   "metadata": {
    "id": "ExSswdeVZuWt"
   },
   "source": [
    "## 기초 도형 그리기"
   ]
  },
  {
   "cell_type": "code",
   "execution_count": null,
   "metadata": {},
   "outputs": [],
   "source": [
    "# 직선 그리는 메소드\n",
    "canvas.create_line(15,25,200,25)\n",
    "\n",
    "# 사각형을 그리는 메소드\n",
    "canvas.create_rectangle(50,25,150,75,fill='blue')\n",
    "\n",
    "# 사각형에 내접한 원이 그려지고 원 중에서 90도만 그려진다\n",
    "canvas.create_arc(10,10,100,150,extent = 90)\n",
    "\n",
    "# 타원은 지정된 사각형 안에 그려진다\n",
    "canvas.create_oval(15,25,100,125)\n",
    "\n",
    "# (10,10)에서 출발하여서 (150,110)으로 가고 최종적으로 (250,20)에서 종료된다.\n",
    "canvas.create_polygon(10,10,150,110,250,20,fill='yellow')\n",
    "\n",
    "# 텍스트의 중앙 위치를 나타내는 (x,y) 좌표, 색상을 표시하는 매개 변수 fill, 폰트를 나타내는 매개 변수 font\n",
    "canvas.create_text(100,20,text = 'Sing Street',fill = 'blue',font=('Courier',20))"
   ]
  },
  {
   "cell_type": "markdown",
   "metadata": {
    "id": "EMS4qzQxa1Wb"
   },
   "source": [
    "## 이미지 표시하기"
   ]
  },
  {
   "cell_type": "code",
   "execution_count": 1,
   "metadata": {
    "id": "pkNq30p_a3HY"
   },
   "outputs": [],
   "source": [
    "from tkinter import *\n",
    "window = Tk()\n",
    "\n",
    "canvas = Canvas(window, width=500, height=300)\n",
    "canvas.pack()\n",
    "\n",
    "img = PhotoImage(file=\"C:\\\\Users\\\\User\\\\Desktop\\\\컴퓨팅사고와 응용\\\\앙꼬.png\")\n",
    "canvas.create_image(20, 20, anchor=NW, image=img)\n",
    "\n",
    "window.mainloop()"
   ]
  },
  {
   "cell_type": "markdown",
   "metadata": {
    "id": "2ecR1VEMa-2H"
   },
   "source": [
    "## Lab: 도형 그리기"
   ]
  },
  {
   "cell_type": "code",
   "execution_count": 2,
   "metadata": {
    "id": "ZzF6G2jnbA2_"
   },
   "outputs": [],
   "source": [
    "from tkinter import *\n",
    "\n",
    "WIDTH = 600\n",
    "HEIGHT = 200\n",
    "\n",
    "def displayRect():\n",
    "    canvas.create_rectangle(10,10,WIDTH-10,HEIGHT-10)\n",
    "\n",
    "def displayOval():\n",
    "    canvas.create_oval(10,10,WIDTH-10,HEIGHT-10, fill=\"yellow\")\n",
    "\n",
    "def displayArc():\n",
    "    canvas.create_arc(10,10,WIDTH-10,HEIGHT-10,start=0,\n",
    "                      extent=120,width=10,fill='blue')\n",
    "    \n",
    "def displayPolygon():\n",
    "    canvas.create_polygon(10,10,WIDTH-10,HEIGHT-10,200,90,300, 160)\n",
    "\n",
    "def displayLine():\n",
    "    canvas.create_line(10,10,WIDTH-10,HEIGHT-10,fill='green')\n",
    "\n",
    "def clearCanvas():\n",
    "    canvas.delete(ALL)\n",
    "\n",
    "window = Tk()\n",
    "canvas = Canvas(window, width=WIDTH, height=HEIGHT, bg='white')\n",
    "canvas.pack()\n",
    "frame = Frame(window)\n",
    "frame.pack()\n",
    "\n",
    "btRectangle = Button(frame, text=\"Rectangle\",command = displayRect).grid(row=1,column=2)\n",
    "btOval = Button(frame,text=\"Oval\",command=displayOval).grid(row=1,column=3)\n",
    "btArc = Button(frame, text=\"Arc\",command=displayArc).grid(row=1,column=5)\n",
    "btPolygon = Button(frame, text=\"Polygon\",command=displayPolygon).grid(row=1,column=4)\n",
    "btLine = Button(frame, text=\"Line\",command=displayLine).grid(row=1,column=1)\n",
    "btClear = Button(frame,text=\"Clear\",command=clearCanvas).grid(row=1,column=7)\n",
    "\n",
    "window.mainloop()"
   ]
  },
  {
   "cell_type": "markdown",
   "metadata": {
    "id": "DTYKgVS9blpk"
   },
   "source": [
    "## 마우스 이벤트 처리"
   ]
  },
  {
   "cell_type": "code",
   "execution_count": 3,
   "metadata": {
    "id": "BszNkgJ2bnEI"
   },
   "outputs": [
    {
     "name": "stdout",
     "output_type": "stream",
     "text": [
      "166 79 에서 마우스 이벤트 발생\n",
      "396 102 에서 마우스 이벤트 발생\n"
     ]
    }
   ],
   "source": [
    "from tkinter import *\n",
    "\n",
    "window = Tk()\n",
    "window.geometry(\"600x200\")\n",
    "\n",
    "def callback(event):\n",
    "    print(event.x, event.y, \"에서 마우스 이벤트 발생\")\n",
    "    \n",
    "window.bind(\"<Button-1>\", callback)\n",
    "window.mainloop()"
   ]
  },
  {
   "cell_type": "code",
   "execution_count": 4,
   "metadata": {
    "id": "kT3l-bSCbtdp"
   },
   "outputs": [
    {
     "name": "stdout",
     "output_type": "stream",
     "text": [
      "51 54 에서 마우스 이벤트 발생\n",
      "'' 가 눌렸습니다. \n",
      "'' 가 눌렸습니다. \n",
      "81 77 에서 마우스 이벤트 발생\n",
      "'s' 가 눌렸습니다. \n"
     ]
    }
   ],
   "source": [
    "from tkinter import *\n",
    "\n",
    "window = Tk()\n",
    "\n",
    "def key(event):\n",
    "    print (repr(event.char), \"가 눌렸습니다. \")\n",
    "\n",
    "def callback(event):\n",
    "    frame.focus_set()\n",
    "    print(event.x, event.y, \"에서 마우스 이벤트 발생\")\n",
    "\n",
    "frame = Frame(window, width=100, height=100)\n",
    "frame.bind(\"<Key>\", key)\n",
    "frame.bind(\"<Button-1>\", callback)\n",
    "frame.pack()\n",
    "\n",
    "window.mainloop()"
   ]
  },
  {
   "cell_type": "markdown",
   "metadata": {
    "id": "_nxCiFE9b6QX"
   },
   "source": [
    "## Lab: 그림판 프로그램 만들기"
   ]
  },
  {
   "cell_type": "code",
   "execution_count": 5,
   "metadata": {
    "id": "UvQ9ANd9b82I"
   },
   "outputs": [],
   "source": [
    "from tkinter import *\n",
    "from tkinter.colorchooser import askcolor\n",
    "\n",
    "DEFAULT_PEN_SIZE = 1.0\n",
    "DEFAULT_COLOR = \"black\"\n",
    "\n",
    "mode = \"pen\"; old_x = None; old_y = None\n",
    "mycolor = DEFAULT_COLOR\n",
    "erase_on = False\n",
    "\n",
    "def use_pen(): # 펜 버튼이 선택되면 모드를 ”pen\"으로 바꾼다.\n",
    "    global mode\n",
    "    mode = \"pen\"\n",
    "\n",
    "def use_brush(): # 브러쉬 버튼이 선택되면 모드를 ”brush\"으로 바꾼다.\n",
    "    global mode\n",
    "    mode = \"brush\"\n",
    "\n",
    "def choose_color(): # 색상 버튼이 선택되면 사용자한테 색상을 요구한다.\n",
    "    global mycolor\n",
    "    mycolor = askcolor(color=mycolor)[1]\n",
    "\n",
    "def use_eraser(): # 지우개 버튼이 선택되면 모드를 ”erase\"으로 바꾼다.\n",
    "    global mode\n",
    "    mode = \"erase\"\n",
    "\n",
    "def paint(event): # 이전 점과 현재 점 사이를 직선으로 연결한다.\n",
    "    global var, erase_on, mode, old_x, old_y\n",
    "    fill_color = 'white' if mode == \"erase\" else mycolor\n",
    "    if old_x != None and old_y != None:\n",
    "        canvas.create_line(old_x, old_y, event.x, event.y,\n",
    "                           capstyle=ROUND, width=var.get(), fill=fill_color)\n",
    "    old_x = event.x\n",
    "    old_y = event.y\n",
    "\n",
    "def reset(event): # 사용자가 마우스 버튼에서 손을 떼면 이전 점을 삭제한다.\n",
    "    global old_x, old_y\n",
    "    old_x, old_y = None, None\n",
    "\n",
    "def clear_all(): # 캔버스에 그려진 모든 그림을 삭제한다.\n",
    "    global cansvas\n",
    "    canvas.delete('all')\n",
    "\n",
    "window = Tk()\n",
    "var = DoubleVar() # 슬라이더와 연결될 객체를 생성한다. \n",
    "\n",
    "penButton = Button(window, text='펜', command=use_pen)\n",
    "penButton.grid(row=0, column=0, sticky=W+E)\n",
    "\n",
    "brushButton = Button(window, text='브러쉬', command=use_brush)\n",
    "brushButton.grid(row=0, column=1, sticky=W+E)\n",
    "\n",
    "colorButton = Button(window, text='색상선택', command=choose_color)\n",
    "colorButton.grid(row=0, column=2, sticky=W+E)\n",
    "\n",
    "eraseButton = Button(window, text='지우개', command=use_eraser)\n",
    "eraseButton.grid(row=0, column=3, sticky=W+E)\n",
    "\n",
    "clearButton = Button(window, text='모두삭제', command=clear_all)\n",
    "clearButton.grid(row=0, column=4, sticky=W+E)\n",
    "\n",
    "scale = Scale(window, variable=var, orient=VERTICAL) # var = DoubleVar()\n",
    "scale.grid(row=1, column=5, sticky=N+S)\n",
    "\n",
    "canvas = Canvas(window, bg='white', width=600, height=400)\n",
    "canvas.grid(row=1, columnspan=5)\n",
    "\n",
    "canvas.bind('<B1-Motion>', paint)\n",
    "canvas.bind('<ButtonRelease-1>', reset)\n",
    "\n",
    "window.mainloop()"
   ]
  },
  {
   "cell_type": "markdown",
   "metadata": {
    "id": "W6td7lG_ceaY"
   },
   "source": [
    "## 공 애니메이션 1"
   ]
  },
  {
   "cell_type": "code",
   "execution_count": null,
   "metadata": {},
   "outputs": [],
   "source": [
    "from tkinter import *\n",
    "import time\n",
    "import random\n",
    "\n",
    "window = Tk()\n",
    "canvas=Canvas(window, width=600,height=400)\n",
    "canvas.pack()\n",
    "\n",
    "class Ball():\n",
    "    def __init__(self,color,size):\n",
    "        self.id=canvas.create_oval(0, 0, size, size,fill=color)\n",
    "        self.dx=random.randint(1,10)\n",
    "        self.dy=random.randint(1,10)\n",
    "\n",
    "    def move(self):\n",
    "        canvas.move(self.id,self.dx,self.dy)\n",
    "        x0, y0, x1, y1 = canvas.coords(self.id)\n",
    "        if y1 > canvas.winfo_height() or y0 < 0: # 원이 위쪽이나 아래쪽으로 벗어났으면\n",
    "            self.dy = -self.dy # dy의 부호를 반전시킨다.\n",
    "        if x1 > canvas.winfo_width() or x0 < 0: # 원이 왼쪽이나 오른쪽으로 벗어났으면   \n",
    "            self.dx = -self.dx # dx의 부호를 반전시킨다. \n",
    "\n",
    "ball1 = Ball(\"blue\", 60)\n",
    "ball2 = Ball(\"green\",100)\n",
    "ball3 = Ball(\"orange\",80)\n",
    "\n",
    "while True:\n",
    "    ball1.move()\n",
    "    ball2.move()\n",
    "    ball3.move()\n",
    "    window.update()\n",
    "    time.sleep(0.05)\n",
    "    \n",
    "colors = [\"red\", \"orange\", \"yellow\", \"green\", \"blue\", \"indigo\", \"violet\"]\n",
    "ballList = [Ball(random.choice(colors), 60) for _ in range(30)]\n",
    "\n",
    "while True:\n",
    "    for ball in ballList:\n",
    "        ball.move()\n",
    "    window.update()\n",
    "    time.sleep(0.05)\n",
    "    \n",
    "window.mainloop()"
   ]
  }
 ],
 "metadata": {
  "colab": {
   "collapsed_sections": [
    "5IZPH2BAc_6z",
    "YdvmT2gWdWZQ",
    "AB4GX3hFdbab"
   ],
   "name": "제 9장 GUI 프로그래밍",
   "provenance": []
  },
  "hide_input": false,
  "kernelspec": {
   "display_name": "Python 3",
   "language": "python",
   "name": "python3"
  },
  "language_info": {
   "codemirror_mode": {
    "name": "ipython",
    "version": 3
   },
   "file_extension": ".py",
   "mimetype": "text/x-python",
   "name": "python",
   "nbconvert_exporter": "python",
   "pygments_lexer": "ipython3",
   "version": "3.8.5"
  },
  "toc": {
   "base_numbering": 1,
   "nav_menu": {},
   "number_sections": true,
   "sideBar": true,
   "skip_h1_title": false,
   "title_cell": "Table of Contents",
   "title_sidebar": "Contents",
   "toc_cell": false,
   "toc_position": {},
   "toc_section_display": true,
   "toc_window_display": false
  },
  "varInspector": {
   "cols": {
    "lenName": 16,
    "lenType": 16,
    "lenVar": 40
   },
   "kernels_config": {
    "python": {
     "delete_cmd_postfix": "",
     "delete_cmd_prefix": "del ",
     "library": "var_list.py",
     "varRefreshCmd": "print(var_dic_list())"
    },
    "r": {
     "delete_cmd_postfix": ") ",
     "delete_cmd_prefix": "rm(",
     "library": "var_list.r",
     "varRefreshCmd": "cat(var_dic_list()) "
    }
   },
   "types_to_exclude": [
    "module",
    "function",
    "builtin_function_or_method",
    "instance",
    "_Feature"
   ],
   "window_display": false
  }
 },
 "nbformat": 4,
 "nbformat_minor": 1
}
