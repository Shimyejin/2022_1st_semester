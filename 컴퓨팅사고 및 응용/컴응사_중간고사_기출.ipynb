{
 "cells": [
  {
   "cell_type": "markdown",
   "metadata": {
    "id": "RyKoFz7wEN17"
   },
   "source": [
    "### 문제 1번\n",
    "함수 fun(n)은 초를 매개변수 n으로 받아 시분초로 변환한 문자열을 반환한다.  \n",
    "주석처럼 결과가 출력되도록 [ ] 위치에 함수 fun(n)을 작성하시오."
   ]
  },
  {
   "cell_type": "code",
   "execution_count": null,
   "metadata": {
    "colab": {
     "base_uri": "https://localhost:8080/"
    },
    "id": "cB55fZ04EKPY",
    "outputId": "e8493c04-a65d-433e-fd50-96e68002669d"
   },
   "outputs": [
    {
     "name": "stdout",
     "output_type": "stream",
     "text": [
      "01:00:00\n",
      "12:41:18\n",
      "00:00:00\n"
     ]
    }
   ],
   "source": [
    "def fun(n):\n",
    "    n = int(n)\n",
    "    hours = n // 3600\n",
    "    n = n - hours * 3600\n",
    "    mu = n // 60\n",
    "    ss = n - mu*60\n",
    "    a = f\"{hours:02d}:{mu:02d}:{ss:02d}\"\n",
    "    return a\n",
    "\n",
    "print(fun(3600))\n",
    "print(fun(45678))\n",
    "print(fun(0))"
   ]
  },
  {
   "cell_type": "markdown",
   "metadata": {
    "id": "87mybHaBIzCt"
   },
   "source": [
    "### 문제 2번  \n",
    "my(1, 2)와 같은 결과가 출력되도록 함수를 호출하는 방법 5가지를 [ ] 위치에 완성하시오.  \n",
    "단, my(1,)처럼 콤마로 끝나면 안된다."
   ]
  },
  {
   "cell_type": "code",
   "execution_count": null,
   "metadata": {
    "colab": {
     "base_uri": "https://localhost:8080/"
    },
    "id": "RGpS4Q8FH-vL",
    "outputId": "0f48849e-6e13-42de-a887-28b42f008357"
   },
   "outputs": [
    {
     "name": "stdout",
     "output_type": "stream",
     "text": [
      "1 2\n",
      "1 2\n",
      "1 2\n",
      "1 2\n",
      "1 2\n",
      "1 2\n"
     ]
    }
   ],
   "source": [
    "def my(m, y=2):\n",
    "    print(m, y)\n",
    "my(1, 2)\n",
    "my(1)\n",
    "my(m=1,y=2)\n",
    "my(1,y=2)\n",
    "my(m=1)\n",
    "my(y=2,m=1)"
   ]
  },
  {
   "cell_type": "markdown",
   "metadata": {
    "id": "MbtaXZ2PK9WR"
   },
   "source": [
    "### 문제 3번  \n",
    "음이 아닌 정수를 매개변수로 받아 각 자리수의 곱을 반환하는 함수 fun(n)를 [ ] 위치에 작성하시오.  \n",
    "str 함수 사용 금지."
   ]
  },
  {
   "cell_type": "code",
   "execution_count": null,
   "metadata": {
    "colab": {
     "base_uri": "https://localhost:8080/"
    },
    "id": "JkS1bM2ZLF45",
    "outputId": "4ebc110b-6e53-44f1-e485-939fc6d08409"
   },
   "outputs": [
    {
     "name": "stdout",
     "output_type": "stream",
     "text": [
      "120\n"
     ]
    }
   ],
   "source": [
    "def fun(n):\n",
    "    n = list(str(n))\n",
    "    multiple = 1\n",
    "    for i in range(len(n)):\n",
    "        multiple = multiple * int(n[i])\n",
    "    return multiple\n",
    "\n",
    "print(fun(12345))"
   ]
  },
  {
   "cell_type": "code",
   "execution_count": null,
   "metadata": {
    "colab": {
     "base_uri": "https://localhost:8080/"
    },
    "id": "LXWKz4QboqUx",
    "outputId": "5266720b-add8-4476-ce64-e5ab853d4d5a"
   },
   "outputs": [
    {
     "name": "stdout",
     "output_type": "stream",
     "text": [
      "120\n"
     ]
    }
   ],
   "source": [
    "def multi_digit(number):\n",
    "    if number < 10:\n",
    "        return number;\n",
    "    return (number % 10) * multi_digit(number // 10)\n",
    "\n",
    "print(multi_digit(12345))"
   ]
  },
  {
   "cell_type": "markdown",
   "metadata": {
    "id": "O5OgKtqkpDf6"
   },
   "source": [
    "### 문제 4번  \n",
    "fun(n)은 첫 줄에는 1, 다음줄은 1  2, 마지막 줄에는 1  2…n이 출력될 수 있는 문자열을 반환한다. 다음처럼 출력되도록 fun을 '''''' 위치에 일반성 있게 작성하시오. "
   ]
  },
  {
   "cell_type": "code",
   "execution_count": 23,
   "metadata": {
    "colab": {
     "base_uri": "https://localhost:8080/"
    },
    "id": "fi6wOIvmpGMO",
    "outputId": "ac71f23f-755c-40ea-c7a8-f7c2898656b7"
   },
   "outputs": [
    {
     "name": "stdout",
     "output_type": "stream",
     "text": [
      "1\n",
      "12\n",
      "123\n",
      "1234\n",
      "\n"
     ]
    }
   ],
   "source": [
    "def fun(n):\n",
    "    for i in range(1,n+1):\n",
    "        for j in range(1,i+1):\n",
    "            print(j,end=\"\")\n",
    "        print()\n",
    "    return ''\n",
    "\n",
    "print(fun(4))"
   ]
  },
  {
   "cell_type": "markdown",
   "metadata": {
    "id": "Tl6D1ZbftZx7"
   },
   "source": [
    "### 문제 5번  \n",
    "같은 연산자일지라도 피연산자의 데이터 형에 따라 다른 동작을 할 수 있다. 주석처럼 결과가 나오도록 '''''' 위치에 함수 fun(n)을 작성하시오. "
   ]
  },
  {
   "cell_type": "code",
   "execution_count": null,
   "metadata": {
    "colab": {
     "base_uri": "https://localhost:8080/"
    },
    "id": "OEsfPnTwtgta",
    "outputId": "2560f026-0e50-4b8d-b8bc-34277f34d698"
   },
   "outputs": [
    {
     "name": "stdout",
     "output_type": "stream",
     "text": [
      "30\n",
      "101010\n"
     ]
    }
   ],
   "source": [
    "def fun(n):\n",
    "    return n * 3\n",
    "\n",
    "print(fun(10))\n",
    "print(fun('10'))"
   ]
  },
  {
   "cell_type": "markdown",
   "metadata": {
    "id": "Vfx7Hrj-uG8K"
   },
   "source": [
    "### 문제 6번  \n",
    "함수 fun(n)은 정수 n의 값을 천 단위 마다 콤마를 넣은 문자열을 반환한다. 주석처럼 결과가 출력되도록 '''''' 위치에 이 함수를 작성하시오.  \n",
    "format 함수 사용 금지. "
   ]
  },
  {
   "cell_type": "code",
   "execution_count": null,
   "metadata": {
    "colab": {
     "base_uri": "https://localhost:8080/"
    },
    "id": "vStpMSBnvppy",
    "outputId": "2fc5c7e3-fafe-40cd-a5ce-04660130a12c"
   },
   "outputs": [
    {
     "name": "stdout",
     "output_type": "stream",
     "text": [
      "-1,000\n",
      "123\n",
      "123,456\n"
     ]
    }
   ],
   "source": [
    "def fun(n):\n",
    "    return f'{n:,}'\n",
    "\n",
    "print(fun(-1000))\n",
    "print(fun(123))\n",
    "print(fun(123456))"
   ]
  },
  {
   "cell_type": "markdown",
   "metadata": {
    "id": "FBwrjNdaxwTK"
   },
   "source": [
    "### 문제 7번  \n",
    "함수 fun(n)은 구간 [1,1000]에 있는 난수를 n개를 생성하여 그 중 최대값과 최소값을 출력한다.'''''' 위치에 이 함수를 작성하시오. "
   ]
  },
  {
   "cell_type": "code",
   "execution_count": null,
   "metadata": {
    "colab": {
     "base_uri": "https://localhost:8080/"
    },
    "id": "N_VOhWUyxeRj",
    "outputId": "8de4f6cf-78c5-4a6a-c861-7741a82c18e6"
   },
   "outputs": [
    {
     "data": {
      "text/plain": [
       "(1, 1000)"
      ]
     },
     "execution_count": 68,
     "metadata": {},
     "output_type": "execute_result"
    }
   ],
   "source": [
    "import random\n",
    "\n",
    "def fun(n):\n",
    "    numbers = []\n",
    "    for i in range(1,n+1):\n",
    "        number = random.randint(1, 1000)\n",
    "        numbers.append(number)\n",
    "    min_x = min(numbers)\n",
    "    max_x = max(numbers)\n",
    "    return min_x, max_x\n",
    "\n",
    "random.seed(1)\n",
    "fun(1) # 138 138\n",
    "fun(100) # 3, 997\n",
    "fun(7000) # 1, 1000"
   ]
  },
  {
   "cell_type": "markdown",
   "metadata": {
    "id": "vJ0Lz0MC2qrM"
   },
   "source": [
    "### 문제 8번  \n",
    "함수 myInt(s)는 문자열 s를 정수로 변환하여 반환한다. s에 부호나 숫자가 아닌 문자가 있으면 예외를 발생시켜야 한다. 함수 fun(s)는 myInt(s)에 의해 예외가 발\n",
    "생하면 메시지를 반환하며, 아니면 변환된 정수를 반환해야 한다. 다음처럼 출력되도록 이 두 함수를 '''''' 위치에 작성하시오."
   ]
  },
  {
   "cell_type": "code",
   "execution_count": null,
   "metadata": {
    "colab": {
     "base_uri": "https://localhost:8080/"
    },
    "id": "rX98HD9Q2yzL",
    "outputId": "cab90e9a-2c8c-4202-8409-b92e3c850d5e"
   },
   "outputs": [
    {
     "name": "stdout",
     "output_type": "stream",
     "text": [
      "1234567890\n",
      "-123\n",
      "숫자 아닌 문자\n"
     ]
    }
   ],
   "source": [
    "def myInt(s):\n",
    "    try:\n",
    "        temp = int(eval(str(s)))\n",
    "        if type(temp) == int:\n",
    "            return temp\n",
    "    except:\n",
    "        return '숫자 아닌 문자'\n",
    "        \n",
    "print(myInt(\"1234567890\"))\n",
    "print(myInt(\"-123\"))\n",
    "print(myInt(\"1,000\"))"
   ]
  }
 ],
 "metadata": {
  "colab": {
   "collapsed_sections": [],
   "name": "컴응사 중간고사 기출",
   "provenance": []
  },
  "hide_input": false,
  "kernelspec": {
   "display_name": "Python 3",
   "language": "python",
   "name": "python3"
  },
  "language_info": {
   "codemirror_mode": {
    "name": "ipython",
    "version": 3
   },
   "file_extension": ".py",
   "mimetype": "text/x-python",
   "name": "python",
   "nbconvert_exporter": "python",
   "pygments_lexer": "ipython3",
   "version": "3.8.5"
  },
  "toc": {
   "base_numbering": 1,
   "nav_menu": {},
   "number_sections": true,
   "sideBar": true,
   "skip_h1_title": false,
   "title_cell": "Table of Contents",
   "title_sidebar": "Contents",
   "toc_cell": false,
   "toc_position": {},
   "toc_section_display": true,
   "toc_window_display": false
  },
  "varInspector": {
   "cols": {
    "lenName": 16,
    "lenType": 16,
    "lenVar": 40
   },
   "kernels_config": {
    "python": {
     "delete_cmd_postfix": "",
     "delete_cmd_prefix": "del ",
     "library": "var_list.py",
     "varRefreshCmd": "print(var_dic_list())"
    },
    "r": {
     "delete_cmd_postfix": ") ",
     "delete_cmd_prefix": "rm(",
     "library": "var_list.r",
     "varRefreshCmd": "cat(var_dic_list()) "
    }
   },
   "types_to_exclude": [
    "module",
    "function",
    "builtin_function_or_method",
    "instance",
    "_Feature"
   ],
   "window_display": false
  }
 },
 "nbformat": 4,
 "nbformat_minor": 1
}
