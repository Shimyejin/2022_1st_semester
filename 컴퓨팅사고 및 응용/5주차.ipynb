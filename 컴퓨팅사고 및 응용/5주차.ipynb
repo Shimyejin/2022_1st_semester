{
 "cells": [
  {
   "cell_type": "markdown",
   "metadata": {},
   "source": [
    "# 실습"
   ]
  },
  {
   "cell_type": "markdown",
   "metadata": {},
   "source": [
    "## 6.04"
   ]
  },
  {
   "cell_type": "code",
   "execution_count": 1,
   "metadata": {},
   "outputs": [
    {
     "name": "stdout",
     "output_type": "stream",
     "text": [
      "[1, 2, 3, 4, 5, 6, 7, 8, 9, 10]\n",
      "[1, 2, -3, -4, -5, -6, -7, -8, 9, 10]\n"
     ]
    }
   ],
   "source": [
    "A = [i for i in range(1,11)]\n",
    "B = [-i for i in range(1,11)]\n",
    "B = A[0:2]+B[2:8]+A[8:]\n",
    "print(A)\n",
    "print(B)"
   ]
  },
  {
   "cell_type": "markdown",
   "metadata": {},
   "source": [
    "## 6.05"
   ]
  },
  {
   "cell_type": "code",
   "execution_count": 2,
   "metadata": {},
   "outputs": [
    {
     "name": "stdout",
     "output_type": "stream",
     "text": [
      "['aba', 'xyz', 'abc', '121']\n",
      "문자열의 개수= 2\n"
     ]
    }
   ],
   "source": [
    "def match_words(words):\n",
    "    ctr = 0\n",
    "    for word in words:\n",
    "        if len(word) > 1 and word[0] == word[-1]:\n",
    "            ctr += 1\n",
    "    return ctr\n",
    "\n",
    "s = ['aba', 'xyz', 'abc', '121']\n",
    "print(s)\n",
    "print('문자열의 개수=', match_words(s))"
   ]
  },
  {
   "cell_type": "markdown",
   "metadata": {},
   "source": [
    "## 6.06"
   ]
  },
  {
   "cell_type": "code",
   "execution_count": 3,
   "metadata": {},
   "outputs": [
    {
     "name": "stdout",
     "output_type": "stream",
     "text": [
      "list1= [1, 2, 3, 4, 5, 6]\n",
      "list2= [6, 7, 8, 9, 10]\n",
      "True\n"
     ]
    }
   ],
   "source": [
    "list1=[1, 2, 3, 4, 5, 6]\n",
    "list2=[6, 7, 8, 9, 10]\n",
    "print('list1=',list1)\n",
    "print('list2=',list2)\n",
    "list = list(set(list1)&set(list2))\n",
    "if len(list)>0:\n",
    "    print(True)\n",
    "else:\n",
    "    print(False)"
   ]
  },
  {
   "cell_type": "markdown",
   "metadata": {},
   "source": [
    "## 6.16"
   ]
  },
  {
   "cell_type": "code",
   "execution_count": 4,
   "metadata": {},
   "outputs": [
    {
     "name": "stdout",
     "output_type": "stream",
     "text": [
      "n을 입력:31\n",
      "2부터 31까지 소수는\n"
     ]
    },
    {
     "data": {
      "text/plain": [
       "'2 3 5 7 11 13 17 19 23 29 31'"
      ]
     },
     "execution_count": 4,
     "metadata": {},
     "output_type": "execute_result"
    }
   ],
   "source": [
    "n = int(input(\"n을 입력:\"))\n",
    "a = [False,False] + [True]*(n-1)\n",
    "list = []\n",
    "for i in range(2,n+1):\n",
    "    if a[i]:\n",
    "        list.append(i)\n",
    "        for j in range(2*i, n+1, i):\n",
    "            a[j] = False\n",
    "\n",
    "print(f'2부터 {n}까지 소수는')\n",
    "' '.join(str(e) for e in list)"
   ]
  },
  {
   "cell_type": "markdown",
   "metadata": {},
   "source": [
    "# 7장 파이썬 자료구조 II"
   ]
  },
  {
   "cell_type": "markdown",
   "metadata": {},
   "source": [
    "## 튜플"
   ]
  },
  {
   "cell_type": "code",
   "execution_count": 1,
   "metadata": {},
   "outputs": [
    {
     "data": {
      "text/plain": [
       "('apple',)"
      ]
     },
     "execution_count": 1,
     "metadata": {},
     "output_type": "execute_result"
    }
   ],
   "source": [
    "single_tuple = (\"apple\",) # 쉼표가 끝에 있어야 한다. \n",
    "single_tuple"
   ]
  },
  {
   "cell_type": "code",
   "execution_count": 2,
   "metadata": {},
   "outputs": [
    {
     "data": {
      "text/plain": [
       "'apple'"
      ]
     },
     "execution_count": 2,
     "metadata": {},
     "output_type": "execute_result"
    }
   ],
   "source": [
    "no_tuple = (\"apple\") # 쉼표가 없으면 튜플이 아니라 수식이 된다. \n",
    "no_tuple"
   ]
  },
  {
   "cell_type": "code",
   "execution_count": 3,
   "metadata": {},
   "outputs": [
    {
     "data": {
      "text/plain": [
       "'banana'"
      ]
     },
     "execution_count": 3,
     "metadata": {},
     "output_type": "execute_result"
    }
   ],
   "source": [
    "fruits = (\"apple\", \"banana\", \"grape\")\n",
    "fruits[1]"
   ]
  },
  {
   "cell_type": "code",
   "execution_count": 4,
   "metadata": {},
   "outputs": [
    {
     "ename": "TypeError",
     "evalue": "'tuple' object does not support item assignment",
     "output_type": "error",
     "traceback": [
      "\u001b[1;31m---------------------------------------------------------------------------\u001b[0m",
      "\u001b[1;31mTypeError\u001b[0m                                 Traceback (most recent call last)",
      "\u001b[1;32m<ipython-input-4-73e656435210>\u001b[0m in \u001b[0;36m<module>\u001b[1;34m\u001b[0m\n\u001b[1;32m----> 1\u001b[1;33m \u001b[0mfruits\u001b[0m\u001b[1;33m[\u001b[0m\u001b[1;36m1\u001b[0m\u001b[1;33m]\u001b[0m \u001b[1;33m=\u001b[0m \u001b[1;34m\"pear\"\u001b[0m\u001b[1;33m\u001b[0m\u001b[1;33m\u001b[0m\u001b[0m\n\u001b[0m",
      "\u001b[1;31mTypeError\u001b[0m: 'tuple' object does not support item assignment"
     ]
    }
   ],
   "source": [
    " fruits[1] = \"pear\" "
   ]
  },
  {
   "cell_type": "code",
   "execution_count": 5,
   "metadata": {},
   "outputs": [
    {
     "data": {
      "text/plain": [
       "(1, 2, 3, 4)"
      ]
     },
     "execution_count": 5,
     "metadata": {},
     "output_type": "execute_result"
    }
   ],
   "source": [
    "# 튜플 <> 리스트\n",
    "myList = [1, 2, 3, 4] \n",
    "myTuple = tuple(myList) # tuple()는 튜플을 생성하는 함수이다. \n",
    "myTuple"
   ]
  },
  {
   "cell_type": "code",
   "execution_count": 6,
   "metadata": {},
   "outputs": [
    {
     "data": {
      "text/plain": [
       "[1, 2, 3, 4]"
      ]
     },
     "execution_count": 6,
     "metadata": {},
     "output_type": "execute_result"
    }
   ],
   "source": [
    "myTuple = (1, 2, 3, 4)\n",
    "myList = list(myTuple) # list()는 리스트를 생성하는 함수이다.\n",
    "myList"
   ]
  },
  {
   "cell_type": "code",
   "execution_count": 7,
   "metadata": {},
   "outputs": [
    {
     "data": {
      "text/plain": [
       "2125769814144"
      ]
     },
     "execution_count": 7,
     "metadata": {},
     "output_type": "execute_result"
    }
   ],
   "source": [
    "fruits = (\"apple\", \"banana\", \"grape\")\n",
    "id(fruits)"
   ]
  },
  {
   "cell_type": "code",
   "execution_count": 8,
   "metadata": {},
   "outputs": [
    {
     "data": {
      "text/plain": [
       "('apple', 'banana', 'grape', 'pear', 'kiwi')"
      ]
     },
     "execution_count": 8,
     "metadata": {},
     "output_type": "execute_result"
    }
   ],
   "source": [
    "fruits += (\"pear\", \"kiwi\")\n",
    "fruits"
   ]
  },
  {
   "cell_type": "code",
   "execution_count": 9,
   "metadata": {},
   "outputs": [
    {
     "data": {
      "text/plain": [
       "2125769972768"
      ]
     },
     "execution_count": 9,
     "metadata": {},
     "output_type": "execute_result"
    }
   ],
   "source": [
    "id(fruits)"
   ]
  },
  {
   "cell_type": "code",
   "execution_count": 10,
   "metadata": {},
   "outputs": [
    {
     "data": {
      "text/plain": [
       "2125769018240"
      ]
     },
     "execution_count": 10,
     "metadata": {},
     "output_type": "execute_result"
    }
   ],
   "source": [
    "numbers = [10, 20, 30]\n",
    "id(numbers)"
   ]
  },
  {
   "cell_type": "code",
   "execution_count": 11,
   "metadata": {},
   "outputs": [],
   "source": [
    "numbers += (40, 50)"
   ]
  },
  {
   "cell_type": "code",
   "execution_count": 12,
   "metadata": {},
   "outputs": [
    {
     "data": {
      "text/plain": [
       "[10, 20, 30, 40, 50]"
      ]
     },
     "execution_count": 12,
     "metadata": {},
     "output_type": "execute_result"
    }
   ],
   "source": [
    "numbers"
   ]
  },
  {
   "cell_type": "code",
   "execution_count": 13,
   "metadata": {},
   "outputs": [
    {
     "data": {
      "text/plain": [
       "2125769018240"
      ]
     },
     "execution_count": 13,
     "metadata": {},
     "output_type": "execute_result"
    }
   ],
   "source": [
    "id(numbers)"
   ]
  },
  {
   "cell_type": "code",
   "execution_count": 14,
   "metadata": {},
   "outputs": [
    {
     "data": {
      "text/plain": [
       "90"
      ]
     },
     "execution_count": 14,
     "metadata": {},
     "output_type": "execute_result"
    }
   ],
   "source": [
    "n1 = 10\n",
    "n2 = 90\n",
    "n1, n2 = (n2, n1)\n",
    "n1"
   ]
  },
  {
   "cell_type": "code",
   "execution_count": 15,
   "metadata": {},
   "outputs": [
    {
     "name": "stdout",
     "output_type": "stream",
     "text": [
      "[(0, 'apple'), (1, 'banana'), (2, 'grape')]\n",
      "0 apple\n",
      "1 banana\n",
      "2 grape\n"
     ]
    }
   ],
   "source": [
    "fruits =[\"apple\",\"banana\",\"grape\"]\n",
    "print(list(enumerate(fruits)))\n",
    "for index, value in enumerate(fruits):\n",
    "    print(index, value)"
   ]
  },
  {
   "cell_type": "markdown",
   "metadata": {},
   "source": [
    "## 세트"
   ]
  },
  {
   "cell_type": "code",
   "execution_count": 16,
   "metadata": {},
   "outputs": [
    {
     "name": "stdout",
     "output_type": "stream",
     "text": [
      "{1, 2, 3}\n"
     ]
    }
   ],
   "source": [
    "numbers =set([1,2,3,1,2,3])\n",
    "print(numbers)"
   ]
  },
  {
   "cell_type": "code",
   "execution_count": 17,
   "metadata": {},
   "outputs": [],
   "source": [
    "fruits ={\"apple\",\"banana\",\"grape\"}\n",
    "size =len(fruits)"
   ]
  },
  {
   "cell_type": "code",
   "execution_count": 18,
   "metadata": {},
   "outputs": [
    {
     "name": "stdout",
     "output_type": "stream",
     "text": [
      "집합 안에 apple이 있습니다.\n"
     ]
    }
   ],
   "source": [
    "fruits = { \"apple\", \"banana\", \"grape\" }\n",
    "if \"apple\" in fruits:\n",
    "    print(\"집합 안에 apple이 있습니다.\")"
   ]
  },
  {
   "cell_type": "code",
   "execution_count": 19,
   "metadata": {},
   "outputs": [
    {
     "name": "stdout",
     "output_type": "stream",
     "text": [
      "banana apple grape "
     ]
    }
   ],
   "source": [
    "fruits ={\"apple\",\"banana\",\"grape\"}\n",
    "for x in fruits:\n",
    "    print(x, end=\" \")"
   ]
  },
  {
   "cell_type": "code",
   "execution_count": 20,
   "metadata": {},
   "outputs": [
    {
     "name": "stdout",
     "output_type": "stream",
     "text": [
      "apple banana grape "
     ]
    }
   ],
   "source": [
    "fruits ={\"apple\",\"banana\",\"grape\"}\n",
    "for x in sorted(fruits):\n",
    "    print(x, end=\" \")"
   ]
  },
  {
   "cell_type": "code",
   "execution_count": 21,
   "metadata": {},
   "outputs": [
    {
     "name": "stdout",
     "output_type": "stream",
     "text": [
      "A와 B는 같지 않습니다.\n"
     ]
    }
   ],
   "source": [
    "A ={\"apple\",\"banana\",\"grape\"}\n",
    "B ={\"apple\",\"banana\",\"grape\",\"kiwi\"}\n",
    "if A == B :\n",
    "    print(\"A와 B는 같습니다.\")\n",
    "else :\n",
    "    print(\"A와 B는 같지 않습니다.\")"
   ]
  },
  {
   "cell_type": "code",
   "execution_count": 22,
   "metadata": {},
   "outputs": [],
   "source": [
    "C = A|B"
   ]
  },
  {
   "cell_type": "code",
   "execution_count": 23,
   "metadata": {},
   "outputs": [
    {
     "data": {
      "text/plain": [
       "{'apple', 'banana', 'grape', 'kiwi'}"
      ]
     },
     "execution_count": 23,
     "metadata": {},
     "output_type": "execute_result"
    }
   ],
   "source": [
    "C"
   ]
  },
  {
   "cell_type": "code",
   "execution_count": 24,
   "metadata": {},
   "outputs": [],
   "source": [
    "C = A&B"
   ]
  },
  {
   "cell_type": "code",
   "execution_count": 25,
   "metadata": {},
   "outputs": [
    {
     "data": {
      "text/plain": [
       "{'apple', 'banana', 'grape'}"
      ]
     },
     "execution_count": 25,
     "metadata": {},
     "output_type": "execute_result"
    }
   ],
   "source": [
    "C"
   ]
  },
  {
   "cell_type": "code",
   "execution_count": 26,
   "metadata": {},
   "outputs": [
    {
     "data": {
      "text/plain": [
       "5"
      ]
     },
     "execution_count": 26,
     "metadata": {},
     "output_type": "execute_result"
    }
   ],
   "source": [
    "# 리스트 <> 세트\n",
    "list1 =[1,2,3,4,5,1,2,4 ]\n",
    "len(set(list1))"
   ]
  },
  {
   "cell_type": "code",
   "execution_count": 27,
   "metadata": {},
   "outputs": [
    {
     "data": {
      "text/plain": [
       "{3, 4, 5}"
      ]
     },
     "execution_count": 27,
     "metadata": {},
     "output_type": "execute_result"
    }
   ],
   "source": [
    "list1 =[1,2,3,4,5 ]\n",
    "list2 =[3,4,5,6,7 ]\n",
    "set(list1)&set(list2)"
   ]
  },
  {
   "cell_type": "markdown",
   "metadata": {},
   "source": [
    "### Lab: 문자열의 공통 문자"
   ]
  },
  {
   "cell_type": "code",
   "execution_count": 29,
   "metadata": {},
   "outputs": [
    {
     "name": "stdout",
     "output_type": "stream",
     "text": [
      "첫 번째 문자열:Hello World!\n",
      "두 번째 문자열:How are you?\n",
      "\n",
      "공통적인 글자: e   r o H "
     ]
    }
   ],
   "source": [
    "s1=input(\"첫 번째 문자열:\")\n",
    "s2=input(\"두 번째 문자열:\")\n",
    "list1 = list( set(s1) & set(s2) ) # 세트로 만들고 교집합 연산을 한다. \n",
    "print(\"\\n공통적인 글자:\", end=\" \")\n",
    "for i in list1:\n",
    "    print(i, end=\" \")"
   ]
  },
  {
   "cell_type": "markdown",
   "metadata": {},
   "source": [
    "### Lab: 중복되지 않은 단어의 개수 세기"
   ]
  },
  {
   "cell_type": "code",
   "execution_count": 30,
   "metadata": {},
   "outputs": [
    {
     "name": "stdout",
     "output_type": "stream",
     "text": [
      "입력 텍스트: I have a dream that one day every valley shall be exalted and every hill and mountain shall be made low\n",
      "사용된 단어의 개수=  17\n",
      "{'dream', 'I', 'one', 'mountain', 'made', 'have', 'hill', 'exalted', 'that', 'a', 'low', 'day', 'valley', 'and', 'be', 'every', 'shall'}\n"
     ]
    }
   ],
   "source": [
    "txt = input(\"입력 텍스트: \")\n",
    "words = txt.split(\" \")\n",
    "unique = set(words) # 집합으로 만들면 자동적으로 중복을 제거한다. \n",
    "print(\"사용된 단어의 개수= \", len(unique))\n",
    "print(unique)"
   ]
  },
  {
   "cell_type": "markdown",
   "metadata": {},
   "source": [
    "## 딕셔너리"
   ]
  },
  {
   "cell_type": "code",
   "execution_count": 31,
   "metadata": {},
   "outputs": [
    {
     "name": "stdout",
     "output_type": "stream",
     "text": [
      "Seoul\n"
     ]
    }
   ],
   "source": [
    "capitals ={\"Korea\":\"Seoul\", \"USA\":\"Washington\", \"UK\":\"London\"} \n",
    "print( capitals[\"Korea\"])"
   ]
  },
  {
   "cell_type": "code",
   "execution_count": 32,
   "metadata": {},
   "outputs": [
    {
     "ename": "KeyError",
     "evalue": "'France'",
     "output_type": "error",
     "traceback": [
      "\u001b[1;31m---------------------------------------------------------------------------\u001b[0m",
      "\u001b[1;31mKeyError\u001b[0m                                  Traceback (most recent call last)",
      "\u001b[1;32m<ipython-input-32-7a46c90fd73a>\u001b[0m in \u001b[0;36m<module>\u001b[1;34m\u001b[0m\n\u001b[1;32m----> 1\u001b[1;33m \u001b[0mprint\u001b[0m\u001b[1;33m(\u001b[0m\u001b[0mcapitals\u001b[0m\u001b[1;33m[\u001b[0m\u001b[1;34m\"France\"\u001b[0m\u001b[1;33m]\u001b[0m\u001b[1;33m)\u001b[0m\u001b[1;33m\u001b[0m\u001b[1;33m\u001b[0m\u001b[0m\n\u001b[0m",
      "\u001b[1;31mKeyError\u001b[0m: 'France'"
     ]
    }
   ],
   "source": [
    "print(capitals[\"France\"])"
   ]
  },
  {
   "cell_type": "code",
   "execution_count": 33,
   "metadata": {},
   "outputs": [
    {
     "name": "stdout",
     "output_type": "stream",
     "text": [
      "해당 키가 없습니다.\n"
     ]
    }
   ],
   "source": [
    "print( capitals.get(\"France\", \"해당 키가 없습니다.\"))"
   ]
  },
  {
   "cell_type": "code",
   "execution_count": 34,
   "metadata": {},
   "outputs": [
    {
     "name": "stdout",
     "output_type": "stream",
     "text": [
      "{'Korea': 'Seoul', 'USA': 'Washington', 'UK': 'London', 'France': 'Paris'}\n"
     ]
    }
   ],
   "source": [
    "capitals ={}\n",
    "capitals[\"Korea\"]=\"Seoul\"\n",
    "capitals[\"USA\"]=\"Washington\"\n",
    "capitals[\"UK\"]=\"London\"\n",
    "capitals[\"France\"]=\"Paris\"\n",
    "print(capitals)"
   ]
  },
  {
   "cell_type": "code",
   "execution_count": 35,
   "metadata": {},
   "outputs": [],
   "source": [
    "if \"UK\" in capitals :\n",
    "    capitals.pop(\"UK\")"
   ]
  },
  {
   "cell_type": "code",
   "execution_count": 36,
   "metadata": {},
   "outputs": [
    {
     "name": "stdout",
     "output_type": "stream",
     "text": [
      "Korea : Seoul\n",
      "USA : Washington\n",
      "UK : London\n"
     ]
    }
   ],
   "source": [
    "capitals ={\"Korea\":\"Seoul\",\"USA\":\"Washington\",\"UK\":\"London\"} \n",
    "for key in capitals :\n",
    "    print( key,\":\", capitals[key])"
   ]
  },
  {
   "cell_type": "code",
   "execution_count": 37,
   "metadata": {},
   "outputs": [
    {
     "name": "stdout",
     "output_type": "stream",
     "text": [
      "Korea : Seoul\n",
      "USA : Washington\n",
      "UK : London\n"
     ]
    }
   ],
   "source": [
    "capitals ={\"Korea\":\"Seoul\",\"USA\":\"Washington\",\"UK\":\"London\"} \n",
    "for key, value in capitals.items():\n",
    "    print( key,\":\", value )"
   ]
  },
  {
   "cell_type": "code",
   "execution_count": 38,
   "metadata": {},
   "outputs": [
    {
     "name": "stdout",
     "output_type": "stream",
     "text": [
      "dict_keys(['Korea', 'USA', 'UK'])\n",
      "dict_values(['Seoul', 'Washington', 'London'])\n"
     ]
    }
   ],
   "source": [
    "capitals ={\"Korea\":\"Seoul\",\"USA\":\"Washington\",\"UK\":\"London\"}\n",
    "print( capitals.keys())\n",
    "print( capitals.values())"
   ]
  },
  {
   "cell_type": "code",
   "execution_count": 39,
   "metadata": {},
   "outputs": [
    {
     "name": "stdout",
     "output_type": "stream",
     "text": [
      "Korea UK USA "
     ]
    }
   ],
   "source": [
    "for key in sorted( capitals.keys()):\n",
    "    print(key, end=\" \")"
   ]
  },
  {
   "cell_type": "code",
   "execution_count": 40,
   "metadata": {},
   "outputs": [
    {
     "name": "stdout",
     "output_type": "stream",
     "text": [
      "{2: 4, 4: 16, 6: 36}\n"
     ]
    }
   ],
   "source": [
    "values =[1,2,3,4,5,6] \n",
    "dic ={x : x**2 for x in values if x%2==0}\n",
    "print(dic)"
   ]
  },
  {
   "cell_type": "code",
   "execution_count": 41,
   "metadata": {},
   "outputs": [
    {
     "name": "stdout",
     "output_type": "stream",
     "text": [
      "{1: '1', 2: '2', 3: '3', 4: '4', 5: '5'}\n"
     ]
    }
   ],
   "source": [
    "dic ={i:str(i) for i in [1,2,3,4,5]}\n",
    "print(dic)"
   ]
  },
  {
   "cell_type": "code",
   "execution_count": 42,
   "metadata": {},
   "outputs": [
    {
     "name": "stdout",
     "output_type": "stream",
     "text": [
      "{'apple': 5, 'orange': 6, 'banana': 6}\n"
     ]
    }
   ],
   "source": [
    "fruits =[\"apple\",\"orange\",\"banana\"]\n",
    "dic ={f:len(f) for f in fruits}\n",
    "print(dic)"
   ]
  },
  {
   "cell_type": "markdown",
   "metadata": {},
   "source": [
    "### Lab: 영한 사전"
   ]
  },
  {
   "cell_type": "code",
   "execution_count": 43,
   "metadata": {},
   "outputs": [
    {
     "name": "stdout",
     "output_type": "stream",
     "text": [
      "단어를 입력하시오: one\n",
      "하나\n"
     ]
    }
   ],
   "source": [
    "english_dict ={} # 공백 딕셔너리를 생성한다. \n",
    "english_dict[\"one\"]=\"하나\" # 딕셔너리에 단어와 의미를 추가한다. \n",
    "english_dict[\"two\"]=\"둘\"\n",
    "english_dict[\"three\"]=\"셋\"\n",
    "word =input(\"단어를 입력하시오: \");\n",
    "print (english_dict[word])"
   ]
  },
  {
   "cell_type": "markdown",
   "metadata": {},
   "source": [
    "### Lab: 주소록 작성"
   ]
  },
  {
   "cell_type": "code",
   "execution_count": 44,
   "metadata": {},
   "outputs": [
    {
     "name": "stdout",
     "output_type": "stream",
     "text": [
      "1. 연락처 추가\n",
      "2. 연락처 삭제\n",
      "3. 연락처 검색\n",
      "4. 연락처 출력\n",
      "5. 종료\n",
      "메뉴 항목을 선택하시오: 1\n",
      "이름: KIM\n",
      "전화번호:010\n",
      "1. 연락처 추가\n",
      "2. 연락처 삭제\n",
      "3. 연락처 검색\n",
      "4. 연락처 출력\n",
      "5. 종료\n",
      "메뉴 항목을 선택하시오: 5\n"
     ]
    }
   ],
   "source": [
    "def main():\n",
    "    address_book ={} # 공백 딕셔너리를 생성한다. \n",
    "    while True :\n",
    "        user = display_menu();\n",
    "        if user ==1 :\n",
    "            name, number = get_contact()\n",
    "            address_book[name]= number # name과 number를 추가한다. \n",
    "        elif user ==2 :\n",
    "            name, number = get_contact()\n",
    "            address_book.pop(name) # name을 키로 가진 항목을 삭제. \n",
    "        elif user ==3 :\n",
    "            pass # 도전 문제 참조\n",
    "        elif user ==4 :\n",
    "            for key in sorted(address_book):\n",
    "                print(key,\"의 전화번호:\", address_book[key])\n",
    "        else :\n",
    "            break\n",
    "            \n",
    "# 이름과 전화번호를 입력받아서 반환한다. \n",
    "def get_contact():\n",
    "    name =input(\"이름: \")\n",
    "    number =input(\"전화번호:\")\n",
    "    return name, number # 튜플로 반환한다. \n",
    "\n",
    "# 메뉴를 화면에 출력한다. \n",
    "def display_menu() :\n",
    "    print(\"1. 연락처 추가\") \n",
    "    print(\"2. 연락처 삭제\") \n",
    "    print(\"3. 연락처 검색\") \n",
    "    print(\"4. 연락처 출력\") \n",
    "    print(\"5. 종료\") \n",
    "    select = int(input(\"메뉴 항목을 선택하시오: \"))\n",
    "    return select\n",
    "\n",
    "main()         "
   ]
  },
  {
   "cell_type": "markdown",
   "metadata": {},
   "source": [
    "### Lab: 학생 성적 처리"
   ]
  },
  {
   "cell_type": "code",
   "execution_count": 45,
   "metadata": {},
   "outputs": [
    {
     "name": "stdout",
     "output_type": "stream",
     "text": [
      "Kim 의 평균성적= 92.33333333333333\n",
      "Lee 의 평균성적= 63.666666666666664\n",
      "Choi 의 평균성적= 50.0\n"
     ]
    }
   ],
   "source": [
    "score_dic = { \n",
    "\"Kim\":[99,83,95],\n",
    "\"Lee\":[68,45,78],\n",
    "\"Choi\":[25,56,69]}\n",
    "\n",
    "for name, scores in score_dic.items():\n",
    "    print(name,\"의 평균성적=\",sum(scores)/len(scores))\n"
   ]
  },
  {
   "cell_type": "markdown",
   "metadata": {},
   "source": [
    "### Lab: 단어 카운터 만들기"
   ]
  },
  {
   "cell_type": "code",
   "execution_count": 46,
   "metadata": {},
   "outputs": [
    {
     "name": "stdout",
     "output_type": "stream",
     "text": [
      "Create 의 등장횟수= 1\n",
      "because 의 등장횟수= 1\n",
      "become 의 등장횟수= 1\n",
      "believe 의 등장횟수= 1\n",
      "for 의 등장횟수= 1\n",
      "grandest 의 등장횟수= 1\n",
      "highest, 의 등장횟수= 1\n",
      "life, 의 등장횟수= 1\n",
      "possible 의 등장횟수= 1\n",
      "the 의 등장횟수= 1\n",
      "vision 의 등장횟수= 1\n",
      "what 의 등장횟수= 1\n",
      "you 의 등장횟수= 2\n",
      "your 의 등장횟수= 1\n"
     ]
    }
   ],
   "source": [
    "text_data =\"Create the highest, grandest vision possible for your life, because you become what you believe\"\n",
    "word_dic = {} # 단어들과 출현 횟수를 저장하는 딕셔너리를 생성\n",
    "for w in text_data.split(): # 텍스트를 단어들로 분리하여 반복한다. \n",
    "    if w in word_dic: # 단어가 이미 딕셔너리에 있으면\n",
    "        word_dic[w] += 1 # 출현 횟수를 1 증가한다. \n",
    "    else: # 처음 나온 단어이면 1로 초기화한다. \n",
    "        word_dic[w] = 1 \n",
    "        \n",
    "for w, count in sorted(word_dic.items()): # 키와 값을 정렬하여 반복 처리한다. \n",
    "    print(w, \"의 등장횟수=\", count)"
   ]
  },
  {
   "cell_type": "markdown",
   "metadata": {},
   "source": [
    "## 문자열"
   ]
  },
  {
   "cell_type": "code",
   "execution_count": 47,
   "metadata": {},
   "outputs": [
    {
     "data": {
      "text/plain": [
       "97"
      ]
     },
     "execution_count": 47,
     "metadata": {},
     "output_type": "execute_result"
    }
   ],
   "source": [
    "ord(\"a\")"
   ]
  },
  {
   "cell_type": "code",
   "execution_count": 48,
   "metadata": {},
   "outputs": [
    {
     "data": {
      "text/plain": [
       "44032"
      ]
     },
     "execution_count": 48,
     "metadata": {},
     "output_type": "execute_result"
    }
   ],
   "source": [
    "ord(\"가\")"
   ]
  },
  {
   "cell_type": "code",
   "execution_count": 49,
   "metadata": {},
   "outputs": [
    {
     "data": {
      "text/plain": [
       "'a'"
      ]
     },
     "execution_count": 49,
     "metadata": {},
     "output_type": "execute_result"
    }
   ],
   "source": [
    "chr(97)"
   ]
  },
  {
   "cell_type": "code",
   "execution_count": 50,
   "metadata": {},
   "outputs": [
    {
     "data": {
      "text/plain": [
       "'가'"
      ]
     },
     "execution_count": 50,
     "metadata": {},
     "output_type": "execute_result"
    }
   ],
   "source": [
    "chr(44032)"
   ]
  },
  {
   "cell_type": "code",
   "execution_count": 51,
   "metadata": {},
   "outputs": [],
   "source": [
    "s = \"Monty Python\""
   ]
  },
  {
   "cell_type": "code",
   "execution_count": 52,
   "metadata": {},
   "outputs": [
    {
     "data": {
      "text/plain": [
       "'M'"
      ]
     },
     "execution_count": 52,
     "metadata": {},
     "output_type": "execute_result"
    }
   ],
   "source": [
    "s[0]"
   ]
  },
  {
   "cell_type": "code",
   "execution_count": 53,
   "metadata": {},
   "outputs": [
    {
     "data": {
      "text/plain": [
       "'Pyth'"
      ]
     },
     "execution_count": 53,
     "metadata": {},
     "output_type": "execute_result"
    }
   ],
   "source": [
    "s[6:10]"
   ]
  },
  {
   "cell_type": "code",
   "execution_count": 54,
   "metadata": {},
   "outputs": [
    {
     "data": {
      "text/plain": [
       "'Mo'"
      ]
     },
     "execution_count": 54,
     "metadata": {},
     "output_type": "execute_result"
    }
   ],
   "source": [
    "s[:2]"
   ]
  },
  {
   "cell_type": "code",
   "execution_count": 55,
   "metadata": {},
   "outputs": [
    {
     "data": {
      "text/plain": [
       "'y Python'"
      ]
     },
     "execution_count": 55,
     "metadata": {},
     "output_type": "execute_result"
    }
   ],
   "source": [
    "s[4:]"
   ]
  },
  {
   "cell_type": "code",
   "execution_count": 56,
   "metadata": {},
   "outputs": [
    {
     "data": {
      "text/plain": [
       "'Monty Python'"
      ]
     },
     "execution_count": 56,
     "metadata": {},
     "output_type": "execute_result"
    }
   ],
   "source": [
    "s[:2] + s[2:]"
   ]
  },
  {
   "cell_type": "code",
   "execution_count": 57,
   "metadata": {},
   "outputs": [
    {
     "data": {
      "text/plain": [
       "'Monty Python'"
      ]
     },
     "execution_count": 57,
     "metadata": {},
     "output_type": "execute_result"
    }
   ],
   "source": [
    "s[:4] + s[4:]"
   ]
  },
  {
   "cell_type": "code",
   "execution_count": 58,
   "metadata": {},
   "outputs": [
    {
     "data": {
      "text/plain": [
       "'Monty Python'"
      ]
     },
     "execution_count": 58,
     "metadata": {},
     "output_type": "execute_result"
    }
   ],
   "source": [
    "s[:]"
   ]
  },
  {
   "cell_type": "code",
   "execution_count": 59,
   "metadata": {},
   "outputs": [
    {
     "data": {
      "text/plain": [
       "'see y'"
      ]
     },
     "execution_count": 59,
     "metadata": {},
     "output_type": "execute_result"
    }
   ],
   "source": [
    "message=\"see you at noon\"\n",
    "low = message[:5]\n",
    "high = message[5:]\n",
    "low"
   ]
  },
  {
   "cell_type": "code",
   "execution_count": 60,
   "metadata": {},
   "outputs": [
    {
     "data": {
      "text/plain": [
       "'ou at noon'"
      ]
     },
     "execution_count": 60,
     "metadata": {},
     "output_type": "execute_result"
    }
   ],
   "source": [
    "high"
   ]
  },
  {
   "cell_type": "code",
   "execution_count": 61,
   "metadata": {},
   "outputs": [
    {
     "name": "stdout",
     "output_type": "stream",
     "text": [
      "98년\n",
      "03월\n",
      "26일\n"
     ]
    }
   ],
   "source": [
    "reg = \"980326\"\n",
    "print(reg[0:2]+\"년\")\n",
    "print(reg[2:4]+\"월\")\n",
    "print(reg[4:6]+\"일\")\n"
   ]
  },
  {
   "cell_type": "code",
   "execution_count": 62,
   "metadata": {},
   "outputs": [
    {
     "ename": "TypeError",
     "evalue": "'str' object does not support item assignment",
     "output_type": "error",
     "traceback": [
      "\u001b[1;31m---------------------------------------------------------------------------\u001b[0m",
      "\u001b[1;31mTypeError\u001b[0m                                 Traceback (most recent call last)",
      "\u001b[1;32m<ipython-input-62-401b425198ab>\u001b[0m in \u001b[0;36m<module>\u001b[1;34m\u001b[0m\n\u001b[0;32m      1\u001b[0m \u001b[0mword\u001b[0m \u001b[1;33m=\u001b[0m \u001b[1;34m\"abcdef\"\u001b[0m\u001b[1;33m\u001b[0m\u001b[1;33m\u001b[0m\u001b[0m\n\u001b[1;32m----> 2\u001b[1;33m \u001b[0mword\u001b[0m\u001b[1;33m[\u001b[0m\u001b[1;36m0\u001b[0m\u001b[1;33m]\u001b[0m\u001b[1;33m=\u001b[0m\u001b[1;34m\"A\"\u001b[0m\u001b[1;33m\u001b[0m\u001b[1;33m\u001b[0m\u001b[0m\n\u001b[0m",
      "\u001b[1;31mTypeError\u001b[0m: 'str' object does not support item assignment"
     ]
    }
   ],
   "source": [
    "word = \"abcdef\"\n",
    "word[0]=\"A\""
   ]
  },
  {
   "cell_type": "code",
   "execution_count": 63,
   "metadata": {},
   "outputs": [
    {
     "data": {
      "text/plain": [
       "'Abcdef'"
      ]
     },
     "execution_count": 63,
     "metadata": {},
     "output_type": "execute_result"
    }
   ],
   "source": [
    "word = \"abcdef\"\n",
    "word = \"A\" + word[1:]\n",
    "word"
   ]
  },
  {
   "cell_type": "code",
   "execution_count": 64,
   "metadata": {},
   "outputs": [
    {
     "name": "stdout",
     "output_type": "stream",
     "text": [
      "문자열을 입력하시오: apple\n",
      "문자열을 입력하시오: orange\n",
      "apple 가 앞에 있음\n"
     ]
    }
   ],
   "source": [
    "a = input(\"문자열을 입력하시오: \")\n",
    "b = input(\"문자열을 입력하시오: \")\n",
    "if( a < b ):\n",
    "    print(a, \"가 앞에 있음\")\n",
    "else:\n",
    "    print(b, \"가 앞에 있음\")"
   ]
  },
  {
   "cell_type": "code",
   "execution_count": 65,
   "metadata": {},
   "outputs": [
    {
     "name": "stdout",
     "output_type": "stream",
     "text": [
      "25 과 98 의 곱은 2450\n"
     ]
    }
   ],
   "source": [
    "x = 25\n",
    "y = 98\n",
    "prod = x * y\n",
    "print(x, \"과\", y, \"의 곱은\", prod)"
   ]
  },
  {
   "cell_type": "code",
   "execution_count": 66,
   "metadata": {},
   "outputs": [
    {
     "name": "stdout",
     "output_type": "stream",
     "text": [
      "25과 98의 곱은 2450\n"
     ]
    }
   ],
   "source": [
    "x = 25\n",
    "y = 98\n",
    "prod = x * y\n",
    "print(f\"{x}과 {y}의 곱은 {prod}\")"
   ]
  },
  {
   "cell_type": "markdown",
   "metadata": {},
   "source": [
    "### Lab: 회문 검사하기"
   ]
  },
  {
   "cell_type": "code",
   "execution_count": 68,
   "metadata": {},
   "outputs": [
    {
     "name": "stdout",
     "output_type": "stream",
     "text": [
      "문자열을 입력하시오: dad\n",
      "회문입니다.\n"
     ]
    }
   ],
   "source": [
    "s = input(\"문자열을 입력하시오: \")\n",
    "s1 = s[::-1] # 문자열을 거꾸로 만든다. \n",
    "if( s == s1 ):\n",
    "    print(\"회문입니다.\")\n",
    "else:\n",
    "    print(\"회문이 아닙니다.\")"
   ]
  },
  {
   "cell_type": "code",
   "execution_count": 69,
   "metadata": {},
   "outputs": [
    {
     "data": {
      "text/plain": [
       "'I am a student.'"
      ]
     },
     "execution_count": 69,
     "metadata": {},
     "output_type": "execute_result"
    }
   ],
   "source": [
    "s = \"i am A student.\"\n",
    "s.capitalize()"
   ]
  },
  {
   "cell_type": "code",
   "execution_count": 70,
   "metadata": {},
   "outputs": [
    {
     "data": {
      "text/plain": [
       "'breakfast at tiffany'"
      ]
     },
     "execution_count": 70,
     "metadata": {},
     "output_type": "execute_result"
    }
   ],
   "source": [
    "s = \"Breakfast At Tiffany\"\n",
    "s.lower()"
   ]
  },
  {
   "cell_type": "code",
   "execution_count": 71,
   "metadata": {},
   "outputs": [
    {
     "data": {
      "text/plain": [
       "'BREAKFAST AT TIFFANY'"
      ]
     },
     "execution_count": 71,
     "metadata": {},
     "output_type": "execute_result"
    }
   ],
   "source": [
    "s.upper()"
   ]
  },
  {
   "cell_type": "code",
   "execution_count": 72,
   "metadata": {},
   "outputs": [
    {
     "name": "stdout",
     "output_type": "stream",
     "text": [
      "파이썬 소스 파일 이름을 입력하시오: aaa.py\n",
      "올바른 파일 이름입니다\n"
     ]
    }
   ],
   "source": [
    "s = input(\"파이썬 소스 파일 이름을 입력하시오: \")\n",
    "if s.endswith(\".py\"):\n",
    "    print(\"올바른 파일 이름입니다\")\n",
    "else :\n",
    "    print(\"올바른 파일 이름이 아닙니다.\")"
   ]
  },
  {
   "cell_type": "code",
   "execution_count": 73,
   "metadata": {},
   "outputs": [
    {
     "data": {
      "text/plain": [
       "'www.naver.co.kr'"
      ]
     },
     "execution_count": 73,
     "metadata": {},
     "output_type": "execute_result"
    }
   ],
   "source": [
    "s = \"www.naver.com\"\n",
    "s.replace(\"com\", \"co.kr\")"
   ]
  },
  {
   "cell_type": "code",
   "execution_count": 74,
   "metadata": {},
   "outputs": [
    {
     "data": {
      "text/plain": [
       "12"
      ]
     },
     "execution_count": 74,
     "metadata": {},
     "output_type": "execute_result"
    }
   ],
   "source": [
    "s = \"www.naver.co.kr\"\n",
    "s.find(\".kr\")"
   ]
  },
  {
   "cell_type": "code",
   "execution_count": 75,
   "metadata": {},
   "outputs": [
    {
     "data": {
      "text/plain": [
       "22"
      ]
     },
     "execution_count": 75,
     "metadata": {},
     "output_type": "execute_result"
    }
   ],
   "source": [
    "s = \"Let it be, let it be, let it be\"\n",
    "s.rfind(\"let\")"
   ]
  },
  {
   "cell_type": "code",
   "execution_count": 76,
   "metadata": {},
   "outputs": [
    {
     "data": {
      "text/plain": [
       "3"
      ]
     },
     "execution_count": 76,
     "metadata": {},
     "output_type": "execute_result"
    }
   ],
   "source": [
    "s = \"www.naver.co.kr\"\n",
    "s.count(\".\")"
   ]
  },
  {
   "cell_type": "code",
   "execution_count": 77,
   "metadata": {},
   "outputs": [
    {
     "data": {
      "text/plain": [
       "True"
      ]
     },
     "execution_count": 77,
     "metadata": {},
     "output_type": "execute_result"
    }
   ],
   "source": [
    "\"ABCabc\".isalpha()"
   ]
  },
  {
   "cell_type": "code",
   "execution_count": 78,
   "metadata": {},
   "outputs": [
    {
     "data": {
      "text/plain": [
       "True"
      ]
     },
     "execution_count": 78,
     "metadata": {},
     "output_type": "execute_result"
    }
   ],
   "source": [
    "\"123\".isdigit()"
   ]
  },
  {
   "cell_type": "code",
   "execution_count": 79,
   "metadata": {},
   "outputs": [
    {
     "data": {
      "text/plain": [
       "True"
      ]
     },
     "execution_count": 79,
     "metadata": {},
     "output_type": "execute_result"
    }
   ],
   "source": [
    "\"abc\".islower()"
   ]
  },
  {
   "cell_type": "code",
   "execution_count": 80,
   "metadata": {},
   "outputs": [
    {
     "data": {
      "text/plain": [
       "'Hello, World!'"
      ]
     },
     "execution_count": 80,
     "metadata": {},
     "output_type": "execute_result"
    }
   ],
   "source": [
    "s = \" Hello, World! \"\n",
    "s.strip()"
   ]
  },
  {
   "cell_type": "code",
   "execution_count": 81,
   "metadata": {},
   "outputs": [
    {
     "data": {
      "text/plain": [
       "'this is example'"
      ]
     },
     "execution_count": 81,
     "metadata": {},
     "output_type": "execute_result"
    }
   ],
   "source": [
    "s = \"########this is example#####\"\n",
    "s.strip(\"#\")"
   ]
  },
  {
   "cell_type": "code",
   "execution_count": 82,
   "metadata": {},
   "outputs": [
    {
     "data": {
      "text/plain": [
       "'this is example#####'"
      ]
     },
     "execution_count": 82,
     "metadata": {},
     "output_type": "execute_result"
    }
   ],
   "source": [
    "s = \"########this is example#####\"\n",
    "s.lstrip(\"#\")"
   ]
  },
  {
   "cell_type": "code",
   "execution_count": 83,
   "metadata": {},
   "outputs": [
    {
     "data": {
      "text/plain": [
       "'########this is example'"
      ]
     },
     "execution_count": 83,
     "metadata": {},
     "output_type": "execute_result"
    }
   ],
   "source": [
    "s.rstrip(\"#\")"
   ]
  },
  {
   "cell_type": "code",
   "execution_count": 84,
   "metadata": {},
   "outputs": [
    {
     "data": {
      "text/plain": [
       "['Welcome', 'to', 'Python']"
      ]
     },
     "execution_count": 84,
     "metadata": {},
     "output_type": "execute_result"
    }
   ],
   "source": [
    "s = \"Welcome to Python\"\n",
    "s.split()"
   ]
  },
  {
   "cell_type": "code",
   "execution_count": 85,
   "metadata": {},
   "outputs": [
    {
     "data": {
      "text/plain": [
       "['Hello', ' World!']"
      ]
     },
     "execution_count": 85,
     "metadata": {},
     "output_type": "execute_result"
    }
   ],
   "source": [
    "s = \"Hello, World!\"\n",
    "s.split(\",\")"
   ]
  },
  {
   "cell_type": "code",
   "execution_count": 86,
   "metadata": {},
   "outputs": [
    {
     "data": {
      "text/plain": [
       "['Hello', 'World!']"
      ]
     },
     "execution_count": 86,
     "metadata": {},
     "output_type": "execute_result"
    }
   ],
   "source": [
    "s = \"Hello, World!\"\n",
    "s.split(\", \")"
   ]
  },
  {
   "cell_type": "code",
   "execution_count": 87,
   "metadata": {},
   "outputs": [
    {
     "data": {
      "text/plain": [
       "['H', 'e', 'l', 'l', 'o', ',', ' ', 'W', 'o', 'r', 'l', 'd', '!']"
      ]
     },
     "execution_count": 87,
     "metadata": {},
     "output_type": "execute_result"
    }
   ],
   "source": [
    "list(\"Hello, World!\")"
   ]
  },
  {
   "cell_type": "code",
   "execution_count": 88,
   "metadata": {},
   "outputs": [
    {
     "data": {
      "text/plain": [
       "'apple,grape,banana'"
      ]
     },
     "execution_count": 88,
     "metadata": {},
     "output_type": "execute_result"
    }
   ],
   "source": [
    "\",\".join([\"apple\", \"grape\", \"banana\"])"
   ]
  },
  {
   "cell_type": "code",
   "execution_count": 89,
   "metadata": {},
   "outputs": [
    {
     "data": {
      "text/plain": [
       "'010-1234-5678'"
      ]
     },
     "execution_count": 89,
     "metadata": {},
     "output_type": "execute_result"
    }
   ],
   "source": [
    "\"-\".join(\"010.1234.5678\".split(\".\"))"
   ]
  },
  {
   "cell_type": "markdown",
   "metadata": {},
   "source": [
    "### Lab: 머리 글자어 만들기"
   ]
  },
  {
   "cell_type": "code",
   "execution_count": 90,
   "metadata": {},
   "outputs": [
    {
     "name": "stdout",
     "output_type": "stream",
     "text": [
      "문자열을 입력하시오: North Atlantic Treaty Organization\n",
      "NATO\n"
     ]
    }
   ],
   "source": [
    "phrase = input(\"문자열을 입력하시오: \")\n",
    "acronym = \"\"\n",
    "# 대문자로 만든 후에 단어들로 분리한다. \n",
    "for word in phrase.upper().split():\n",
    "    acronym += word[0] # 단어를 첫 글자만을 acronym에 추가한다. \n",
    "print( acronym )"
   ]
  },
  {
   "cell_type": "markdown",
   "metadata": {},
   "source": [
    "### Lab: 이메일 주소 분석"
   ]
  },
  {
   "cell_type": "code",
   "execution_count": 91,
   "metadata": {},
   "outputs": [
    {
     "name": "stdout",
     "output_type": "stream",
     "text": [
      "이메일 주소를 입력하시오: aaa@google.com\n",
      "aaa@google.com\n",
      "아이디:aaa\n",
      "도메인:google.com\n"
     ]
    }
   ],
   "source": [
    "address=input(\"이메일 주소를 입력하시오: \")\n",
    "(id, domain) = address.split(\"@\")\n",
    "print(address)\n",
    "print(\"아이디:\"+id)\n",
    "print(\"도메인:\"+domain)"
   ]
  },
  {
   "cell_type": "markdown",
   "metadata": {},
   "source": [
    "### Lab: 문자열 분석"
   ]
  },
  {
   "cell_type": "code",
   "execution_count": 92,
   "metadata": {},
   "outputs": [
    {
     "name": "stdout",
     "output_type": "stream",
     "text": [
      "문자열을 입력하시오: A picture is worth a thousand words.\n",
      "{'alphas': 29, 'digits': 0, 'spaces': 6}\n"
     ]
    }
   ],
   "source": [
    "sentence = input(\"문자열을 입력하시오: \")\n",
    "table ={\"alphas\":0,\"digits\":0,\"spaces\":0 }\n",
    "for i in sentence:\n",
    "    if i.isalpha():\n",
    "        table[\"alphas\"]+=1\n",
    "    if i.isdigit():\n",
    "        table[\"digits\"]+=1\n",
    "    if i.isspace():\n",
    "        table[\"spaces\"]+=1\n",
    "print(table)"
   ]
  },
  {
   "cell_type": "markdown",
   "metadata": {},
   "source": [
    "### Lab: 트위터 메시지 처리"
   ]
  },
  {
   "cell_type": "code",
   "execution_count": 93,
   "metadata": {},
   "outputs": [
    {
     "name": "stdout",
     "output_type": "stream",
     "text": [
      "6\n"
     ]
    }
   ],
   "source": [
    "t = \"Python is very easy and powerful!\"\n",
    "length = len(t.split(\" \"))\n",
    "print(length)"
   ]
  },
  {
   "cell_type": "markdown",
   "metadata": {},
   "source": [
    "### Lab: OTP 발생 프로그램"
   ]
  },
  {
   "cell_type": "code",
   "execution_count": 94,
   "metadata": {},
   "outputs": [
    {
     "name": "stdout",
     "output_type": "stream",
     "text": [
      "2081\n"
     ]
    }
   ],
   "source": [
    "import random\n",
    "s = \"0123456789\" # 대상 문자열\n",
    "passlen = 4 # 패스워드 길이\n",
    "p = \"\".join(random.sample(s, passlen ))\n",
    "print(p)"
   ]
  }
 ],
 "metadata": {
  "kernelspec": {
   "display_name": "Python 3",
   "language": "python",
   "name": "python3"
  },
  "language_info": {
   "codemirror_mode": {
    "name": "ipython",
    "version": 3
   },
   "file_extension": ".py",
   "mimetype": "text/x-python",
   "name": "python",
   "nbconvert_exporter": "python",
   "pygments_lexer": "ipython3",
   "version": "3.8.5"
  },
  "toc": {
   "base_numbering": 1,
   "nav_menu": {},
   "number_sections": true,
   "sideBar": true,
   "skip_h1_title": false,
   "title_cell": "Table of Contents",
   "title_sidebar": "Contents",
   "toc_cell": false,
   "toc_position": {},
   "toc_section_display": true,
   "toc_window_display": false
  },
  "varInspector": {
   "cols": {
    "lenName": 16,
    "lenType": 16,
    "lenVar": 40
   },
   "kernels_config": {
    "python": {
     "delete_cmd_postfix": "",
     "delete_cmd_prefix": "del ",
     "library": "var_list.py",
     "varRefreshCmd": "print(var_dic_list())"
    },
    "r": {
     "delete_cmd_postfix": ") ",
     "delete_cmd_prefix": "rm(",
     "library": "var_list.r",
     "varRefreshCmd": "cat(var_dic_list()) "
    }
   },
   "types_to_exclude": [
    "module",
    "function",
    "builtin_function_or_method",
    "instance",
    "_Feature"
   ],
   "window_display": false
  }
 },
 "nbformat": 4,
 "nbformat_minor": 4
}
