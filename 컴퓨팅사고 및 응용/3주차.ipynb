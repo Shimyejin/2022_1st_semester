{
 "cells": [
  {
   "cell_type": "markdown",
   "metadata": {},
   "source": [
    "# 실습"
   ]
  },
  {
   "cell_type": "markdown",
   "metadata": {},
   "source": [
    "## 3.04"
   ]
  },
  {
   "cell_type": "code",
   "execution_count": 1,
   "metadata": {},
   "outputs": [
    {
     "name": "stdout",
     "output_type": "stream",
     "text": [
      "원의 반지름:10\n",
      "원의 면적: 314.0\n"
     ]
    }
   ],
   "source": [
    "r = float(input(\"원의 반지름:\"))\n",
    "\n",
    "def get_area(radius):\n",
    "    if radius > 0:\n",
    "        area = 3.14 * radius ** 2\n",
    "        print('원의 면적:',area)\n",
    "    else:\n",
    "        print('잘못된 값입니다')\n",
    "        \n",
    "get_area(r)"
   ]
  },
  {
   "cell_type": "markdown",
   "metadata": {},
   "source": [
    "## 3.05"
   ]
  },
  {
   "cell_type": "code",
   "execution_count": 2,
   "metadata": {},
   "outputs": [
    {
     "name": "stdout",
     "output_type": "stream",
     "text": [
      "3개의 정수를 입력하시오:10,20,30\n",
      "제일 작은 정수는 10 입니다.\n"
     ]
    }
   ],
   "source": [
    "a, b, c = eval(input(\"3개의 정수를 입력하시오:\"))\n",
    "if a > b:\n",
    "    if b > c:\n",
    "        print('제일 작은 정수는',c,'입니다.')\n",
    "    else:\n",
    "        print('제일 작은 정수는',b,'입니다.')\n",
    "else:\n",
    "    if a > c:\n",
    "        print('제일 작은 정수는',c,'입니다.')\n",
    "    else:\n",
    "        print('제일 작은 정수는',a,'입니다.')"
   ]
  },
  {
   "cell_type": "markdown",
   "metadata": {},
   "source": [
    "## 3.14"
   ]
  },
  {
   "cell_type": "code",
   "execution_count": 3,
   "metadata": {},
   "outputs": [
    {
     "name": "stdout",
     "output_type": "stream",
     "text": [
      "a를 입력하시오.2\n",
      "b를 입력하시오.-7\n",
      "c를 입력하시오.5\n",
      "두 실근은 1.000000,2.500000입니다.\n"
     ]
    }
   ],
   "source": [
    "a=float(input(\"a를 입력하시오.\"))\n",
    "b=float(input(\"b를 입력하시오.\"))\n",
    "c=float(input(\"c를 입력하시오.\"))\n",
    "\n",
    "def calculate(a,b,c):\n",
    "    r1= (-b - (b**2-4*a*c)**0.5)/(2*a)\n",
    "    r2 = (-b + (b**2-4*a*c)**0.5)/(2*a)\n",
    "    print(f\"두 실근은 {r1:.6f},{r2:.6f}입니다.\")\n",
    "\n",
    "calculate(a,b,c)"
   ]
  },
  {
   "cell_type": "markdown",
   "metadata": {},
   "source": [
    "## 3.15"
   ]
  },
  {
   "cell_type": "code",
   "execution_count": 4,
   "metadata": {},
   "outputs": [
    {
     "name": "stdout",
     "output_type": "stream",
     "text": [
      "정수를 입력하시오:3\n",
      "Python\n"
     ]
    }
   ],
   "source": [
    "num = int(input('정수를 입력하시오:'))\n",
    "\n",
    "if (num % 3 == 0) and (num % 5 == 0):\n",
    "    print('Python Express')\n",
    "elif (num % 3 == 0):\n",
    "    print('Python')\n",
    "elif (num % 5 == 0):\n",
    "    print('Express')"
   ]
  },
  {
   "cell_type": "markdown",
   "metadata": {},
   "source": [
    "## 4.03"
   ]
  },
  {
   "cell_type": "code",
   "execution_count": 5,
   "metadata": {},
   "outputs": [
    {
     "name": "stdout",
     "output_type": "stream",
     "text": [
      "1~100인 모든 3의 배수합: 1683\n"
     ]
    }
   ],
   "source": [
    "sum = 0\n",
    "\n",
    "for i in range(1,101):\n",
    "    if i % 3 == 0:\n",
    "        sum += i\n",
    "\n",
    "print('1~100인 모든 3의 배수합:',sum)"
   ]
  },
  {
   "cell_type": "markdown",
   "metadata": {},
   "source": [
    "## 4.05"
   ]
  },
  {
   "cell_type": "code",
   "execution_count": 6,
   "metadata": {},
   "outputs": [
    {
     "name": "stdout",
     "output_type": "stream",
     "text": [
      "정수를 입력하시오:5\n",
      "1\n",
      "12\n",
      "123\n",
      "1234\n",
      "12345\n"
     ]
    }
   ],
   "source": [
    "count = int(input('정수를 입력하시오:'))\n",
    "for i in range(1,count+1):\n",
    "    for j in range(1,i+1):\n",
    "        print(j,end=\"\")\n",
    "    print()"
   ]
  },
  {
   "cell_type": "markdown",
   "metadata": {},
   "source": [
    "# 4장 반복문"
   ]
  },
  {
   "cell_type": "markdown",
   "metadata": {},
   "source": [
    "## Lab: 구구단 출력"
   ]
  },
  {
   "cell_type": "code",
   "execution_count": 7,
   "metadata": {},
   "outputs": [
    {
     "name": "stdout",
     "output_type": "stream",
     "text": [
      "원하는 단은: 9\n",
      "9*1=9\n",
      "9*2=18\n",
      "9*3=27\n",
      "9*4=36\n",
      "9*5=45\n",
      "9*6=54\n",
      "9*7=63\n",
      "9*8=72\n",
      "9*9=81\n"
     ]
    }
   ],
   "source": [
    "dan = int(input(\"원하는 단은: \"))\n",
    "i = 1\n",
    "\n",
    "while i <= 9:\n",
    "    print(\"%s*%s=%s\" % (dan, i, dan*i))\n",
    "    i = i + 1"
   ]
  },
  {
   "cell_type": "markdown",
   "metadata": {},
   "source": [
    "## Lab: 숫자 맞추기 게임"
   ]
  },
  {
   "cell_type": "code",
   "execution_count": 8,
   "metadata": {},
   "outputs": [
    {
     "name": "stdout",
     "output_type": "stream",
     "text": [
      "1부터 100 사이의 숫자를 맞추시오\n",
      "숫자를 입력하시오: 50\n",
      "너무 낮음!\n",
      "숫자를 입력하시오: 70\n",
      "너무 높음!\n",
      "숫자를 입력하시오: 60\n",
      "너무 낮음!\n",
      "숫자를 입력하시오: 65\n",
      "너무 높음!\n",
      "숫자를 입력하시오: 63\n",
      "너무 높음!\n",
      "숫자를 입력하시오: 62\n",
      "축하합니다. 시도횟수= 6\n"
     ]
    }
   ],
   "source": [
    "import random\n",
    "\n",
    "tries = 0 # 시도 횟수\n",
    "guess = 0; # 사용자의 추측값\n",
    "answer = random.randint(1, 100) # 1과 100사이의 난수\n",
    "print(\"1부터 100 사이의 숫자를 맞추시오\")\n",
    "\n",
    "while guess != answer:\n",
    "    guess = int(input(\"숫자를 입력하시오: \"))\n",
    "    tries = tries + 1\n",
    "    if guess < answer:\n",
    "        print(\"너무 낮음!\")\n",
    "    elif guess > answer:\n",
    "        print(\"너무 높음!\")\n",
    "        \n",
    "if guess == answer:\n",
    "    print(\"축하합니다. 시도횟수=\", tries)\n",
    "else:\n",
    "    print(\"정답은 \", answer)"
   ]
  },
  {
   "cell_type": "markdown",
   "metadata": {},
   "source": [
    "## 초등생을 위한 산수 문제 발생기"
   ]
  },
  {
   "cell_type": "code",
   "execution_count": 9,
   "metadata": {},
   "outputs": [
    {
     "name": "stdout",
     "output_type": "stream",
     "text": [
      "59 + 26 = 85\n",
      "잘했어요!!\n",
      "52 + 21 = 12\n",
      "틀렸어요. 하지만 다음번에는 잘할 수 있죠?\n"
     ]
    }
   ],
   "source": [
    "import random\n",
    "\n",
    "flag = True\n",
    "\n",
    "while flag:\n",
    "    x = random.randint(1, 100)\n",
    "    y = random.randint(1, 100)\n",
    "    answer = int(input(f\"{x} + {y} = \"))\n",
    "    if answer == x + y:\n",
    "        print(\"잘했어요!!\")\n",
    "    else:\n",
    "        print(\"틀렸어요. 하지만 다음번에는 잘할 수 있죠?\")\n",
    "        flag = False"
   ]
  },
  {
   "cell_type": "markdown",
   "metadata": {},
   "source": [
    "## 로그인 프로그램"
   ]
  },
  {
   "cell_type": "code",
   "execution_count": 10,
   "metadata": {},
   "outputs": [
    {
     "name": "stdout",
     "output_type": "stream",
     "text": [
      "암호를 입력하시오: pythonisfun\n",
      "로그인 성공\n"
     ]
    }
   ],
   "source": [
    "password = \"\"\n",
    "\n",
    "while password != \"pythonisfun\":\n",
    "    password = input(\"암호를 입력하시오: \")\n",
    "print(\"로그인 성공\")"
   ]
  },
  {
   "cell_type": "markdown",
   "metadata": {},
   "source": [
    "## 예제 1"
   ]
  },
  {
   "cell_type": "code",
   "execution_count": 11,
   "metadata": {},
   "outputs": [
    {
     "name": "stdout",
     "output_type": "stream",
     "text": [
      "**********\n",
      "**********\n",
      "**********\n",
      "**********\n",
      "**********\n"
     ]
    }
   ],
   "source": [
    "for y in range(5) :\n",
    "    for x in range(10) :\n",
    "        print(\"*\", end=\"\" )\n",
    "    print(\"\")"
   ]
  },
  {
   "cell_type": "markdown",
   "metadata": {},
   "source": [
    "## 예제 2"
   ]
  },
  {
   "cell_type": "code",
   "execution_count": 12,
   "metadata": {},
   "outputs": [
    {
     "name": "stdout",
     "output_type": "stream",
     "text": [
      "*\n",
      "**\n",
      "***\n",
      "****\n",
      "*****\n"
     ]
    }
   ],
   "source": [
    "for y in range(1, 6) :\n",
    "    for x in range(y) :\n",
    "        print(\"*\", end=\"\" )\n",
    "    print(\"\")"
   ]
  },
  {
   "cell_type": "markdown",
   "metadata": {},
   "source": [
    "## 예제 3: 모든 조합 구하기"
   ]
  },
  {
   "cell_type": "code",
   "execution_count": 14,
   "metadata": {},
   "outputs": [
    {
     "name": "stdout",
     "output_type": "stream",
     "text": [
      "small apple\n",
      "small banana\n",
      "small grape\n",
      "medium apple\n",
      "medium banana\n",
      "medium grape\n",
      "large apple\n",
      "large banana\n",
      "large grape\n"
     ]
    }
   ],
   "source": [
    "adj = [\"small\", \"medium\", \"large\"]\n",
    "nouns = [\"apple\", \"banana\", \"grape\"]\n",
    "for x in adj:\n",
    "    for y in nouns:\n",
    "        print(x, y)"
   ]
  },
  {
   "cell_type": "markdown",
   "metadata": {},
   "source": [
    "## Lab: 주사위 합이 6이 되는 경우"
   ]
  },
  {
   "cell_type": "code",
   "execution_count": 15,
   "metadata": {},
   "outputs": [
    {
     "name": "stdout",
     "output_type": "stream",
     "text": [
      "첫 번째 주사위=1 두 번째 주사위=5\n",
      "첫 번째 주사위=2 두 번째 주사위=4\n",
      "첫 번째 주사위=3 두 번째 주사위=3\n",
      "첫 번째 주사위=4 두 번째 주사위=2\n",
      "첫 번째 주사위=5 두 번째 주사위=1\n"
     ]
    }
   ],
   "source": [
    "for a in range(1, 7) :\n",
    "    for b in range(1, 7) :\n",
    "        if a + b == 6 :\n",
    "            print(f\"첫 번째 주사위={a} 두 번째 주사위={b}\" )"
   ]
  },
  {
   "cell_type": "markdown",
   "metadata": {},
   "source": [
    "## 예제 4"
   ]
  },
  {
   "cell_type": "code",
   "execution_count": 16,
   "metadata": {},
   "outputs": [
    {
     "name": "stdout",
     "output_type": "stream",
     "text": [
      "신호등 색상을 입력하시오 green\n",
      "신호등 색상을 입력하시오 yellow\n",
      "신호등 색상을 입력하시오 red\n",
      "정지!!\n"
     ]
    }
   ],
   "source": [
    "while True:\n",
    "    light = input('신호등 색상을 입력하시오 ')\n",
    "    if light == 'red':\n",
    "        break\n",
    "print( '정지!!')\n"
   ]
  },
  {
   "cell_type": "markdown",
   "metadata": {},
   "source": [
    "## 예제 5"
   ]
  },
  {
   "cell_type": "code",
   "execution_count": 17,
   "metadata": {},
   "outputs": [
    {
     "name": "stdout",
     "output_type": "stream",
     "text": [
      "1 2 4 5 7 8 10 "
     ]
    }
   ],
   "source": [
    "for i in range(1, 11):\n",
    "    if i%3 == 0 : # 3의 배수이면\n",
    "        continue # 다음 반복을 시작한다.\n",
    "    print(i, end=\" \") "
   ]
  },
  {
   "cell_type": "markdown",
   "metadata": {},
   "source": [
    "## Lab: 소수 찾기"
   ]
  },
  {
   "cell_type": "code",
   "execution_count": 18,
   "metadata": {},
   "outputs": [
    {
     "name": "stdout",
     "output_type": "stream",
     "text": [
      "2 3 5 7 11 13 17 19 23 29 31 37 41 43 47 53 59 61 67 71 73 79 83 89 97 101 103 107 109 113 127 131 137 139 149 151 157 163 167 173 179 181 191 193 197 199 211 223 227 229 "
     ]
    }
   ],
   "source": [
    "N_PRIMES = 50 # 찾아야 하는 소수의 개수\n",
    "number = 2 # 2부터 시작한다.\n",
    "count = 0\n",
    "\n",
    "while count < N_PRIMES :\n",
    "    divisor = 2 # 나누는 수는 2부터 시작하여 하나씩 증가한다.\n",
    "    prime = True\n",
    "    while divisor < number :\n",
    "        if number % divisor == 0: # 나누어지면 소수가 아니다.\n",
    "            prime = False\n",
    "            break;\n",
    "        divisor += 1\n",
    "    if prime: # 소수이면 소수 개수를 증가하고 출력한다.\n",
    "        count += 1\n",
    "        print(number, end=\" \")\n",
    "    number += 1 # 다음 수로 간다."
   ]
  },
  {
   "cell_type": "markdown",
   "metadata": {},
   "source": [
    "## Lab: 파이 계산하기"
   ]
  },
  {
   "cell_type": "code",
   "execution_count": 20,
   "metadata": {},
   "outputs": [
    {
     "name": "stdout",
     "output_type": "stream",
     "text": [
      "반복횟수:10000\n",
      "Pi = 3.141493\n"
     ]
    }
   ],
   "source": [
    "divisor = 1.0\n",
    "divident = 4.0\n",
    "sum = 0.0\n",
    "loop_count = int(input(\"반복횟수:\"))\n",
    "\n",
    "while(loop_count > 0):\n",
    "    sum = sum + divident / divisor\n",
    "    divident = -1.0 * divident\n",
    "    divisor = divisor + 2\n",
    "    loop_count = loop_count - 1;\n",
    "print(\"Pi = %f\" % sum)"
   ]
  },
  {
   "cell_type": "markdown",
   "metadata": {},
   "source": [
    "## Lab: 도박상의 확률"
   ]
  },
  {
   "cell_type": "code",
   "execution_count": 21,
   "metadata": {},
   "outputs": [
    {
     "name": "stdout",
     "output_type": "stream",
     "text": [
      "초기 금액 $50\n",
      "목표 금액 $250\n",
      "100번 중에서 22번 성공\n"
     ]
    }
   ],
   "source": [
    "import random\n",
    "\n",
    "initial_money = 50\n",
    "goal = 250\n",
    "wins = 0\n",
    "\n",
    "for i in range(100) : # 라스베가스에 100번 간다.\n",
    "    cash = initial_money\n",
    "    while cash > 0 and cash < goal : # 돈이 0이거나 250불을 따면 반복 중단\n",
    "        number = random.randint(1, 2)\n",
    "        if number == 1 :\n",
    "            cash = cash + 1 # $1을 딴다.\n",
    "        else :\n",
    "            cash = cash - 1 # $1을 잃는다.\n",
    "    if cash == goal : wins = wins + 1\n",
    "        \n",
    "print(\"초기 금액 $%d\" % initial_money)\n",
    "print(\"목표 금액 $%d\" % goal)\n",
    "print(\"100번 중에서 %d번 성공\" % wins)"
   ]
  },
  {
   "cell_type": "markdown",
   "metadata": {},
   "source": [
    "# 5장 함수"
   ]
  },
  {
   "cell_type": "markdown",
   "metadata": {},
   "source": [
    "## 예제 1"
   ]
  },
  {
   "cell_type": "code",
   "execution_count": 22,
   "metadata": {},
   "outputs": [
    {
     "name": "stdout",
     "output_type": "stream",
     "text": [
      "반지름이 3인 원의 면적= 28.26\n"
     ]
    }
   ],
   "source": [
    "def get_area(radius):\n",
    "    area = 3.14*radius**2\n",
    "    return area\n",
    "\n",
    "result = get_area(3)\n",
    "print(\"반지름이 3인 원의 면적=\", result)"
   ]
  },
  {
   "cell_type": "markdown",
   "metadata": {},
   "source": [
    "## 서로 다른 인수로 호출"
   ]
  },
  {
   "cell_type": "code",
   "execution_count": 23,
   "metadata": {},
   "outputs": [
    {
     "name": "stdout",
     "output_type": "stream",
     "text": [
      "반지름이 3인 원의 면적= 28.26\n",
      "반지름이 20인 원의 면적= 1256.0\n"
     ]
    }
   ],
   "source": [
    "def get_area(radius):\n",
    "    area = 3.14*radius**2\n",
    "    return area\n",
    "result1 = get_area(3)\n",
    "result2 = get_area(20)\n",
    "\n",
    "print(\"반지름이 3인 원의 면적=\", result1)\n",
    "print(\"반지름이 20인 원의 면적=\", result2)"
   ]
  },
  {
   "cell_type": "markdown",
   "metadata": {},
   "source": [
    "## 여러 개의 값 반환하기"
   ]
  },
  {
   "cell_type": "code",
   "execution_count": 24,
   "metadata": {},
   "outputs": [],
   "source": [
    "def get_input():\n",
    "    return 2, 3\n",
    "x, y = get_input() # x는 2이고 y는 3이다. "
   ]
  },
  {
   "cell_type": "markdown",
   "metadata": {},
   "source": [
    "## 함수의 몸체는 나중에 작성 가능"
   ]
  },
  {
   "cell_type": "code",
   "execution_count": 25,
   "metadata": {},
   "outputs": [],
   "source": [
    "def sub():\n",
    "    pass"
   ]
  },
  {
   "cell_type": "markdown",
   "metadata": {},
   "source": [
    "## 함수의 순서"
   ]
  },
  {
   "cell_type": "code",
   "execution_count": 26,
   "metadata": {},
   "outputs": [
    {
     "name": "stdout",
     "output_type": "stream",
     "text": [
      "반지름이 3인 원의 면적= 28.26\n"
     ]
    }
   ],
   "source": [
    "result = get_area(3)\n",
    "print(\"반지름이 3인 원의 면적=\", result)\n",
    "\n",
    "def get_area(radius):\n",
    "    area = 3.14*radius**2\n",
    "    return area"
   ]
  },
  {
   "cell_type": "markdown",
   "metadata": {},
   "source": [
    "함수 내에서는 아직 정의되지 않은 함수를 호출할 수는 있다."
   ]
  },
  {
   "cell_type": "code",
   "execution_count": 27,
   "metadata": {},
   "outputs": [
    {
     "name": "stdout",
     "output_type": "stream",
     "text": [
      "반지름이 3인 원의 면적= 28.26\n"
     ]
    }
   ],
   "source": [
    "def main() :\n",
    "    result1 = get_area(3)\n",
    "    print(\"반지름이 3인 원의 면적=\", result1)\n",
    "\n",
    "def get_area(radius):\n",
    "    area = 3.14*radius**2\n",
    "    return area\n",
    "\n",
    "main()"
   ]
  },
  {
   "cell_type": "markdown",
   "metadata": {},
   "source": [
    "## Lab: 피자 크기 비교"
   ]
  },
  {
   "cell_type": "code",
   "execution_count": 28,
   "metadata": {},
   "outputs": [
    {
     "name": "stdout",
     "output_type": "stream",
     "text": [
      "20cm 피자 2개의 면적: 2512.0\n",
      "30cm 피자 1개의 면적: 2826.0\n"
     ]
    }
   ],
   "source": [
    "def main() :\n",
    "    print(\"20cm 피자 2개의 면적:\", get_area(20)+get_area(20))\n",
    "    print(\"30cm 피자 1개의 면적:\", get_area(30))\n",
    "\n",
    "def get_area(radius) :\n",
    "    if radius > 0 :\n",
    "        area = 3.14*radius**2\n",
    "    else :\n",
    "        area = 0\n",
    "    return area\n",
    "\n",
    "main()"
   ]
  },
  {
   "cell_type": "markdown",
   "metadata": {},
   "source": [
    "## 서로 다른 인수로 호출 가능"
   ]
  },
  {
   "cell_type": "code",
   "execution_count": 29,
   "metadata": {},
   "outputs": [],
   "source": [
    "def get_sum(start, end):\n",
    "    sum = 0\n",
    "    for i in range(start, end+1):\n",
    "        sum += i\n",
    "    return sum\n",
    "\n",
    "# 1과 10이 get_sum()의 인수가 된다.\n",
    "x = get_sum(1, 10)\n",
    "\n",
    "# 1과 20이 get_sum()의 인수가 된다.\n",
    "y = get_sum(1, 20); "
   ]
  },
  {
   "cell_type": "markdown",
   "metadata": {},
   "source": [
    "## 매개 변수를 변경한다고 해서 인수가 변경 X"
   ]
  },
  {
   "cell_type": "code",
   "execution_count": 30,
   "metadata": {},
   "outputs": [
    {
     "name": "stdout",
     "output_type": "stream",
     "text": [
      "20\n"
     ]
    }
   ],
   "source": [
    "def set_radius(radius):\n",
    " radius = 100\n",
    " return\n",
    "\n",
    "r = 20\n",
    "set_radius(r)\n",
    "print(r)"
   ]
  },
  {
   "cell_type": "markdown",
   "metadata": {},
   "source": [
    "## 디폴트 인수"
   ]
  },
  {
   "cell_type": "code",
   "execution_count": 31,
   "metadata": {},
   "outputs": [
    {
     "name": "stdout",
     "output_type": "stream",
     "text": [
      "안녕  영희, 별일없죠?\n",
      "안녕  철수, 집에가\n"
     ]
    }
   ],
   "source": [
    "def greet(name, msg=\"별일없죠?\"):\n",
    "    print(\"안녕 \", name + ', ' + msg)\n",
    "    \n",
    "greet(\"영희\")\n",
    "greet(\"철수\", \"집에가\")"
   ]
  },
  {
   "cell_type": "markdown",
   "metadata": {},
   "source": [
    "## 위치 인수 vs 키워드 인수"
   ]
  },
  {
   "cell_type": "code",
   "execution_count": 32,
   "metadata": {},
   "outputs": [
    {
     "name": "stdout",
     "output_type": "stream",
     "text": [
      "x= 10 y= 20 z= 30\n",
      "x= 10 y= 20 z= 30\n",
      "x= 10 y= 20 z= 30\n"
     ]
    }
   ],
   "source": [
    "def sub(x, y, z):\n",
    "    print(\"x=\", x, \"y=\", y, \"z=\", z)\n",
    "\n",
    "sub(10, 20, 30)\n",
    "\n",
    "sub(x=10, y=20, z=30)\n",
    "\n",
    "sub(10, y=20, z=30)\n",
    "\n",
    "#sub(x=10, 20, 30) > 오류 발생"
   ]
  },
  {
   "cell_type": "markdown",
   "metadata": {},
   "source": [
    "## 가변 인수"
   ]
  },
  {
   "cell_type": "code",
   "execution_count": 33,
   "metadata": {},
   "outputs": [
    {
     "name": "stdout",
     "output_type": "stream",
     "text": [
      "하나의 값으로 호출\n",
      "(10,)\n",
      "여러 개의 값으로 호출\n",
      "(10, 20, 30)\n"
     ]
    }
   ],
   "source": [
    "def varfunc(*args ):\n",
    "    print (args)\n",
    "\n",
    "print(\"하나의 값으로 호출\")\n",
    "varfunc(10)\n",
    "\n",
    "print(\"여러 개의 값으로 호출\")\n",
    "varfunc(10, 20, 30)"
   ]
  },
  {
   "cell_type": "markdown",
   "metadata": {},
   "source": [
    "## 예제 2"
   ]
  },
  {
   "cell_type": "code",
   "execution_count": 34,
   "metadata": {},
   "outputs": [
    {
     "name": "stdout",
     "output_type": "stream",
     "text": [
      "30\n",
      "60\n"
     ]
    }
   ],
   "source": [
    "def add(*numbers) :\n",
    "    sum = 0\n",
    "    for n in numbers:\n",
    "        sum = sum + n\n",
    "    return sum\n",
    "\n",
    "print(add(10, 20))\n",
    "print(add(10, 20, 30))\n"
   ]
  },
  {
   "cell_type": "markdown",
   "metadata": {},
   "source": [
    "## 예제 3"
   ]
  },
  {
   "cell_type": "code",
   "execution_count": 35,
   "metadata": {},
   "outputs": [
    {
     "name": "stdout",
     "output_type": "stream",
     "text": [
      "{'ace': 'Hi!', 'bee': 'Mr.', 'name': 'Kim'}\n",
      "Hi!Mr.Kim\n"
     ]
    }
   ],
   "source": [
    "def myfunc(**kwargs):\n",
    "    print(kwargs)\n",
    "    result = \"\"\n",
    "    for arg in kwargs.values():\n",
    "        result += arg\n",
    "    return result\n",
    "\n",
    "print(myfunc(ace=\"Hi!\", bee=\"Mr.\", name=\"Kim\"))"
   ]
  },
  {
   "cell_type": "markdown",
   "metadata": {},
   "source": [
    "## 예제 4"
   ]
  },
  {
   "cell_type": "code",
   "execution_count": 36,
   "metadata": {},
   "outputs": [
    {
     "name": "stdout",
     "output_type": "stream",
     "text": [
      "1 2 3\n",
      "1:2:3\n",
      "[1, 2, 3]\n"
     ]
    }
   ],
   "source": [
    "alist = [ 1 , 2 , 3 ]\n",
    "print(*alist)\n",
    "print(*alist, sep=\":\")\n",
    "print(alist)"
   ]
  },
  {
   "cell_type": "markdown",
   "metadata": {},
   "source": [
    "## 예제 5"
   ]
  },
  {
   "cell_type": "code",
   "execution_count": 37,
   "metadata": {},
   "outputs": [
    {
     "name": "stdout",
     "output_type": "stream",
     "text": [
      "6\n"
     ]
    }
   ],
   "source": [
    "def sum(a, b, c):\n",
    "    print(a + b + c)\n",
    "    \n",
    "alist = [1, 2, 3]\n",
    "sum(*alist)"
   ]
  },
  {
   "cell_type": "markdown",
   "metadata": {},
   "source": [
    "## Lab: 환영 문자열 출력 함수"
   ]
  },
  {
   "cell_type": "code",
   "execution_count": 38,
   "metadata": {},
   "outputs": [
    {
     "name": "stdout",
     "output_type": "stream",
     "text": [
      "환영합니다.\n",
      "환영합니다.\n",
      "환영합니다.\n",
      "환영합니다.\n",
      "환영합니다.\n"
     ]
    }
   ],
   "source": [
    "def display(msg, count=1) :\n",
    "    for k in range(count) :\n",
    "        print(msg)\n",
    "        \n",
    "display(\"환영합니다.\", 5)"
   ]
  },
  {
   "cell_type": "markdown",
   "metadata": {},
   "source": [
    "## 이분법"
   ]
  },
  {
   "cell_type": "markdown",
   "metadata": {},
   "source": [
    "구간 [a, b]에서 f(a)f(b) < 0이라고 하자. f(a)f(b) < 0이면 함수 f는 반드시 구간 [a,b]에서 근을 가져야 한다. 계속해서 a와 b의 중간값 m=(a+b)/2을 계산하고, 함수 f(m)의 값을 계산한다.  \n",
    "f(a)f(m) < 0이면 근은 [a, m] 사이에 있고, 그렇지 않으면 근은 [m,b] 구간에 있을 것이다"
   ]
  },
  {
   "cell_type": "code",
   "execution_count": 39,
   "metadata": {},
   "outputs": [
    {
     "name": "stdout",
     "output_type": "stream",
     "text": [
      "x**2-x-1의 근: 1.6180419921875\n"
     ]
    }
   ],
   "source": [
    "def f(x):\n",
    "    return(x**2-x-1)\n",
    "\n",
    "def bisection_method(a, b, error):\n",
    "    if f(a)*f(b) > 0:\n",
    "        print(\"구간에서 근을 찾을 수 없습니다.\")\n",
    "    else:\n",
    "        while (b - a)/2.0 > error: # 오차를 계산한다.\n",
    "            midpoint = (a + b)/2.0 # 중점을 계산한다.\n",
    "            if f(midpoint) == 0:\n",
    "                return(midpoint)\n",
    "            elif f(a)*f(midpoint) < 0:\n",
    "                b = midpoint\n",
    "            else:\n",
    "                a = midpoint\n",
    "        return(midpoint)\n",
    "    \n",
    "answer = bisection_method(1, 2, 0.0001)\n",
    "print(\"x**2-x-1의 근:\", answer)"
   ]
  },
  {
   "cell_type": "markdown",
   "metadata": {},
   "source": [
    "## Lab: 주급 계산 프로그램"
   ]
  },
  {
   "cell_type": "code",
   "execution_count": 40,
   "metadata": {},
   "outputs": [
    {
     "name": "stdout",
     "output_type": "stream",
     "text": [
      "시급을 입력하시오:10000\n",
      "근무 시간을 입력하시오:38\n",
      "주급은 420000.0\n"
     ]
    }
   ],
   "source": [
    "def weeklyPay( rate, hour ):\n",
    "    money = 0\n",
    "    if (hour > 30):\n",
    "        money = rate*30 + 1.5*rate*(hour-30)\n",
    "    else:\n",
    "        money = rate*hour\n",
    "    return money\n",
    "\n",
    "rate = int(input(\"시급을 입력하시오:\"))\n",
    "hour = int(input(\"근무 시간을 입력하시오:\"))\n",
    "print(\"주급은 \" + str(weeklyPay(rate, hour)))"
   ]
  },
  {
   "cell_type": "markdown",
   "metadata": {},
   "source": [
    "## 값 반환하기"
   ]
  },
  {
   "cell_type": "markdown",
   "metadata": {},
   "source": [
    "radius가 음수일 때는 아무것도 반환되지 않는다. "
   ]
  },
  {
   "cell_type": "code",
   "execution_count": 41,
   "metadata": {},
   "outputs": [],
   "source": [
    "def get_area(radius) :\n",
    "    if radius > 0 :\n",
    "        return 3.14*radius**2 "
   ]
  },
  {
   "cell_type": "code",
   "execution_count": 42,
   "metadata": {},
   "outputs": [],
   "source": [
    "def get_area(radius) :\n",
    "    if radius > 0 :\n",
    "        return 3.14*radius**2\n",
    "    else :\n",
    "        return 0"
   ]
  },
  {
   "cell_type": "markdown",
   "metadata": {},
   "source": [
    "## 여러 개의 값 반환하기"
   ]
  },
  {
   "cell_type": "code",
   "execution_count": 43,
   "metadata": {},
   "outputs": [
    {
     "name": "stdout",
     "output_type": "stream",
     "text": [
      "1 2 3\n",
      "(1, 2, 3)\n"
     ]
    }
   ],
   "source": [
    "def sub():\n",
    "    return 1, 2, 3\n",
    "\n",
    "a, b, c = sub()\n",
    "print(a, b, c)\n",
    "\n",
    "d = sub()\n",
    "print(d)"
   ]
  },
  {
   "cell_type": "markdown",
   "metadata": {},
   "source": [
    "## Lab: 여러 개의 값 반환"
   ]
  },
  {
   "cell_type": "code",
   "execution_count": 44,
   "metadata": {},
   "outputs": [
    {
     "name": "stdout",
     "output_type": "stream",
     "text": [
      "이름:홍길동\n",
      "나이:20\n",
      "이름은  홍길동 이고 나이는  20 살입니다.\n"
     ]
    }
   ],
   "source": [
    "def get_info():\n",
    "    name = input(\"이름:\")\n",
    "    age = int(input(\"나이:\"))\n",
    "    return name, age # 2개의 값을 반환한다.\n",
    "\n",
    "st_name, st_age = get_info() # 반환된 값을 풀어서 변수에 저장한다.\n",
    "print(\"이름은 \", st_name, \"이고 나이는 \", st_age, \"살입니다.\")"
   ]
  },
  {
   "cell_type": "markdown",
   "metadata": {},
   "source": [
    "## 구조화 프로그래밍 실습"
   ]
  },
  {
   "cell_type": "code",
   "execution_count": 45,
   "metadata": {},
   "outputs": [
    {
     "name": "stdout",
     "output_type": "stream",
     "text": [
      "1. 섭씨 온도->화씨 온도\n",
      "2. 화씨 온도->섭씨 온도\n",
      "3. 종료\n",
      "메뉴를 선택하세요: 1\n",
      "섭씨 온도를 입력하시오: 37.0\n",
      "화씨 온도 =  98.6 \n",
      "\n",
      "1. 섭씨 온도->화씨 온도\n",
      "2. 화씨 온도->섭씨 온도\n",
      "3. 종료\n",
      "메뉴를 선택하세요: 3\n"
     ]
    }
   ],
   "source": [
    "def menu() :\n",
    "    print(\"1. 섭씨 온도->화씨 온도\")\n",
    "    print(\"2. 화씨 온도->섭씨 온도\")\n",
    "    print(\"3. 종료\")\n",
    "    selection = int(input(\"메뉴를 선택하세요: \"))\n",
    "    return selection\n",
    "\n",
    "def ctof(c) :\n",
    "    temp = c*9.0/5.0 + 32\n",
    "    return temp\n",
    "\n",
    "def ftoc(f) :\n",
    "    temp = (f-32.0)*5.0/9.0\n",
    "    return temp\n",
    "\n",
    "def input_f() :\n",
    "    f = float(input(\"화씨 온도를 입력하시오: \"))\n",
    "    return f\n",
    "\n",
    "def input_c() :\n",
    "    c = float(input(\"섭씨 온도를 입력하시오: \"))\n",
    "    return c\n",
    "\n",
    "def main() :\n",
    "    while True:\n",
    "        index = menu()\n",
    "        if index == 1 :\n",
    "            t = input_c()\n",
    "            t2 = ctof(t)\n",
    "            print(\"화씨 온도 = \", t2, \"\\n\")\n",
    "        elif index == 2 :\n",
    "            t = input_f()\n",
    "            t2 = ftoc(t)\n",
    "            print(\"섭씨 온도 = \", t2, \"\\n\")\n",
    "        else :\n",
    "            break\n",
    "            \n",
    "main()"
   ]
  },
  {
   "cell_type": "markdown",
   "metadata": {},
   "source": [
    "## 예제 6"
   ]
  },
  {
   "cell_type": "markdown",
   "metadata": {},
   "source": [
    "순환호출"
   ]
  },
  {
   "cell_type": "code",
   "execution_count": 46,
   "metadata": {},
   "outputs": [
    {
     "name": "stdout",
     "output_type": "stream",
     "text": [
      "정수를 입력하시오:10\n",
      "10 !=  3628800\n"
     ]
    }
   ],
   "source": [
    "def factorial(n):\n",
    "    if n == 1 :\n",
    "        return(1)\n",
    "    else:\n",
    "        return n * factorial(n-1)\n",
    "    \n",
    "n = eval(input(\"정수를 입력하시오:\"))\n",
    "print(n, \"!= \", factorial(n))\n"
   ]
  },
  {
   "cell_type": "markdown",
   "metadata": {},
   "source": [
    "## 변수의 범위: 지역변수 vs 전역변수"
   ]
  },
  {
   "cell_type": "code",
   "execution_count": 47,
   "metadata": {},
   "outputs": [
    {
     "name": "stdout",
     "output_type": "stream",
     "text": [
      "100\n"
     ]
    }
   ],
   "source": [
    "def myfunc():\n",
    "    x = 100\n",
    "    print(x)\n",
    "    \n",
    "myfunc()"
   ]
  },
  {
   "cell_type": "markdown",
   "metadata": {},
   "source": [
    "## 전역 변수"
   ]
  },
  {
   "cell_type": "code",
   "execution_count": 48,
   "metadata": {},
   "outputs": [
    {
     "name": "stdout",
     "output_type": "stream",
     "text": [
      "100\n",
      "100\n"
     ]
    }
   ],
   "source": [
    "gx = 100\n",
    "\n",
    "def myfunc():\n",
    "    print(gx)\n",
    "\n",
    "myfunc()\n",
    "print(gx)"
   ]
  },
  {
   "cell_type": "markdown",
   "metadata": {},
   "source": [
    "지역 변수는 함수마다 동일한 이름을 사용할 수 있다."
   ]
  },
  {
   "cell_type": "code",
   "execution_count": 49,
   "metadata": {},
   "outputs": [
    {
     "name": "stdout",
     "output_type": "stream",
     "text": [
      "200\n",
      "100\n"
     ]
    }
   ],
   "source": [
    "def myfunc() :\n",
    "    x = 200\n",
    "    print(x)\n",
    "\n",
    "def main() :\n",
    "    x = 100\n",
    "    print(x)\n",
    "\n",
    "myfunc()\n",
    "main()"
   ]
  },
  {
   "cell_type": "markdown",
   "metadata": {},
   "source": [
    "함수 안에서 전역 변수 변경하기"
   ]
  },
  {
   "cell_type": "code",
   "execution_count": 50,
   "metadata": {},
   "outputs": [
    {
     "name": "stdout",
     "output_type": "stream",
     "text": [
      "200\n",
      "100\n"
     ]
    }
   ],
   "source": [
    "gx = 100\n",
    "g = 200\n",
    "\n",
    "def myfunc() :\n",
    "    gx = g #함수 안에서 변수에 값을 저장하면 지역 변수가 생성된다. \n",
    "    print(gx)\n",
    "    \n",
    "myfunc()\n",
    "print(gx)"
   ]
  },
  {
   "cell_type": "markdown",
   "metadata": {},
   "source": [
    "함수 안에서 전역 변수 변경하기"
   ]
  },
  {
   "cell_type": "code",
   "execution_count": 51,
   "metadata": {},
   "outputs": [
    {
     "name": "stdout",
     "output_type": "stream",
     "text": [
      "200\n",
      "200\n"
     ]
    }
   ],
   "source": [
    "gx = 100\n",
    "g = 200\n",
    "\n",
    "def myfunc():\n",
    "    global gx # 전역 변수 gx를 사용한다.\n",
    "    gx = g\n",
    "    print(gx)\n",
    "\n",
    "myfunc()\n",
    "print(gx)"
   ]
  }
 ],
 "metadata": {
  "kernelspec": {
   "display_name": "Python 3",
   "language": "python",
   "name": "python3"
  },
  "language_info": {
   "codemirror_mode": {
    "name": "ipython",
    "version": 3
   },
   "file_extension": ".py",
   "mimetype": "text/x-python",
   "name": "python",
   "nbconvert_exporter": "python",
   "pygments_lexer": "ipython3",
   "version": "3.8.5"
  },
  "toc": {
   "base_numbering": 1,
   "nav_menu": {},
   "number_sections": true,
   "sideBar": true,
   "skip_h1_title": false,
   "title_cell": "Table of Contents",
   "title_sidebar": "Contents",
   "toc_cell": false,
   "toc_position": {},
   "toc_section_display": true,
   "toc_window_display": false
  },
  "varInspector": {
   "cols": {
    "lenName": 16,
    "lenType": 16,
    "lenVar": 40
   },
   "kernels_config": {
    "python": {
     "delete_cmd_postfix": "",
     "delete_cmd_prefix": "del ",
     "library": "var_list.py",
     "varRefreshCmd": "print(var_dic_list())"
    },
    "r": {
     "delete_cmd_postfix": ") ",
     "delete_cmd_prefix": "rm(",
     "library": "var_list.r",
     "varRefreshCmd": "cat(var_dic_list()) "
    }
   },
   "types_to_exclude": [
    "module",
    "function",
    "builtin_function_or_method",
    "instance",
    "_Feature"
   ],
   "window_display": false
  }
 },
 "nbformat": 4,
 "nbformat_minor": 4
}
