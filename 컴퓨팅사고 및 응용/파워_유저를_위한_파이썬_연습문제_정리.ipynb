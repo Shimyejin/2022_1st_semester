{
 "cells": [
  {
   "cell_type": "markdown",
   "metadata": {
    "id": "uV0W_Pbjp3p3"
   },
   "source": [
    "# Chapter 2"
   ]
  },
  {
   "cell_type": "code",
   "execution_count": null,
   "metadata": {
    "colab": {
     "base_uri": "https://localhost:8080/"
    },
    "id": "ZQ7c3msspOlj",
    "outputId": "8bf556d6-6417-4824-eb34-5b5c6a655489"
   },
   "outputs": [
    {
     "name": "stdout",
     "output_type": "stream",
     "text": [
      "x : 4\n",
      "y : 3\n",
      "두수의 합 : 7\n",
      "두수의 차 : 1\n",
      "두수의 곱 : 12\n",
      "두수의 평균 : 3.5\n",
      "큰수 : 4\n",
      "작은수 : 3\n"
     ]
    }
   ],
   "source": [
    "x = int(input(\"x : \"))\n",
    "y = int(input(\"y : \"))\n",
    "\n",
    "print(f\"두수의 합 : {x + y}\")\n",
    "print(f\"두수의 차 : {x - y}\")\n",
    "print(f\"두수의 곱 : {x * y}\")\n",
    "print(f\"두수의 평균 : {(x + y) / 2}\")\n",
    "print(f\"큰수 : {max(x, y)}\")\n",
    "print(f\"작은수 : {min(x, y)}\")"
   ]
  },
  {
   "cell_type": "code",
   "execution_count": null,
   "metadata": {
    "colab": {
     "base_uri": "https://localhost:8080/"
    },
    "id": "OA374DDvqq-M",
    "outputId": "cb951e03-2f3f-4cdc-ea7d-e58130b2d30d"
   },
   "outputs": [
    {
     "name": "stdout",
     "output_type": "stream",
     "text": [
      "닭의 수 : 2\n",
      "돼지의 수 : 3\n",
      "소의 수 : 4\n",
      "\n",
      "전체 다리의 수 :32\n"
     ]
    }
   ],
   "source": [
    "chicken_leg, pig_leg, cow_leg = 2, 4, 4\n",
    "\n",
    "print(\"닭의 수 : 2\")\n",
    "print(\"돼지의 수 : 3\")\n",
    "print(\"소의 수 : 4\\n\")\n",
    "\n",
    "print(f\"전체 다리의 수 :{(chicken_leg * 2) +  (pig_leg * 3) + (cow_leg * 4)}\")"
   ]
  },
  {
   "cell_type": "markdown",
   "metadata": {
    "id": "tv2xoBdllIO8"
   },
   "source": [
    "> 삼각형의 두 변의 길이를 받아서 나머지 변의 최대 길이를 계산해보자"
   ]
  },
  {
   "cell_type": "code",
   "execution_count": null,
   "metadata": {
    "colab": {
     "base_uri": "https://localhost:8080/"
    },
    "id": "AkXEC28uspt7",
    "outputId": "28754e4b-57b9-4268-8aa4-c00000d0b3b0"
   },
   "outputs": [
    {
     "name": "stdout",
     "output_type": "stream",
     "text": [
      "삼각형의 첫 번째 변의 길이: 13\n",
      "삼각형의 두 번째 변의 길이: 15\n",
      "삼각형의 나머지 변의 최대 길이 = 27\n"
     ]
    }
   ],
   "source": [
    "# 삼각형이 되기 위해서는 나머지 변은 1부터 (side1+side2)-1의 길이를 가져야 한다.\n",
    "\n",
    "x = int(input(\"삼각형의 첫 번째 변의 길이: \"))\n",
    "y = int(input(\"삼각형의 두 번째 변의 길이: \"))\n",
    "z = (x + y) - 1\n",
    "print(f\"삼각형의 나머지 변의 최대 길이 = {z}\")"
   ]
  },
  {
   "cell_type": "markdown",
   "metadata": {
    "id": "pxGovfMulM1m"
   },
   "source": [
    "> 사용자로부터 시간과 분을 받아서 초로 변환하는 프로그램을 작성해보자"
   ]
  },
  {
   "cell_type": "code",
   "execution_count": null,
   "metadata": {
    "colab": {
     "base_uri": "https://localhost:8080/"
    },
    "id": "GFrDmZd4synX",
    "outputId": "3814eb2a-778b-431a-8ff8-e69fd13430b9"
   },
   "outputs": [
    {
     "name": "stdout",
     "output_type": "stream",
     "text": [
      "시간을 입력하시오: 1\n",
      "분을 입력하시오: 20\n",
      "1 시간 20 분은 4800 초입니다.\n"
     ]
    }
   ],
   "source": [
    "x = int(input(\"시간을 입력하시오: \"))\n",
    "y = int(input(\"분을 입력하시오: \"))\n",
    "\n",
    "hour = x\n",
    "min = y\n",
    "\n",
    "hour_sec = (x * 60) * 60\n",
    "min_sec = y * 60\n",
    "\n",
    "print(f\"{hour} 시간 {y} 분은 {hour_sec + min_sec} 초입니다.\")"
   ]
  },
  {
   "cell_type": "markdown",
   "metadata": {
    "id": "nEPw5muUlRak"
   },
   "source": [
    "> 화씨 온도를 읽어서 섭씨 온도로 변환하는 프로그램을 작성하라. 변환 수식은 다음과 같다.  \n",
    "$C = (f-32.0) *$$\\frac{5}{9}$"
   ]
  },
  {
   "cell_type": "code",
   "execution_count": null,
   "metadata": {
    "colab": {
     "base_uri": "https://localhost:8080/"
    },
    "id": "eop2SBCus8t0",
    "outputId": "5424c3ee-2a16-4deb-dfb7-42cc230dde10"
   },
   "outputs": [
    {
     "name": "stdout",
     "output_type": "stream",
     "text": [
      "화씨 온도를 입력하시오: 22\n",
      "화씨 22.0도는 섭씨 -5.56도에 해당합니다.\n"
     ]
    }
   ],
   "source": [
    "x = float(input(\"화씨 온도를 입력하시오: \"))\n",
    "\n",
    "y = (x - 32.0)*(5/9)\n",
    "\n",
    "print(f\"화씨 {x}도는 섭씨 {round(y,2)}도에 해당합니다.\")"
   ]
  },
  {
   "cell_type": "markdown",
   "metadata": {
    "id": "fVptU1Adm1rb"
   },
   "source": [
    "> 미국에 여행갔다고 하자. 음식 비용을 입력하면 팀을 포함한 전체 금액을 계산해주는 프로그램을 작성해보자  "
   ]
  },
  {
   "cell_type": "code",
   "execution_count": null,
   "metadata": {
    "colab": {
     "base_uri": "https://localhost:8080/"
    },
    "id": "f9iPEhOQm7r8",
    "outputId": "bf5bca75-e8f5-4b6c-ea76-047daf428f2e"
   },
   "outputs": [
    {
     "name": "stdout",
     "output_type": "stream",
     "text": [
      "음식 비용:100\n",
      "팀 비율: 10%\n",
      "110달러\n"
     ]
    }
   ],
   "source": [
    "food = int(input('음식 비용:'))\n",
    "print('팀 비율: 10%')\n",
    "total = print(f'{int(food+food*0.1)}달러')"
   ]
  },
  {
   "cell_type": "markdown",
   "metadata": {
    "id": "BUklXCEcnI0P"
   },
   "source": [
    "> 사용자로부터 두 점의 좌표 (x1,y1)과 (x2,y2)를 입력받아서 두 점 사이의 거리를 계산하는 프로그램을 작성해보자. 스크립트 모드로 작성하라. 거리는 다음 식으로 계산한다.  \n",
    "$\\sqrt{(x1-x2)^2+(y1-y2)^2}$"
   ]
  },
  {
   "cell_type": "code",
   "execution_count": null,
   "metadata": {
    "colab": {
     "base_uri": "https://localhost:8080/"
    },
    "id": "qd9qPrd-nnPI",
    "outputId": "63f5763c-1675-47a1-a502-72b0f2ff27e1"
   },
   "outputs": [
    {
     "name": "stdout",
     "output_type": "stream",
     "text": [
      "x1=2\n",
      "y1=3\n",
      "x2=4\n",
      "y2=4\n",
      "두점 사이의 거리= 2.23606797749979\n"
     ]
    }
   ],
   "source": [
    "from math import sqrt\n",
    "\n",
    "x1 =int(input('x1='))\n",
    "y1 =int(input('y1='))\n",
    "x2 =int(input('x2='))\n",
    "y2 =int(input('y2='))\n",
    "formula = sqrt((x1-x2)**2 + (y1-y2)**2)\n",
    "print('두점 사이의 거리=',formula)"
   ]
  },
  {
   "cell_type": "markdown",
   "metadata": {
    "id": "Obm1HMMKmiGl"
   },
   "source": [
    "> 사용자로부터 4자리의 정수를 받아서 자리수의 합을 계산하는 프로그램을 작성하여 보자. 예를 들어서 사용자가 1234를 입력하였다면 1+2+3+4를 계산하면 된다. 나머지 연산자와 정수 나눗셈 연산자 //를 적극적으로 사용해보자."
   ]
  },
  {
   "cell_type": "code",
   "execution_count": null,
   "metadata": {
    "colab": {
     "base_uri": "https://localhost:8080/"
    },
    "id": "9Iv6TxIctC5s",
    "outputId": "82d1ffee-1c36-4e69-825e-d7ab281e06b4"
   },
   "outputs": [
    {
     "name": "stdout",
     "output_type": "stream",
     "text": [
      "정수=1234\n",
      "10\n"
     ]
    }
   ],
   "source": [
    "# 1234 // 1000 = 1 이고, 1234 % 1000 = 234 이다. // 와 % 를 적절하게 사용하자.\n",
    "\n",
    "x = int(input(\"정수=\"))\n",
    "\n",
    "x_1 = x // 1000\n",
    "x_2 = (x % 1000) // 100\n",
    "x_3 = (x % 1000) % 100 // 10 \n",
    "x_4 = (x % 1000) % 100 % 10 \n",
    "\n",
    "print(x_1 + x_2 + x_3 + x_4)"
   ]
  },
  {
   "cell_type": "code",
   "execution_count": null,
   "metadata": {
    "colab": {
     "base_uri": "https://localhost:8080/"
    },
    "id": "i9krISCvtSoI",
    "outputId": "af0c3887-5baf-448c-ed4a-b701c50e3df7"
   },
   "outputs": [
    {
     "name": "stdout",
     "output_type": "stream",
     "text": [
      "드라이브 이름: 해바라기\n",
      "디렉토리 이름: 하림\n",
      "파일 이름: 홈\n",
      "확장자 이름: 정은지\n",
      "완전한 이름은 해바라기:하림홈.정은지\n"
     ]
    }
   ],
   "source": [
    "drive_name = input(\"드라이브 이름: \")\n",
    "directory_name =  input(\"디렉토리 이름: \")\n",
    "file_name =  input(\"파일 이름: \")\n",
    "extension_name =  input(\"확장자 이름: \")\n",
    "\n",
    "print(f\"완전한 이름은 {drive_name}:{directory_name}{file_name}.{extension_name}\")"
   ]
  },
  {
   "cell_type": "code",
   "execution_count": null,
   "metadata": {
    "colab": {
     "base_uri": "https://localhost:8080/"
    },
    "id": "qFfN07yUtb5E",
    "outputId": "bca2fa09-717a-4fc7-a4ff-7aff742a7a0a"
   },
   "outputs": [
    {
     "name": "stdout",
     "output_type": "stream",
     "text": [
      "숫자를 입력하시오: 123456\n",
      "123,456\n"
     ]
    }
   ],
   "source": [
    "x = input(\"숫자를 입력하시오: \")\n",
    "\n",
    "x_1 = x[:3]\n",
    "x_2 = x[3:]\n",
    " \n",
    "print(f\"{int(x_1)},{int(x_2)}\")"
   ]
  },
  {
   "cell_type": "markdown",
   "metadata": {
    "id": "QkvtJvfMnuwt"
   },
   "source": [
    "# Chapter 3 조건문"
   ]
  },
  {
   "cell_type": "markdown",
   "metadata": {
    "id": "WbxAJQ8Enyti"
   },
   "source": [
    "> 사용자로부터 2개의 정수를 받아서 첫 번째 정수가 두 번째 정수로 나누어 떨어지는 지를 검사하는 프로그램을 작성하라. 즉 약수인지를 검사한다.  \n",
    "Hint: (x%y)의 결과가 0이면 y가 x의 약수이다  "
   ]
  },
  {
   "cell_type": "code",
   "execution_count": null,
   "metadata": {
    "colab": {
     "base_uri": "https://localhost:8080/"
    },
    "id": "m4vqSznznxYW",
    "outputId": "87a0a554-a567-4ce2-dfd7-dcdd60f39d37"
   },
   "outputs": [
    {
     "name": "stdout",
     "output_type": "stream",
     "text": [
      "정수를 입력하시오:18\n",
      "정수를 입력하시오:6\n",
      "약수입니다.\n"
     ]
    }
   ],
   "source": [
    "num1 = int(input('정수를 입력하시오:'))\n",
    "num2 = int(input('정수를 입력하시오:'))\n",
    "if (num1%num2) == 0:\n",
    "    print('약수입니다.')"
   ]
  },
  {
   "cell_type": "markdown",
   "metadata": {
    "id": "RLszd5rhoJYZ"
   },
   "source": [
    "> 사용자에게 현재 온도를 질문하고 온도가 25도 이상이면 반바지를 추천하고 25도 미만이면 긴바지를 추천하는 프로그램을 작성해보자  \n"
   ]
  },
  {
   "cell_type": "code",
   "execution_count": null,
   "metadata": {
    "colab": {
     "base_uri": "https://localhost:8080/"
    },
    "id": "rCSghkN8oVsb",
    "outputId": "b0dc0639-643c-4a5d-baca-8f1e406438bf"
   },
   "outputs": [
    {
     "name": "stdout",
     "output_type": "stream",
     "text": [
      "현재 온도를 입력하시오:10\n",
      "긴바지를 추천합니다.\n"
     ]
    }
   ],
   "source": [
    "degree = float(input('현재 온도를 입력하시오:'))\n",
    "if degree > 25:\n",
    "    print('반바지를 추천합니다.')\n",
    "else:\n",
    "    print('긴바지를 추천합니다.')"
   ]
  },
  {
   "cell_type": "markdown",
   "metadata": {
    "id": "dU47hZjQoWCn"
   },
   "source": [
    "> 사용자로부터 하나의 문자를 입력받아서 문자가 'R'이나 'r'이면 \"Rectangle\"이라고 출력한다. 'T'이거나 't'이면 'Triangle','C'이거나 'c'이면 'Circle'이라고 출력하는 프로그램을 작성한다. 그 외의 문자가 들어오면 'Unknown'이라고 출력한다"
   ]
  },
  {
   "cell_type": "code",
   "execution_count": null,
   "metadata": {
    "colab": {
     "base_uri": "https://localhost:8080/"
    },
    "id": "-RyldW4DpN6A",
    "outputId": "12ba224b-b799-4889-f7b7-cdc9f1f6e9df"
   },
   "outputs": [
    {
     "name": "stdout",
     "output_type": "stream",
     "text": [
      "문자를 입력하시오:t\n",
      "Triangle\n"
     ]
    }
   ],
   "source": [
    "word = input('문자를 입력하시오:')\n",
    "if word == 'R' or word == 'r':\n",
    "    print('Rectangle')\n",
    "elif word == 'T' or word == 't':\n",
    "    print('Triangle')\n",
    "elif word == 'C' or word == 'c':\n",
    "    print('Circle')\n",
    "else:\n",
    "    print('unknown')"
   ]
  },
  {
   "cell_type": "markdown",
   "metadata": {
    "id": "vVJXAmzZpOSP"
   },
   "source": [
    "> 사용자로부터 3개의 정수를 읽어 들인 후에 if-else문을 사용하여 가장 작은 값을 결정하는 프로그램을 작성하라  \n",
    "Hint: x,y,z = eval(input('3개의 정수를 입력하시오:'))"
   ]
  },
  {
   "cell_type": "code",
   "execution_count": null,
   "metadata": {
    "colab": {
     "base_uri": "https://localhost:8080/"
    },
    "id": "zlwgOXc6pOzv",
    "outputId": "6974c7c6-871e-48e7-e293-8e37f4a287ef"
   },
   "outputs": [
    {
     "name": "stdout",
     "output_type": "stream",
     "text": [
      "3개의 정수를 입력하시오:49, 29, 50\n",
      "제일 작은 정수는 29입니다.\n"
     ]
    }
   ],
   "source": [
    "x,y,z = eval(input('3개의 정수를 입력하시오:'))\n",
    "if x > y:\n",
    "    if y > z:\n",
    "        print(f'제일 작은 정수는 {z}입니다.')\n",
    "    else:\n",
    "        print(f'제일 작은 정수는 {y}입니다.')\n",
    "else:\n",
    "    if x > z:\n",
    "        print(f'제일 작은 정수는 {z}입니다.')\n",
    "    else:\n",
    "        print(f'제일 작은 정수는 {x}입니다.')"
   ]
  },
  {
   "cell_type": "markdown",
   "metadata": {
    "id": "vPJg-xNjpua2"
   },
   "source": [
    "> 컴퓨터와 가위, 바위 보 게임을 하는 프로그램을 작성하라. 컴퓨터는 사용자에게 알리지 않고 가위, 바위, 보 중에서 임의로 하나를 선택한다. 사용자는 프로그램의 입력 안내 메시지에 따라서, 3개 중에서 하나를 선택하게 된다. 사용자의 선택이 끝나면 컴퓨터는 누가가 무엇을 선택하였고 누가 이겼는지, 비겼는지를 알려준다.  \n",
    "Hint: 사용자의 선택과 컴퓨터의 선택을 연속적인 if-else로 비교한다. random.randint(1,3)으로 1부터 3사이의 난수를 발생하여서 컴퓨터의 선택으로 한다."
   ]
  },
  {
   "cell_type": "code",
   "execution_count": null,
   "metadata": {
    "colab": {
     "base_uri": "https://localhost:8080/"
    },
    "id": "Vu8VhMBwEluI",
    "outputId": "74863b1b-f3d6-4d37-8ed1-73d4469c42f4"
   },
   "outputs": [
    {
     "name": "stdout",
     "output_type": "stream",
     "text": [
      "선택하시오(1:가위 2:바위 3:보)2\n",
      "컴퓨터의 선택(1: 가위 2: 바위 3: 보) 3\n",
      "컴퓨터가 이겼음\n"
     ]
    }
   ],
   "source": [
    "import random\n",
    "select = int(input('선택하시오(1:가위 2:바위 3:보)'))\n",
    "comp_select = random.randint(1,3)\n",
    "print('컴퓨터의 선택(1: 가위 2: 바위 3: 보)',comp_select)\n",
    "if select == 1:\n",
    "    if comp_select == 1:\n",
    "        print('무승부')\n",
    "    elif comp_select == 2:\n",
    "        print('컴퓨터가 이겼음')\n",
    "    else:\n",
    "        print('사용자가 이겼음')\n",
    "elif select == 2:\n",
    "    if comp_select == 1:\n",
    "        print('사용자가 이겼음')\n",
    "    elif comp_select == 2:\n",
    "        print('무승부')\n",
    "    else:\n",
    "        print('컴퓨터가 이겼음')\n",
    "else:\n",
    "    if comp_select == 1:\n",
    "        print('컴퓨터가 이겼음')\n",
    "    elif comp_select == 2:\n",
    "        print('사용자가 이겼음')\n",
    "    else:\n",
    "        print('무승부')"
   ]
  },
  {
   "cell_type": "markdown",
   "metadata": {
    "id": "8wgSxxRUgf_u"
   },
   "source": [
    "> 놀이 공원에서 롤러코스터에 타려면 키가 140cm 이상이고 나이가 10살 이상이어야 한다고 가정하자. 사용자에게 키와 나이를 질문한 후에 '타도 좋습니다' 또는 '죄송합니다'를 출력하는 프로그램을 작성하여 보자.  \n",
    "Hint: if height >= 140 and age >= 10처럼 논리연산자 and로 조건을 연결한다."
   ]
  },
  {
   "cell_type": "code",
   "execution_count": null,
   "metadata": {
    "colab": {
     "base_uri": "https://localhost:8080/"
    },
    "id": "NGEQpg1AgfwQ",
    "outputId": "607c3bf2-c646-451e-c51f-16708001adc8"
   },
   "outputs": [
    {
     "name": "stdout",
     "output_type": "stream",
     "text": [
      "키를 입력하시오(cm):168\n",
      "나이를 입력하시오:23\n",
      "타도 좋습니다.\n"
     ]
    }
   ],
   "source": [
    "height = int(input('키를 입력하시오(cm):'))\n",
    "age = int(input('나이를 입력하시오:'))\n",
    "if height >= 140 and age >= 10:\n",
    "    print('타도 좋습니다.')\n",
    "else:\n",
    "    print('죄송합니다.')"
   ]
  },
  {
   "cell_type": "markdown",
   "metadata": {
    "id": "vPwAiV3Dg5-O"
   },
   "source": [
    "> 사용자로부터 키를 입력받아서 표준 체중을 계산한 후에 사용자의 체중과 비교하여 저체중인지, 표준인지, 과체중인지를 판단하는 프로그램을 작성하라. 표준 체중 계산식은 다음을 사용하라  \n",
    "Hint: 계산 결과를 if-else문을 사용하여서 사용자의 체중과 비교한다.  \n",
    "표준체중 = (키 - 100)  X  0.9"
   ]
  },
  {
   "cell_type": "code",
   "execution_count": null,
   "metadata": {
    "colab": {
     "base_uri": "https://localhost:8080/"
    },
    "id": "JsZbODMwhd6L",
    "outputId": "dedb518a-f54a-4584-8019-0d379c74984c"
   },
   "outputs": [
    {
     "name": "stdout",
     "output_type": "stream",
     "text": [
      "체중과 키를 입력하시오:60 168\n",
      "저체중입니다.\n"
     ]
    }
   ],
   "source": [
    "wh = input('체중과 키를 입력하시오:')\n",
    "weight, height = wh.split()\n",
    "normal = (float(height) - 100) * 0.9\n",
    "weight = float(weight)\n",
    "if weight < normal:\n",
    "    print('저체중입니다.')\n",
    "elif weight == normal:\n",
    "    print('표준입니다.')\n",
    "else:\n",
    "    print('과체중입니다.')"
   ]
  },
  {
   "cell_type": "markdown",
   "metadata": {
    "id": "9BDV2uPcheU8"
   },
   "source": [
    "> 본문에서 덧셈 퀴즈를 자동으로 생성해보았다. 이번에는 덧셈, 뺄셈, 나눗셈 중에서 하나를 랜덤하게 선택하고 피연산자도 난수로 생성하여 사용자에게 제시하고 사용자의 답을 자동으로 채점하는 프로그램을 작성해보자"
   ]
  },
  {
   "cell_type": "code",
   "execution_count": null,
   "metadata": {
    "colab": {
     "base_uri": "https://localhost:8080/"
    },
    "id": "ztPgF_YXh66u",
    "outputId": "8cfd0de3-36cc-41df-ae9a-db014bfde443"
   },
   "outputs": [
    {
     "name": "stdout",
     "output_type": "stream",
     "text": [
      "3 - 5의 값은?-2\n",
      "맞았습니다.\n"
     ]
    }
   ],
   "source": [
    "import random\n",
    "a = random.randint(1,10)\n",
    "b = random.randint(1,10)  \n",
    "op = random.randint(1,3)\n",
    "\n",
    "if op == 1:\n",
    "    op = '+'\n",
    "    r = a + b\n",
    "elif op == 2:\n",
    "    op = '-'\n",
    "    r = a - b\n",
    "else:\n",
    "    op = '/'\n",
    "    r = a / b\n",
    "\n",
    "result = int(input(f'{a} {op} {b}의 값은?'))\n",
    "if result == r:\n",
    "    print('맞았습니다.')\n",
    "else:\n",
    "    print('틀렸습니다.')"
   ]
  },
  {
   "cell_type": "markdown",
   "metadata": {
    "id": "QpALVcIvh7Ip"
   },
   "source": [
    "> 다음과 같이 정의되는 함수의 함수값을 계산하여 보자. 사용자로부터 x값을 입력받아서 함수값을 계산하여 화면에 출력한다. x는 실수이다.  \n",
    "Hint: 자료형은 실수형을 사용한다. x의 3제곱은 x * x * x 수식으로 계산한다.   \n",
    "$f(x) = \\begin{cases} \n",
    "  x^2-9x+2  (x\\leq0) \\\\\n",
    "  7x+2 (x>0)\n",
    "\\end{cases}$"
   ]
  },
  {
   "cell_type": "code",
   "execution_count": null,
   "metadata": {
    "colab": {
     "base_uri": "https://localhost:8080/"
    },
    "id": "Lp2tSllMM4pV",
    "outputId": "e97362ce-cde7-4df7-d59a-8042d702aafe"
   },
   "outputs": [
    {
     "name": "stdout",
     "output_type": "stream",
     "text": [
      "x의 값을 입력하시오:-1\n",
      "f(x)의 값은 12.0\n"
     ]
    }
   ],
   "source": [
    "x = float(input('x의 값을 입력하시오:'))\n",
    "if x > 0:\n",
    "    print('f(x)의 값은',7*x + 2)\n",
    "else:\n",
    "    print('f(x)의 값은',x*x - 9*x + 2)"
   ]
  },
  {
   "cell_type": "markdown",
   "metadata": {
    "id": "YR6FUxtck273"
   },
   "source": [
    "> BMI는 체중(kg)을 신장의 제곱으로 나눈 값으로 체지방 축적을 잘 반영하기 때문에 비만도 판정에 많이 사용한다. 사용자로부터 신장과 체중을 입력받아서 BMI 값에 따라서 다음과 같은 메시지를 출력하는 프로그램을 작성하여 보자.  \n",
    "20-24.9: 정상입니다  \n",
    "25-29.9: 과체중입니다  \n",
    "30이상: 비만입니다"
   ]
  },
  {
   "cell_type": "code",
   "execution_count": null,
   "metadata": {
    "colab": {
     "base_uri": "https://localhost:8080/"
    },
    "id": "iCmbEnGlk2if",
    "outputId": "96fee3c3-9432-4be7-fecc-06c312e18eca"
   },
   "outputs": [
    {
     "name": "stdout",
     "output_type": "stream",
     "text": [
      "무게(킬로그램)86\n",
      "키(미터)1.83\n",
      "당신의 BMI: 25.6801\n",
      "과체중입니다\n"
     ]
    }
   ],
   "source": [
    "kg = float(input('무게(킬로그램)'))\n",
    "m = float(input('키(미터)'))\n",
    "bmi = round(kg/(m*m),4)\n",
    "print('당신의 BMI:', bmi)\n",
    "if bmi >= 30:\n",
    "    print('비만입니다')\n",
    "elif bmi >= 25 and bmi < 30:\n",
    "    print('과체중입니다')\n",
    "elif bmi >= 20 and bmi < 25:\n",
    "    print('정상입니다')\n",
    "else:\n",
    "    pass"
   ]
  },
  {
   "cell_type": "markdown",
   "metadata": {
    "id": "F2MW-FBftG6Y"
   },
   "source": [
    "> 연도를 입력하면 띠를 출력하는 프로그램을 작성해보자. 띠는 연도 12로 나누어서 결정된다. 나머지가 0이면 원숭이띠, 1이면 닭띠, .. 11이면 양띠이다"
   ]
  },
  {
   "cell_type": "code",
   "execution_count": null,
   "metadata": {
    "colab": {
     "base_uri": "https://localhost:8080/"
    },
    "id": "fSTDIsLOtHeY",
    "outputId": "4fdd41dc-dc4c-4c05-abf7-3cc944bf7f63"
   },
   "outputs": [
    {
     "name": "stdout",
     "output_type": "stream",
     "text": [
      "연도를 입력하시오:2000\n",
      "용띠입니다.\n"
     ]
    }
   ],
   "source": [
    "year = int(input('연도를 입력하시오:'))\n",
    "result = year % 12\n",
    "if result == 0:\n",
    "    print('원숭이띠입니다.')\n",
    "elif result == 1:\n",
    "    print('닭띠입니다.')\n",
    "elif result == 2:\n",
    "    print('개띠입니다.')\n",
    "elif result == 3:\n",
    "    print('돼지띠입니다.')\n",
    "elif result == 4:\n",
    "    print('쥐띠입니다.')\n",
    "elif result == 5:\n",
    "    print('소띠입니다.')\n",
    "elif result == 6:\n",
    "    print('호랑띠입니다.')\n",
    "elif result == 7:\n",
    "    print('토끼띠입니다.')\n",
    "elif result == 8:\n",
    "    print('용띠입니다.')\n",
    "elif result == 9:\n",
    "    print('뱀띠입니다.')\n",
    "elif result == 10:\n",
    "    print('말띠입니다.')\n",
    "else:\n",
    "    print('양띠입니다.')"
   ]
  },
  {
   "cell_type": "markdown",
   "metadata": {
    "id": "6PaiB-QrtVa0"
   },
   "source": [
    "> 윤년은 2월달이 29일까지 있는 연도이다. 연도가 4로 나누어지지만 100으로 나누어지지 않거나 또는 연도가 400으로 나누어 떨어지면 윤년이다. 사용자가 연도를 입력하면 윤년을 판별할 수 있는 프로그램을 작성하라"
   ]
  },
  {
   "cell_type": "code",
   "execution_count": null,
   "metadata": {
    "colab": {
     "base_uri": "https://localhost:8080/"
    },
    "id": "T5YuXjahtV2o",
    "outputId": "7b9eb4f8-7468-4085-a5f0-0b69c8b2e75f"
   },
   "outputs": [
    {
     "name": "stdout",
     "output_type": "stream",
     "text": [
      "연도를 입력하시오:2020\n",
      "윤년입니다.\n"
     ]
    }
   ],
   "source": [
    "year = int(input('연도를 입력하시오:'))\n",
    "if year % 400 == 0 or (year % 4 == 0 and year % 100 != 0):\n",
    "    print('윤년입니다.')"
   ]
  },
  {
   "cell_type": "markdown",
   "metadata": {
    "id": "Yna7VCrztqF8"
   },
   "source": [
    "> 사용자가 2차 방정식의 각 개수를 입력하면 2차 방정식의 근을 계산하여서 출력하는 프로그램을 작성한다. 2차 방정식의 판별식을 먼저 계산하여서 하나의 실근을 가지는지, 2개의 실근을 갖는지, 실근이 존재하지 않는지를 먼저 출력하라  \n",
    "Hint: 판별식 r = b ** 2 - 4 * a * c을 계산하여서 실근이 개수를 먼저 파악한다."
   ]
  },
  {
   "cell_type": "code",
   "execution_count": null,
   "metadata": {
    "colab": {
     "base_uri": "https://localhost:8080/"
    },
    "id": "6zaXIuivtp70",
    "outputId": "9a3bf660-6fba-4124-ddaa-7c756b1b3675"
   },
   "outputs": [
    {
     "name": "stdout",
     "output_type": "stream",
     "text": [
      "a를 입력하시오.2\n",
      "b를 입력하시오.-7\n",
      "c를 입력하시오.5\n",
      "두 실근은 1.000000과 2.500000입니다.\n"
     ]
    }
   ],
   "source": [
    "a=float(input(\"a를 입력하시오.\"))\n",
    "b=float(input(\"b를 입력하시오.\"))\n",
    "c=float(input(\"c를 입력하시오.\"))\n",
    "\n",
    "def calculate(a,b,c):\n",
    "    r1= (-b - (b**2-4*a*c)**0.5)/(2*a)\n",
    "    r2 = (-b + (b**2-4*a*c)**0.5)/(2*a)\n",
    "    print(f\"두 실근은 {r1:.6f}과 {r2:.6f}입니다.\")\n",
    "\n",
    "calculate(a,b,c)"
   ]
  },
  {
   "cell_type": "markdown",
   "metadata": {
    "id": "H4ljSC6ZuDZY"
   },
   "source": [
    "> 사용자로부터 정수를 받아서 3의 배수이면 'Python'를 출력한다. 만약 5의 배수이면 'Express'을 출력한다. 만약 3의 배수이면서 5의 배수이면 'Python Express'를 출력한다."
   ]
  },
  {
   "cell_type": "code",
   "execution_count": null,
   "metadata": {
    "colab": {
     "base_uri": "https://localhost:8080/"
    },
    "id": "s7sEiyAiuDPV",
    "outputId": "18fb3182-b77f-4b41-b4a7-56c32981f95b"
   },
   "outputs": [
    {
     "name": "stdout",
     "output_type": "stream",
     "text": [
      "정수를 입력하시오:3\n",
      "Python\n"
     ]
    }
   ],
   "source": [
    "num = int(input('정수를 입력하시오:'))\n",
    "\n",
    "if (num % 3 == 0) and (num % 5 == 0):\n",
    "    print('Python Express')\n",
    "elif (num % 3 == 0):\n",
    "    print('Python')\n",
    "elif (num % 5 == 0):\n",
    "    print('Express')\n",
    "else:\n",
    "    pass"
   ]
  },
  {
   "cell_type": "markdown",
   "metadata": {
    "id": "8et6NToxuYcs"
   },
   "source": [
    "> 사용자로부터 pH농도를 받아서 '알칼리','산','중성'으로 나누어서 출력하는 프로그램을 작성하라"
   ]
  },
  {
   "cell_type": "code",
   "execution_count": null,
   "metadata": {
    "colab": {
     "base_uri": "https://localhost:8080/"
    },
    "id": "Q8ffVfVpuYSg",
    "outputId": "5c6838e3-7aee-4315-8140-619be5a9c854"
   },
   "outputs": [
    {
     "name": "stdout",
     "output_type": "stream",
     "text": [
      "pH를 입력하시오:9.0\n",
      "알칼리 입니다.\n"
     ]
    }
   ],
   "source": [
    "pH = float(input('pH를 입력하시오:'))\n",
    "if pH < 7:\n",
    "    print('산 입니다.')\n",
    "elif pH > 7:\n",
    "    print('알칼리 입니다.')\n",
    "else:\n",
    "    print('중성 입니다.')"
   ]
  },
  {
   "cell_type": "markdown",
   "metadata": {
    "id": "x-qi_0DOuzoZ"
   },
   "source": [
    "# Chapter 4 반복문"
   ]
  },
  {
   "cell_type": "code",
   "execution_count": null,
   "metadata": {
    "colab": {
     "base_uri": "https://localhost:8080/"
    },
    "id": "Ncth78T4uFr8",
    "outputId": "be8de3cb-7f11-4fed-b1a3-1891d2694d86"
   },
   "outputs": [
    {
     "name": "stdout",
     "output_type": "stream",
     "text": [
      "(10,)\n",
      "(10, 20, 30)\n"
     ]
    }
   ],
   "source": [
    "def varfunc(*args):\n",
    "    print(args)\n",
    "    \n",
    "varfunc(10)\n",
    "varfunc(10, 20, 30)"
   ]
  },
  {
   "cell_type": "markdown",
   "metadata": {
    "id": "do9zuxPmu4PY"
   },
   "source": [
    "> 2부터 50 사이의 모든 짝수를 출력하는 반복 루프를 작성한다  \n",
    "Hint: x % 2한 결과가 0이면 x는 짝수이다."
   ]
  },
  {
   "cell_type": "code",
   "execution_count": 4,
   "metadata": {
    "colab": {
     "base_uri": "https://localhost:8080/"
    },
    "id": "nRe195vPu4bY",
    "outputId": "a8f0458c-9971-4579-c56c-e0ec2fc70dd2"
   },
   "outputs": [
    {
     "name": "stdout",
     "output_type": "stream",
     "text": [
      "2 4 6 8 10 12 14 16 18 20 22 24 26 28 30 32 34 36 38 40 42 44 46 48 50 "
     ]
    }
   ],
   "source": [
    "for i in range(1,51):\n",
    "    if i % 2 == 0:\n",
    "        print(i,end = ' ')"
   ]
  },
  {
   "cell_type": "markdown",
   "metadata": {
    "id": "0Mvs4QYrvKWQ"
   },
   "source": [
    "> 다음 리스트에 저장된 정수들의 합을 계산하는 프로그램을 작성해보자. 내장 함수 sum()은 이용하지 않는다\n"
   ]
  },
  {
   "cell_type": "code",
   "execution_count": 6,
   "metadata": {
    "colab": {
     "base_uri": "https://localhost:8080/"
    },
    "id": "YAHhzZiaDHh1",
    "outputId": "b7e16903-f8eb-4609-ed31-b43416b0d7e4"
   },
   "outputs": [
    {
     "name": "stdout",
     "output_type": "stream",
     "text": [
      "정수들의 합은 364\n"
     ]
    }
   ],
   "source": [
    "myList = [11,22,23,99,81,93,35]\n",
    "sum = 0\n",
    "for i in myList:\n",
    "    sum = sum + i\n",
    "\n",
    "print('정수들의 합은',sum)"
   ]
  },
  {
   "cell_type": "markdown",
   "metadata": {
    "id": "AKOjhBGovmKl"
   },
   "source": [
    "> 1부터 100사이의 모든 3의 배수의 합을 계산하여 출력하는 프로그램을 반복 구조를 사용하여 작성하라  \n",
    "Hint: 3의 배수는 i % 3 = 0의 조건으로 검사할 수 있다."
   ]
  },
  {
   "cell_type": "code",
   "execution_count": 5,
   "metadata": {
    "colab": {
     "base_uri": "https://localhost:8080/"
    },
    "id": "iYkUz5QSvy15",
    "outputId": "c86a0260-4fba-432a-c1db-745b26aa38b4"
   },
   "outputs": [
    {
     "name": "stdout",
     "output_type": "stream",
     "text": [
      "1~100인 모든 3의 배수합: 1683\n"
     ]
    }
   ],
   "source": [
    "sum = 0\n",
    "for i in range(1,101):\n",
    "    if i % 3 == 0:\n",
    "        sum += i\n",
    "\n",
    "print('1~100인 모든 3의 배수합:',sum)"
   ]
  },
  {
   "cell_type": "markdown",
   "metadata": {
    "id": "6mSFQ475vzD4"
   },
   "source": [
    "> 사용자가 입력한 정수의 모든 약수를 화면에 출력하는 프로그램을 작성하라  \n",
    "Hint: 약수는 % 연산자로 알 수 있다.\n"
   ]
  },
  {
   "cell_type": "code",
   "execution_count": 13,
   "metadata": {
    "colab": {
     "base_uri": "https://localhost:8080/"
    },
    "id": "aETQhrYyCpJF",
    "outputId": "9c409959-e858-4e95-a0a6-72ea7c8c9f80"
   },
   "outputs": [
    {
     "name": "stdout",
     "output_type": "stream",
     "text": [
      "정수를 입력하시오: 60\n",
      "약수: 1 2 3 4 5 6 10 12 15 20 30 60 "
     ]
    }
   ],
   "source": [
    "num = int(input(\"정수를 입력하시오: \"))\n",
    "print('약수: ',end = '')\n",
    "for i in range(1, num+1):\n",
    "    if num % i == 0:\n",
    "        print(i,end = ' ')"
   ]
  },
  {
   "cell_type": "markdown",
   "metadata": {
    "id": "QTfCyrSUxRjS"
   },
   "source": [
    "> 중첩 반복문을 사용하여서 다음과 같이 출력하는 프로그램을 작성하여 보자.  "
   ]
  },
  {
   "cell_type": "code",
   "execution_count": null,
   "metadata": {
    "colab": {
     "base_uri": "https://localhost:8080/"
    },
    "id": "BKRvzib2xRx5",
    "outputId": "346b5694-fefd-42e8-e9b6-23194839d284"
   },
   "outputs": [
    {
     "name": "stdout",
     "output_type": "stream",
     "text": [
      "정수를 입력하시오:5\n",
      "1\n",
      "12\n",
      "123\n",
      "1234\n",
      "12345\n"
     ]
    }
   ],
   "source": [
    "count = int(input('정수를 입력하시오:'))\n",
    "for i in range(1,count+1):\n",
    "    for j in range(1,i+1):\n",
    "        print(j,end=\"\")\n",
    "    print()"
   ]
  },
  {
   "cell_type": "markdown",
   "metadata": {
    "id": "g_fP0SgAyDLB"
   },
   "source": [
    "> 다음과 같이, 0도부터 90도까지 10도 간격으로 sin값과 cos값을 출력하는 프로그램을 작성하시오  \n",
    "Hint: 싸인값은 sin()함수로 계산이 가능하다. 프로그램의 첫 부분에 import math를 추가한다. 각도를 라디안으로 변환하여야 한다. radian = 3.14 * degree/180.0 수식을 이용한다\n",
    "\n",
    "\n",
    "```\n",
    "import math\n",
    "\n",
    "print(math.sin(math.pi/2))\n",
    "```\n",
    "\n",
    "\n",
    "```\n",
    "각도    sin값    cos값\n",
    "0       0.000    1.000\n",
    "10      0.174    0.985\n",
    "...\n",
    "90      1.000    0.000\n",
    "```\n",
    "\n"
   ]
  },
  {
   "cell_type": "code",
   "execution_count": 16,
   "metadata": {
    "colab": {
     "base_uri": "https://localhost:8080/"
    },
    "id": "lKNZD2AByE7I",
    "outputId": "44efbe15-cb80-4191-aa1b-7fe4b124ea62"
   },
   "outputs": [
    {
     "name": "stdout",
     "output_type": "stream",
     "text": [
      "각도\tsin값\tcos값\n",
      " 0\t0.000\t1.000\n",
      "10\t0.174\t0.985\n",
      "20\t0.342\t0.940\n",
      "30\t0.500\t0.866\n",
      "40\t0.643\t0.766\n",
      "50\t0.766\t0.643\n",
      "60\t0.866\t0.500\n",
      "70\t0.939\t0.343\n",
      "80\t0.985\t0.174\n",
      "90\t1.000\t0.001\n"
     ]
    }
   ],
   "source": [
    "import math \n",
    "\n",
    "print(\"각도\\tsin값\\tcos값\") \n",
    "\n",
    "for val in range(0,91,10): \n",
    "    a = math.sin(3.14 * (val / 180)) \n",
    "    b = math.cos(3.14 * (val / 180)) \n",
    "    c = math.tan(3.14 * (val / 180)) # 3.14대신 math.pi사용 가능\n",
    "    print(f\"{val:2d}\\t{a:.3f}\\t{b:.3f}\") # 이쁘게 출력\n"
   ]
  },
  {
   "cell_type": "markdown",
   "metadata": {
    "id": "k1QYQaPxy1aO"
   },
   "source": [
    "> while 루프를 이용하여서 ($n^2 > 500$)인 n 중에서 가장 작은 n을 찾는 프로그램을 작성하시오"
   ]
  },
  {
   "cell_type": "code",
   "execution_count": 21,
   "metadata": {
    "colab": {
     "base_uri": "https://localhost:8080/"
    },
    "id": "nXXQmT1xy1Q6",
    "outputId": "10ff73ba-bda9-4927-b58d-76a3b5735112"
   },
   "outputs": [
    {
     "name": "stdout",
     "output_type": "stream",
     "text": [
      "23\n"
     ]
    }
   ],
   "source": [
    "i = 0\n",
    "while True:\n",
    "    i += 1\n",
    "    if i*i > 500:\n",
    "        break\n",
    "\n",
    "print(i)"
   ]
  },
  {
   "cell_type": "markdown",
   "metadata": {
    "id": "QGv1Xm1Wzh7R"
   },
   "source": [
    "> 구구단표를 출력하는 프로그램을 작성하여라. 형식은 정확히 일치하지 않아도 된다.\n",
    "\n",
    "\n"
   ]
  },
  {
   "cell_type": "code",
   "execution_count": null,
   "metadata": {
    "colab": {
     "base_uri": "https://localhost:8080/"
    },
    "id": "LZIVs4aizhyx",
    "outputId": "2eda23c3-d0da-4beb-8448-0acc3e7df258"
   },
   "outputs": [
    {
     "name": "stdout",
     "output_type": "stream",
     "text": [
      "1 2 3 4 5 6 7 8 9 \n",
      "2 4 6 8 10 12 14 16 18 \n",
      "3 6 9 12 15 18 21 24 27 \n",
      "4 8 12 16 20 24 28 32 36 \n",
      "5 10 15 20 25 30 35 40 45 \n",
      "6 12 18 24 30 36 42 48 54 \n",
      "7 14 21 28 35 42 49 56 63 \n",
      "8 16 24 32 40 48 56 64 72 \n",
      "9 18 27 36 45 54 63 72 81 \n"
     ]
    }
   ],
   "source": [
    "for i in range(1, 10):\n",
    "    for j in range(1, 10):\n",
    "        print(f\"{i*j}\", end =\" \")\n",
    "    print()"
   ]
  },
  {
   "cell_type": "markdown",
   "metadata": {
    "id": "VdWZ_xhgz5Ox"
   },
   "source": [
    "> $1^2 + 2^2 + 3^2 + ... + n^2$의 값을 계산하여 출력하여 보자.  \n",
    "Hint: i를 1부터 n까지 증가시키면서 result i * i를 더한다. result의 초기값은 0이어야 한다."
   ]
  },
  {
   "cell_type": "code",
   "execution_count": null,
   "metadata": {
    "colab": {
     "base_uri": "https://localhost:8080/"
    },
    "id": "Jjoh-BMJz5Go",
    "outputId": "88144302-9d86-4c94-ffef-a8d50bde4bd6"
   },
   "outputs": [
    {
     "name": "stdout",
     "output_type": "stream",
     "text": [
      "n의 값을 입력하시오: 10\n",
      "계산값은 385입니다.\n"
     ]
    }
   ],
   "source": [
    "n = int(input(\"n의 값을 입력하시오: \"))\n",
    "\n",
    "sum = 0\n",
    "for i in range(1, n+1):\n",
    "    sum += i**2\n",
    "    \n",
    "print(f\"계산값은 {sum}입니다.\")"
   ]
  },
  {
   "cell_type": "markdown",
   "metadata": {
    "id": "6b-G6B6N0wVJ"
   },
   "source": [
    "> 사용자가 2개의 정수(a와 b)를 입력하면 이들 정수의 최대 공약수를 찾아보자. 예를 들어서 3와 6의 최대 공약수는 3이다. 최대 공약수를 계산하는 유클리드의 알고리즘이 있지만 우리는 아주 직관적인 방법을 사용해보자. 정수 K를 1부터 하나씩 증가시키면서 a % k == 0이고 b % k == 0인 정수를 찾는다. 이들 정수는 모두 약수이고 이 중에서 최대정수가 최대 공약수가 된다."
   ]
  },
  {
   "cell_type": "code",
   "execution_count": null,
   "metadata": {
    "colab": {
     "base_uri": "https://localhost:8080/"
    },
    "id": "eotKSoGw0wNj",
    "outputId": "c9345e72-e257-4a69-e958-43c6152cd5e6"
   },
   "outputs": [
    {
     "name": "stdout",
     "output_type": "stream",
     "text": [
      "첫 번째 정수를 입력하시오: 3\n",
      "두 번째 정수를 입력하시오: 6\n",
      "3과 6의 최대 공약수는 3입니다.\n"
     ]
    }
   ],
   "source": [
    "x = int(input(\"첫 번째 정수를 입력하시오: \"))\n",
    "y = int(input(\"두 번째 정수를 입력하시오: \"))\n",
    "\n",
    "xy_min = min(x, y)\n",
    "result = 0\n",
    "\n",
    "for i in range(1,xy_min+1):\n",
    "    if x % i == 0 and y % i == 0:\n",
    "        result = i\n",
    "print(f'{x}과 {y}의 최대 공약수는 {result}입니다.')"
   ]
  },
  {
   "cell_type": "markdown",
   "metadata": {
    "id": "9O0a7LIt2rDJ"
   },
   "source": [
    "> 피보나치 수열은 다음과 같이 정의되는 수열이다.  \n",
    "$f_0 = 0$  \n",
    "$f_1=1$  \n",
    "$f_{i+1}=f_i+f_{i-1}$ for i=1,2,..  \n",
    "피보나치 수열에서는 앞의 2개의 원소를 합하여 뒤의 원소를 만든다. 피보나치 수열은 컴퓨터에서도 탐색 문제 등에 사용되기도 한다. 피보나치 수열을 생성하여 출력하는 프로그램을 작성하여 보자."
   ]
  },
  {
   "cell_type": "code",
   "execution_count": null,
   "metadata": {
    "colab": {
     "base_uri": "https://localhost:8080/"
    },
    "id": "bqE_kB6i3UMK",
    "outputId": "12309d24-15c9-4812-c52c-f526fbabd0e1"
   },
   "outputs": [
    {
     "name": "stdout",
     "output_type": "stream",
     "text": [
      "몇 번째 항까지 구할까요? 10\n",
      "0,  1,  1,  2,  3,  5,  8,  13,  21,  34,  55  "
     ]
    }
   ],
   "source": [
    "def fib(n):\n",
    "    if n == 0:\n",
    "        return 0\n",
    "    elif n == 1 or n == 2:\n",
    "        return 1\n",
    "    else:\n",
    "        return fib(n - 1) + fib(n - 2)\n",
    "    \n",
    "    \n",
    "n = int(input(\"몇 번째 항까지 구할까요? \"))\n",
    "for i in range(0, n+1):\n",
    "    if i == n:\n",
    "        print(f\"{fib(i)} \", end = \" \")\n",
    "        break\n",
    "    print(f\"{fib(i)}, \", end = \" \")"
   ]
  },
  {
   "cell_type": "markdown",
   "metadata": {
    "id": "2edVxFGw3Uce"
   },
   "source": [
    "> 2와 20 사이에 있는 모든 소수를 찾는 프로그램을 작성하여라. 정수가 소수가 되려면 1과 자기 자신만을 약수로 가져야 한다.  \n",
    "Hint: 소수의 약수는 1과 자기자신뿐이다. 따라서 1부터 자기 자신 사이에 약수가 하나라도 있다면 소수가 아니다."
   ]
  },
  {
   "cell_type": "code",
   "execution_count": null,
   "metadata": {
    "colab": {
     "base_uri": "https://localhost:8080/"
    },
    "id": "K0sHkiGk3hjU",
    "outputId": "47477cf5-331b-4439-a9b6-48a1cb970c31"
   },
   "outputs": [
    {
     "name": "stdout",
     "output_type": "stream",
     "text": [
      "2 3 5 7 11 13 17 19 "
     ]
    }
   ],
   "source": [
    "for i in range(2,20 + 1):\n",
    "    for j in range(2, i+1):\n",
    "        if (j == i):\n",
    "            print(f\"{i}\", end = \" \")\n",
    "        elif (i % j == 0):\n",
    "            break"
   ]
  },
  {
   "cell_type": "markdown",
   "metadata": {
    "id": "6UtD52At3sUh"
   },
   "source": [
    "> 다음 수열의 합을 계산하는 프로그램을 작성하시오  \n",
    "1/3 + 3/5 + 5/7 + .. 99/101"
   ]
  },
  {
   "cell_type": "code",
   "execution_count": null,
   "metadata": {
    "colab": {
     "base_uri": "https://localhost:8080/"
    },
    "id": "pgHgqFib3slK",
    "outputId": "15453a40-d0d0-4a17-b442-996da23b222d"
   },
   "outputs": [
    {
     "data": {
      "text/plain": [
       "46.10464832285218"
      ]
     },
     "execution_count": 7,
     "metadata": {},
     "output_type": "execute_result"
    }
   ],
   "source": [
    "result = 0\n",
    "for i in range(1, 99 + 1, 2):\n",
    "    result += i/(i+2)\n",
    "result"
   ]
  },
  {
   "cell_type": "markdown",
   "metadata": {
    "id": "tiZDE1y64BNK"
   },
   "source": [
    "> 사용자가 게임판의 크기를 입력하면 다음과 같이 \"---\"와 \"|\" 문자를 이용하여 게임판을 그려주는 프로그램을 작성해보자  \n",
    "Hint: 문자열 반복 기능도 사용해보자"
   ]
  },
  {
   "cell_type": "code",
   "execution_count": null,
   "metadata": {
    "colab": {
     "base_uri": "https://localhost:8080/"
    },
    "id": "XhSSgZ1T4Byy",
    "outputId": "31f9b57e-dc7f-4be6-dcb4-e41c4f4529e8"
   },
   "outputs": [
    {
     "name": "stdout",
     "output_type": "stream",
     "text": [
      "게임판의 크기 : 3\n",
      " ---   ---   ---  \n",
      "|    |    |    |    \n",
      " ---   ---   ---  \n",
      " ---   ---   ---  \n",
      "|    |    |    |    \n",
      " ---   ---   ---  \n",
      " ---   ---   ---  \n",
      "|    |    |    |    \n",
      " ---   ---   ---  \n"
     ]
    }
   ],
   "source": [
    "x = int(input(\"게임판의 크기 : \"))\n",
    "\n",
    "width = \" --- \"\n",
    "height = \"|   \"\n",
    "\n",
    "cnt = 1\n",
    "while cnt <= x:\n",
    "    \n",
    "    for i in range(0, x):\n",
    "        print(width, end = \" \")\n",
    "    print()\n",
    "    for j in range(0, x+1):\n",
    "        print(height, end = \" \")\n",
    "    print()\n",
    "    for i in range(0, x):\n",
    "        print(width, end = \" \")\n",
    "    print()\n",
    "    \n",
    "    cnt += 1"
   ]
  },
  {
   "cell_type": "markdown",
   "metadata": {
    "id": "uNoeKxoi4wTi"
   },
   "source": [
    "> 0부터 9까지의 정수에 대하여 반복한다. 특정 숫자가 3으로 나누어 떨어지면 'fizz'를 출력하고, 5로 나누어 떨어지면 'buzz'를 출력한다. 3과 5로 나누어 떨어지면 'fizzbuzz'를 출력한다. 숫자가 3 또는 5로 나누어 떨어지지 않으면 '*'을 출력하라\n"
   ]
  },
  {
   "cell_type": "code",
   "execution_count": null,
   "metadata": {
    "colab": {
     "base_uri": "https://localhost:8080/"
    },
    "id": "3uTYwnEG5h6C",
    "outputId": "75531d86-c880-414b-efa7-0dcd43b38a1c"
   },
   "outputs": [
    {
     "name": "stdout",
     "output_type": "stream",
     "text": [
      "fizzbuzz\n",
      "*\n",
      "*\n",
      "fizz\n",
      "*\n",
      "buzz\n",
      "fizz\n",
      "*\n",
      "*\n",
      "fizz\n"
     ]
    }
   ],
   "source": [
    "for i in range(0, 10):\n",
    "    \n",
    "    if (i % 3 == 0) and (i % 5 == 0) :\n",
    "        print(\"fizzbuzz\")\n",
    "        continue\n",
    "        \n",
    "    elif i % 3 == 0:\n",
    "        print(\"fizz\")\n",
    "        continue\n",
    "        \n",
    "    elif i % 5 == 0:\n",
    "        print(\"buzz\")\n",
    "        continue\n",
    "        \n",
    "    elif (i % 3) or (i % 5) != 0:\n",
    "        print(\"*\")\n",
    "        continue"
   ]
  },
  {
   "cell_type": "code",
   "execution_count": null,
   "metadata": {
    "colab": {
     "base_uri": "https://localhost:8080/"
    },
    "id": "gR02rIAJuWxn",
    "outputId": "fd185532-cc5d-48bf-b95f-896447b37fc0"
   },
   "outputs": [
    {
     "name": "stdout",
     "output_type": "stream",
     "text": [
      "name: 홍길동\n",
      "name: 홍길동\n",
      "age: 30\n",
      "address: 서울시 종로구 인사동\n"
     ]
    }
   ],
   "source": [
    "def personal_info(**kwargs):\n",
    "    for kw, arg in kwargs.items():\n",
    "        print(kw, \": \", arg, sep=\"\")\n",
    "\n",
    "personal_info(name=\"홍길동\")\n",
    "personal_info(name=\"홍길동\", age=30, address = \"서울시 종로구 인사동\")"
   ]
  },
  {
   "cell_type": "code",
   "execution_count": null,
   "metadata": {
    "colab": {
     "base_uri": "https://localhost:8080/"
    },
    "id": "sSwKy_v5uYm1",
    "outputId": "54ea0bec-0bd6-426f-81e6-badd7d5244ef"
   },
   "outputs": [
    {
     "name": "stdout",
     "output_type": "stream",
     "text": [
      "6\n",
      "21\n"
     ]
    }
   ],
   "source": [
    "def sum_all(*numbers):\n",
    "    result = 0\n",
    "    \n",
    "    for number in numbers:\n",
    "        result += number\n",
    "        \n",
    "    return result\n",
    "\n",
    "print(sum_all(1,2,3))\n",
    "print(sum_all(1,2,3,4,5,6))"
   ]
  },
  {
   "cell_type": "code",
   "execution_count": null,
   "metadata": {
    "colab": {
     "base_uri": "https://localhost:8080/"
    },
    "id": "eSdxeJxoueq1",
    "outputId": "07dfdcfe-64ea-4cda-ef2e-e867f19ae5e4"
   },
   "outputs": [
    {
     "name": "stdout",
     "output_type": "stream",
     "text": [
      "6\n"
     ]
    }
   ],
   "source": [
    "def sum(a,b,c):\n",
    "    return a+b+c\n",
    "\n",
    "numbers = [1,2,3] # sum(numbers) --> error\n",
    "print(sum(*numbers))"
   ]
  },
  {
   "cell_type": "markdown",
   "metadata": {
    "id": "3FKBLZDF7OCi"
   },
   "source": [
    "# Chapter 5 함수"
   ]
  },
  {
   "cell_type": "markdown",
   "metadata": {
    "id": "dlYVb_SZDMLu"
   },
   "source": [
    "> 원의 둘레를 계산하는 함수 get_peri(radius)을 정의하고 테스트한다. 만약 원의 반지름이 주어지지 않았으면 5.0으로 간주한다. 함수의 '기본 인수'를 사용하라\n"
   ]
  },
  {
   "cell_type": "code",
   "execution_count": 22,
   "metadata": {
    "colab": {
     "base_uri": "https://localhost:8080/"
    },
    "id": "zUZaki__7Poc",
    "outputId": "6c787cc3-7842-4255-e3df-f636ae7780b2"
   },
   "outputs": [
    {
     "name": "stdout",
     "output_type": "stream",
     "text": [
      "get_peri() = 78.5423\n",
      "get_peri(4.0) = 50.267072\n"
     ]
    }
   ],
   "source": [
    "def get_peri(r = 5.0):\n",
    "    if r == 5.0:\n",
    "        print(f\"get_peri() = {3.141692*r**2}\")\n",
    "    else:\n",
    "        print(f\"get_peri({r}) = {3.141692*r**2}\")\n",
    "\n",
    "get_peri()\n",
    "get_peri(4.0)"
   ]
  },
  {
   "cell_type": "markdown",
   "metadata": {
    "id": "4mIy9BtrD3PT"
   },
   "source": [
    "> 덧셈, 뺄셈, 곱셈, 나눗셈을 수행하는 함수를 각각 작성하고 테스트하라."
   ]
  },
  {
   "cell_type": "code",
   "execution_count": 33,
   "metadata": {
    "colab": {
     "base_uri": "https://localhost:8080/"
    },
    "id": "mH1sl38EEojz",
    "outputId": "c346b178-07af-404a-b4d5-0476ee7ecd07"
   },
   "outputs": [
    {
     "name": "stdout",
     "output_type": "stream",
     "text": [
      "첫 번째 정수를 입력하시오: 10\n",
      "두 번째 정수를 입력하시오: 20\n",
      "(10 + 20) = 30\n",
      "(10 - 20) = -10\n",
      "(10 * 20) = 200\n",
      "(10 / 20) = 0.5\n"
     ]
    }
   ],
   "source": [
    "def calc(x,y):\n",
    "    print(f'({x} + {y}) = {x+y}')\n",
    "    print(f'({x} - {y}) = {x-y}')\n",
    "    print(f'({x} * {y}) = {x*y}')\n",
    "    print(f'({x} / {y}) = {x/y}')\n",
    "\n",
    "x = int(input('첫 번째 정수를 입력하시오: '))\n",
    "y = int(input('두 번째 정수를 입력하시오: '))\n",
    "calc(x,y)"
   ]
  },
  {
   "cell_type": "markdown",
   "metadata": {
    "id": "_kCtjn4LEozL"
   },
   "source": [
    "> 2번에서는 4개의 함수를 작성하였다. 하나의 함수 calc() 안에서 덧셈, 뺄셈, 곱셈, 나눗셈을 모두 수행하고 4개의 계산값을 동시에 반환하도록 수정해보자"
   ]
  },
  {
   "cell_type": "code",
   "execution_count": 23,
   "metadata": {
    "colab": {
     "base_uri": "https://localhost:8080/"
    },
    "id": "d88qdDyFE8B9",
    "outputId": "6c7157a0-6d29-494d-da3c-6cc8dce367c1"
   },
   "outputs": [
    {
     "name": "stdout",
     "output_type": "stream",
     "text": [
      "첫 번째 정수를 입력하시오: 10\n",
      "두 번째 정수를 입력하시오: 20\n",
      "30, -10, 200. 0.5이 반환되었습니다\n"
     ]
    }
   ],
   "source": [
    "def calc(x,y):\n",
    "    print(f'{x+y}, {x-y}, {x*y}. {x/y}이 반환되었습니다')\n",
    "\n",
    "x = int(input('첫 번째 정수를 입력하시오: '))\n",
    "y = int(input('두 번째 정수를 입력하시오: '))\n",
    "calc(x,y)"
   ]
  },
  {
   "cell_type": "markdown",
   "metadata": {
    "id": "PA44B1nDE8VG"
   },
   "source": [
    "> 성적이 90점 이상이면 A, 80점 이상이면 B, 70점 이상이면 C, 60점 이상이면 D, 그외에는 F를 반환하는 함수 getGrade(score)을 작성하고 테스트하라"
   ]
  },
  {
   "cell_type": "code",
   "execution_count": 34,
   "metadata": {
    "colab": {
     "base_uri": "https://localhost:8080/"
    },
    "id": "BjaZyx62Lx8X",
    "outputId": "96d747b5-eb37-47e6-83e3-d770feae70bd"
   },
   "outputs": [
    {
     "name": "stdout",
     "output_type": "stream",
     "text": [
      "점수를 입력하세요: 83\n",
      "성적은 B 입니다.\n"
     ]
    }
   ],
   "source": [
    "def getGrade(score):\n",
    "    if score >= 90:\n",
    "        print('성적은 A 입니다.')\n",
    "    elif score >= 80:\n",
    "        print('성적은 B 입니다.')\n",
    "    elif score >= 70:\n",
    "        print('성적은 C 입니다.')\n",
    "    elif score >= 60:\n",
    "        print('성적은 D 입니다.')\n",
    "    else:\n",
    "        print('성적은 F 입니다.')\n",
    "\n",
    "score = int(input('점수를 입력하세요: '))\n",
    "getGrade(score)"
   ]
  },
  {
   "cell_type": "markdown",
   "metadata": {
    "id": "_qEL713hFSdz"
   },
   "source": [
    "> 패스워드를 검증하는 함수 checkPass(p)를 작성하고 테스트하라. 패스워드에는 적어도 8글자 이상이어야 한다. 또 적어도 1글자의 대문자와 소문자가 들어가야 한다. 또 적어도 1개의 숫자가 들어가야 한다."
   ]
  },
  {
   "cell_type": "code",
   "execution_count": 29,
   "metadata": {
    "colab": {
     "base_uri": "https://localhost:8080/"
    },
    "id": "q-aPRqeJFTKC",
    "outputId": "d32d66ce-c8df-492b-ea21-6f9513488a33"
   },
   "outputs": [
    {
     "name": "stdout",
     "output_type": "stream",
     "text": [
      "사용할 수 있습니다.\n"
     ]
    }
   ],
   "source": [
    "def checkpassword(s):\n",
    "    digit, lower, upper = 0, 0, 0\n",
    "    for i in s:\n",
    "        if i.isupper():\n",
    "            upper = 1\n",
    "        elif i.islower():\n",
    "            lower = 1\n",
    "        elif i.isdigit():\n",
    "            digit = 1\n",
    "    if upper and lower and digit: print(\"사용할 수 있습니다.\")\n",
    "    else: print(\"사용할 수 없습니다.\")\n",
    "\n",
    "checkpassword(\"abcdefG1\")"
   ]
  },
  {
   "cell_type": "markdown",
   "metadata": {
    "id": "TSn_kiQhFwqs"
   },
   "source": [
    "> 사용자로부터 2개의 정수를 받아서 수학 문제를 만들어서 화면에 출력하는 함수를 작성하고 테스트하시오.\n"
   ]
  },
  {
   "cell_type": "code",
   "execution_count": 37,
   "metadata": {
    "colab": {
     "base_uri": "https://localhost:8080/"
    },
    "id": "yJcW2To9Fwig",
    "outputId": "58ce8b9b-124a-4a54-9477-b94cdd017c7c"
   },
   "outputs": [
    {
     "name": "stdout",
     "output_type": "stream",
     "text": [
      "첫 번째 정수를 입력하시오: 10\n",
      "두 번째 정수를 입력하시오: 20\n",
      "정수 10 * 20의 곱은?\n"
     ]
    }
   ],
   "source": [
    "import random \n",
    "op = random.randint(1,4)\n",
    "\n",
    "def makeQ(op,x,y):\n",
    "    if op == 1:\n",
    "        op = '+'\n",
    "        print(f'정수 {x} {op} {y}의 합은?')\n",
    "    elif op == 2:\n",
    "        op = '-'\n",
    "        print(f'정수 {x} {op} {y}의 차는?')\n",
    "    elif op == 3:\n",
    "        op = '*'\n",
    "        print(f'정수 {x} {op} {y}의 곱은?')\n",
    "    else:\n",
    "        op = '/'\n",
    "        print(f'정수 {x} {op} {y}의 값은?')\n",
    "\n",
    "x = int(input('첫 번째 정수를 입력하시오: '))\n",
    "y = int(input('두 번째 정수를 입력하시오: '))\n",
    "makeQ(op,x,y)"
   ]
  },
  {
   "cell_type": "markdown",
   "metadata": {
    "id": "PhgSGqUmGFGk"
   },
   "source": [
    "> 사용자가 일정 구간의 값을 입력할 때까지 사용자에게 입력을 요청하는 함수 getlntRange(a,b)를 작성하고 테스트하라. 이 함수를 테스트하기 위하여 날짜(월, 일)을 입력받아서 출력하는 프로그램을 작성해보자"
   ]
  },
  {
   "cell_type": "code",
   "execution_count": 30,
   "metadata": {
    "colab": {
     "base_uri": "https://localhost:8080/"
    },
    "id": "hDSogLAaGtCs",
    "outputId": "6adc814a-d57e-41c3-97d4-c06dc0223b85"
   },
   "outputs": [
    {
     "name": "stdout",
     "output_type": "stream",
     "text": [
      "월을 입력하시오(1부터 12사이의 값): 13\n",
      "월을 입력하시오(1부터 12사이의 값): 1\n",
      "일을 입력하시오(1부터 31사이의 값): 43\n",
      "일을 입력하시오(1부터 31사이의 값): 3\n",
      "입력된 날짜는 1월 3일입니다.\n"
     ]
    }
   ],
   "source": [
    "def getIntRange(a, b, msg):\n",
    "    x =-100\n",
    "    while x < a or x > b:\n",
    "        x = int(input(msg))\n",
    "    return x\n",
    "\n",
    "m = getIntRange(1, 12, \"월을 입력하시오(1부터 12사이의 값): \")\n",
    "d = getIntRange(1, 31, \"일을 입력하시오(1부터 31사이의 값): \")\n",
    "print(f\"입력된 날짜는 {m}월 {d}일입니다.\")"
   ]
  },
  {
   "cell_type": "markdown",
   "metadata": {
    "id": "-nj2anhUGtkD"
   },
   "source": [
    "> 우리는 중요한 계약서에는 숫자로 된 금액(예를 들어서 1,000,000원)과 문자로 된 금액(백만원)을 동시에 기재한다. 숫자는 변조하기 쉽기 때문이다. 숫자를 입력받아서 문자로 바꾸어 출력하는 함수 getMoneyText(amount)를 작성하고 테스트하라. 단, 숫자를 1000이하라고 가정한다\n"
   ]
  },
  {
   "cell_type": "code",
   "execution_count": 27,
   "metadata": {
    "colab": {
     "base_uri": "https://localhost:8080/"
    },
    "id": "6aEhLQvgGtZ7",
    "outputId": "3e97b7c3-8a2b-4396-d46d-56ad935326f2"
   },
   "outputs": [
    {
     "name": "stdout",
     "output_type": "stream",
     "text": [
      "1000 이하의 금액을 입력하시오: 999\n",
      "구백 구십 구\n"
     ]
    }
   ],
   "source": [
    "num1 = ['','이','삼','사','오','육','칠','팔','구']\n",
    "num2 = ['일','이','삼','사','오','육','칠','팔','구']\n",
    "\n",
    "def change(num):\n",
    "    def hundred(num):\n",
    "        value = num // 100\n",
    "        return num1[value-1]+'백'\n",
    "\n",
    "    def ten(num):\n",
    "        value = (num//10)%10\n",
    "        if value == 0:\n",
    "            return ''\n",
    "        else:\n",
    "            return num1[value-1]+'십'\n",
    "    \n",
    "    def one(num):\n",
    "        value = num % 10\n",
    "        if value == 0:\n",
    "            return ''\n",
    "        else:\n",
    "            return num2[value-1]\n",
    "    \n",
    "    print(hundred(num),ten(num),one(num))\n",
    "\n",
    "num = int(input('1000 이하의 금액을 입력하시오: '))\n",
    "change(num)"
   ]
  },
  {
   "cell_type": "markdown",
   "metadata": {
    "id": "NLnAkfayH45s"
   },
   "source": [
    "> 사용자로부터 두 개의 정수를 입력받아서 최대 공약수를 찾는 함수를 작성해보자. 가장 간단한 알고리즘을 생각하자\n"
   ]
  },
  {
   "cell_type": "code",
   "execution_count": 31,
   "metadata": {
    "colab": {
     "base_uri": "https://localhost:8080/"
    },
    "id": "eF8dsKt0H5QE",
    "outputId": "bab0896a-c42f-4e24-e3c9-42ef332cbac1"
   },
   "outputs": [
    {
     "name": "stdout",
     "output_type": "stream",
     "text": [
      "첫 번째 정수: 36\n",
      "두 번째 정수: 12\n",
      "12\n"
     ]
    }
   ],
   "source": [
    "def getGCD(a, b):\n",
    "    gcd = 1 \n",
    "    i = 2   \n",
    "\n",
    "    while i <= a and i <= b:\n",
    "        if a % i == 0 and b % i == 0:\n",
    "            gcd = i \n",
    "        i = i + 1\n",
    "\n",
    "    return gcd \n",
    "\n",
    "x = int(input(\"첫 번째 정수: \"))\n",
    "y = int(input(\"두 번째 정수: \"))\n",
    "\n",
    "print(getGCD(x, y))"
   ]
  },
  {
   "cell_type": "markdown",
   "metadata": {
    "id": "ESZq5pPJIGLx"
   },
   "source": [
    "> 주어진 정수가 소수인지를 검사하는 함수 testPrime(n)를 작성하고 이 함수를 호출하여서 2부터 100 사이의 소수를 출력하여 보자.\n"
   ]
  },
  {
   "cell_type": "code",
   "execution_count": 50,
   "metadata": {
    "colab": {
     "base_uri": "https://localhost:8080/"
    },
    "id": "KHKorLBJIGFb",
    "outputId": "3cc25990-6bf8-4365-8ef4-d408ab95551c"
   },
   "outputs": [
    {
     "name": "stdout",
     "output_type": "stream",
     "text": [
      "2 3 5 7 11 13 17 19 23 29 31 37 41 43 47 53 59 61 67 71 73 79 83 89 97 "
     ]
    }
   ],
   "source": [
    "def testPrime(n):\n",
    "    for i in range (1,n+1):\n",
    "        for j in range (2, i+1):\n",
    "            if j == i :\n",
    "                print (i, end = ' ')\n",
    "            elif i % j == 0 :\n",
    "                break\n",
    "\n",
    "testPrime(100)"
   ]
  },
  {
   "cell_type": "markdown",
   "metadata": {
    "id": "Obs9TkR3IafF"
   },
   "source": [
    "> 사용자가 입력한 10진수를 2진수 문자열로 변환하는 함수 deci2bin(n)을 작성하고 테스트하라\n"
   ]
  },
  {
   "cell_type": "code",
   "execution_count": 24,
   "metadata": {
    "colab": {
     "base_uri": "https://localhost:8080/"
    },
    "id": "z3xZRRnOIaT1",
    "outputId": "f1ab3fc4-a708-4b01-b327-08c2c879e8f9"
   },
   "outputs": [
    {
     "name": "stdout",
     "output_type": "stream",
     "text": [
      "10진수: 32\n",
      "100000\n"
     ]
    }
   ],
   "source": [
    "def deci2bin(n):\n",
    "    binary = \"\"\n",
    "\n",
    "    while n != 0:\n",
    "        value = n % 2\n",
    "        if value == 0 :\n",
    "            binary = \"0\" + binary \n",
    "        else:\n",
    "            binary = \"1\" + binary\n",
    "        n = n // 2\n",
    "        \n",
    "    return binary\n",
    "\n",
    "x = int(input(\"10진수: \"))\n",
    "print(deci2bin(x))"
   ]
  },
  {
   "cell_type": "markdown",
   "metadata": {
    "id": "OVDzUYQoMQF8"
   },
   "source": [
    "> 2개의 정수를 크기 순으로 반환하는 함수 getSorted(x,y)를 작성하고 테스트하라. 파이썬의 다중값 반화하기 기능을 사용하자.\n"
   ]
  },
  {
   "cell_type": "code",
   "execution_count": 52,
   "metadata": {
    "colab": {
     "base_uri": "https://localhost:8080/"
    },
    "id": "VVlGpzVKMP7V",
    "outputId": "10211691-0a55-48fe-b4bb-e0e20b870682"
   },
   "outputs": [
    {
     "name": "stdout",
     "output_type": "stream",
     "text": [
      "첫 번째 정수: 30\n",
      "두 번째 정수: 20\n"
     ]
    },
    {
     "data": {
      "text/plain": [
       "(20, 30)"
      ]
     },
     "execution_count": 52,
     "metadata": {},
     "output_type": "execute_result"
    }
   ],
   "source": [
    "def getSorted(x,y):\n",
    "    if x < y:\n",
    "        return x,y\n",
    "    else:\n",
    "        return y,x\n",
    "\n",
    "x = int(input(\"첫 번째 정수: \"))\n",
    "y = int(input(\"두 번째 정수: \"))\n",
    "getSorted(x,y)"
   ]
  },
  {
   "cell_type": "markdown",
   "metadata": {
    "id": "hUFrrGPXMjYg"
   },
   "source": [
    "> 인간과 컴퓨터가 주사위 게임을 하는 프로그램을 작성해보자. 실행 결과는 다음과 같다.  \n",
    "주사위는 자동으로 던져진다. 주사위 게임을 하나의 함수로 작성해보자\n"
   ]
  },
  {
   "cell_type": "code",
   "execution_count": 32,
   "metadata": {
    "colab": {
     "base_uri": "https://localhost:8080/"
    },
    "id": "dIFH5e8_K8yp",
    "outputId": "bb6be02f-9d35-4be1-cbc4-39de9636bdfb"
   },
   "outputs": [
    {
     "name": "stdout",
     "output_type": "stream",
     "text": [
      "인간: 주사위값= 5\n",
      "컴퓨터: 주사위값= 3\n",
      "인간승리\n",
      "중단할까요? Y/NY\n"
     ]
    }
   ],
   "source": [
    "import random\n",
    "\n",
    "def dice_game() :\n",
    "    human = random.randint(1,6)\n",
    "    print(\"인간: 주사위값=\", human )\n",
    "    ai = random.randint(1,6)\n",
    "    print(\"컴퓨터: 주사위값=\", ai )\n",
    "\n",
    "    if human > ai :\n",
    "        print(\"인간승리\") \n",
    "    else:\n",
    "        print(\"컴퓨터승리\")  \n",
    "\n",
    "def main() : \n",
    "    while True:\n",
    "        dice_game()    \n",
    "        user = input(\"중단할까요? Y/N\")\n",
    "        if user == \"Y\" or user == \"y\":\n",
    "            break;\n",
    "\n",
    "main()"
   ]
  },
  {
   "cell_type": "markdown",
   "metadata": {
    "id": "S8Mws6b5v-qV"
   },
   "source": [
    "# Chapter 6 리스트"
   ]
  },
  {
   "cell_type": "markdown",
   "metadata": {
    "id": "2yJ90uqgNZME"
   },
   "source": [
    "> 사용자가 입력하는 정수값을 리스트에 저장하고 이 값들의 한계를 계산하는 프로그램을 작성해보자."
   ]
  },
  {
   "cell_type": "code",
   "execution_count": null,
   "metadata": {
    "colab": {
     "base_uri": "https://localhost:8080/"
    },
    "id": "xb7RA-Kpv_zc",
    "outputId": "97830a5b-03cf-462f-d854-c5000948d4cc"
   },
   "outputs": [
    {
     "name": "stdout",
     "output_type": "stream",
     "text": [
      "입력할 값의 개수: 4\n",
      "10\n",
      "20\n",
      "30\n",
      "40\n",
      "값의 합계 = 100\n"
     ]
    }
   ],
   "source": [
    "list_x = []\n",
    "x = int(input(\"입력할 값의 개수: \"))\n",
    "\n",
    "for _ in range(0, x):\n",
    "    y = int(input())\n",
    "    list_x.append(y)\n",
    "print(f\"값의 합계 = {sum(list_x)}\")"
   ]
  },
  {
   "cell_type": "markdown",
   "metadata": {
    "id": "DwqgUTF6N0Wt"
   },
   "source": [
    "> 1부터 100 사이의 난수 10개를 생성하여 리스트 values를 채우는 반복 루프를 작성하라"
   ]
  },
  {
   "cell_type": "code",
   "execution_count": null,
   "metadata": {
    "colab": {
     "base_uri": "https://localhost:8080/"
    },
    "id": "z7hNMgqs11XA",
    "outputId": "b1b327f1-cdee-4146-bbd9-0fabd0f842d7"
   },
   "outputs": [
    {
     "name": "stdout",
     "output_type": "stream",
     "text": [
      "[57, 6, 4, 27, 93, 67, 90, 6, 94, 56]\n"
     ]
    }
   ],
   "source": [
    "import random\n",
    "\n",
    "list_x = []\n",
    "\n",
    "for i in range(0, 10):\n",
    "    list_x.append(random.randint(1, 100))\n",
    "print(list_x)"
   ]
  },
  {
   "cell_type": "markdown",
   "metadata": {
    "id": "3ls3pQYWN8hl"
   },
   "source": [
    "> 리스트에 저장된 값으로 다음과 같이 별표를 출력하여 막대 그래프를 그리는 프로그램을 작성하라."
   ]
  },
  {
   "cell_type": "code",
   "execution_count": null,
   "metadata": {
    "colab": {
     "base_uri": "https://localhost:8080/"
    },
    "id": "2hzBoOmB13UC",
    "outputId": "03d500c3-b0c9-4a8f-acd3-86bb683d56d4"
   },
   "outputs": [
    {
     "name": "stdout",
     "output_type": "stream",
     "text": [
      "20\t********************\n",
      "1\t*\n",
      "12\t************\n",
      "9\t*********\n",
      "18\t******************\n"
     ]
    }
   ],
   "source": [
    "def list_x(x):\n",
    "    print(f\"{x[i]}\", end = \"\\t\")\n",
    "\n",
    "x = [20, 1, 12, 9, 18]\n",
    "\n",
    "for i in range(0, len(x)):\n",
    "    list_x(x)\n",
    "    print(\"*\" * x[i])"
   ]
  },
  {
   "cell_type": "markdown",
   "metadata": {
    "id": "nA2jSxOzObeN"
   },
   "source": [
    "> 리스트 함축을 사용하여 다음과 같은 실행 결과가 나오도록 프로그램을 작성하라."
   ]
  },
  {
   "cell_type": "code",
   "execution_count": null,
   "metadata": {
    "colab": {
     "base_uri": "https://localhost:8080/"
    },
    "id": "dlmQk8mt1-9Z",
    "outputId": "bb85c75a-fe39-40a9-dd6b-d5a6d93c57e5"
   },
   "outputs": [
    {
     "name": "stdout",
     "output_type": "stream",
     "text": [
      "실행전 [1, 2, 3, 4, 5, 6, 7, 8, 9, 10]\n",
      "실행후 [1, 2, -3, -4, -5, -6, -7, -8, 9, 10]\n",
      "\n",
      "----------------------------\n",
      "\n",
      "실행전 [1, 2, 3, 4, 5, 6, 7, 8, 9, 10]\n",
      "실행후 [1, 2, -3, -4, -5, -6, -7, -8, 9, 10]\n"
     ]
    }
   ],
   "source": [
    "li = [i for i in range(1, 11)]\n",
    "print(\"실행전\", li) \n",
    "\n",
    "li = [-i if 3 <= i <= 8 else i for i in range(1, 11)]\n",
    "print(\"실행후\", li)\n",
    "\n",
    "print('\\n----------------------------\\n')\n",
    "\n",
    "li = [1, 2, 3, 4, 5, 6, 7, 8, 9, 10]\n",
    "print(\"실행전\", li) \n",
    "li = [-li[i] if 3 <= li[i] <= 8 else li[i] for i in range(len(li))]\n",
    "print(\"실행후\", li)"
   ]
  },
  {
   "cell_type": "markdown",
   "metadata": {
    "id": "mZehdWFZOogY"
   },
   "source": [
    "> 문자열이 저장된 리스트를 가정하자. 문자열 중에서 'aba'처럼 첫 번째 문자와 마지막 문자가 동일한 문자열 수를 계산하는 프로그램을 작성하고 테스트하라"
   ]
  },
  {
   "cell_type": "code",
   "execution_count": null,
   "metadata": {
    "colab": {
     "base_uri": "https://localhost:8080/"
    },
    "id": "QBEuINqg2FxH",
    "outputId": "7273a504-b743-4b92-9840-d516bedc6e8a"
   },
   "outputs": [
    {
     "name": "stdout",
     "output_type": "stream",
     "text": [
      "문자열의 개수 = 2\n"
     ]
    }
   ],
   "source": [
    "s = ['aba', 'xyz', 'abc', '121']\n",
    "count = 0\n",
    "for x in s:\n",
    "    if x[-1] == x[0]:\n",
    "        count += 1\n",
    "        \n",
    "print(f\"문자열의 개수 = {count}\")"
   ]
  },
  {
   "cell_type": "markdown",
   "metadata": {
    "id": "NhEL-Zs2O0t7"
   },
   "source": [
    "> 2개의 리스트를 받아서 공통 구성원이 하나 이상 있으면 True를 반환하는 함수를 작성하고 테스트하라"
   ]
  },
  {
   "cell_type": "code",
   "execution_count": null,
   "metadata": {
    "colab": {
     "base_uri": "https://localhost:8080/"
    },
    "id": "ekm86Kug2SEW",
    "outputId": "6dcbffe8-1f41-41f9-8327-9a67962278e6"
   },
   "outputs": [
    {
     "name": "stdout",
     "output_type": "stream",
     "text": [
      "True\n"
     ]
    }
   ],
   "source": [
    "list1 = [1,2,3,4,5,6]\n",
    "list2 = [6,7,8,9,10]\n",
    "\n",
    "for i in list1:\n",
    "    if i in list2:\n",
    "        print(\"True\")"
   ]
  },
  {
   "cell_type": "markdown",
   "metadata": {
    "id": "lECbKhMDO-Yq"
   },
   "source": [
    "> 다음과 같은 리스트를 생성하고 리스트에서 무작위로 항목을 선택하는 프로그램을 작성해보자"
   ]
  },
  {
   "cell_type": "code",
   "execution_count": null,
   "metadata": {
    "colab": {
     "base_uri": "https://localhost:8080/",
     "height": 35
    },
    "id": "wYAFGs1l2S-2",
    "outputId": "65fb42e1-d2d7-434a-bd03-d41995669896"
   },
   "outputs": [
    {
     "data": {
      "application/vnd.google.colaboratory.intrinsic+json": {
       "type": "string"
      },
      "text/plain": [
       "'a4'"
      ]
     },
     "execution_count": 17,
     "metadata": {},
     "output_type": "execute_result"
    }
   ],
   "source": [
    "import random\n",
    "\n",
    "list1 = ['a0', 'a1', 'a2', 'a3', 'a4', 'a5', 'a6', 'a7', 'a8', 'a9']\n",
    "random.choice(list1)"
   ]
  },
  {
   "cell_type": "markdown",
   "metadata": {
    "id": "k4emH8PAPGXV"
   },
   "source": [
    "> 다음과 같은 2개의 리스트가 있다. 2개의 리스트에 공통적인 요소를 추출하는 리스트 함축 코드를 작성해보자"
   ]
  },
  {
   "cell_type": "code",
   "execution_count": null,
   "metadata": {
    "colab": {
     "base_uri": "https://localhost:8080/"
    },
    "id": "YZFOQhP02VEu",
    "outputId": "1c3369d3-6b7b-4b52-fd9f-a30ec93d36d7"
   },
   "outputs": [
    {
     "name": "stdout",
     "output_type": "stream",
     "text": [
      "결과= [1, 3, 4, 5]\n"
     ]
    }
   ],
   "source": [
    "a = [1,2,3,4,5]\n",
    "b = [1,3,3,4,5,6,7]\n",
    "\n",
    "c = [x for x in a if x in b]\n",
    "print(f\"결과= {c}\")"
   ]
  },
  {
   "cell_type": "markdown",
   "metadata": {
    "id": "WIMdY811UWSs"
   },
   "source": [
    "> 에라스토스테네스의 체라는 알고리즘은 정해진 범위안의 소수를 찾아준다.우리는 2부터 n까지의 소수를 찾는다고 하자. 2부터 n까지의 숫자로 리스트를 만든 후, 2의 배수를 리스트에서 삭제하고, 3의 배수를 삭제하고, 4의 배수를 삭제하고, …., n-1의 배수까지 삭제한 후에도 리스트에 남아 있는 값은 소수가\n",
    "된다. 이 알고리즘을 프로그래밍하라."
   ]
  },
  {
   "cell_type": "code",
   "execution_count": 53,
   "metadata": {
    "colab": {
     "base_uri": "https://localhost:8080/"
    },
    "id": "2qA55CeVU3kd",
    "outputId": "efaafa61-b533-4e66-897c-a15837b51a20"
   },
   "outputs": [
    {
     "name": "stdout",
     "output_type": "stream",
     "text": [
      "n을 입력: 31\n",
      "2부터 31까지의 소수는\n",
      "2 3 5 7 11 13 17 19 23 29 31 "
     ]
    }
   ],
   "source": [
    "n = int(input('n을 입력: '))\n",
    "print(f'2부터 {n}까지의 소수는')\n",
    "for i in range (1,n+1):\n",
    "        for j in range (2, i+1):\n",
    "            if j == i :\n",
    "                print (i, end = ' ')\n",
    "            elif i % j == 0 :\n",
    "                break"
   ]
  },
  {
   "cell_type": "markdown",
   "metadata": {
    "id": "Qa7BcxrSPW-f"
   },
   "source": [
    "> 각 요소가 \"#\"이고 크기가 3x4x5인 3차원 배열을 생성하는 프로그램을 작성하고 테스트하라. 리스트 함축을 적극적으로 사용해보자\n",
    "\n",
    "\n",
    "```\n",
    "[[['#','#','#','#'],['#','#','#','#'],['#','#','#','#']],[['#','#','#','#'],['#','#','#','#'],['#','#','#','#']]]\n",
    "```\n",
    "\n"
   ]
  },
  {
   "cell_type": "code",
   "execution_count": 55,
   "metadata": {
    "colab": {
     "base_uri": "https://localhost:8080/"
    },
    "id": "xNmA0FOmPXKU",
    "outputId": "11928051-a07c-4ccc-8bc6-d8200094d3f1"
   },
   "outputs": [
    {
     "data": {
      "text/plain": [
       "[[['#', '#', '#', '#'], ['#', '#', '#', '#'], ['#', '#', '#', '#']],\n",
       " [['#', '#', '#', '#'], ['#', '#', '#', '#'], ['#', '#', '#', '#']]]"
      ]
     },
     "execution_count": 55,
     "metadata": {},
     "output_type": "execute_result"
    }
   ],
   "source": [
    "array = [[['#' for _ in range(4)] for _ in range(3)] for _ in range(2)]\n",
    "array"
   ]
  },
  {
   "cell_type": "markdown",
   "metadata": {
    "id": "YbJO1_f8Px1e"
   },
   "source": [
    "> 배열을 이용하여 간단한 극장 예약 시스템을 작성하여 보자. 아주 작은 극장이라서 좌석이 10x10이다. 사용자에게 먼저 좌석 배치표를 보여준다. 즉 예약이 끝난 좌석은 1로, 예약이 안 된 좌석은 0으로 나타낸다."
   ]
  },
  {
   "cell_type": "code",
   "execution_count": null,
   "metadata": {
    "colab": {
     "base_uri": "https://localhost:8080/"
    },
    "id": "rrmp5LF42XR2",
    "outputId": "9bc0b3f0-66db-4bb5-f0fe-cd4d94a7bcaa"
   },
   "outputs": [
    {
     "name": "stdout",
     "output_type": "stream",
     "text": [
      "---------------------------------------------------------------------------\n",
      "1\t2\t3\t4\t5\t6\t7\t8\t9\t10\t\n",
      "---------------------------------------------------------------------------\n",
      "0\t0\t0\t0\t0\t0\t0\t0\t0\t0\t\n",
      "0\t0\t0\t0\t0\t0\t0\t0\t0\t0\t\n",
      "0\t0\t0\t0\t0\t0\t0\t0\t0\t0\t\n",
      "0\t0\t0\t0\t0\t0\t0\t0\t0\t0\t\n",
      "0\t0\t0\t0\t0\t0\t0\t0\t0\t0\t\n",
      "0\t0\t0\t0\t0\t0\t0\t0\t0\t0\t\n",
      "0\t0\t0\t0\t0\t0\t0\t0\t0\t0\t\n",
      "0\t0\t0\t0\t0\t0\t0\t0\t0\t0\t\n",
      "0\t0\t0\t0\t0\t0\t0\t0\t0\t0\t\n",
      "0\t0\t0\t0\t0\t0\t0\t0\t0\t0\t\n",
      "원하시는 좌석의 행번호를 입력하세요(종료는 -1):3\n",
      "원하시는 좌석의 열번호를 입력하세요(종료는 -1):1\n",
      "---------------------------------------------------------------------------\n",
      "1\t2\t3\t4\t5\t6\t7\t8\t9\t10\t\n",
      "---------------------------------------------------------------------------\n",
      "0\t0\t0\t0\t0\t0\t0\t0\t0\t0\t\n",
      "0\t0\t0\t0\t0\t0\t0\t0\t0\t0\t\n",
      "1\t0\t0\t0\t0\t0\t0\t0\t0\t0\t\n",
      "0\t0\t0\t0\t0\t0\t0\t0\t0\t0\t\n",
      "0\t0\t0\t0\t0\t0\t0\t0\t0\t0\t\n",
      "0\t0\t0\t0\t0\t0\t0\t0\t0\t0\t\n",
      "0\t0\t0\t0\t0\t0\t0\t0\t0\t0\t\n",
      "0\t0\t0\t0\t0\t0\t0\t0\t0\t0\t\n",
      "0\t0\t0\t0\t0\t0\t0\t0\t0\t0\t\n",
      "0\t0\t0\t0\t0\t0\t0\t0\t0\t0\t\n",
      "원하시는 좌석의 행번호를 입력하세요(종료는 -1):-1\n"
     ]
    }
   ],
   "source": [
    "def result_reservation(a):\n",
    "    LINE_PRINT = \"-\" * 75\n",
    "\n",
    "    print(LINE_PRINT)\n",
    "\n",
    "    for i in range(1, 11):\n",
    "        print(f\"{i}\\t\", end = \"\")\n",
    "\n",
    "    print()\n",
    "    print(LINE_PRINT)    \n",
    "    for i in a:\n",
    "        for j in i:\n",
    "            print(f\"{j}\\t\", end = \"\")\n",
    "        print()\n",
    "\n",
    "a = []\n",
    "for _ in range(1,  11):\n",
    "    temp = [0 for _ in range(0, 10)]\n",
    "    a.append(temp)\n",
    "\n",
    "result_reservation(a)\n",
    "while True:\n",
    "    x =int(input(\"원하시는 좌석의 행번호를 입력하세요(종료는 -1):\"))\n",
    "    if (x == -1):\n",
    "        break\n",
    "    y =int(input(\"원하시는 좌석의 열번호를 입력하세요(종료는 -1):\"))\n",
    "    if (y == -1):\n",
    "        break\n",
    "    a[x-1][ y-1] = 1\n",
    "    result_reservation(a)"
   ]
  },
  {
   "cell_type": "markdown",
   "metadata": {
    "id": "EKyf6gFW2gQ3"
   },
   "source": [
    "# Chapter 7"
   ]
  },
  {
   "cell_type": "code",
   "execution_count": null,
   "metadata": {
    "colab": {
     "base_uri": "https://localhost:8080/"
    },
    "id": "MM0VLMFE2aim",
    "outputId": "4c40a3c2-bcfc-4380-e088-9eab51c89cd5"
   },
   "outputs": [
    {
     "data": {
      "text/plain": [
       "(50, 40, 30, 20, 10)"
      ]
     },
     "execution_count": 20,
     "metadata": {},
     "output_type": "execute_result"
    }
   ],
   "source": [
    "aTuple = (10, 20, 30, 40, 50)\n",
    "aTuple[::-1]"
   ]
  },
  {
   "cell_type": "code",
   "execution_count": null,
   "metadata": {
    "colab": {
     "base_uri": "https://localhost:8080/"
    },
    "id": "oqp3D7uU2kxp",
    "outputId": "058efff8-18e8-40db-96d7-ed53f07d2389"
   },
   "outputs": [
    {
     "name": "stdout",
     "output_type": "stream",
     "text": [
      "10\n",
      "20\n",
      "30\n",
      "40\n"
     ]
    }
   ],
   "source": [
    "myTuple = (10, 20, 30, 40)\n",
    "a, b, c, d = myTuple\n",
    "print(a)\n",
    "print(b)\n",
    "print(c)\n",
    "print(d)"
   ]
  },
  {
   "cell_type": "markdown",
   "metadata": {
    "id": "lN9TujAPSScQ"
   },
   "source": [
    "> 사용자로부터 정수 리스트를 받아서 정수 리스트에 있는 중복된 요소들을 제거하고 리스트를 정렬시키는 프로그램을 작성해보자"
   ]
  },
  {
   "cell_type": "code",
   "execution_count": null,
   "metadata": {
    "colab": {
     "base_uri": "https://localhost:8080/"
    },
    "id": "8YXyGZEQ2mTY",
    "outputId": "943b1cdb-812d-476a-d2c2-bd43358329cd"
   },
   "outputs": [
    {
     "name": "stdout",
     "output_type": "stream",
     "text": [
      "주어진 리스트 : [80, 20, 20, 30, 60, 30]\n",
      "정리된 리스트 : [20, 30, 60, 80]\n"
     ]
    }
   ],
   "source": [
    "x = [80, 20, 20, 30, 60, 30]\n",
    "z = sorted(list(set(x)))\n",
    "\n",
    "print(f\"주어진 리스트 : {x}\")\n",
    "print(f\"정리된 리스트 : {z}\")"
   ]
  },
  {
   "cell_type": "markdown",
   "metadata": {
    "id": "mw-XU3HoSnii"
   },
   "source": [
    "> (x, x * x)형식의 숫자(1과 10 사이)를 포함하는 딕셔너리를 생성하고 출력하는 프로그램을 작성해보자"
   ]
  },
  {
   "cell_type": "code",
   "execution_count": null,
   "metadata": {
    "colab": {
     "base_uri": "https://localhost:8080/"
    },
    "id": "6hWuB_O52p0f",
    "outputId": "0e2a5d74-a60a-4a9d-cfad-4a9cbae1f379"
   },
   "outputs": [
    {
     "name": "stdout",
     "output_type": "stream",
     "text": [
      "{1: 1, 2: 4, 3: 9, 4: 16, 5: 25, 6: 36, 7: 49, 8: 64, 9: 81, 10: 100}\n"
     ]
    }
   ],
   "source": [
    "x = [1,2,3,4,5,6,7,8,9,10]\n",
    "\n",
    "y = {z : z*z for z in x}\n",
    "print(y)"
   ]
  },
  {
   "cell_type": "markdown",
   "metadata": {
    "id": "d0y26QteSzEG"
   },
   "source": [
    "> 다음의 딕셔너리에서 모든 항목을 꺼내서 다음과 같이 출력하는 프로그램을 작성해보자"
   ]
  },
  {
   "cell_type": "code",
   "execution_count": null,
   "metadata": {
    "colab": {
     "base_uri": "https://localhost:8080/"
    },
    "id": "3YT_QfiQ2sdu",
    "outputId": "7c5bcf0c-a54c-4dda-c411-98908155c08b"
   },
   "outputs": [
    {
     "name": "stdout",
     "output_type": "stream",
     "text": [
      "Apple -> 1\n",
      "Banana -> 2\n",
      "Grape -> 3\n",
      "\n",
      "----------------------------\n",
      "\n",
      "Apple -> 1\n",
      "Banana -> 2\n",
      "Grape -> 3\n"
     ]
    }
   ],
   "source": [
    "x = {\"Apple\" : 1, \"Banana\" : 2, \"Grape\" : 3}\n",
    "\n",
    "for x_key, x_value in enumerate(x):\n",
    "    print(f\"{x_value} -> {x_key + 1}\")\n",
    "\n",
    "print('\\n----------------------------\\n')\n",
    "\n",
    "for k, v in x.items():\n",
    "    print(f\"{k} -> {v}\")"
   ]
  },
  {
   "cell_type": "markdown",
   "metadata": {
    "id": "dpDrvOOYTCXu"
   },
   "source": [
    "> 다음과 같은 딕셔너리에서 주어진 키가 딕셔너리에 있는지 확인하기 위한 프로그램을 작성해보자\n"
   ]
  },
  {
   "cell_type": "code",
   "execution_count": null,
   "metadata": {
    "colab": {
     "base_uri": "https://localhost:8080/"
    },
    "id": "mNAJ2FEd201H",
    "outputId": "479079e9-775f-40d1-929e-d61c542fa7b4"
   },
   "outputs": [
    {
     "name": "stdout",
     "output_type": "stream",
     "text": [
      "키를 입력하시오: 2\n",
      "키 2은 딕셔너리에 있습니다.\n"
     ]
    }
   ],
   "source": [
    "d = {1:10, 2:20, 3:30, 4:40, 5:50, 6:60}\n",
    "\n",
    "x = int(input(\"키를 입력하시오: \"))\n",
    "\n",
    "if x in d:\n",
    "    print(f\"키 {x}은 딕셔너리에 있습니다.\")\n",
    "else:\n",
    "    print(f\"키 {x}은 딕셔너리에 없습니다.\")"
   ]
  },
  {
   "cell_type": "markdown",
   "metadata": {
    "id": "YKuERtGmTSSw"
   },
   "source": [
    "> 딕셔너리에 쇼핑몰에서 구입한 상품의 가격이 저장되어 있다. 딕셔너리에 있는 모든 상품 가격의 합계를 계산하는 프로그램을 작성해보자"
   ]
  },
  {
   "cell_type": "code",
   "execution_count": null,
   "metadata": {
    "colab": {
     "base_uri": "https://localhost:8080/"
    },
    "id": "tsoNAlvK23wQ",
    "outputId": "b661ec90-5f96-4756-8cef-e3c7f797d75b"
   },
   "outputs": [
    {
     "name": "stdout",
     "output_type": "stream",
     "text": [
      "총합계= 2420\n"
     ]
    }
   ],
   "source": [
    "myDict = {\"옷\": 100, \"컴퓨터\": 2000, \"모니터\": 320}\n",
    "\n",
    "print(f\"총합계= {sum(myDict.values())}\")"
   ]
  },
  {
   "cell_type": "markdown",
   "metadata": {
    "id": "NAm7njWtToK1"
   },
   "source": [
    "> 키와 값을 저장하고 있는 2개의 리스트를 합쳐서 하나의 딕셔너리로 만드는 프로그램을 작성해보자. enumerate()함수를 사용해보자"
   ]
  },
  {
   "cell_type": "code",
   "execution_count": 57,
   "metadata": {
    "colab": {
     "base_uri": "https://localhost:8080/"
    },
    "id": "QTvblCwV25Oi",
    "outputId": "d1000879-ae0f-4beb-cd9e-4c060ba3aee5"
   },
   "outputs": [
    {
     "data": {
      "text/plain": [
       "{'blue': '#0000FF', 'green': '#008000', 'red': '#FF0000'}"
      ]
     },
     "execution_count": 57,
     "metadata": {},
     "output_type": "execute_result"
    }
   ],
   "source": [
    "colors = [\"red\", \"green\", \"blue\"]\n",
    "values = [\"#FF0000\", \"#008000\", \"#0000FF\"]\n",
    "\n",
    "dict(zip(colors, values))"
   ]
  },
  {
   "cell_type": "markdown",
   "metadata": {
    "id": "t7eCrt8YUKqC"
   },
   "source": [
    "> 일정 애플리케이션을 작성하고자 한다. 일정 애플리케이션을 구현하는 한 가지 방법은 딕셔너리를 사용하고 날짜를 키로, 일정을 값으로 저장하면 된다. 하지만 이 방법은 특정한 날짜에 하나의 일정이 있는 경우에만 유효하다. 특정한 날짜에 여러 개의 일정을 저장할 수 있게 하려면 어떤 방법을 사용할 수 있는가?"
   ]
  },
  {
   "cell_type": "code",
   "execution_count": null,
   "metadata": {
    "colab": {
     "base_uri": "https://localhost:8080/"
    },
    "id": "LunVZShN268W",
    "outputId": "ad4db58c-345d-4938-84e0-0ada8ecfaef3"
   },
   "outputs": [
    {
     "name": "stdout",
     "output_type": "stream",
     "text": [
      "날짜를 입력하시오: 2020 3 4\n",
      "일정을 입력하시오: 파이썬 과제\n",
      "{'2020 3 4': ['파이썬 과제', '축제']}\n"
     ]
    }
   ],
   "source": [
    "x = input(\"날짜를 입력하시오: \")\n",
    "y = [input(\"일정을 입력하시오: \")]\n",
    "\n",
    "schedule = {x:y}\n",
    "\n",
    "schedule[\"2020 3 4\"].append(\"축제\")\n",
    "print(schedule)"
   ]
  },
  {
   "cell_type": "markdown",
   "metadata": {
    "id": "d4iXjQwHVQob"
   },
   "source": [
    "> 달의 번호를 받아서 달의 이름을 출력하는 프로그램을 작성해보자. 예를 들어서 1월이 입력되면 \"January\"가 출력된다. 이것은 물론 if-else구문을 사용해서도 구현이 가능하다. 만약 파이썬이 제공하는 자료구조를 사용해서 이 기능을 구현한다면 어떤 자료구조를 사용할 것인가?\n"
   ]
  },
  {
   "cell_type": "code",
   "execution_count": 62,
   "metadata": {
    "colab": {
     "base_uri": "https://localhost:8080/"
    },
    "id": "EwU8aS7XZmQg",
    "outputId": "184011c8-21cf-4f46-fa86-699aec257baf"
   },
   "outputs": [
    {
     "name": "stdout",
     "output_type": "stream",
     "text": [
      "달의 번호:1\n",
      "달의 번호: January\n"
     ]
    }
   ],
   "source": [
    "month = {1:'January',2:'February',3:'March',4:'April',5:'May',6:'June',7:'July',\n",
    "         8:'August',9:'September',10:'October',11:'November',12:'December'}\n",
    "         \n",
    "num = int(input('달의 번호:'))\n",
    "print('달의 번호:',month[num])"
   ]
  },
  {
   "cell_type": "markdown",
   "metadata": {
    "id": "NOiXHofZWfVv"
   },
   "source": [
    "> 2개의 문자열을 받아서 이들 문자열에 모두 포함된 글자를 반환하는 프로그램을 작성해보자"
   ]
  },
  {
   "cell_type": "code",
   "execution_count": 2,
   "metadata": {},
   "outputs": [
    {
     "name": "stdout",
     "output_type": "stream",
     "text": [
      "a b \n",
      "l o ! \n"
     ]
    }
   ],
   "source": [
    "def fun(a, b):\n",
    "    set1=set(a)\n",
    "    set2=set(b)\n",
    "\n",
    "    inter_set = list(set1&set2)\n",
    "    for i in inter_set:\n",
    "        print(i, end =\" \")\n",
    "    return ''\n",
    "        \n",
    "print(fun(\"ba\", \"ab\"))          # ba\n",
    "print(fun(\"Hello!\", \"World!\"))  # ol!"
   ]
  },
  {
   "cell_type": "code",
   "execution_count": 60,
   "metadata": {
    "colab": {
     "base_uri": "https://localhost:8080/"
    },
    "id": "blXyx_3f285u",
    "outputId": "6584f874-e168-49f5-d95d-aff1fe4f103f"
   },
   "outputs": [
    {
     "name": "stdout",
     "output_type": "stream",
     "text": [
      "첫 번째 문자열: 너무 좋다!\n",
      "두 번째 문자열: 너무\n",
      "모두 포함된 글자: 너 무 "
     ]
    }
   ],
   "source": [
    "x = input(\"첫 번째 문자열: \")\n",
    "y = input(\"두 번째 문자열: \")\n",
    "\n",
    "x_set = set(y.replace(\"!\", \"\").replace(\" \", \"\"))\n",
    "y_set = set(x.replace(\"!\", \"\").replace(\" \", \"\"))\n",
    "inter_set = list(x_set&y_set)\n",
    "print(f\"모두 포함된 글자:\", end = \" \")\n",
    "for i in inter_set:\n",
    "    print(i, end =\" \")"
   ]
  },
  {
   "cell_type": "code",
   "execution_count": 61,
   "metadata": {
    "colab": {
     "base_uri": "https://localhost:8080/"
    },
    "id": "GVlCymLQZMqT",
    "outputId": "810acf79-81f3-4837-a41f-0e00be1ce93e"
   },
   "outputs": [
    {
     "name": "stdout",
     "output_type": "stream",
     "text": [
      "첫 번째 문자열: 너무 좋다!\n",
      "두 번째 문자열: 너무\n",
      "모두 포함된 글자:  {'너', '무'}\n"
     ]
    }
   ],
   "source": [
    "s1 = input(\"첫 번째 문자열: \")\n",
    "s2 = input(\"두 번째 문자열: \")\n",
    "\n",
    "set1=set(s1)\n",
    "set2=set(s2)\n",
    "\n",
    "print(\"모두 포함된 글자: \", set1 & set2)"
   ]
  },
  {
   "cell_type": "markdown",
   "metadata": {
    "id": "DPAdYAE1WoRX"
   },
   "source": [
    "> set1, set2의 2개의 세트가 주어져 있다고 하자. set1 또는 set2, 어느 한쪽에만 있고 요소들을 추출하는 프로그램을 작성하라"
   ]
  },
  {
   "cell_type": "code",
   "execution_count": null,
   "metadata": {
    "colab": {
     "base_uri": "https://localhost:8080/"
    },
    "id": "vLKKcyfg30Mh",
    "outputId": "d30fef86-6518-48ba-e1b0-0f0c165c07b2"
   },
   "outputs": [
    {
     "name": "stdout",
     "output_type": "stream",
     "text": [
      "어느 한쪽에만 있는 요소들 {80, 20, 70, 10}\n"
     ]
    }
   ],
   "source": [
    "x1 = {10, 20, 30, 40, 50, 60}\n",
    "x2 = {30, 40, 50 ,60 ,70 ,80}\n",
    "\n",
    "print(f\"어느 한쪽에만 있는 요소들 {x1 ^ x2}\")"
   ]
  },
  {
   "cell_type": "markdown",
   "metadata": {
    "id": "0XY8c8ANW8zn"
   },
   "source": [
    "> 딕셔너리에 문제와 정답을 저장하고 하나씩 꺼내서 사용자에게 제시하는 프로그램을 작성해보자. 사용자는 문자열로 답해야 한다. 번호로 답할 수는 없다. 사용자의 답이 맞았는지 여부를 출력해보자"
   ]
  },
  {
   "cell_type": "code",
   "execution_count": 58,
   "metadata": {
    "colab": {
     "base_uri": "https://localhost:8080/"
    },
    "id": "FgM1WI4v32s_",
    "outputId": "6145045f-5001-4909-9c73-4c8010352a34"
   },
   "outputs": [
    {
     "name": "stdout",
     "output_type": "stream",
     "text": [
      "다음은 어떤 단어에 대한 설명일까요?\n",
      "최근에 가장 떠오르는 프로그래밍 언어\n",
      "(1) 파이썬 (2) 함수 (3) 리스트 (4) 변수\n",
      "파이썬\n",
      "정답입니다. !\n",
      "다음은 어떤 단어에 대한 설명일까요?\n",
      "데이터를 저장한는 메모리 공간\n",
      "(1) 파이썬 (2) 함수 (3) 리스트 (4) 변수\n",
      "변수\n",
      "정답입니다. !\n",
      "다음은 어떤 단어에 대한 설명일까요?\n",
      "작업을 수행하는 문장들의 집합에 이름을 붙인것\n",
      "(1) 파이썬 (2) 함수 (3) 리스트 (4) 변수\n",
      "함수\n",
      "정답입니다. !\n",
      "다음은 어떤 단어에 대한 설명일까요?\n",
      "서로 관련이 없는 항목들의 모임\n",
      "(1) 파이썬 (2) 함수 (3) 리스트 (4) 변수\n",
      "리스트\n",
      "정답입니다. !\n"
     ]
    }
   ],
   "source": [
    "problems = {\"파이썬\" : \"최근에 가장 떠오르는 프로그래밍 언어\",\n",
    "           \"변수\" : \"데이터를 저장한는 메모리 공간\", \n",
    "           \"함수\" : \"작업을 수행하는 문장들의 집합에 이름을 붙인것\",\n",
    "           \"리스트\" : \"서로 관련이 없는 항목들의 모임\"}\n",
    "\n",
    "for word in problems.keys():\n",
    "    print(\"다음은 어떤 단어에 대한 설명일까요?\")\n",
    "    print(problems[word])\n",
    "    print(\"(1) 파이썬 (2) 함수 (3) 리스트 (4) 변수\")\n",
    "    ans = input()\n",
    "\n",
    "    if ans == word:\n",
    "        print(\"정답입니다. !\")\n",
    "    else:\n",
    "        print(\"정답이 아닙니다. !\")"
   ]
  },
  {
   "cell_type": "markdown",
   "metadata": {
    "id": "niEi8DhYXJlC"
   },
   "source": [
    "> 욕설과 같은 \"금칙어\"가 있는 단어들을 저장한 후에, 임의의 텍스트를 검열하는 프로그램을 작성해보자. 이 프로그램은 텍스트의 금칙어를 별표(*)로 바꾸어 새로운 텍스트를 작성한다."
   ]
  },
  {
   "cell_type": "code",
   "execution_count": null,
   "metadata": {
    "colab": {
     "base_uri": "https://localhost:8080/"
    },
    "id": "1_JvSs7z4ZiP",
    "outputId": "20c76e5a-953f-4e26-a032-a9843acdd2ec"
   },
   "outputs": [
    {
     "name": "stdout",
     "output_type": "stream",
     "text": [
      "문자열을 입력하시오: 안녕하세요\n",
      "금칙어를 입력하시오: 하\n",
      "안녕*세요\n"
     ]
    }
   ],
   "source": [
    "x = input(\"문자열을 입력하시오: \")\n",
    "y = input(\"금칙어를 입력하시오: \")\n",
    "\n",
    "y_list = y.split(\" \")\n",
    "\n",
    "for word in y_list:\n",
    "    x = x.replace(word, len(word) * \"*\")\n",
    "print(x)"
   ]
  },
  {
   "cell_type": "markdown",
   "metadata": {
    "id": "eKdrNqo2XYc_"
   },
   "source": [
    "> 문자열을 받아서 글자의 개수와 숫자의 개수를 계산하여 딕셔너리로 작성하는 프로그램을 작성하여라"
   ]
  },
  {
   "cell_type": "code",
   "execution_count": null,
   "metadata": {
    "colab": {
     "base_uri": "https://localhost:8080/"
    },
    "id": "An7gee8j4eTT",
    "outputId": "06894f51-90d0-45c1-8ffc-06f616a61c36"
   },
   "outputs": [
    {
     "name": "stdout",
     "output_type": "stream",
     "text": [
      "문자열을 입력하시오: 안녕하세요\n",
      "안녕하세요 -> {\"Letters\":5, \"DIGITS:0 \"}\n"
     ]
    }
   ],
   "source": [
    "myString = input(\"문자열을 입력하시오: \")\n",
    "\n",
    "Letters = sum(1 for x in myString if x.isalpha())\n",
    "digits = sum(1 for x in myString if x.isdigit())\n",
    "\n",
    "print(\"%s -> {\\\"Letters\\\":%d, \\\"DIGITS:%d \\\"}\" % (myString, Letters, digits))"
   ]
  },
  {
   "cell_type": "markdown",
   "metadata": {
    "id": "MxPRTOd0Xf4A"
   },
   "source": [
    "> \"MM/DD/YYYY\" 형식으로 표기된 날짜를 받아서 \"YYYYMMDD\"형태로 출력하는 프로그램을 작성하고 테스트하라."
   ]
  },
  {
   "cell_type": "code",
   "execution_count": null,
   "metadata": {
    "colab": {
     "base_uri": "https://localhost:8080/"
    },
    "id": "zMof-Wfj4kDW",
    "outputId": "5aa04f82-ab3b-4853-c214-420b6d3ca940"
   },
   "outputs": [
    {
     "name": "stdout",
     "output_type": "stream",
     "text": [
      "MM/DD/YYYY: 02/22/2000\n",
      "02/22/2000 -> 20000222\n"
     ]
    }
   ],
   "source": [
    "x = input(\"MM/DD/YYYY: \")\n",
    "x_list = x.split(\"/\")\n",
    "\n",
    "MM = x_list[0]\n",
    "DD = x_list[1]\n",
    "YYYY = x_list[2]\n",
    "\n",
    "YYYYMMDD = []\n",
    "YYYYMMDD.append(YYYY)\n",
    "YYYYMMDD.append(MM)\n",
    "YYYYMMDD.append(DD)\n",
    "\n",
    "\n",
    "print(f'{x} -> {\"\".join(YYYYMMDD)}')"
   ]
  },
  {
   "cell_type": "markdown",
   "metadata": {
    "id": "2USon7oxY-yc"
   },
   "source": [
    "> 딕셔너리에 키-값 쌍으로 저장된 학생의 국적 리스트가 있다고 가정하자. 딕셔너리에서 이름과 국적을 꺼내서 다음과 같이 학생의 태그를 출력하는 프로그램을 작성해보자"
   ]
  },
  {
   "cell_type": "code",
   "execution_count": null,
   "metadata": {
    "colab": {
     "base_uri": "https://localhost:8080/"
    },
    "id": "-uuZzGMD4qCu",
    "outputId": "cf0b6502-6057-4bba-b6ad-160b514384c3"
   },
   "outputs": [
    {
     "name": "stdout",
     "output_type": "stream",
     "text": [
      "Hi! I'm Park I'm from Korea\n",
      "Hi! I'm Sam I'm from USA\n",
      "Hi! I'm Sakura I'm from Japan\n"
     ]
    }
   ],
   "source": [
    "studentList = {\n",
    "    \"Park\" : \"Korea\",\n",
    "    \"Sam\" : \"USA\",\n",
    "    \"Sakura\" : \"Japan\"\n",
    "}\n",
    "print(f\"Hi! I'm {list(studentList.keys())[0]} I'm from {list(studentList.values())[0]}\")\n",
    "print(f\"Hi! I'm {list(studentList.keys())[1]} I'm from {list(studentList.values())[1]}\")\n",
    "print(f\"Hi! I'm {list(studentList.keys())[2]} I'm from {list(studentList.values())[2]}\")"
   ]
  },
  {
   "cell_type": "markdown",
   "metadata": {
    "id": "ACEKafldZKwX"
   },
   "source": [
    "> 파이썬으로 암호 생성기를 작성해보자. 우리는 본문에서 OTP 암호를 생성하는 방법을 학습하였다. 여기서는 8자기의 강력한 암호를 생성해보자. 강력한 암호는 소문자, 대문자, 숫자, 기호가 혼합되어 있다."
   ]
  },
  {
   "cell_type": "code",
   "execution_count": null,
   "metadata": {
    "colab": {
     "base_uri": "https://localhost:8080/"
    },
    "id": "UygQ7bCg4rau",
    "outputId": "062f2269-d747-43ed-ab56-4a51c130d829"
   },
   "outputs": [
    {
     "name": "stdout",
     "output_type": "stream",
     "text": [
      "v$AQZVF@\n"
     ]
    }
   ],
   "source": [
    "import random\n",
    "\n",
    "s = \"abcdefghijklmnopqrstuvwxyz0123456789ABCDEFGHIJKLMNOPQRSTUVWXYZ!@#$%^&*()?\"\n",
    "passlen = 8\n",
    "p = \"\".join(random.sample(s, passlen))\n",
    "print(p)"
   ]
  },
  {
   "cell_type": "markdown",
   "metadata": {
    "id": "4PRdhuAYZ4zc"
   },
   "source": [
    "# Chapter 8"
   ]
  },
  {
   "cell_type": "markdown",
   "metadata": {
    "id": "IbFMNBcaZ7Q_"
   },
   "source": [
    "> 고양이를 클래스로 정의하고 몇 개의 인스턴스를 생성해보자. 접근자와 설정자를 사용해보자"
   ]
  },
  {
   "cell_type": "code",
   "execution_count": null,
   "metadata": {
    "colab": {
     "base_uri": "https://localhost:8080/"
    },
    "id": "2IfT0X5JXz_u",
    "outputId": "58601416-3aeb-4ca7-9ed4-fa8bf4e6fea5"
   },
   "outputs": [
    {
     "name": "stdout",
     "output_type": "stream",
     "text": [
      "Missy 3\n",
      "Lucky 5\n"
     ]
    }
   ],
   "source": [
    "class Cat:\n",
    "    def __init__(self, name, age):\n",
    "        self.__name = name\n",
    "        self.__age = age\n",
    "\n",
    "    def setName(self, name):\n",
    "        self.__name = name\n",
    "\n",
    "    def getName(self):\n",
    "        return self.__name\n",
    "\n",
    "    def setAge(self, age):\n",
    "        self.__age = age\n",
    "\n",
    "    def getAge(self):\n",
    "        return self.__age\n",
    "\n",
    "\n",
    "missy = Cat('Missy', 3)\n",
    "lucky = Cat('Lucky', 5)\n",
    "\n",
    "print (missy.getName(), missy.getAge())\n",
    "print (lucky.getName(), lucky.getAge())"
   ]
  },
  {
   "cell_type": "markdown",
   "metadata": {
    "id": "d-nYNsn6aC3_"
   },
   "source": [
    "> 로켓을 나타내는 Rocket클래스를 작성해보자. Rocket 클래스는 다음과 같은 인스턴스 변수와 메소드를 가진다"
   ]
  },
  {
   "cell_type": "code",
   "execution_count": null,
   "metadata": {
    "colab": {
     "base_uri": "https://localhost:8080/"
    },
    "id": "4kJm5jXhh7jB",
    "outputId": "dfaf4ca1-2ffb-480c-cc9f-d97cdf928990"
   },
   "outputs": [
    {
     "name": "stdout",
     "output_type": "stream",
     "text": [
      "로켓의 높이: 0\n",
      "로켓의 높이: 1\n"
     ]
    }
   ],
   "source": [
    "class Rocket:\n",
    "    def __init__(self, x = 0, y = 0):\n",
    "        self.x = x\n",
    "        self.y = y\n",
    "    \n",
    "    def __str__(self):\n",
    "        return \"(\"+str(self.x)+\",\"+str(self.y)+\")\"\n",
    "\n",
    "    def moveUp(self):\n",
    "        self.y += 1\n",
    "        return self.y\n",
    "\n",
    "myRocket = Rocket()\n",
    "print('로켓의 높이:', myRocket.y)\n",
    "\n",
    "myRocket.moveUp()\n",
    "print('로켓의 높이:', myRocket.y)"
   ]
  },
  {
   "cell_type": "markdown",
   "metadata": {
    "id": "4FWFTYCEaDPG"
   },
   "source": [
    "> 상자를 나타내는 Box클래스를 작성하여 보자. Box클래스는 가로길이, 세로길이, 높이를 나타내는 인스턴스 변수를 가진다"
   ]
  },
  {
   "cell_type": "code",
   "execution_count": null,
   "metadata": {
    "colab": {
     "base_uri": "https://localhost:8080/"
    },
    "id": "jOP6ZA5eXD35",
    "outputId": "14eeb108-118c-408b-f396-7df95d159685"
   },
   "outputs": [
    {
     "name": "stdout",
     "output_type": "stream",
     "text": [
      "(100,100,100)\n",
      "상자의 부피는 1000000\n"
     ]
    }
   ],
   "source": [
    "class Box:\n",
    "    def __init__(self, l, h, d):\n",
    "        self.length=l\n",
    "        self.height=h\n",
    "        self.depth=d\n",
    "        \n",
    "    def __str__(self):\n",
    "        return \"(\"+str(self.length)+\",\"+str(self.height)+\",\"+str(self.depth)+\")\"\n",
    "\n",
    "    def getLength(self):\n",
    "        return self.length\n",
    "\n",
    "    def getHeight(self):\n",
    "        return self.height\n",
    "\n",
    "    def getDepth(self):\n",
    "        return self.depth\n",
    "\n",
    "b1 = Box(100, 100, 100)\n",
    "print(b1)\n",
    "print(\"상자의 부피는\", b1.getHeight()*b1.getLength()*b1.getDepth())"
   ]
  },
  {
   "cell_type": "markdown",
   "metadata": {
    "id": "O7JjNohRaDrv"
   },
   "source": [
    "> 사각형을 나타내는 Rectangle클래스를 작성하여 보자. Rectangle 클래스는 다음과 같은 인스턴스 변수와 메소드를 가진다"
   ]
  },
  {
   "cell_type": "code",
   "execution_count": null,
   "metadata": {
    "colab": {
     "base_uri": "https://localhost:8080/"
    },
    "id": "qzN3b14WWHBz",
    "outputId": "471af67c-3951-4461-f01f-97b1a21ba557"
   },
   "outputs": [
    {
     "name": "stdout",
     "output_type": "stream",
     "text": [
      "r1과 r2는 서로 겹칩니다.\n"
     ]
    }
   ],
   "source": [
    "class Rectangle:\n",
    "    def __init__(self, x, y, w, h):\n",
    "        self.x = x\n",
    "        self.y = y\n",
    "        self.w = w\n",
    "        self.h = h\n",
    "\n",
    "    def __str__(self):\n",
    "        return \"(\"+str(self.x)+\",\"+str(self.y)+\",\"+str(self.w)+\",\"+str(self.h)+\")\"\n",
    "    \n",
    "    def setX(self,x):\n",
    "        self.x = x\n",
    "    \n",
    "    def getX(self):\n",
    "        return self.x\n",
    "\n",
    "    def setY(self,y):\n",
    "        self.y = y\n",
    "    \n",
    "    def getY(self):\n",
    "        return self.y\n",
    "        \n",
    "    def setW(self,w):\n",
    "        self.w = w\n",
    "    \n",
    "    def getW(self):\n",
    "        return self.w\n",
    "\n",
    "    def setH(self,h):\n",
    "        self.h = h\n",
    "    \n",
    "    def getH(self):\n",
    "        return self.h\n",
    "\n",
    "    def getArea(self):\n",
    "        return self.w * self.h\n",
    "\n",
    "    def overlap(self,r):\n",
    "        self.result = self.x - r.x\n",
    "        if abs(self.result) < self.w or abs(self.result) < self.h:\n",
    "            print('r1과 r2는 서로 겹칩니다.')\n",
    "        else:\n",
    "            print('r1과 r2는 서로 겹치지않습니다.')\n",
    "\n",
    "r1 = Rectangle(0, 0, 100, 100) \n",
    "r2 = Rectangle(10, 10, 100, 100) \n",
    "r1.overlap(r2)"
   ]
  },
  {
   "cell_type": "markdown",
   "metadata": {
    "id": "MG4qeGTAaD5J"
   },
   "source": [
    "> 삼각형을 나타내는 클래스 Triangle클래스는 다음과 같은 인스턴스 변수와 메소드를 가진다"
   ]
  },
  {
   "cell_type": "code",
   "execution_count": null,
   "metadata": {
    "colab": {
     "base_uri": "https://localhost:8080/"
    },
    "id": "bHP_RK6df8vY",
    "outputId": "71907976-a910-4e51-9ff9-a2d1d7c0e465"
   },
   "outputs": [
    {
     "name": "stdout",
     "output_type": "stream",
     "text": [
      "True\n"
     ]
    }
   ],
   "source": [
    "class Triangle:\n",
    "     def __init__(self,angle1,angle2,angle3):\n",
    "        self.angle1=angle1\n",
    "        self.angle2=angle2\n",
    "        self.angle3=angle3\n",
    "\n",
    "    numberOfSides=3\n",
    "    def checkAngles(self):\n",
    "         if self.angle1+self.angle2+self.angle3 ==180:\n",
    "            return True\n",
    "         else:\n",
    "            return False\n",
    "\n",
    "triangle=Triangle(90,30,60)\n",
    "print(triangle.checkAngles())"
   ]
  },
  {
   "cell_type": "markdown",
   "metadata": {
    "id": "hm8LF77SaERQ"
   },
   "source": [
    "> Person이라는 클래스를 작성해보자. Person 클래스는 다음과 같은 인스턴스 변수와 메소드를 가진다"
   ]
  },
  {
   "cell_type": "code",
   "execution_count": null,
   "metadata": {
    "id": "7N2WQfRodzvm"
   },
   "outputs": [],
   "source": [
    "class Person:\n",
    "    def __init__(self, name,mobile=None, office=None, email=None):\n",
    "        self.name = name\n",
    "        self.mobile = mobile\n",
    "        self.office = office\n",
    "        self.email = email\n",
    "\n",
    "    def setMobile(self, number):\n",
    "        self.mobile = number\n",
    "\n",
    "    def setOffice(self, number):\n",
    "        self.office = number\n",
    "\n",
    "    def setEmail(self, address):\n",
    "        self.email = address\n",
    "\n",
    "    def __str__(self):\n",
    "        s = ''\n",
    "        s += self.name + '\\n'\n",
    "        s += \"office phone:\"+self.office + '\\n'\n",
    "        s += \"email address:\"+self.email + '\\n'\n",
    "        return s\n",
    "\n",
    "p1 = Person(\"Kim\", office=\"1234567\", email=\"kim@company.com\")\n",
    "p2 = Person(\"Park\", office=\"2345678\")\n",
    "p2.setEmail(\"park@company.com\")"
   ]
  },
  {
   "cell_type": "markdown",
   "metadata": {
    "id": "wClywd49aEki"
   },
   "source": [
    "> 사람들의 연락처를 저장하는 PhoneBook 클래스를 작성해보자. PhoneBook 클래스는 딕셔너리를 이용하여서 연락처를 저장한다"
   ]
  },
  {
   "cell_type": "code",
   "execution_count": null,
   "metadata": {
    "colab": {
     "base_uri": "https://localhost:8080/"
    },
    "id": "21qp5GaleKVi",
    "outputId": "e297aace-aa47-4bb9-927a-b07013995aaf"
   },
   "outputs": [
    {
     "name": "stdout",
     "output_type": "stream",
     "text": [
      "Kim\n",
      "office phone:1234567\n",
      "email address:kim@company.com\n",
      "\n",
      "Park\n",
      "office phone:2345678\n",
      "email address:park@company.com\n",
      "\n",
      "\n"
     ]
    }
   ],
   "source": [
    "class PhoneBook:\n",
    "    def __init__(self):        \n",
    "        self.contacts = {}\n",
    "\n",
    "    def add(self, name, mobile=None, office=None,email=None):\n",
    "        p = Person(name, mobile, office, email)\n",
    "        self.contacts[name] = p\n",
    "        \n",
    "    def __str__(self):\n",
    "        s = ''\n",
    "        for p in sorted(self.contacts):\n",
    "            s += str(self.contacts[p]) + '\\n'\n",
    "        return s\n",
    "\n",
    "obj = PhoneBook()\n",
    "obj.add(\"Kim\", office=\"1234567\", email=\"kim@company.com\")\n",
    "obj.add(\"Park\", office=\"2345678\", email=\"park@company.com\")\n",
    "print(obj)"
   ]
  },
  {
   "cell_type": "markdown",
   "metadata": {
    "id": "dARVETWpaFB-"
   },
   "source": [
    "> printSong이라는 클래스를 작성해보자. printSong의 생성자는 노래의 가사를 리스트 형태로 받아서 객체의 내부에 저장한다.  \n",
    "sing()메소드는 한 줄에 한 항목씩 출력한다"
   ]
  },
  {
   "cell_type": "code",
   "execution_count": null,
   "metadata": {
    "colab": {
     "base_uri": "https://localhost:8080/"
    },
    "id": "uQVfhhvidrWK",
    "outputId": "34fdcf19-8c36-4c34-ff79-682e06814beb"
   },
   "outputs": [
    {
     "name": "stdout",
     "output_type": "stream",
     "text": [
      "TWINKLE, twinkle, little star,\n",
      "How I wonder what you are!,\n",
      "Up above the world so high,\n",
      "Like a diamond in the sky.\n"
     ]
    }
   ],
   "source": [
    "class Song:\n",
    "    def __init__(self, lyrics):        \n",
    "        self.lyrics = lyrics\n",
    "    \n",
    "    def sing(self):\n",
    "        for i in range(len(self.lyrics)):\n",
    "            print(f'{self.lyrics[i]}',end = '\\n')\n",
    "\n",
    "aSong = Song(['TWINKLE, twinkle, little star,',\n",
    "              'How I wonder what you are!,',\n",
    "              'Up above the world so high,',\n",
    "              'Like a diamond in the sky.'])\n",
    "aSong.sing()"
   ]
  }
 ],
 "metadata": {
  "colab": {
   "collapsed_sections": [
    "uV0W_Pbjp3p3",
    "QkvtJvfMnuwt",
    "x-qi_0DOuzoZ",
    "3FKBLZDF7OCi"
   ],
   "name": "파워 유저를 위한 파이썬 연습문제 정리",
   "provenance": []
  },
  "hide_input": false,
  "kernelspec": {
   "display_name": "Python 3",
   "language": "python",
   "name": "python3"
  },
  "language_info": {
   "codemirror_mode": {
    "name": "ipython",
    "version": 3
   },
   "file_extension": ".py",
   "mimetype": "text/x-python",
   "name": "python",
   "nbconvert_exporter": "python",
   "pygments_lexer": "ipython3",
   "version": "3.8.5"
  },
  "toc": {
   "base_numbering": 1,
   "nav_menu": {},
   "number_sections": true,
   "sideBar": true,
   "skip_h1_title": false,
   "title_cell": "Table of Contents",
   "title_sidebar": "Contents",
   "toc_cell": false,
   "toc_position": {
    "height": "calc(100% - 180px)",
    "left": "10px",
    "top": "150px",
    "width": "243px"
   },
   "toc_section_display": true,
   "toc_window_display": false
  },
  "varInspector": {
   "cols": {
    "lenName": 16,
    "lenType": 16,
    "lenVar": 40
   },
   "kernels_config": {
    "python": {
     "delete_cmd_postfix": "",
     "delete_cmd_prefix": "del ",
     "library": "var_list.py",
     "varRefreshCmd": "print(var_dic_list())"
    },
    "r": {
     "delete_cmd_postfix": ") ",
     "delete_cmd_prefix": "rm(",
     "library": "var_list.r",
     "varRefreshCmd": "cat(var_dic_list()) "
    }
   },
   "types_to_exclude": [
    "module",
    "function",
    "builtin_function_or_method",
    "instance",
    "_Feature"
   ],
   "window_display": false
  }
 },
 "nbformat": 4,
 "nbformat_minor": 1
}
